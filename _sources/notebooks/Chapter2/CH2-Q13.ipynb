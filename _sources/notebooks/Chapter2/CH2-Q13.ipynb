{
 "cells": [
  {
   "cell_type": "markdown",
   "id": "9c5d3ab8-f096-4001-a1ce-f279e23b181f",
   "metadata": {},
   "source": [
    "# 2.13: Air in Lungs"
   ]
  },
  {
   "cell_type": "markdown",
   "id": "cead80f5-b8a2-4956-b71a-ef98e434b9ea",
   "metadata": {},
   "source": [
    "Human lungs contain around $V=6\\:L$ of air. Calculate, assuming a constant volume for human lungs,\n",
    "\n",
    "a) how much air is stored in human lungs in atmospheric pressure assuming the air in human lungs is heated to human body temperature at $T_b=36\\:^{\\circ}C$?\n",
    "\n",
    "b) consider a human living at a $H=4000\\:m$ elevation from the sea level where the air pressure is $P_e=60\\:kPa$. How much air is stored the lungs of this individual assuming the air in lungs is heated to human body temperature at $T_b=36\\:^{\\circ}C$?"
   ]
  },
  {
   "cell_type": "markdown",
   "id": "d5dad835-da56-4b54-85fd-8f7d51dac427",
   "metadata": {},
   "source": [
    "### Solution Approach for a)"
   ]
  },
  {
   "cell_type": "markdown",
   "id": "a41d9f0c-057a-46c7-a115-ba03ec95b117",
   "metadata": {},
   "source": [
    "from density \n",
    "\n",
    "$D=m/V$\n",
    "\n",
    "where m is the mass stored in lungs and V is the volume of lungs, so\n",
    "\n",
    "$m=DV$"
   ]
  },
  {
   "cell_type": "code",
   "execution_count": 1,
   "id": "dbbfe53d-2d99-4f7e-8cdc-39aa6a2b4ca9",
   "metadata": {},
   "outputs": [
    {
     "name": "stdout",
     "output_type": "stream",
     "text": [
      "The amount of air in lungs at atmospheric pressure and body temperature is 6.85 mg\n"
     ]
    }
   ],
   "source": [
    "#import librarier\n",
    "import CoolProp.CoolProp as CP\n",
    "\n",
    "fluid = \"air\"  # define the fluid or material of interest\n",
    "\n",
    "#define variables\n",
    "V = 0.006   #volume of lungs in m3\n",
    "T = 36 + 273.15   #human body temperature in K\n",
    "P_atm = 101325   #atmospheric pressure in Pa\n",
    "\n",
    "D = CP.PropsSI(\"D\", \"T\", T, \"P\", P_atm , fluid)   #air density in lungs in kg/m3\n",
    "\n",
    "m = D * V   #air mass in lungs in kg\n",
    "\n",
    "print('The amount of air in lungs at atmospheric pressure and body temperature is', f\"{m * 1000:.2f}\", 'mg')"
   ]
  },
  {
   "cell_type": "markdown",
   "id": "af1b5ee2-addc-4912-b75f-b9cbfeb4f07f",
   "metadata": {},
   "source": [
    "### Solution Approach for b)"
   ]
  },
  {
   "cell_type": "code",
   "execution_count": 2,
   "id": "1516e1de-9a03-4860-b20e-17e44c05b9c1",
   "metadata": {},
   "outputs": [
    {
     "name": "stdout",
     "output_type": "stream",
     "text": [
      "The amount of air in lungs at 4000m elevation and body temperature is 4.06 mg\n"
     ]
    }
   ],
   "source": [
    "P_e = 60E+3   #pressure at a 4000m elevation in Pa\n",
    "\n",
    "D = CP.PropsSI(\"D\", \"T\", T, \"P\", P_e , fluid)   #air density in lungs in kg/m3\n",
    "\n",
    "m = D * V   #air mass in lungs in kg\n",
    "\n",
    "print('The amount of air in lungs at 4000m elevation and body temperature is', f\"{m * 1000:.2f}\", 'mg')"
   ]
  }
 ],
 "metadata": {
  "kernelspec": {
   "display_name": "oer",
   "language": "python",
   "name": "oerminimal"
  },
  "language_info": {
   "codemirror_mode": {
    "name": "ipython",
    "version": 3
   },
   "file_extension": ".py",
   "mimetype": "text/x-python",
   "name": "python",
   "nbconvert_exporter": "python",
   "pygments_lexer": "ipython3",
   "version": "3.9.19"
  }
 },
 "nbformat": 4,
 "nbformat_minor": 5
}
