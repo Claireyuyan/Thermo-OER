{
 "cells": [
  {
   "cell_type": "markdown",
   "id": "20729dc6-8fb5-427d-a57a-15e0ba58ceb9",
   "metadata": {},
   "source": [
    "# 2.9: Saturated Water in a Rigid Tank"
   ]
  },
  {
   "cell_type": "markdown",
   "id": "7a7e9da5-f0d9-41ef-a713-4c4ba6ba2a90",
   "metadata": {},
   "source": [
    "A rigid tank containing $m=10\\:kg$ of saturated water is sitiing at room temperature $T=25\\:^{\\circ}C$. If the volume of the tank is $V=1\\:m^3$, determine the mass of liquid water stored in the tank. "
   ]
  },
  {
   "attachments": {},
   "cell_type": "markdown",
   "id": "7ec9dfc0-2973-4cad-b849-4eb36b572fd6",
   "metadata": {},
   "source": [
    "![CH2-Q9.jpg](CH2-Q9.png)"
   ]
  },
  {
   "cell_type": "markdown",
   "id": "f527348d-749d-4d8f-ad52-76e8dac1401e",
   "metadata": {},
   "source": [
    "### Solution Approach)\n",
    "\n",
    "the quality of a saturated mixture is defined as\n",
    "\n",
    "$x=m_g/m_{mix}$\n",
    "\n",
    "therfore the mass of liquid would be\n",
    "\n",
    "$m_l=(1-x)m_{mix}$"
   ]
  },
  {
   "cell_type": "code",
   "execution_count": 2,
   "id": "cbc52860-fcc6-4e43-b5d5-4a87763fde07",
   "metadata": {},
   "outputs": [
    {
     "name": "stdout",
     "output_type": "stream",
     "text": [
      "The mass of liquid fluid is 9.977 kg\n"
     ]
    }
   ],
   "source": [
    "#import librarier\n",
    "import CoolProp.CoolProp as CP\n",
    "\n",
    "#define variables\n",
    "V = 1   #tank volume in m3\n",
    "m_mix = 10   #mixture mass in kg\n",
    "T = 25 + 273.15   #temperature in K\n",
    "\n",
    "D = m_mix / V   #density in kg/m3 used in CoolProp\n",
    "fluid = \"water\"  # define the fluid or material of interest\n",
    "\n",
    "x = CP.PropsSI(\"Q\", \"T\", T, \"D\", D , fluid)   #the quality of the mixture\n",
    "\n",
    "m_l = (1 - x) * m_mix   #mass of liquid water in kg\n",
    "print('The mass of liquid fluid is', f\"{m_l:.3f}\", 'kg')"
   ]
  }
 ],
 "metadata": {
  "kernelspec": {
   "display_name": "OER",
   "language": "python",
   "name": "oer"
  },
  "language_info": {
   "codemirror_mode": {
    "name": "ipython",
    "version": 3
   },
   "file_extension": ".py",
   "mimetype": "text/x-python",
   "name": "python",
   "nbconvert_exporter": "python",
   "pygments_lexer": "ipython3",
   "version": "3.9.18"
  }
 },
 "nbformat": 4,
 "nbformat_minor": 5
}
