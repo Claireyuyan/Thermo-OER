{
 "cells": [
  {
   "cell_type": "markdown",
   "id": "40667f3b-12e6-4e25-b1f2-e4617082f1e5",
   "metadata": {},
   "source": [
    "# [Chapter 2](https://pressbooks.bccampus.ca/thermo1/chapter/2-0-chapter-introduction-and-learning-objectives/)\n",
    "\n",
    "## Question #15: Negative Pressure Room"
   ]
  },
  {
   "cell_type": "markdown",
   "id": "805d27fe-df1d-4416-a675-c13ec2676377",
   "metadata": {},
   "source": [
    "Negative pressure room is a technique used in hospitals and medical centers to isolate a specific space and prevent cross-contamination. A pressure guage installed in the negative pressure room reads a pressure of $P_g=10\\:Pa,Negative$.\n",
    "\n",
    "a) calculate the pressure inside this room \n",
    "\n",
    "b) assuming a door with dimesnions $1.7\\:m\\times 0.9\\:m$ isolates a negative pressure room from a hallway in atmospheric pressure, calculate how much force is imposed on this door as a result of this negative pressure. "
   ]
  },
  {
   "attachments": {
    "2bcae342-eb3a-4416-bfb0-4a1d164c73d9.png": {
     "image/png": "[encoded data removed]"
    }
   },
   "cell_type": "markdown",
   "id": "f6d6a2e6-1e7c-4e72-a3a8-c028f1bcf4d8",
   "metadata": {},
   "source": [
    "![CH2-Q15.png](attachment:2bcae342-eb3a-4416-bfb0-4a1d164c73d9.png)"
   ]
  },
  {
   "cell_type": "markdown",
   "id": "d585f09c-9b25-467b-8262-0b66d5c1270f",
   "metadata": {},
   "source": [
    "### Solution Approach for a)\n",
    "\n",
    "from gauge pressure\n",
    "\n",
    "$P_{room}=P_{atm}+P_g$"
   ]
  },
  {
   "cell_type": "code",
   "execution_count": 1,
   "id": "bdc58c24-5e7f-4ef1-a64e-2fc1d6d00c60",
   "metadata": {},
   "outputs": [
    {
     "name": "stdout",
     "output_type": "stream",
     "text": [
      "The pressure inside the room is 101315.0 Pa\n"
     ]
    }
   ],
   "source": [
    "#define variables\n",
    "\n",
    "P_atm = 101325   #atmospheric pressure in Pa\n",
    "P_g = -10   #gauge pressure inside the room\n",
    "\n",
    "P_room = P_atm + P_g   #pressure inside the negative pressure room\n",
    "\n",
    "print('The pressure inside the room is', f\"{P_room:.1f}\", 'Pa')"
   ]
  },
  {
   "cell_type": "markdown",
   "id": "db37298a-7c94-4662-99bd-a692319e854e",
   "metadata": {},
   "source": [
    "### Solution Approach for b)\n",
    "\n",
    "from pressure \n",
    "\n",
    "$P=F/A$\n",
    "\n",
    "so\n",
    "\n",
    "$F=P\\times A$\n",
    "\n",
    "and the net force on the door is associated with the difference between the forced imposed by atmospheric air from one side and the room pressure from the other side\n",
    "\n",
    "$F=F_{atm}-F_{room}$"
   ]
  },
  {
   "cell_type": "code",
   "execution_count": 2,
   "id": "fceeee13-25d0-4586-89a8-72796ef1e40a",
   "metadata": {},
   "outputs": [
    {
     "name": "stdout",
     "output_type": "stream",
     "text": [
      "The net force on the door is 15.3 N\n"
     ]
    }
   ],
   "source": [
    "#define variables\n",
    "A = 1.7 * 0.9   #door surface area\n",
    "\n",
    "F_room = P_room * A   #force imposed by room pressure\n",
    "F_atm = P_atm * A   #force imposed by atmospheric pressure\n",
    "\n",
    "F = F_atm - F_room\n",
    "\n",
    "print('The net force on the door is', f\"{F:.1f}\", 'N')"
   ]
  }
 ],
 "metadata": {
  "kernelspec": {
   "display_name": "oer",
   "language": "python",
   "name": "oerminimal"
  },
  "language_info": {
   "codemirror_mode": {
    "name": "ipython",
    "version": 3
   },
   "file_extension": ".py",
   "mimetype": "text/x-python",
   "name": "python",
   "nbconvert_exporter": "python",
   "pygments_lexer": "ipython3",
   "version": "3.9.19"
  }
 },
 "nbformat": 4,
 "nbformat_minor": 5
}
