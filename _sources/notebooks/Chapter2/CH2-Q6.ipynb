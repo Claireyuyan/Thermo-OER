{
 "cells": [
  {
   "cell_type": "markdown",
   "id": "2077071a-bd08-4ac6-8d2b-dcd7f8d31a0b",
   "metadata": {},
   "source": [
    "## 2.6: Weighted Piston"
   ]
  },
  {
   "cell_type": "markdown",
   "id": "49570add-aa1b-4477-8be7-cc15a833db2e",
   "metadata": {},
   "source": [
    "Air is stored in a piston and cylinder system at atmospheric pressure ($P_a=101.325 \\:kPa$). The diameter of the pistong is $D=15\\:cm$, and it weighs $m=510\\:g$. Calculate:\n",
    "\n",
    "a) The gravitational force imposed by the piton weight\n",
    "\n",
    "b) The pressure imposed by the piston weight\n",
    "\n",
    "c) Total pressure of air inside the system\n",
    "\n",
    "d) Gauge pressure of air inside the system"
   ]
  },
  {
   "cell_type": "markdown",
   "id": "e9d24df0-11b2-4e8d-9736-aea9bc6feb03",
   "metadata": {},
   "source": [
    "![CH2-Q6.png](CH2-Q6.png)"
   ]
  },
  {
   "cell_type": "markdown",
   "id": "7d650d9d-4245-4bf0-9435-a39af4fccf93",
   "metadata": {},
   "source": [
    "### Solution Approach for a)\n",
    "\n",
    "$F_g=mg$\n",
    "\n",
    "where $g$ is the gravitational acceleration"
   ]
  },
  {
   "cell_type": "code",
   "execution_count": 1,
   "id": "edea029a-0b87-40c8-bd02-ad7da7684590",
   "metadata": {},
   "outputs": [
    {
     "name": "stdout",
     "output_type": "stream",
     "text": [
      "The gravitational force imposed by the piston is: 5.0 N\n"
     ]
    }
   ],
   "source": [
    "#define variables\n",
    "\n",
    "m = 0.51   #piston weight in kg\n",
    "g = 9.8   #gravitational acceleration im m/s2\n",
    "\n",
    "F_g = m * g   #gravitational force in N\n",
    "\n",
    "print('The gravitational force imposed by the piston is:', f\"{F_g:.1f}\", 'N')"
   ]
  },
  {
   "cell_type": "markdown",
   "id": "308f3620-983e-48c1-8019-d4237e0c76cf",
   "metadata": {},
   "source": [
    "### Solution Approach for b)\n",
    "\n",
    "for pressure\n",
    "\n",
    "$P_g=F_g/A$\n",
    "\n",
    "where $A$ is the surface area of the piston"
   ]
  },
  {
   "cell_type": "code",
   "execution_count": 2,
   "id": "f12abac4-d337-4191-a6f3-e5ea0ed58bc8",
   "metadata": {},
   "outputs": [
    {
     "name": "stdout",
     "output_type": "stream",
     "text": [
      "The pressure imposed by the weight of the piston is: 282.8 Pa\n"
     ]
    }
   ],
   "source": [
    "#import libraries\n",
    "import numpy as np\n",
    "\n",
    "#define variables\n",
    "\n",
    "D = 0.15   #piston diameter in m\n",
    "A = np.pi * D ** 2 / 4   #piston surface area in m2\n",
    "P_g = F_g / A   #pressure imposed by the weight of the piston in Pa\n",
    "\n",
    "print('The pressure imposed by the weight of the piston is:', f\"{P_g:.1f}\", 'Pa')"
   ]
  },
  {
   "cell_type": "markdown",
   "id": "e07d7724-a639-4e85-8ceb-ea88aa97df40",
   "metadata": {},
   "source": [
    "### Solution Approach for c)\n",
    "\n",
    "The total pressure inside the system is composed of atmospheric pressure and the pressure imposed y the weight of the piston\n",
    "\n",
    "$P=P_g+P_a$"
   ]
  },
  {
   "cell_type": "code",
   "execution_count": 3,
   "id": "58767d2f-ebde-420f-a464-b1aa4dcb1bcd",
   "metadata": {},
   "outputs": [
    {
     "name": "stdout",
     "output_type": "stream",
     "text": [
      "The total pressure inside the system is: 101607.8 Pa\n"
     ]
    }
   ],
   "source": [
    "#define variables\n",
    "P_a = 101325   #atmospheric pressure in Pa\n",
    "P = P_g + P_a   #total pressure inside the system in Pa\n",
    "\n",
    "print('The total pressure inside the system is:', f\"{P:.1f}\", 'Pa')"
   ]
  },
  {
   "cell_type": "markdown",
   "id": "6a02f3e6-504c-4a5d-860a-7f4a68dcb977",
   "metadata": {},
   "source": [
    "### Solution Approach for d)\n",
    "\n",
    "The gauge pressure is\n",
    "\n",
    "$P_{gauge}=P-P_a=P_g$"
   ]
  },
  {
   "cell_type": "code",
   "execution_count": 4,
   "id": "4eae1701-fcb5-4a2a-bda4-f9da7386fa31",
   "metadata": {},
   "outputs": [
    {
     "name": "stdout",
     "output_type": "stream",
     "text": [
      "The gauge inside the system is: 282.8 Pa\n"
     ]
    }
   ],
   "source": [
    "print('The gauge inside the system is:', f\"{P_g:.1f}\", 'Pa')"
   ]
  }
 ],
 "metadata": {
  "kernelspec": {
   "display_name": "Python 3 (ipykernel)",
   "language": "python",
   "name": "python3"
  },
  "language_info": {
   "codemirror_mode": {
    "name": "ipython",
    "version": 3
   },
   "file_extension": ".py",
   "mimetype": "text/x-python",
   "name": "python",
   "nbconvert_exporter": "python",
   "pygments_lexer": "ipython3",
   "version": "3.9.18"
  }
 },
 "nbformat": 4,
 "nbformat_minor": 5
}
