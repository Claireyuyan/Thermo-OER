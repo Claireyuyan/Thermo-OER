{
 "cells": [
  {
   "cell_type": "markdown",
   "id": "14382766-ddff-4ec8-bffd-670f7ececdb0",
   "metadata": {},
   "source": [
    "# 2.7: Weighted Piston and Pressed Spring"
   ]
  },
  {
   "cell_type": "markdown",
   "id": "dc772674-4b77-40ae-b032-dd997d74a053",
   "metadata": {},
   "source": [
    "A cyliner and piston system is equipped with an spring with a constant of $k=200\\:kN/m$ to keep air pressurized at $P=2\\:atm$. Consodering the atmospheric pressure around the system is $P_a=1\\:atm$ and the piston weighs $m=1\\:kg$ in mass and has a diameter of $D=25\\:cm$, calculate \n",
    "\n",
    "a) pressure contribution from the piston\n",
    "\n",
    "b) pressure contribution from the spring\n",
    "\n",
    "c) how lond the spring is to be compressed in order to reach the desired pressure."
   ]
  },
  {
   "attachments": {},
   "cell_type": "markdown",
   "id": "f1f76404-690a-4d61-a06c-01ae5c5971a4",
   "metadata": {},
   "source": [
    "![CH2-Q7.jpg](CH2-Q7.png)"
   ]
  },
  {
   "cell_type": "markdown",
   "id": "4aad45bd-5e43-4fee-925b-2f32fc22b68a",
   "metadata": {},
   "source": [
    "### Solution Approach for a)\n",
    "\n",
    "The pressure enforced by the piston comes from its mass where\n",
    "\n",
    "$F=mg$\n",
    "\n",
    "where $m$ is the piston mass and $g$ is the gravitationalacceleration. and,\n",
    "\n",
    "$P_p=F/A$\n",
    "\n",
    "where $A$ is the piston surface area"
   ]
  },
  {
   "cell_type": "code",
   "execution_count": 1,
   "id": "c0995856-8922-4827-813a-cb0ebf1a9fc1",
   "metadata": {},
   "outputs": [
    {
     "name": "stdout",
     "output_type": "stream",
     "text": [
      "The pressure conttribution from the piston is: 199.6 Pa\n"
     ]
    }
   ],
   "source": [
    "#import libraries and define variables\n",
    "import numpy as np\n",
    "m = 1   #piston mass in kg\n",
    "g = 9.8   #gravitational acceleration in m/s2\n",
    "D = 0.25   #piston diameter in m\n",
    "\n",
    "F = m * g   #gravitational force on the piston\n",
    "A = np.pi * D **2 / 4   #piston surface area in m2\n",
    "\n",
    "P_p = F / A   #piston pressure contribution in Pa\n",
    "\n",
    "print('The pressure conttribution from the piston is:', f\"{P_p:.1f}\", 'Pa')"
   ]
  },
  {
   "cell_type": "markdown",
   "id": "62ce345a-4984-4f09-aff7-bbed061101f9",
   "metadata": {},
   "source": [
    "### Solution Approach for b)\n",
    "\n",
    "The pressure of air inside the system is a sum of atmospheric pressure ($P_a$), the pressure enforced by the piston mass ($P_p$), and the pressure enfored by the spring force ($P_s$). Therefore,\n",
    "\n",
    "$P=P_a+P_p+P_s$\n",
    "\n",
    "and \n",
    "\n",
    "$P_s=P-P_a-P_p$"
   ]
  },
  {
   "cell_type": "code",
   "execution_count": 2,
   "id": "880275db-0e27-4847-b4b8-f33ee0a43aea",
   "metadata": {},
   "outputs": [
    {
     "name": "stdout",
     "output_type": "stream",
     "text": [
      "The pressure conttribution from the spring is: 101125.4 Pa\n"
     ]
    }
   ],
   "source": [
    "#define variables\n",
    "\n",
    "P_a = 101325   #atmospheric pressure in Pa\n",
    "P = 2 * P_a   #air pressure inside the system in Pa\n",
    "P_s = P - P_a - P_p\n",
    "\n",
    "print('The pressure conttribution from the spring is:', f\"{P_s:.1f}\", 'Pa')"
   ]
  },
  {
   "cell_type": "markdown",
   "id": "b4056efd-8e10-4aaa-b77b-d32cdf37ba5f",
   "metadata": {},
   "source": [
    "### Solution Approach for c)\n",
    "\n",
    "The pressure enforced by the sping comes fom the force enforced by its being compressed over the surface area of the piston\n",
    "\n",
    "$P_s=F_s/A$\n",
    "\n",
    "therefore\n",
    "\n",
    "$F_s=P_s\\times A$\n",
    "\n",
    "and $F_s=k\\Delta x$\n",
    "\n",
    "where $x$ is the length of spring compression from neutral\n",
    "\n",
    "therfore\n",
    "\n",
    "$\\Delta x=F_s/k=(P_s\\times A)/k$"
   ]
  },
  {
   "cell_type": "code",
   "execution_count": 3,
   "id": "c76ff34d-e242-4c7f-b2ca-f0ced76f3a36",
   "metadata": {},
   "outputs": [
    {
     "name": "stdout",
     "output_type": "stream",
     "text": [
      "The spring is compressed 2.5 cm to in order for air to reach the desired pressure\n"
     ]
    }
   ],
   "source": [
    "#define variables\n",
    "k = 200E+3   #spring constant in N/m\n",
    "\n",
    "x = P_s * A / k   #spring deformation in m\n",
    "print('The spring is compressed', f\"{x*100:.1f}\", 'cm to in order for air to reach the desired pressure')"
   ]
  }
 ],
 "metadata": {
  "kernelspec": {
   "display_name": "oer",
   "language": "python",
   "name": "oer"
  },
  "language_info": {
   "codemirror_mode": {
    "name": "ipython",
    "version": 3
   },
   "file_extension": ".py",
   "mimetype": "text/x-python",
   "name": "python",
   "nbconvert_exporter": "python",
   "pygments_lexer": "ipython3",
   "version": "3.11.5"
  }
 },
 "nbformat": 4,
 "nbformat_minor": 5
}
