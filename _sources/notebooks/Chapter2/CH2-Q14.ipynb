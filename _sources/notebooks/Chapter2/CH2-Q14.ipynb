{
 "cells": [
  {
   "cell_type": "markdown",
   "id": "c8e889ee-7763-43d8-84d8-ad3e1c1fe205",
   "metadata": {},
   "source": [
    "# [Chapter 2](https://pressbooks.bccampus.ca/thermo1/chapter/2-0-chapter-introduction-and-learning-objectives/)\n",
    "\n",
    "## Question #14: Pressurized Air"
   ]
  },
  {
   "cell_type": "markdown",
   "id": "03fb085e-8880-4679-b0c9-c05d41cf908a",
   "metadata": {},
   "source": [
    "A piston with $m=2\\:kg$ mass is used to store air in a piston-and-cylinder system with a diamater of $D=10\\:cm$. Assuming the pressure of the atmosphere around this system is $P_{atm}=101\\:kPa$, calculate the pressure of air stored inside this system."
   ]
  },
  {
   "attachments": {
    "546e3def-f968-4b6d-a9e4-c78e4b6a9696.jpg": {
     "image/jpeg": "[encoded data removed]"
    }
   },
   "cell_type": "markdown",
   "id": "9ba1cfb6-28a4-422c-8e15-4d7012ebe2f3",
   "metadata": {},
   "source": [
    "![CH2-Q14.jpg](attachment:546e3def-f968-4b6d-a9e4-c78e4b6a9696.jpg)"
   ]
  },
  {
   "cell_type": "markdown",
   "id": "d908c0c5-d246-4f58-af93-51ca3790229e",
   "metadata": {},
   "source": [
    "From pressure definition\n",
    "\n",
    "$P=F/A$\n",
    "\n",
    "and \n",
    "\n",
    "$A=\\pi D^2/4$\n",
    "\n",
    "the gravitational force by the piston \n",
    "\n",
    "$F=mg$\n",
    "\n",
    "The pressure of air inside is composed of the pressure at the atmosphere around in addition to the pressure inposed by the cylinder weights\n",
    "\n",
    "$P_{air}=P+P_{atm}$"
   ]
  },
  {
   "cell_type": "code",
   "execution_count": 3,
   "id": "5abf6311-347d-4848-b3cf-0113dd099fe7",
   "metadata": {},
   "outputs": [
    {
     "name": "stdout",
     "output_type": "stream",
     "text": [
      "The pressure of air stored in the system is 103.5 kPa\n"
     ]
    }
   ],
   "source": [
    "#import libraries\n",
    "import numpy as np\n",
    "\n",
    "#define variables\n",
    "P_atm = 101E+3   #pressure around the system in Pa\n",
    "m = 2   #piston weight in kg\n",
    "D = 0.1   #piston diameter in m\n",
    "g = 9.81   #gravitational acceleration in m/s2\n",
    "\n",
    "F = m * g   #gravitaional force by the piston\n",
    "A = np.pi * D ** 2 / 4   #piston surface area in m2\n",
    "\n",
    "P = F / A   #pressure imposed by the piston weight\n",
    "\n",
    "P_air = P_atm + P   #total pressure of air stored\n",
    "\n",
    "\n",
    "print('The pressure of air stored in the system is', f\"{P_air/1000:.1f}\", 'kPa')"
   ]
  }
 ],
 "metadata": {
  "kernelspec": {
   "display_name": "oer",
   "language": "python",
   "name": "oerminimal"
  },
  "language_info": {
   "codemirror_mode": {
    "name": "ipython",
    "version": 3
   },
   "file_extension": ".py",
   "mimetype": "text/x-python",
   "name": "python",
   "nbconvert_exporter": "python",
   "pygments_lexer": "ipython3",
   "version": "3.9.19"
  }
 },
 "nbformat": 4,
 "nbformat_minor": 5
}
