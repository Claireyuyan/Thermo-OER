{
 "cells": [
  {
   "cell_type": "code",
   "execution_count": 8,
   "id": "25b3b524-b87c-4268-94ea-8a9c988cd940",
   "metadata": {},
   "outputs": [],
   "source": [
    "import CoolProp.CoolProp as CP\n",
    "import pandas as pd\n",
    "import numpy as np\n",
    "\n",
    "fluids = ['Water', 'R134a', 'Ammonia']\n",
    "for fluid in fluids:\n",
    "    T_min = CP.PropsSI('Tmin', fluid) + 1  # Adding a small offset to Tmin for stability\n",
    "    T_max = CP.PropsSI('Tcrit', fluid)\n",
    "    T_vals = np.linspace(T_min, T_max, 100)  # Adjust the number of points as needed\n",
    "\n",
    "    # Data generation for each diagram type\n",
    "    p_h_data = {'Pressure': [], 'Enthalpy': []}\n",
    "    p_T_data = {'Pressure': [], 'Temperature': []}\n",
    "    T_s_data = {'Temperature': [], 'Entropy': []}\n",
    "\n",
    "    for T in T_vals:\n",
    "        p_h_data['Pressure'].append(CP.PropsSI('P', 'T', T, 'Q', 0, fluid))\n",
    "        p_h_data['Enthalpy'].append(CP.PropsSI('H', 'T', T, 'Q', 0, fluid))\n",
    "\n",
    "        p_T_data['Pressure'].append(CP.PropsSI('P', 'T', T, 'Q', 0, fluid))\n",
    "        p_T_data['Temperature'].append(T)\n",
    "\n",
    "        T_s_data['Temperature'].append(T)\n",
    "        T_s_data['Entropy'].append(CP.PropsSI('S', 'T', T, 'Q', 0, fluid))\n",
    "\n",
    "    # Convert to DataFrames and save as CSV files\n",
    "    pd.DataFrame(p_h_data).to_csv(f'{fluid}_p-h.csv', index=False)\n",
    "    pd.DataFrame(p_T_data).to_csv(f'{fluid}_p-T.csv', index=False)\n",
    "    pd.DataFrame(T_s_data).to_csv(f'{fluid}_T-s.csv', index=False)\n"
   ]
  },
  {
   "cell_type": "code",
   "execution_count": 9,
   "id": "eb32e6ec-bc5d-424a-889c-74ed98e5430e",
   "metadata": {},
   "outputs": [
    {
     "data": {
      "application/vnd.jupyter.widget-view+json": {
       "model_id": "ef218be9ca104e0cae8683193544c9b3",
       "version_major": 2,
       "version_minor": 0
      },
      "text/plain": [
       "Dropdown(description='Fluid:', options=('Water', 'R134a', 'Ammonia'), value='Water')"
      ]
     },
     "metadata": {},
     "output_type": "display_data"
    },
    {
     "data": {
      "application/vnd.jupyter.widget-view+json": {
       "model_id": "ab2cfb1d48114254a9366ccd2429ef5d",
       "version_major": 2,
       "version_minor": 0
      },
      "text/plain": [
       "Dropdown(description='Diagram:', options=('p-h', 'p-T', 'T-s'), value='p-h')"
      ]
     },
     "metadata": {},
     "output_type": "display_data"
    }
   ],
   "source": [
    "\n",
    "import ipywidgets as widgets\n",
    "from IPython.display import display\n",
    "\n",
    "# Dropdown for fluid selection\n",
    "fluid_dropdown = widgets.Dropdown(\n",
    "    options=['Water', 'R134a', 'Ammonia'],\n",
    "    value='Water',\n",
    "    description='Fluid:',\n",
    ")\n",
    "\n",
    "# Dropdown for diagram selection\n",
    "diagram_dropdown = widgets.Dropdown(\n",
    "    options=['p-h', 'p-T', 'T-s'],\n",
    "    value='p-h',\n",
    "    description='Diagram:',\n",
    ")\n",
    "\n",
    "display(fluid_dropdown, diagram_dropdown)\n"
   ]
  },
  {
   "cell_type": "code",
   "execution_count": 13,
   "id": "ca24d838-3eaa-499f-afdf-8d8e81611b35",
   "metadata": {},
   "outputs": [
    {
     "data": {
      "application/vnd.plotly.v1+json": {
       "config": {
        "plotlyServerURL": "https://plot.ly"
       },
       "data": [
        {
         "hovertemplate": "Pressure=%{x}<br>Enthalpy=%{y}<extra></extra>",
         "legendgroup": "",
         "line": {
          "color": "#636efa",
          "dash": "solid"
         },
         "marker": {
          "symbol": "circle"
         },
         "mode": "lines",
         "name": "",
         "orientation": "v",
         "showlegend": false,
         "type": "scatter",
         "x": [
          657.5593809726452,
          859.0958205659902,
          1113.399872582095,
          1431.8912374004724,
          1827.9162607088704,
          2316.972730476237,
          2916.94224672188,
          3648.334014567112,
          4534.536128606791,
          5602.072346340878,
          6880.864826468701,
          8404.498782286022,
          10210.48914723942,
          12340.546153533272,
          14840.838763294592,
          17762.254308691794,
          21160.652011203496,
          25097.109704541963,
          29638.16152401983,
          34856.02568064902,
          40828.82128747033,
          47640.77235224836,
          55382.39921954762,
          64150.69580709199,
          74049.29248042444,
          85188.60405647158,
          97685.96267116464,
          111665.73536430826,
          127259.42640253296,
          144605.76449620153,
          163850.7751576231,
          185147.83847362024,
          208657.73288205976,
          234548.6654723844,
          262996.28927479504,
          294183.70847295393,
          328301.4721169136,
          365547.5572212296,
          406127.3420749267,
          450253.57070436975,
          498146.3093531225,
          550032.8959971642,
          606147.8839023164,
          666732.9801218745,
          732036.9800823389,
          802315.6992944934,
          877831.90310539,
          958855.2358083328,
          1045662.1499284467,
          1138535.8370180535,
          1237766.1609460458,
          1343649.594921589,
          1456489.1633282348,
          1576594.3897092757,
          1704281.252100343,
          1839872.1470298416,
          1983695.8636341973,
          2136087.5693480237,
          2297388.808809513,
          2467947.517206343,
          2648118.0514378864,
          2838261.2386080334,
          3038744.4465034194,
          3249941.6769653275,
          3472233.6860093367,
          3706008.132495525,
          3951659.76012581,
          4209590.615963751,
          4480210.310223202,
          4763936.322461627,
          5061194.36004333,
          5372418.775691994,
          5698053.051960656,
          6038550.361820234,
          6394374.216078138,
          6765999.210414979,
          7153911.887208167,
          7558611.730516126,
          7980612.316493494,
          8420442.646739779,
          8878648.69871005,
          9355795.236182649,
          9852467.93445476,
          10369275.890422055,
          10906854.607980547,
          11465869.575301323,
          12047020.582952335,
          12651046.964152988,
          13278733.984169189,
          13930920.603162345,
          14608508.844067654,
          15312474.916023292,
          16043882.194762394,
          16803896.513856724,
          17593806.742971815,
          18415065.336049624,
          19269409.608106557,
          20159263.023682594,
          21088701.962328475,
          22064000.00000115
         ],
         "xaxis": "x",
         "y": [
          4218.876608288915,
          20082.18564652481,
          35910.897622031174,
          51713.62054217148,
          67496.98649668304,
          83266.17356043993,
          99025.26492189452,
          114777.5069521426,
          130525.5016744004,
          146271.35457602635,
          162016.79055526492,
          177763.2461393281,
          193511.9434053829,
          209263.94941294985,
          225020.22395634063,
          240781.6577963685,
          256549.10308639472,
          272323.3973931496,
          288105.38246789377,
          303895.9187352871,
          319695.8963098844,
          335506.243219626,
          351327.93140688946,
          367161.9809822274,
          383009.4631270332,
          398871.5019726057,
          414749.27572597074,
          430644.01726310427,
          446557.0143699936,
          462489.6097769315,
          478443.2011035548,
          494419.2408082247,
          510419.2362164967,
          526444.7496879322,
          542497.3989679335,
          558578.8577619785,
          574690.8565618889,
          590835.1837485275,
          607013.6869911611,
          623228.2749615387,
          639480.9193793461,
          655773.6574052003,
          672108.5943986189,
          688487.9070593154,
          704913.8469729747,
          721388.7445855752,
          737915.0136341745,
          754495.1560670445,
          771131.7674910852,
          787827.5431915829,
          804585.2847764657,
          821407.9075062026,
          838298.4483806571,
          855260.0750661162,
          872296.0957594746,
          889409.9701026023,
          906605.3212789168,
          923885.949446152,
          941255.846685433,
          958719.2136772608,
          976280.478352363,
          993944.3168066838,
          1011715.6768238504,
          1029599.804408298,
          1047602.2738076248,
          1065729.021591345,
          1083986.3854625225,
          1102381.148609849,
          1120920.5905690808,
          1139612.545760834,
          1158465.4711158767,
          1177488.5245035023,
          1196691.6560590423,
          1216085.714987343,
          1235682.5750311497,
          1255495.2825815545,
          1275538.2324354,
          1295827.3775652284,
          1316380.4811027618,
          1337217.4212707109,
          1358360.563591989,
          1379835.219972602,
          1401670.2222502937,
          1423898.650393237,
          1446558.7760528757,
          1469695.316588241,
          1493361.1535892878,
          1517619.7719589795,
          1542548.85264163,
          1568245.7583130985,
          1594836.175869435,
          1622488.0704161243,
          1651434.6000739285,
          1682012.070903121,
          1714722.538669744,
          1750334.210692739,
          1790039.7049428865,
          1835871.198410031,
          1894005.567417999,
          2084256.255907945
         ],
         "yaxis": "y"
        }
       ],
       "layout": {
        "autosize": true,
        "legend": {
         "tracegroupgap": 0
        },
        "template": {
         "data": {
          "bar": [
           {
            "error_x": {
             "color": "#2a3f5f"
            },
            "error_y": {
             "color": "#2a3f5f"
            },
            "marker": {
             "line": {
              "color": "#E5ECF6",
              "width": 0.5
             },
             "pattern": {
              "fillmode": "overlay",
              "size": 10,
              "solidity": 0.2
             }
            },
            "type": "bar"
           }
          ],
          "barpolar": [
           {
            "marker": {
             "line": {
              "color": "#E5ECF6",
              "width": 0.5
             },
             "pattern": {
              "fillmode": "overlay",
              "size": 10,
              "solidity": 0.2
             }
            },
            "type": "barpolar"
           }
          ],
          "carpet": [
           {
            "aaxis": {
             "endlinecolor": "#2a3f5f",
             "gridcolor": "white",
             "linecolor": "white",
             "minorgridcolor": "white",
             "startlinecolor": "#2a3f5f"
            },
            "baxis": {
             "endlinecolor": "#2a3f5f",
             "gridcolor": "white",
             "linecolor": "white",
             "minorgridcolor": "white",
             "startlinecolor": "#2a3f5f"
            },
            "type": "carpet"
           }
          ],
          "choropleth": [
           {
            "colorbar": {
             "outlinewidth": 0,
             "ticks": ""
            },
            "type": "choropleth"
           }
          ],
          "contour": [
           {
            "colorbar": {
             "outlinewidth": 0,
             "ticks": ""
            },
            "colorscale": [
             [
              0,
              "#0d0887"
             ],
             [
              0.1111111111111111,
              "#46039f"
             ],
             [
              0.2222222222222222,
              "#7201a8"
             ],
             [
              0.3333333333333333,
              "#9c179e"
             ],
             [
              0.4444444444444444,
              "#bd3786"
             ],
             [
              0.5555555555555556,
              "#d8576b"
             ],
             [
              0.6666666666666666,
              "#ed7953"
             ],
             [
              0.7777777777777778,
              "#fb9f3a"
             ],
             [
              0.8888888888888888,
              "#fdca26"
             ],
             [
              1,
              "#f0f921"
             ]
            ],
            "type": "contour"
           }
          ],
          "contourcarpet": [
           {
            "colorbar": {
             "outlinewidth": 0,
             "ticks": ""
            },
            "type": "contourcarpet"
           }
          ],
          "heatmap": [
           {
            "colorbar": {
             "outlinewidth": 0,
             "ticks": ""
            },
            "colorscale": [
             [
              0,
              "#0d0887"
             ],
             [
              0.1111111111111111,
              "#46039f"
             ],
             [
              0.2222222222222222,
              "#7201a8"
             ],
             [
              0.3333333333333333,
              "#9c179e"
             ],
             [
              0.4444444444444444,
              "#bd3786"
             ],
             [
              0.5555555555555556,
              "#d8576b"
             ],
             [
              0.6666666666666666,
              "#ed7953"
             ],
             [
              0.7777777777777778,
              "#fb9f3a"
             ],
             [
              0.8888888888888888,
              "#fdca26"
             ],
             [
              1,
              "#f0f921"
             ]
            ],
            "type": "heatmap"
           }
          ],
          "heatmapgl": [
           {
            "colorbar": {
             "outlinewidth": 0,
             "ticks": ""
            },
            "colorscale": [
             [
              0,
              "#0d0887"
             ],
             [
              0.1111111111111111,
              "#46039f"
             ],
             [
              0.2222222222222222,
              "#7201a8"
             ],
             [
              0.3333333333333333,
              "#9c179e"
             ],
             [
              0.4444444444444444,
              "#bd3786"
             ],
             [
              0.5555555555555556,
              "#d8576b"
             ],
             [
              0.6666666666666666,
              "#ed7953"
             ],
             [
              0.7777777777777778,
              "#fb9f3a"
             ],
             [
              0.8888888888888888,
              "#fdca26"
             ],
             [
              1,
              "#f0f921"
             ]
            ],
            "type": "heatmapgl"
           }
          ],
          "histogram": [
           {
            "marker": {
             "pattern": {
              "fillmode": "overlay",
              "size": 10,
              "solidity": 0.2
             }
            },
            "type": "histogram"
           }
          ],
          "histogram2d": [
           {
            "colorbar": {
             "outlinewidth": 0,
             "ticks": ""
            },
            "colorscale": [
             [
              0,
              "#0d0887"
             ],
             [
              0.1111111111111111,
              "#46039f"
             ],
             [
              0.2222222222222222,
              "#7201a8"
             ],
             [
              0.3333333333333333,
              "#9c179e"
             ],
             [
              0.4444444444444444,
              "#bd3786"
             ],
             [
              0.5555555555555556,
              "#d8576b"
             ],
             [
              0.6666666666666666,
              "#ed7953"
             ],
             [
              0.7777777777777778,
              "#fb9f3a"
             ],
             [
              0.8888888888888888,
              "#fdca26"
             ],
             [
              1,
              "#f0f921"
             ]
            ],
            "type": "histogram2d"
           }
          ],
          "histogram2dcontour": [
           {
            "colorbar": {
             "outlinewidth": 0,
             "ticks": ""
            },
            "colorscale": [
             [
              0,
              "#0d0887"
             ],
             [
              0.1111111111111111,
              "#46039f"
             ],
             [
              0.2222222222222222,
              "#7201a8"
             ],
             [
              0.3333333333333333,
              "#9c179e"
             ],
             [
              0.4444444444444444,
              "#bd3786"
             ],
             [
              0.5555555555555556,
              "#d8576b"
             ],
             [
              0.6666666666666666,
              "#ed7953"
             ],
             [
              0.7777777777777778,
              "#fb9f3a"
             ],
             [
              0.8888888888888888,
              "#fdca26"
             ],
             [
              1,
              "#f0f921"
             ]
            ],
            "type": "histogram2dcontour"
           }
          ],
          "mesh3d": [
           {
            "colorbar": {
             "outlinewidth": 0,
             "ticks": ""
            },
            "type": "mesh3d"
           }
          ],
          "parcoords": [
           {
            "line": {
             "colorbar": {
              "outlinewidth": 0,
              "ticks": ""
             }
            },
            "type": "parcoords"
           }
          ],
          "pie": [
           {
            "automargin": true,
            "type": "pie"
           }
          ],
          "scatter": [
           {
            "fillpattern": {
             "fillmode": "overlay",
             "size": 10,
             "solidity": 0.2
            },
            "type": "scatter"
           }
          ],
          "scatter3d": [
           {
            "line": {
             "colorbar": {
              "outlinewidth": 0,
              "ticks": ""
             }
            },
            "marker": {
             "colorbar": {
              "outlinewidth": 0,
              "ticks": ""
             }
            },
            "type": "scatter3d"
           }
          ],
          "scattercarpet": [
           {
            "marker": {
             "colorbar": {
              "outlinewidth": 0,
              "ticks": ""
             }
            },
            "type": "scattercarpet"
           }
          ],
          "scattergeo": [
           {
            "marker": {
             "colorbar": {
              "outlinewidth": 0,
              "ticks": ""
             }
            },
            "type": "scattergeo"
           }
          ],
          "scattergl": [
           {
            "marker": {
             "colorbar": {
              "outlinewidth": 0,
              "ticks": ""
             }
            },
            "type": "scattergl"
           }
          ],
          "scattermapbox": [
           {
            "marker": {
             "colorbar": {
              "outlinewidth": 0,
              "ticks": ""
             }
            },
            "type": "scattermapbox"
           }
          ],
          "scatterpolar": [
           {
            "marker": {
             "colorbar": {
              "outlinewidth": 0,
              "ticks": ""
             }
            },
            "type": "scatterpolar"
           }
          ],
          "scatterpolargl": [
           {
            "marker": {
             "colorbar": {
              "outlinewidth": 0,
              "ticks": ""
             }
            },
            "type": "scatterpolargl"
           }
          ],
          "scatterternary": [
           {
            "marker": {
             "colorbar": {
              "outlinewidth": 0,
              "ticks": ""
             }
            },
            "type": "scatterternary"
           }
          ],
          "surface": [
           {
            "colorbar": {
             "outlinewidth": 0,
             "ticks": ""
            },
            "colorscale": [
             [
              0,
              "#0d0887"
             ],
             [
              0.1111111111111111,
              "#46039f"
             ],
             [
              0.2222222222222222,
              "#7201a8"
             ],
             [
              0.3333333333333333,
              "#9c179e"
             ],
             [
              0.4444444444444444,
              "#bd3786"
             ],
             [
              0.5555555555555556,
              "#d8576b"
             ],
             [
              0.6666666666666666,
              "#ed7953"
             ],
             [
              0.7777777777777778,
              "#fb9f3a"
             ],
             [
              0.8888888888888888,
              "#fdca26"
             ],
             [
              1,
              "#f0f921"
             ]
            ],
            "type": "surface"
           }
          ],
          "table": [
           {
            "cells": {
             "fill": {
              "color": "#EBF0F8"
             },
             "line": {
              "color": "white"
             }
            },
            "header": {
             "fill": {
              "color": "#C8D4E3"
             },
             "line": {
              "color": "white"
             }
            },
            "type": "table"
           }
          ]
         },
         "layout": {
          "annotationdefaults": {
           "arrowcolor": "#2a3f5f",
           "arrowhead": 0,
           "arrowwidth": 1
          },
          "autotypenumbers": "strict",
          "coloraxis": {
           "colorbar": {
            "outlinewidth": 0,
            "ticks": ""
           }
          },
          "colorscale": {
           "diverging": [
            [
             0,
             "#8e0152"
            ],
            [
             0.1,
             "#c51b7d"
            ],
            [
             0.2,
             "#de77ae"
            ],
            [
             0.3,
             "#f1b6da"
            ],
            [
             0.4,
             "#fde0ef"
            ],
            [
             0.5,
             "#f7f7f7"
            ],
            [
             0.6,
             "#e6f5d0"
            ],
            [
             0.7,
             "#b8e186"
            ],
            [
             0.8,
             "#7fbc41"
            ],
            [
             0.9,
             "#4d9221"
            ],
            [
             1,
             "#276419"
            ]
           ],
           "sequential": [
            [
             0,
             "#0d0887"
            ],
            [
             0.1111111111111111,
             "#46039f"
            ],
            [
             0.2222222222222222,
             "#7201a8"
            ],
            [
             0.3333333333333333,
             "#9c179e"
            ],
            [
             0.4444444444444444,
             "#bd3786"
            ],
            [
             0.5555555555555556,
             "#d8576b"
            ],
            [
             0.6666666666666666,
             "#ed7953"
            ],
            [
             0.7777777777777778,
             "#fb9f3a"
            ],
            [
             0.8888888888888888,
             "#fdca26"
            ],
            [
             1,
             "#f0f921"
            ]
           ],
           "sequentialminus": [
            [
             0,
             "#0d0887"
            ],
            [
             0.1111111111111111,
             "#46039f"
            ],
            [
             0.2222222222222222,
             "#7201a8"
            ],
            [
             0.3333333333333333,
             "#9c179e"
            ],
            [
             0.4444444444444444,
             "#bd3786"
            ],
            [
             0.5555555555555556,
             "#d8576b"
            ],
            [
             0.6666666666666666,
             "#ed7953"
            ],
            [
             0.7777777777777778,
             "#fb9f3a"
            ],
            [
             0.8888888888888888,
             "#fdca26"
            ],
            [
             1,
             "#f0f921"
            ]
           ]
          },
          "colorway": [
           "#636efa",
           "#EF553B",
           "#00cc96",
           "#ab63fa",
           "#FFA15A",
           "#19d3f3",
           "#FF6692",
           "#B6E880",
           "#FF97FF",
           "#FECB52"
          ],
          "font": {
           "color": "#2a3f5f"
          },
          "geo": {
           "bgcolor": "white",
           "lakecolor": "white",
           "landcolor": "#E5ECF6",
           "showlakes": true,
           "showland": true,
           "subunitcolor": "white"
          },
          "hoverlabel": {
           "align": "left"
          },
          "hovermode": "closest",
          "mapbox": {
           "style": "light"
          },
          "paper_bgcolor": "white",
          "plot_bgcolor": "#E5ECF6",
          "polar": {
           "angularaxis": {
            "gridcolor": "white",
            "linecolor": "white",
            "ticks": ""
           },
           "bgcolor": "#E5ECF6",
           "radialaxis": {
            "gridcolor": "white",
            "linecolor": "white",
            "ticks": ""
           }
          },
          "scene": {
           "xaxis": {
            "backgroundcolor": "#E5ECF6",
            "gridcolor": "white",
            "gridwidth": 2,
            "linecolor": "white",
            "showbackground": true,
            "ticks": "",
            "zerolinecolor": "white"
           },
           "yaxis": {
            "backgroundcolor": "#E5ECF6",
            "gridcolor": "white",
            "gridwidth": 2,
            "linecolor": "white",
            "showbackground": true,
            "ticks": "",
            "zerolinecolor": "white"
           },
           "zaxis": {
            "backgroundcolor": "#E5ECF6",
            "gridcolor": "white",
            "gridwidth": 2,
            "linecolor": "white",
            "showbackground": true,
            "ticks": "",
            "zerolinecolor": "white"
           }
          },
          "shapedefaults": {
           "line": {
            "color": "#2a3f5f"
           }
          },
          "ternary": {
           "aaxis": {
            "gridcolor": "white",
            "linecolor": "white",
            "ticks": ""
           },
           "baxis": {
            "gridcolor": "white",
            "linecolor": "white",
            "ticks": ""
           },
           "bgcolor": "#E5ECF6",
           "caxis": {
            "gridcolor": "white",
            "linecolor": "white",
            "ticks": ""
           }
          },
          "title": {
           "x": 0.05
          },
          "xaxis": {
           "automargin": true,
           "gridcolor": "white",
           "linecolor": "white",
           "ticks": "",
           "title": {
            "standoff": 15
           },
           "zerolinecolor": "white",
           "zerolinewidth": 2
          },
          "yaxis": {
           "automargin": true,
           "gridcolor": "white",
           "linecolor": "white",
           "ticks": "",
           "title": {
            "standoff": 15
           },
           "zerolinecolor": "white",
           "zerolinewidth": 2
          }
         }
        },
        "title": {
         "text": "Water p-h Diagram"
        },
        "xaxis": {
         "anchor": "y",
         "autorange": true,
         "domain": [
          0,
          1
         ],
         "range": [
          657.5593809726452,
          22064000.00000115
         ],
         "title": {
          "text": "Pressure"
         },
         "type": "linear"
        },
        "yaxis": {
         "anchor": "x",
         "autorange": true,
         "domain": [
          0,
          1
         ],
         "range": [
          -111338.75557502531,
          2199813.888091259
         ],
         "title": {
          "text": "Enthalpy"
         },
         "type": "linear"
        }
       }
      },
      "image/png": "[encoded data removed]",
      "text/html": [
       "<div>                            <div id=\"127e5e91-c6b1-4dbc-bf95-89d95bc22e7b\" class=\"plotly-graph-div\" style=\"height:525px; width:100%;\"></div>            <script type=\"text/javascript\">                require([\"plotly\"], function(Plotly) {                    window.PLOTLYENV=window.PLOTLYENV || {};                                    if (document.getElementById(\"127e5e91-c6b1-4dbc-bf95-89d95bc22e7b\")) {                    Plotly.newPlot(                        \"127e5e91-c6b1-4dbc-bf95-89d95bc22e7b\",                        [{\"hovertemplate\":\"Pressure=%{x}\\u003cbr\\u003eEnthalpy=%{y}\\u003cextra\\u003e\\u003c\\u002fextra\\u003e\",\"legendgroup\":\"\",\"line\":{\"color\":\"#636efa\",\"dash\":\"solid\"},\"marker\":{\"symbol\":\"circle\"},\"mode\":\"lines\",\"name\":\"\",\"orientation\":\"v\",\"showlegend\":false,\"x\":[657.5593809726452,859.0958205659902,1113.399872582095,1431.8912374004724,1827.9162607088704,2316.972730476237,2916.94224672188,3648.334014567112,4534.536128606791,5602.072346340878,6880.864826468701,8404.498782286022,10210.48914723942,12340.546153533272,14840.838763294592,17762.254308691794,21160.652011203496,25097.109704541963,29638.16152401983,34856.02568064902,40828.82128747033,47640.77235224836,55382.39921954762,64150.69580709199,74049.29248042444,85188.60405647158,97685.96267116464,111665.73536430826,127259.42640253296,144605.76449620153,163850.7751576231,185147.83847362024,208657.73288205976,234548.6654723844,262996.28927479504,294183.70847295393,328301.4721169136,365547.5572212296,406127.3420749267,450253.57070436975,498146.3093531225,550032.8959971642,606147.8839023164,666732.9801218745,732036.9800823389,802315.6992944934,877831.90310539,958855.2358083328,1045662.1499284467,1138535.8370180535,1237766.1609460458,1343649.594921589,1456489.1633282348,1576594.3897092757,1704281.252100343,1839872.1470298416,1983695.8636341973,2136087.5693480237,2297388.808809513,2467947.517206343,2648118.0514378864,2838261.2386080334,3038744.4465034194,3249941.6769653275,3472233.6860093367,3706008.132495525,3951659.76012581,4209590.615963751,4480210.310223202,4763936.322461627,5061194.36004333,5372418.775691994,5698053.051960656,6038550.361820234,6394374.216078138,6765999.210414979,7153911.887208167,7558611.730516126,7980612.316493494,8420442.646739779,8878648.69871005,9355795.236182649,9852467.93445476,10369275.890422055,10906854.607980547,11465869.575301323,12047020.582952335,12651046.964152988,13278733.984169189,13930920.603162345,14608508.844067654,15312474.916023292,16043882.194762394,16803896.513856724,17593806.742971815,18415065.336049624,19269409.608106557,20159263.023682594,21088701.962328475,22064000.00000115],\"xaxis\":\"x\",\"y\":[4218.876608288915,20082.18564652481,35910.897622031174,51713.62054217148,67496.98649668304,83266.17356043993,99025.26492189452,114777.5069521426,130525.5016744004,146271.35457602635,162016.79055526492,177763.2461393281,193511.9434053829,209263.94941294985,225020.22395634063,240781.6577963685,256549.10308639472,272323.3973931496,288105.38246789377,303895.9187352871,319695.8963098844,335506.243219626,351327.93140688946,367161.9809822274,383009.4631270332,398871.5019726057,414749.27572597074,430644.01726310427,446557.0143699936,462489.6097769315,478443.2011035548,494419.2408082247,510419.2362164967,526444.7496879322,542497.3989679335,558578.8577619785,574690.8565618889,590835.1837485275,607013.6869911611,623228.2749615387,639480.9193793461,655773.6574052003,672108.5943986189,688487.9070593154,704913.8469729747,721388.7445855752,737915.0136341745,754495.1560670445,771131.7674910852,787827.5431915829,804585.2847764657,821407.9075062026,838298.4483806571,855260.0750661162,872296.0957594746,889409.9701026023,906605.3212789168,923885.949446152,941255.846685433,958719.2136772608,976280.478352363,993944.3168066838,1011715.6768238504,1029599.804408298,1047602.2738076248,1065729.021591345,1083986.3854625225,1102381.148609849,1120920.5905690808,1139612.545760834,1158465.4711158767,1177488.5245035023,1196691.6560590423,1216085.714987343,1235682.5750311497,1255495.2825815545,1275538.2324354,1295827.3775652284,1316380.4811027618,1337217.4212707109,1358360.563591989,1379835.219972602,1401670.2222502937,1423898.650393237,1446558.7760528757,1469695.316588241,1493361.1535892878,1517619.7719589795,1542548.85264163,1568245.7583130985,1594836.175869435,1622488.0704161243,1651434.6000739285,1682012.070903121,1714722.538669744,1750334.210692739,1790039.7049428865,1835871.198410031,1894005.567417999,2084256.255907945],\"yaxis\":\"y\",\"type\":\"scatter\"}],                        {\"template\":{\"data\":{\"histogram2dcontour\":[{\"type\":\"histogram2dcontour\",\"colorbar\":{\"outlinewidth\":0,\"ticks\":\"\"},\"colorscale\":[[0.0,\"#0d0887\"],[0.1111111111111111,\"#46039f\"],[0.2222222222222222,\"#7201a8\"],[0.3333333333333333,\"#9c179e\"],[0.4444444444444444,\"#bd3786\"],[0.5555555555555556,\"#d8576b\"],[0.6666666666666666,\"#ed7953\"],[0.7777777777777778,\"#fb9f3a\"],[0.8888888888888888,\"#fdca26\"],[1.0,\"#f0f921\"]]}],\"choropleth\":[{\"type\":\"choropleth\",\"colorbar\":{\"outlinewidth\":0,\"ticks\":\"\"}}],\"histogram2d\":[{\"type\":\"histogram2d\",\"colorbar\":{\"outlinewidth\":0,\"ticks\":\"\"},\"colorscale\":[[0.0,\"#0d0887\"],[0.1111111111111111,\"#46039f\"],[0.2222222222222222,\"#7201a8\"],[0.3333333333333333,\"#9c179e\"],[0.4444444444444444,\"#bd3786\"],[0.5555555555555556,\"#d8576b\"],[0.6666666666666666,\"#ed7953\"],[0.7777777777777778,\"#fb9f3a\"],[0.8888888888888888,\"#fdca26\"],[1.0,\"#f0f921\"]]}],\"heatmap\":[{\"type\":\"heatmap\",\"colorbar\":{\"outlinewidth\":0,\"ticks\":\"\"},\"colorscale\":[[0.0,\"#0d0887\"],[0.1111111111111111,\"#46039f\"],[0.2222222222222222,\"#7201a8\"],[0.3333333333333333,\"#9c179e\"],[0.4444444444444444,\"#bd3786\"],[0.5555555555555556,\"#d8576b\"],[0.6666666666666666,\"#ed7953\"],[0.7777777777777778,\"#fb9f3a\"],[0.8888888888888888,\"#fdca26\"],[1.0,\"#f0f921\"]]}],\"heatmapgl\":[{\"type\":\"heatmapgl\",\"colorbar\":{\"outlinewidth\":0,\"ticks\":\"\"},\"colorscale\":[[0.0,\"#0d0887\"],[0.1111111111111111,\"#46039f\"],[0.2222222222222222,\"#7201a8\"],[0.3333333333333333,\"#9c179e\"],[0.4444444444444444,\"#bd3786\"],[0.5555555555555556,\"#d8576b\"],[0.6666666666666666,\"#ed7953\"],[0.7777777777777778,\"#fb9f3a\"],[0.8888888888888888,\"#fdca26\"],[1.0,\"#f0f921\"]]}],\"contourcarpet\":[{\"type\":\"contourcarpet\",\"colorbar\":{\"outlinewidth\":0,\"ticks\":\"\"}}],\"contour\":[{\"type\":\"contour\",\"colorbar\":{\"outlinewidth\":0,\"ticks\":\"\"},\"colorscale\":[[0.0,\"#0d0887\"],[0.1111111111111111,\"#46039f\"],[0.2222222222222222,\"#7201a8\"],[0.3333333333333333,\"#9c179e\"],[0.4444444444444444,\"#bd3786\"],[0.5555555555555556,\"#d8576b\"],[0.6666666666666666,\"#ed7953\"],[0.7777777777777778,\"#fb9f3a\"],[0.8888888888888888,\"#fdca26\"],[1.0,\"#f0f921\"]]}],\"surface\":[{\"type\":\"surface\",\"colorbar\":{\"outlinewidth\":0,\"ticks\":\"\"},\"colorscale\":[[0.0,\"#0d0887\"],[0.1111111111111111,\"#46039f\"],[0.2222222222222222,\"#7201a8\"],[0.3333333333333333,\"#9c179e\"],[0.4444444444444444,\"#bd3786\"],[0.5555555555555556,\"#d8576b\"],[0.6666666666666666,\"#ed7953\"],[0.7777777777777778,\"#fb9f3a\"],[0.8888888888888888,\"#fdca26\"],[1.0,\"#f0f921\"]]}],\"mesh3d\":[{\"type\":\"mesh3d\",\"colorbar\":{\"outlinewidth\":0,\"ticks\":\"\"}}],\"scatter\":[{\"fillpattern\":{\"fillmode\":\"overlay\",\"size\":10,\"solidity\":0.2},\"type\":\"scatter\"}],\"parcoords\":[{\"type\":\"parcoords\",\"line\":{\"colorbar\":{\"outlinewidth\":0,\"ticks\":\"\"}}}],\"scatterpolargl\":[{\"type\":\"scatterpolargl\",\"marker\":{\"colorbar\":{\"outlinewidth\":0,\"ticks\":\"\"}}}],\"bar\":[{\"error_x\":{\"color\":\"#2a3f5f\"},\"error_y\":{\"color\":\"#2a3f5f\"},\"marker\":{\"line\":{\"color\":\"#E5ECF6\",\"width\":0.5},\"pattern\":{\"fillmode\":\"overlay\",\"size\":10,\"solidity\":0.2}},\"type\":\"bar\"}],\"scattergeo\":[{\"type\":\"scattergeo\",\"marker\":{\"colorbar\":{\"outlinewidth\":0,\"ticks\":\"\"}}}],\"scatterpolar\":[{\"type\":\"scatterpolar\",\"marker\":{\"colorbar\":{\"outlinewidth\":0,\"ticks\":\"\"}}}],\"histogram\":[{\"marker\":{\"pattern\":{\"fillmode\":\"overlay\",\"size\":10,\"solidity\":0.2}},\"type\":\"histogram\"}],\"scattergl\":[{\"type\":\"scattergl\",\"marker\":{\"colorbar\":{\"outlinewidth\":0,\"ticks\":\"\"}}}],\"scatter3d\":[{\"type\":\"scatter3d\",\"line\":{\"colorbar\":{\"outlinewidth\":0,\"ticks\":\"\"}},\"marker\":{\"colorbar\":{\"outlinewidth\":0,\"ticks\":\"\"}}}],\"scattermapbox\":[{\"type\":\"scattermapbox\",\"marker\":{\"colorbar\":{\"outlinewidth\":0,\"ticks\":\"\"}}}],\"scatterternary\":[{\"type\":\"scatterternary\",\"marker\":{\"colorbar\":{\"outlinewidth\":0,\"ticks\":\"\"}}}],\"scattercarpet\":[{\"type\":\"scattercarpet\",\"marker\":{\"colorbar\":{\"outlinewidth\":0,\"ticks\":\"\"}}}],\"carpet\":[{\"aaxis\":{\"endlinecolor\":\"#2a3f5f\",\"gridcolor\":\"white\",\"linecolor\":\"white\",\"minorgridcolor\":\"white\",\"startlinecolor\":\"#2a3f5f\"},\"baxis\":{\"endlinecolor\":\"#2a3f5f\",\"gridcolor\":\"white\",\"linecolor\":\"white\",\"minorgridcolor\":\"white\",\"startlinecolor\":\"#2a3f5f\"},\"type\":\"carpet\"}],\"table\":[{\"cells\":{\"fill\":{\"color\":\"#EBF0F8\"},\"line\":{\"color\":\"white\"}},\"header\":{\"fill\":{\"color\":\"#C8D4E3\"},\"line\":{\"color\":\"white\"}},\"type\":\"table\"}],\"barpolar\":[{\"marker\":{\"line\":{\"color\":\"#E5ECF6\",\"width\":0.5},\"pattern\":{\"fillmode\":\"overlay\",\"size\":10,\"solidity\":0.2}},\"type\":\"barpolar\"}],\"pie\":[{\"automargin\":true,\"type\":\"pie\"}]},\"layout\":{\"autotypenumbers\":\"strict\",\"colorway\":[\"#636efa\",\"#EF553B\",\"#00cc96\",\"#ab63fa\",\"#FFA15A\",\"#19d3f3\",\"#FF6692\",\"#B6E880\",\"#FF97FF\",\"#FECB52\"],\"font\":{\"color\":\"#2a3f5f\"},\"hovermode\":\"closest\",\"hoverlabel\":{\"align\":\"left\"},\"paper_bgcolor\":\"white\",\"plot_bgcolor\":\"#E5ECF6\",\"polar\":{\"bgcolor\":\"#E5ECF6\",\"angularaxis\":{\"gridcolor\":\"white\",\"linecolor\":\"white\",\"ticks\":\"\"},\"radialaxis\":{\"gridcolor\":\"white\",\"linecolor\":\"white\",\"ticks\":\"\"}},\"ternary\":{\"bgcolor\":\"#E5ECF6\",\"aaxis\":{\"gridcolor\":\"white\",\"linecolor\":\"white\",\"ticks\":\"\"},\"baxis\":{\"gridcolor\":\"white\",\"linecolor\":\"white\",\"ticks\":\"\"},\"caxis\":{\"gridcolor\":\"white\",\"linecolor\":\"white\",\"ticks\":\"\"}},\"coloraxis\":{\"colorbar\":{\"outlinewidth\":0,\"ticks\":\"\"}},\"colorscale\":{\"sequential\":[[0.0,\"#0d0887\"],[0.1111111111111111,\"#46039f\"],[0.2222222222222222,\"#7201a8\"],[0.3333333333333333,\"#9c179e\"],[0.4444444444444444,\"#bd3786\"],[0.5555555555555556,\"#d8576b\"],[0.6666666666666666,\"#ed7953\"],[0.7777777777777778,\"#fb9f3a\"],[0.8888888888888888,\"#fdca26\"],[1.0,\"#f0f921\"]],\"sequentialminus\":[[0.0,\"#0d0887\"],[0.1111111111111111,\"#46039f\"],[0.2222222222222222,\"#7201a8\"],[0.3333333333333333,\"#9c179e\"],[0.4444444444444444,\"#bd3786\"],[0.5555555555555556,\"#d8576b\"],[0.6666666666666666,\"#ed7953\"],[0.7777777777777778,\"#fb9f3a\"],[0.8888888888888888,\"#fdca26\"],[1.0,\"#f0f921\"]],\"diverging\":[[0,\"#8e0152\"],[0.1,\"#c51b7d\"],[0.2,\"#de77ae\"],[0.3,\"#f1b6da\"],[0.4,\"#fde0ef\"],[0.5,\"#f7f7f7\"],[0.6,\"#e6f5d0\"],[0.7,\"#b8e186\"],[0.8,\"#7fbc41\"],[0.9,\"#4d9221\"],[1,\"#276419\"]]},\"xaxis\":{\"gridcolor\":\"white\",\"linecolor\":\"white\",\"ticks\":\"\",\"title\":{\"standoff\":15},\"zerolinecolor\":\"white\",\"automargin\":true,\"zerolinewidth\":2},\"yaxis\":{\"gridcolor\":\"white\",\"linecolor\":\"white\",\"ticks\":\"\",\"title\":{\"standoff\":15},\"zerolinecolor\":\"white\",\"automargin\":true,\"zerolinewidth\":2},\"scene\":{\"xaxis\":{\"backgroundcolor\":\"#E5ECF6\",\"gridcolor\":\"white\",\"linecolor\":\"white\",\"showbackground\":true,\"ticks\":\"\",\"zerolinecolor\":\"white\",\"gridwidth\":2},\"yaxis\":{\"backgroundcolor\":\"#E5ECF6\",\"gridcolor\":\"white\",\"linecolor\":\"white\",\"showbackground\":true,\"ticks\":\"\",\"zerolinecolor\":\"white\",\"gridwidth\":2},\"zaxis\":{\"backgroundcolor\":\"#E5ECF6\",\"gridcolor\":\"white\",\"linecolor\":\"white\",\"showbackground\":true,\"ticks\":\"\",\"zerolinecolor\":\"white\",\"gridwidth\":2}},\"shapedefaults\":{\"line\":{\"color\":\"#2a3f5f\"}},\"annotationdefaults\":{\"arrowcolor\":\"#2a3f5f\",\"arrowhead\":0,\"arrowwidth\":1},\"geo\":{\"bgcolor\":\"white\",\"landcolor\":\"#E5ECF6\",\"subunitcolor\":\"white\",\"showland\":true,\"showlakes\":true,\"lakecolor\":\"white\"},\"title\":{\"x\":0.05},\"mapbox\":{\"style\":\"light\"}}},\"xaxis\":{\"anchor\":\"y\",\"domain\":[0.0,1.0],\"title\":{\"text\":\"Pressure\"}},\"yaxis\":{\"anchor\":\"x\",\"domain\":[0.0,1.0],\"title\":{\"text\":\"Enthalpy\"}},\"legend\":{\"tracegroupgap\":0},\"title\":{\"text\":\"Water p-h Diagram\"}},                        {\"responsive\": true}                    ).then(function(){\n",
       "                            \n",
       "var gd = document.getElementById('127e5e91-c6b1-4dbc-bf95-89d95bc22e7b');\n",
       "var x = new MutationObserver(function (mutations, observer) {{\n",
       "        var display = window.getComputedStyle(gd).display;\n",
       "        if (!display || display === 'none') {{\n",
       "            console.log([gd, 'removed!']);\n",
       "            Plotly.purge(gd);\n",
       "            observer.disconnect();\n",
       "        }}\n",
       "}});\n",
       "\n",
       "// Listen for the removal of the full notebook cells\n",
       "var notebookContainer = gd.closest('#notebook-container');\n",
       "if (notebookContainer) {{\n",
       "    x.observe(notebookContainer, {childList: true});\n",
       "}}\n",
       "\n",
       "// Listen for the clearing of the current output cell\n",
       "var outputEl = gd.closest('.output');\n",
       "if (outputEl) {{\n",
       "    x.observe(outputEl, {childList: true});\n",
       "}}\n",
       "\n",
       "                        })                };                });            </script>        </div>"
      ]
     },
     "metadata": {},
     "output_type": "display_data"
    }
   ],
   "source": [
    "import plotly.express as px\n",
    "\n",
    "def update_plot(change):\n",
    "    # Load data from CSV\n",
    "    fluid = fluid_dropdown.value\n",
    "    diagram = diagram_dropdown.value\n",
    "    df = pd.read_csv(f'{fluid}_{diagram}.csv')\n",
    "\n",
    "    # Plot using Plotly or any other preferred library\n",
    "    fig = px.line(df, x=df.columns[0], y=df.columns[1], title=f'{fluid} {diagram} Diagram')\n",
    "    fig.show()\n",
    "\n",
    "# Add observers to dropdowns\n",
    "fluid_dropdown.observe(update_plot, names='value')\n",
    "diagram_dropdown.observe(update_plot, names='value')\n",
    "\n",
    "# Initial plot\n",
    "update_plot(None)\n"
   ]
  }
 ],
 "metadata": {
  "kernelspec": {
   "display_name": "OER",
   "language": "python",
   "name": "oer"
  },
  "language_info": {
   "codemirror_mode": {
    "name": "ipython",
    "version": 3
   },
   "file_extension": ".py",
   "mimetype": "text/x-python",
   "name": "python",
   "nbconvert_exporter": "python",
   "pygments_lexer": "ipython3",
   "version": "3.9.17"
  }
 },
 "nbformat": 4,
 "nbformat_minor": 5
}
