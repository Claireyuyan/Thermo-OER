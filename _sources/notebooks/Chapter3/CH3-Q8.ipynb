{
 "cells": [
  {
   "cell_type": "markdown",
   "id": "dc7045e1-3df0-4c81-b7f5-6b46e4ba0d73",
   "metadata": {},
   "source": [
    "## 3.8: Pressurized Cylinder: Carbon dioxide"
   ]
  },
  {
   "cell_type": "markdown",
   "id": "2253ee6a-df26-48ef-93a0-0d470ac6717b",
   "metadata": {},
   "source": [
    "## Problem Statement:"
   ]
  },
  {
   "cell_type": "markdown",
   "id": "02819d9a-21c8-4935-97ae-421d0317c074",
   "metadata": {},
   "source": [
    "A $10\\:L$ cylinder filled with pressurized $CO_2$ is sitting at a temperature of $T=20^\\circ C$ in atmospheric pressure. The pressure guage reads a pressure of $P_g=5.5\\:MPa$. Assuming ideal gas application,\n",
    "\n",
    "a) calculate how much $CO_2$ is stored in the cylinder\n",
    "\n",
    "b) calculate how much $CO_2$ would be left if the cylinder is depressurized to atmospheric pressure\n",
    "\n",
    "c) calculate how long the cylinder will last if the valve is open to a flow rate of $10\\:L/min$ (note: the volume rate is based on atmospheric pressure and ambient temperature $T=20^\\circ C$)"
   ]
  },
  {
   "attachments": {},
   "cell_type": "markdown",
   "id": "359bc5ba-e138-4c2e-8614-cd957c6352bf",
   "metadata": {},
   "source": [
    "![CH3-Q8.jpg](CH3-Q8.png)"
   ]
  },
  {
   "cell_type": "markdown",
   "id": "84692f4d-6021-4b25-9778-912427061831",
   "metadata": {},
   "source": [
    "### Solution Approach for a)\n",
    "\n",
    "based on ideal gas assumption,\n",
    "\n",
    "$PV=m_aRT$\n",
    "\n",
    "so\n",
    "\n",
    "$m_a=PV/{RT}$"
   ]
  },
  {
   "cell_type": "code",
   "execution_count": 1,
   "id": "0a6819ae-ee09-49ed-8d6d-c8ade77ce5d9",
   "metadata": {},
   "outputs": [
    {
     "name": "stdout",
     "output_type": "stream",
     "text": [
      "The amount of CO2 stored is: 1.012 kg\n"
     ]
    }
   ],
   "source": [
    "#define variables\n",
    "R = 188.9   #gas constant in J/kg.K\n",
    "T = 20 + 273.15   #temperature in K\n",
    "P_g = 5.5E+6   #guage pressure in Pa\n",
    "P_a = 101.325E+3   #atmosphric pressure in Pa\n",
    "V = 10E-3   #gas container volume in m3\n",
    "\n",
    "P = P_g + P_a   #absolute pressure in Pa\n",
    "\n",
    "m_a = P * V / (R * T)   #mass in kg\n",
    "\n",
    "print('The amount of CO2 stored is:', f\"{m_a:.3f}\", 'kg')"
   ]
  },
  {
   "cell_type": "markdown",
   "id": "6414ab4b-7a9f-4d8a-99b3-ad1a89f180ae",
   "metadata": {},
   "source": [
    "### Solution Approach for b)\n",
    "\n",
    "same path as in a) for a different pressure \n",
    "\n",
    "$P=P_{atmospheric}$"
   ]
  },
  {
   "cell_type": "code",
   "execution_count": 2,
   "id": "a99f291b-3d7e-48b1-b89d-0fdd49a1129b",
   "metadata": {},
   "outputs": [
    {
     "name": "stdout",
     "output_type": "stream",
     "text": [
      "The amount of CO2 stored after depressurizing is: 0.018 kg\n"
     ]
    }
   ],
   "source": [
    "P = P_a   #absolute pressure in Pa\n",
    "\n",
    "m_b = P * V / (R * T)   #mass in kg\n",
    "\n",
    "print('The amount of CO2 stored after depressurizing is:', f\"{m_b:.3f}\", 'kg')"
   ]
  },
  {
   "cell_type": "markdown",
   "id": "fa4140bb-cf90-42de-9367-b5017da579bd",
   "metadata": {},
   "source": [
    "### Solution Approach for c)\n",
    "\n",
    "the volume flow-rate is to be converted into mass flow-rate using density\n",
    "\n",
    "$D=m/V=\\dot m/\\dot V$\n",
    "\n",
    "so\n",
    "\n",
    "$\\dot m=D\\dot V$\n",
    "\n",
    "for an ideal gas\n",
    "\n",
    "$PV=mRT$\n",
    "\n",
    "therefore\n",
    "\n",
    "$D=m/V=P/RT$\n",
    "\n",
    "then, the mass flow-rate is used to calculate how long the cylinder will last based on the initial and final mass of the cylinder\n",
    "\n",
    "assuming a constant flow-rate\n",
    "\n",
    "$\\dot m=m/t$\n",
    "\n",
    "so \n",
    "\n",
    "$t=m/\\dot m$"
   ]
  },
  {
   "cell_type": "code",
   "execution_count": 3,
   "id": "97f9da16-ca94-4918-9dce-0854ed74fa28",
   "metadata": {},
   "outputs": [
    {
     "name": "stdout",
     "output_type": "stream",
     "text": [
      "The cylinder will last 54.3 min based on the flow-rate\n"
     ]
    }
   ],
   "source": [
    "P = P_a   #absolute pressure used for volume flow-rate in Pa\n",
    "\n",
    "D = P / (R * T)   #density of CO2 flow in kg/m3\n",
    "\n",
    "V_dot = 10E-3   #volume flow-rate in m3/min\n",
    "\n",
    "m_dot = D * V_dot   #mass flow-rate in kg/min\n",
    "\n",
    "t = (m_a - m_b) / m_dot   #cylinder lasting time in min\n",
    "\n",
    "print('The cylinder will last', f\"{t:.1f}\", 'min based on the flow-rate')"
   ]
  }
 ],
 "metadata": {
  "kernelspec": {
   "display_name": "oer",
   "language": "python",
   "name": "oer"
  },
  "language_info": {
   "codemirror_mode": {
    "name": "ipython",
    "version": 3
   },
   "file_extension": ".py",
   "mimetype": "text/x-python",
   "name": "python",
   "nbconvert_exporter": "python",
   "pygments_lexer": "ipython3",
   "version": "3.11.5"
  }
 },
 "nbformat": 4,
 "nbformat_minor": 5
}
