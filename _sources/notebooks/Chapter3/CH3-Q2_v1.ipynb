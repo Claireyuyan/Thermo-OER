{
 "cells": [
  {
   "cell_type": "markdown",
   "id": "d1abbd7e-18ec-4222-907b-ce6902c08699",
   "metadata": {},
   "source": [
    "# 3.2 Thermo-mechanical Equilibrium: Partitions in a Box"
   ]
  },
  {
   "cell_type": "markdown",
   "id": "b9a22018-93ef-4c46-887c-6a6ce2458296",
   "metadata": {},
   "source": [
    "Consider a box of $5\\:m^3$ volume composed of three isolated compartments A, B and C containing air in three diffrent states. Part A contains $0.5\\:kg$ air at $200\\:kPa$. Part B measure $25 ^{\\circ} C$ in temperature, $100\\:kPa$ is pressure and occupies $1\\:m^3$ of space. Finally, part C contains $2\\:kg$ of the same materials at a temperature of $15 ^{\\circ} C$ and a pressure of $50\\:kPa$.\n",
    "\n",
    "Assuming ideal gas law for air in these states, calculate:\n",
    "\n",
    "a) volume of air in partition C\n",
    "\n",
    "b) volume of partition A\n",
    "\n",
    "c) mass of air in partition B\n",
    "\n",
    "d) temperature of air in partition A in $^{\\circ}  C$\n",
    "\n",
    "e) now imagine all the seperators break and air in three compartments mix together. What would be the final pressure if the box is let to get in thermal stability with room temperature?"
   ]
  },
  {
   "cell_type": "markdown",
   "id": "bcd16dc3-b736-448d-86fd-e49240a783ad",
   "metadata": {},
   "source": [
    "# Solution Approach for a)\n",
    "\n",
    "Ideal gas equation can be used as EOS since the assumption is valid as per the statement, so \n",
    "\n",
    "$PV=mRT$ <br>\n",
    "$V=mRT/P$"
   ]
  },
  {
   "cell_type": "code",
   "execution_count": 1,
   "id": "6e79249d-7c46-4cf0-b10d-0dce34fbfe2f",
   "metadata": {},
   "outputs": [
    {
     "name": "stdout",
     "output_type": "stream",
     "text": [
      "The air volume in partition C is: 3.3 m3\n"
     ]
    }
   ],
   "source": [
    "#defining variables and looking up tables\n",
    "R = 0.287 #air gas constant in kJ/kg.K\n",
    "m_C = 2 #mass of air in partition c in kg\n",
    "T_C = 15 + 273.15 #temperature of air in partc in K\n",
    "P_C = 50 #pressure of air in partition c in kPa\n",
    "\n",
    "#using ideal gas law equation of state\n",
    "V_C = m_C * R * T_C / P_C #volume of partition c in m3\n",
    "\n",
    "print('The air volume in partition C is:', f\"{V_C:.1f}\", 'm3')"
   ]
  },
  {
   "cell_type": "markdown",
   "id": "ba1637d6-0695-480a-8027-3fdd33e3fe63",
   "metadata": {},
   "source": [
    "# Solution Approach for b)\n",
    "\n",
    "The box is composed of three partitions, therefore: \n",
    "\n",
    "$V_A+V_B+V_C=5\\:m^3$ <br>\n",
    "$V_A=5-V_B-V_C$"
   ]
  },
  {
   "cell_type": "code",
   "execution_count": 2,
   "id": "32193a7e-5032-4985-a6cd-ff07b316528c",
   "metadata": {},
   "outputs": [
    {
     "name": "stdout",
     "output_type": "stream",
     "text": [
      "The air volume in partition A is: 0.692 m3\n"
     ]
    }
   ],
   "source": [
    "V_B = 1 #volume of partition B in m3\n",
    "V_A = 5 - V_B - V_C\n",
    "print('The air volume in partition A is:', f\"{V_A:.3f}\", 'm3')"
   ]
  },
  {
   "cell_type": "markdown",
   "id": "6d2c3b26-7a68-4037-bacc-7b9e943b7337",
   "metadata": {},
   "source": [
    "# Solution Approach for c)\n",
    "\n",
    "from ideal gas law\n",
    "\n",
    "$m=PV/{RT}$"
   ]
  },
  {
   "cell_type": "code",
   "execution_count": 3,
   "id": "a14fa3f7-8b04-4cbb-95a8-9ba411cb856b",
   "metadata": {
    "scrolled": true
   },
   "outputs": [
    {
     "name": "stdout",
     "output_type": "stream",
     "text": [
      "The mass of air in partition B is: 1.2 kg\n"
     ]
    }
   ],
   "source": [
    "#defining state variables\n",
    "P_B = 100 #pressure of air in partition b in kPa\n",
    "V_B = 1 #volume of partition b in m3\n",
    "T_B = 25 + 273.15 #temperature of air in partition b in K\n",
    "\n",
    "#using ideal gas law equation of state\n",
    "m_B = P_B * V_B / (R * T_B) #mass of air in partiton b in kg\n",
    "print('The mass of air in partition B is:', f\"{m_B:.1f}\", 'kg')"
   ]
  },
  {
   "cell_type": "markdown",
   "id": "d4fb663e-42f3-4f35-b7d0-602f2c81a27a",
   "metadata": {},
   "source": [
    "# Solution Approach for d)\n",
    "\n",
    "from ideal gas law \n",
    "\n",
    "$T=PV/{mR}$"
   ]
  },
  {
   "cell_type": "code",
   "execution_count": 4,
   "id": "69ccb054-ef4e-4b3a-8227-562ca5773a26",
   "metadata": {},
   "outputs": [
    {
     "name": "stdout",
     "output_type": "stream",
     "text": [
      "The temperature of air in partition A is: 691.4 C\n"
     ]
    }
   ],
   "source": [
    "#defining state variables\n",
    "P_A = 200 #pressure of air in partition a in kPa\n",
    "m_A = 0.5 #mass of air in partiton a in kg\n",
    "\n",
    "#using ideal gas law equation of state\n",
    "T_A = P_A * V_A / (m_A * R) #temperature of air in partition a in K\n",
    "\n",
    "#converting from Kelvins to Celsius\n",
    "T_AC = T_A - 273.15 #temperature of air in partition a in C\n",
    "print('The temperature of air in partition A is:', f\"{T_AC:.1f}\", 'C')"
   ]
  },
  {
   "cell_type": "markdown",
   "id": "5caa6567-be31-4ac0-842f-bda7a371acf9",
   "metadata": {},
   "source": [
    "# Solution Approach for e)\n",
    "\n",
    "referring to ideal gas law equation of state, \n",
    "\n",
    "$P=mRT/V$\n",
    "\n",
    "The temperature would be in $25 ^{\\circ} C$ since the box is in thermal stability with room temperature."
   ]
  },
  {
   "cell_type": "code",
   "execution_count": 5,
   "id": "37889a0d-a359-4b41-934c-20a6b0b02151",
   "metadata": {},
   "outputs": [
    {
     "name": "stdout",
     "output_type": "stream",
     "text": [
      "The final pressure of mixed air is: 62.8 kPa\n"
     ]
    }
   ],
   "source": [
    "#defining/calculating state variables\n",
    "T = 25 + 273.15 #final temperature of air in K\n",
    "m = m_A + m_B + m_C #final mass of the mixture\n",
    "V = 5 #total volume of the box in m3\n",
    "\n",
    "#using ideal gas law equation of state\n",
    "P = m * R * T / V #final pressure of the mixture in kPa\n",
    "\n",
    "print('The final pressure of mixed air is:', f\"{P:.1f}\", 'kPa')"
   ]
  }
 ],
 "metadata": {
  "kernelspec": {
   "display_name": "Python 3 (ipykernel)",
   "language": "python",
   "name": "python3"
  },
  "language_info": {
   "codemirror_mode": {
    "name": "ipython",
    "version": 3
   },
   "file_extension": ".py",
   "mimetype": "text/x-python",
   "name": "python",
   "nbconvert_exporter": "python",
   "pygments_lexer": "ipython3",
   "version": "3.9.17"
  }
 },
 "nbformat": 4,
 "nbformat_minor": 5
}
