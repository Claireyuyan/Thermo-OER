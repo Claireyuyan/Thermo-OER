{
 "cells": [
  {
   "cell_type": "markdown",
   "id": "eb421aef-aeb7-4b8a-82e5-fa49e4fa8904",
   "metadata": {},
   "source": [
    "## 3.7: Validating Ideal Gas Assumption"
   ]
  },
  {
   "cell_type": "markdown",
   "id": "c8c53ccf-c943-4bab-a591-24534a920b38",
   "metadata": {},
   "source": [
    "Consider $1\\:kg$ superheated steam at a temperature of $T=200^\\circ C$ and a pressure of $P=50\\:kPa$. Calculate the volume of steam at this state based on:\n",
    "\n",
    "a) ideal gas assumption\n",
    "\n",
    "b) thermodynamic tables using CoolProp\n",
    "\n",
    "c) calculate the error percentage\n",
    "\n",
    "d) Now consider pressurizing steam at the same temperature to a point close to saturation where the pressure is $P=1.5\\:MPa$. Calculate the error percentage for voulme based on the comparison between ideal gas assumption and using thermodynamic tables from CoolProp"
   ]
  },
  {
   "cell_type": "markdown",
   "id": "d309e0ec-c03c-409c-a62d-4c1145e864ff",
   "metadata": {},
   "source": [
    "### Solution Approach for a)\n",
    "\n",
    "based on ideal gas assumption,\n",
    "\n",
    "$PV_a=mRT$\n",
    "\n",
    "so,\n",
    "\n",
    "$V_a=mRT/P$"
   ]
  },
  {
   "cell_type": "code",
   "execution_count": 1,
   "id": "69fb28ec-c57f-4d92-9725-2988759c077a",
   "metadata": {},
   "outputs": [
    {
     "name": "stdout",
     "output_type": "stream",
     "text": [
      "The calculated volume based on ideal gas assumption is: 4.4 m3\n"
     ]
    }
   ],
   "source": [
    "#define variables\n",
    "P = 50E+3   #pressure in Pa\n",
    "m = 1   #mass in kg\n",
    "T = 200 + 273.15   #temperature in K\n",
    "R = 461.5   #steam gas constant in J/kg.K\n",
    "\n",
    "V_a = m * R * T / P   #volume in m3\n",
    "\n",
    "print('The calculated volume based on ideal gas assumption is:', f\"{V_a:.1f}\", 'm3')"
   ]
  },
  {
   "cell_type": "markdown",
   "id": "24078fbc-e778-44a9-ac12-86ab33134690",
   "metadata": {},
   "source": [
    "### Solution Approach for b)\n",
    "\n",
    "Density is used to calculate volume since its an standard output for CoolProp. Then,\n",
    "\n",
    "$D=m/V_b$\n",
    "\n",
    "so\n",
    "\n",
    "$V_b=m/D$"
   ]
  },
  {
   "cell_type": "code",
   "execution_count": 2,
   "id": "d119dec9-0ab2-42ef-b096-d1e0bcd8fcd2",
   "metadata": {},
   "outputs": [
    {
     "name": "stdout",
     "output_type": "stream",
     "text": [
      "The volume based on thermodynamic tables from CoolProp is: 4.4 m3\n"
     ]
    }
   ],
   "source": [
    "# import the libraries we'll need\n",
    "import CoolProp.CoolProp as CP\n",
    "fluid = \"water\"  # define the fluid or material of interest\n",
    "\n",
    "D = CP.PropsSI(\"D\", \"T\", T, \"P\", P , fluid)   #fluid density in kg/m3\n",
    "V_b = m / D   #volume in m3\n",
    "\n",
    "print('The volume based on thermodynamic tables from CoolProp is:', f\"{V_b:.1f}\", 'm3')"
   ]
  },
  {
   "cell_type": "markdown",
   "id": "995a217b-1e38-4da0-9b0f-242699572212",
   "metadata": {},
   "source": [
    "### Solution Approach for c)\n",
    "\n",
    "Since the value obtained from thermodynamic tables is an experimental value, it is used as a reference to calculate error percentage\n",
    "\n",
    "$E=100\\times (|V_a-V_b|)/V_b$"
   ]
  },
  {
   "cell_type": "code",
   "execution_count": 3,
   "id": "7734577f-17f4-4d32-9bd8-8c7ccba5808e",
   "metadata": {},
   "outputs": [
    {
     "name": "stdout",
     "output_type": "stream",
     "text": [
      "The error percentage is: 0.253 %\n"
     ]
    }
   ],
   "source": [
    "# import the libraries we'll need\n",
    "import numpy as np\n",
    "\n",
    "E = 100 * np.absolute(V_a-V_b)/V_b\n",
    "\n",
    "print('The error percentage is:', f\"{E:.3f}\", '%')"
   ]
  },
  {
   "cell_type": "markdown",
   "id": "1d04708d-bcf1-4ff5-ada7-4b1a9e71e3ab",
   "metadata": {},
   "source": [
    "### Solution Approach for d)\n",
    "\n",
    "the same path is followed for a pressure of $P=1.5\\:MPa$."
   ]
  },
  {
   "cell_type": "code",
   "execution_count": 4,
   "id": "e9dd3881-1740-4732-9fad-dd19dde0978f",
   "metadata": {},
   "outputs": [
    {
     "name": "stdout",
     "output_type": "stream",
     "text": [
      "The error percentage for a higher pressure is: 9.905 %\n"
     ]
    }
   ],
   "source": [
    "P = 1.5E+6   #pressure in Pa\n",
    "V_a = m * R * T / P   #volume based on ideal gas assumption in m3\n",
    "\n",
    "D = CP.PropsSI(\"D\", \"T\", T, \"P\", P , fluid)   #fluid density in kg/m3\n",
    "V_b = m / D   #volume based on thermodynamic tables in m3\n",
    "\n",
    "E = 100 * np.absolute(V_a-V_b)/V_b\n",
    "print('The error percentage for a higher pressure is:', f\"{E:.3f}\", '%')"
   ]
  }
 ],
 "metadata": {
  "kernelspec": {
   "display_name": "oer",
   "language": "python",
   "name": "oer"
  },
  "language_info": {
   "codemirror_mode": {
    "name": "ipython",
    "version": 3
   },
   "file_extension": ".py",
   "mimetype": "text/x-python",
   "name": "python",
   "nbconvert_exporter": "python",
   "pygments_lexer": "ipython3",
   "version": "3.11.5"
  }
 },
 "nbformat": 4,
 "nbformat_minor": 5
}
