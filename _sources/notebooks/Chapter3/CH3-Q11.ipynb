{
 "cells": [
  {
   "cell_type": "markdown",
   "id": "eba86d14-7c1e-46f1-b074-3dbe87168000",
   "metadata": {},
   "source": [
    "# [Chapter 3](https://pressbooks.bccampus.ca/thermo1/chapter/3-0-chapter-introduction-and-learning-objectives/)\n",
    "\n",
    "## Question #11: CoolProp vs. Ideal Gas"
   ]
  },
  {
   "cell_type": "markdown",
   "id": "a8a0fa44-dbf3-4d9e-91a3-c5848ed77785",
   "metadata": {},
   "source": [
    "Consider air at atmospheric pressure and room temperature. Calculate the density of air based on:\n",
    "\n",
    "a) ideal gas law\n",
    "\n",
    "b) CoolProp module\n",
    "\n",
    "c) calculate error percentage\n",
    "\n",
    "d) consider decreasig the temperature of air to $T_c=85K$ in constant pressure. Calculate and plot the error percentage in calculating density using ideal gas assumption for this temperature range."
   ]
  },
  {
   "cell_type": "markdown",
   "id": "39346051-ffdb-4ee1-ac51-825021697f00",
   "metadata": {},
   "source": [
    "### Solution Approach for a)\n",
    "\n",
    "from ideal gas law,\n",
    "\n",
    "$Pv=RT$\n",
    "\n",
    "and $D=1/v$\n",
    "\n",
    "so\n",
    "\n",
    "$D=P/RT$"
   ]
  },
  {
   "cell_type": "code",
   "execution_count": 1,
   "id": "0a6898f1-0dad-40df-99af-53fb9b0fd57b",
   "metadata": {},
   "outputs": [
    {
     "name": "stdout",
     "output_type": "stream",
     "text": [
      "The density of air based on ideal gas assumption is: 1.184 kg/m3\n"
     ]
    }
   ],
   "source": [
    "#define variables\n",
    "T = 25 + 273.15   #room temperature in K\n",
    "P = 101325   #atmospheric pressure in Pa\n",
    "R = 287   #air gas constant in J/kg.K\n",
    "\n",
    "D_ideal = P / (R * T)   #gas density in kg/m3\n",
    "\n",
    "print('The density of air based on ideal gas assumption is:', f\"{D_ideal:.3f}\", 'kg/m3')"
   ]
  },
  {
   "cell_type": "markdown",
   "id": "0cd7198f-0081-4c81-ad50-71b6b7c29d1a",
   "metadata": {},
   "source": [
    "### Solution Approach for b)"
   ]
  },
  {
   "cell_type": "code",
   "execution_count": 2,
   "id": "ef3bb36c-1001-4da8-9ee0-28be7ebffc44",
   "metadata": {},
   "outputs": [
    {
     "name": "stdout",
     "output_type": "stream",
     "text": [
      "The density of air based on CoolProp is: 1.184 kg/m3\n"
     ]
    }
   ],
   "source": [
    "#import library\n",
    "import CoolProp.CoolProp as CP\n",
    "fluid = \"air\"  # define the fluid or material of interest\n",
    "\n",
    "D_CoolProp = CP.PropsSI(\"D\", \"P\", P, \"T\", T , fluid)\n",
    "\n",
    "print('The density of air based on CoolProp is:', f\"{D_CoolProp:.3f}\", 'kg/m3')"
   ]
  },
  {
   "cell_type": "markdown",
   "id": "fe17b8f8-768f-4555-9bd4-85f7dfe8c0ea",
   "metadata": {},
   "source": [
    "### Solution Approach for c)\n",
    "\n",
    "The error percentage is based on the difference in density and the CoolProp result which is based on experiments\n",
    "\n",
    "$E=100\\times (|D_{CoolProp}-D_{ideal}|)/D_{CoolProp}$"
   ]
  },
  {
   "cell_type": "code",
   "execution_count": 3,
   "id": "389d6468-8105-4931-8815-a2ab33e8dad2",
   "metadata": {},
   "outputs": [
    {
     "name": "stdout",
     "output_type": "stream",
     "text": [
      "The error percentage in calculating density is: 0.016 %\n"
     ]
    }
   ],
   "source": [
    "#import library\n",
    "import numpy as np\n",
    "E = 100 * np.absolute(D_CoolProp-D_ideal)/D_CoolProp   #error percentage\n",
    "\n",
    "print('The error percentage in calculating density is:', f\"{E:.3f}\", '%')"
   ]
  },
  {
   "cell_type": "markdown",
   "id": "6ffc8225-f9c8-4a88-99c0-4df8b0f8aba4",
   "metadata": {},
   "source": [
    "### Solution Approach for d)"
   ]
  },
  {
   "cell_type": "code",
   "execution_count": 4,
   "id": "c335b2a1-c532-43d7-9b2a-87056a9bb7c7",
   "metadata": {},
   "outputs": [
    {
     "data": {
      "text/plain": [
       "Text(0.5, 0, 'Temperature [K]')"
      ]
     },
     "execution_count": 4,
     "metadata": {},
     "output_type": "execute_result"
    },
    {
     "data": {
      "image/png": "[encoded data removed]",
      "text/plain": [
       "<Figure size 640x480 with 1 Axes>"
      ]
     },
     "metadata": {},
     "output_type": "display_data"
    }
   ],
   "source": [
    "#import library\n",
    "import matplotlib.pyplot as plt\n",
    "\n",
    "T_c = 85   #minimum temperature in K\n",
    "\n",
    "T_vals = np.linspace(T_c, T, 1000)    #an array for temperatures\n",
    "E = np.zeros(1000)   #empty array to store error values\n",
    "\n",
    "i = 0   #counter for the for loop\n",
    "for T in T_vals:\n",
    "    D_ideal = P / (R * T)   #gas density using ideal gas assumption in kg/m3\n",
    "    D_CoolProp = CP.PropsSI(\"D\", \"P\", P, \"T\", T , fluid)    #gas density using CoolProp in kg/m3\n",
    "    E[i] = 100 * np.absolute(D_CoolProp-D_ideal)/D_CoolProp   #error percentage\n",
    "    i = i +1\n",
    "\n",
    "plt.plot(T_vals,E)\n",
    "plt.ylabel(\"Error [%]\")  # give y axis a label\n",
    "plt.xlabel(\"Temperature [K]\")  # give x axis a label"
   ]
  }
 ],
 "metadata": {
  "kernelspec": {
   "display_name": "oer",
   "language": "python",
   "name": "oerminimal"
  },
  "language_info": {
   "codemirror_mode": {
    "name": "ipython",
    "version": 3
   },
   "file_extension": ".py",
   "mimetype": "text/x-python",
   "name": "python",
   "nbconvert_exporter": "python",
   "pygments_lexer": "ipython3",
   "version": "3.9.19"
  }
 },
 "nbformat": 4,
 "nbformat_minor": 5
}
