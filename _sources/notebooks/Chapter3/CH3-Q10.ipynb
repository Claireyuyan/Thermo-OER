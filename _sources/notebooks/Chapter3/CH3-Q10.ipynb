{
 "cells": [
  {
   "cell_type": "markdown",
   "id": "aa6b4695-b330-406e-8ca4-f752f5d6cf4d",
   "metadata": {},
   "source": [
    "# 3.10: Whistle Kettle"
   ]
  },
  {
   "cell_type": "markdown",
   "id": "ebbb831e-e476-4b7a-8503-6394adf544cd",
   "metadata": {},
   "source": [
    "Consider a $V=2.5\\:L$ whistle kettle containing a small amout of water sitting initially at room temprature $T_i=25^{\\circ} C$ and atmospheric pressure $P_i=P_{atm}=101.325\\:kPa$. The whistle requires a minimum of $P_w=35\\:kPa$ pressure difference to start releasing pressure to whistle. Assuming air and wator vapor to be ideal gases, calculate:\n",
    "\n",
    "a) how much air is initially in the kettle\n",
    "\n",
    "b) the boiling temperature of water in the kettle \n",
    "\n",
    "c) the pressure contribution from air heated up to the boiling point of water\n",
    "\n",
    "d) the pressure contribution from vapor required to start whistling assuming air occupies the same space as vapor\n",
    "\n",
    "e) how much water is to be evaporated to start whistling"
   ]
  },
  {
   "attachments": {},
   "cell_type": "markdown",
   "id": "18fe1a6c-88af-40ac-a5b8-b4a8545c3a0d",
   "metadata": {},
   "source": [
    "![CH3-Q10.jpg](CH3-Q10.png)"
   ]
  },
  {
   "cell_type": "markdown",
   "id": "41de01ec-6c2c-4c73-8268-02e25113c475",
   "metadata": {},
   "source": [
    "### Solution Approach for a)\n",
    "\n",
    "The mount of water stored in the kettel so the volume of air inside the kettle is assumed to be the same as the volume of the kettle.\n",
    "\n",
    "$V=2.5\\:L$\n",
    "\n",
    "then from ideal gas law\n",
    "\n",
    "$PV=m_aRT$\n",
    "\n",
    "so\n",
    "\n",
    "$m_a=PV/(RT)$"
   ]
  },
  {
   "cell_type": "code",
   "execution_count": 1,
   "id": "0a7e5d73-608f-4cc3-8ace-0e608239291d",
   "metadata": {},
   "outputs": [
    {
     "name": "stdout",
     "output_type": "stream",
     "text": [
      "The amount of hot air stored in the can is: 2.96 mg\n"
     ]
    }
   ],
   "source": [
    "#define variables\n",
    "P_atm = 101325   #atmospheric pressure in Pa\n",
    "R_a = 287   #air gas constant in J/kg.K\n",
    "\n",
    "T_i = 25 + 273.15   #initial temperature in K\n",
    "P_i = P_atm   #initial air pressure inside the kettle in Pa\n",
    "V = 2.5E-3   #gas container volume in m3\n",
    "\n",
    "m_a = P_i * V / (R_a * T_i)   #mass in kg\n",
    "\n",
    "print('The amount of hot air stored in the can is:', f\"{m_a*1000:.2f}\", 'mg')"
   ]
  },
  {
   "cell_type": "markdown",
   "id": "a04a2590-d79d-47f1-83c6-693d3f499eb5",
   "metadata": {},
   "source": [
    "### Solution Approach for b)\n",
    "\n",
    "The boiling temperature of water is the saturation temperature at its corresponding pressure ($P_b$) which is atmospheric pressure plus the pressure difference\n",
    "\n",
    "$P_b=P_w+P_{atm}$\n",
    "\n",
    "then \n",
    "\n",
    "$T_b=T_{sat@P_b}$"
   ]
  },
  {
   "cell_type": "code",
   "execution_count": 2,
   "id": "95922fdc-a833-41c1-b80d-e1860a5770e2",
   "metadata": {},
   "outputs": [
    {
     "ename": "ModuleNotFoundError",
     "evalue": "No module named 'CoolProp'",
     "output_type": "error",
     "traceback": [
      "\u001b[1;31m---------------------------------------------------------------------------\u001b[0m",
      "\u001b[1;31mModuleNotFoundError\u001b[0m                       Traceback (most recent call last)",
      "Cell \u001b[1;32mIn[2], line 2\u001b[0m\n\u001b[0;32m      1\u001b[0m \u001b[38;5;66;03m#import library\u001b[39;00m\n\u001b[1;32m----> 2\u001b[0m \u001b[38;5;28;01mimport\u001b[39;00m \u001b[38;5;21;01mCoolProp\u001b[39;00m\u001b[38;5;21;01m.\u001b[39;00m\u001b[38;5;21;01mCoolProp\u001b[39;00m \u001b[38;5;28;01mas\u001b[39;00m \u001b[38;5;21;01mCP\u001b[39;00m\n\u001b[0;32m      3\u001b[0m fluid \u001b[38;5;241m=\u001b[39m \u001b[38;5;124m\"\u001b[39m\u001b[38;5;124mwater\u001b[39m\u001b[38;5;124m\"\u001b[39m  \u001b[38;5;66;03m# define the fluid or material of interest\u001b[39;00m\n\u001b[0;32m      5\u001b[0m \u001b[38;5;66;03m#define variables\u001b[39;00m\n",
      "\u001b[1;31mModuleNotFoundError\u001b[0m: No module named 'CoolProp'"
     ]
    }
   ],
   "source": [
    "#import library\n",
    "import CoolProp.CoolProp as CP\n",
    "fluid = \"water\"  # define the fluid or material of interest\n",
    "\n",
    "#define variables\n",
    "P_w = 35E+3   #pressure difference imposed by the whistle before releasing pressure in Pa\n",
    "P_atm = 101325   #atmospheric pressure in Pa\n",
    "\n",
    "P_b = P_w + P_atm   #elevated boiling pressure in Pa\n",
    "T_b = CP.PropsSI(\"T\", \"P\", P_b, \"Q\", 0 , fluid)   #saturation temperature for water at the elevated pressure in K\n",
    "\n",
    "print('The boiling temperature for the elevated pressure is:', f\"{T_b-273.15:.1f}\", 'C')"
   ]
  },
  {
   "cell_type": "markdown",
   "id": "1a3f081d-a4bd-4e7b-a7e4-404436e48115",
   "metadata": {},
   "source": [
    "### Solution Approach for c)\n",
    "\n",
    "The temperature of air would be same as the boiling temperature of water\n",
    "\n",
    "$T=T_b$\n",
    "\n",
    "then from ideal gas law assuming air and vapor occupy the same space inside the kettle\n",
    "\n",
    "$P=m_aR_aT/V$\n",
    "\n",
    "The pressure contribution from heated air would be the guage pressure of air which is\n",
    "\n",
    "$P_{ca}=P-P_{atm}$"
   ]
  },
  {
   "cell_type": "code",
   "execution_count": null,
   "id": "52d103d6-faf3-4abc-8e49-80bd28c13862",
   "metadata": {},
   "outputs": [],
   "source": [
    "T = T_b   #air temperature in boiling in K\n",
    "\n",
    "P = m_a * R_a * T / V   #absolute pressure of heated air in Pa\n",
    "P_ca = P - P_atm   #pressuer contribution from heated air in Pa\n",
    "\n",
    "print('The pressure contribution from heated air is:', f\"{P_ca:.1f}\", 'Pa')"
   ]
  },
  {
   "cell_type": "markdown",
   "id": "9f8a55e8-b0bb-4ba7-b5ae-18fb3a960c5f",
   "metadata": {},
   "source": [
    "### Solution Approach for d)\n",
    "\n",
    "Total pressure difference for whistling includes pressure contribution from air ($P_{ca}$) and pressure contribution from vapor ($P_{cv}$). \n",
    "\n",
    "$P_w=P_{ca}+P_{cv}$\n",
    "\n",
    "therfore\n",
    "\n",
    "$P_{cv}=P_w-P_{ca}$"
   ]
  },
  {
   "cell_type": "code",
   "execution_count": null,
   "id": "965d0a9c-229f-4c2a-851a-75d021b7adf3",
   "metadata": {},
   "outputs": [],
   "source": [
    "P_cv = P_w - P_ca\n",
    "\n",
    "print('The pressure contribution from vapor is:', f\"{P_cv:.1f}\", 'Pa')"
   ]
  },
  {
   "cell_type": "markdown",
   "id": "dba11bc2-ff88-497e-9983-9f4a1f900c70",
   "metadata": {},
   "source": [
    "### Solution Approach for e)\n",
    "\n",
    "The total pressure of vapor inside kettle includes atmospheric pressure ($P_{atm}$) plus the pressure contribution towards whistling\n",
    "\n",
    "$P=P_{atm}+P_{cv}$\n",
    "\n",
    "from ideal gas law, assuming vapor occupis the same space as air\n",
    "\n",
    "$m_w=PV/(R_wT)$"
   ]
  },
  {
   "cell_type": "code",
   "execution_count": null,
   "id": "770f2d3e-2284-4f32-94a6-3ad04a94e605",
   "metadata": {},
   "outputs": [],
   "source": [
    "#define variables\n",
    "R_w = 461.5   #steam gas constant in J/kgK\n",
    "\n",
    "P = P_atm + P_cv   #total steam pressure inside kettle right before whistling in Pa\n",
    "m_w = P * V / (R_w * T)   #mass of water required to fulfill whistling pressure difference in kg\n",
    "\n",
    "print('The amount of water to be evaporated to activate whistling is:', f\"{m_w*1000:.1f}\", 'mg')"
   ]
  }
 ],
 "metadata": {
  "kernelspec": {
   "display_name": "oer",
   "language": "python",
   "name": "oer"
  },
  "language_info": {
   "codemirror_mode": {
    "name": "ipython",
    "version": 3
   },
   "file_extension": ".py",
   "mimetype": "text/x-python",
   "name": "python",
   "nbconvert_exporter": "python",
   "pygments_lexer": "ipython3",
   "version": "3.9.19"
  }
 },
 "nbformat": 4,
 "nbformat_minor": 5
}
