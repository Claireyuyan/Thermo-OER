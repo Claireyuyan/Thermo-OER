{
 "cells": [
  {
   "cell_type": "markdown",
   "id": "3b0e8991-f09b-44a1-b47c-54a3d9f932e3",
   "metadata": {},
   "source": [
    "# [Chapter 5](https://pressbooks.bccampus.ca/thermo1/chapter/5-0-chapter-introduction-and-learning-objectives/)\n",
    "\n",
    "## Question #11"
   ]
  },
  {
   "cell_type": "markdown",
   "id": "61bad461-964b-4c73-b235-96a65e5b691a",
   "metadata": {},
   "source": [
    "A cylinder-piston system composed of aluminum contains $1\\:kg$ of air at $1\\:atm$. The whole system, including the weight of the air is $2\\:kg$. The cylinder-piston system is initially in thermal equilibrium with the air. The temperature is then raised from $25\\:^oC$ to $85\\:^oC$.\n",
    "\n",
    "a) Assuming the piston if fixed in place, determine how much heat is required to raise the temperature? What assumptions have been made for which equations? \n",
    "\n",
    "b) Now assume the piston is free to move allowing the air pressure to remain constant. How much heat is required to raise the temperature? Is this answer higher or lower than a), why? \n",
    "\n",
    "c) Now assuming the piston is allowed to move but is in contact with a spring with a constant of $100\\:kN/m$. Determine how much heat is required for a piston with an $8\\:cm$ diameter."
   ]
  },
  {
   "attachments": {
    "bdb7f9a9-e387-43f2-ae65-f498213cded0.png": {
     "image/png": "[encoded data removed]"
    }
   },
   "cell_type": "markdown",
   "id": "e5567adf-ccb8-424a-85cb-a2d6d3d5aa01",
   "metadata": {},
   "source": [
    "![CH5-Q11.png](attachment:bdb7f9a9-e387-43f2-ae65-f498213cded0.png)"
   ]
  },
  {
   "cell_type": "markdown",
   "id": "6e058075",
   "metadata": {},
   "source": [
    "### Solution Approach for a)\n",
    "\n",
    "Looking at the first law for air\n",
    "\n",
    "$\\Delta U=Q-W$\n",
    "\n",
    "given the piston is fixed, boundry work ($W$) would be equal to zero then,\n",
    "\n",
    "$Q=\\Delta U$\n",
    "\n",
    "and assuming ideal gas application for air\n",
    "\n",
    "$Q=\\Delta U=mC_v\\Delta T$\n",
    "\n",
    "and the first law for the aluminum\n",
    "\n",
    "$Q=\\Delta u=\\Delta h=C_p\\Delta T$"
   ]
  },
  {
   "cell_type": "code",
   "execution_count": 2,
   "id": "48cd77e2",
   "metadata": {},
   "outputs": [],
   "source": [
    "# define the given variables\n",
    "m_air = 1 #mass of air in kg\n",
    "m_sys = 2 #mass of the whole system in kg\n",
    "T_1 = 25 #initial temp in C\n",
    "T_2 = 85 #final temperature of the system in C\n",
    "delta_T = T_2 - T_1 #change in temperature of the system\n",
    "\n",
    "# table readings:  ******we should clairify which table, maybe include a link to it ******\n",
    "C_v_air = 0.718 #Cv of air in kJ/kg.K\n",
    "C_p_air = 1.005 #Cp of air in kJ/kg.K\n",
    "C_p_alm = 0.897 #Cp of aluminum in kJ/kg.K"
   ]
  },
  {
   "cell_type": "code",
   "execution_count": 3,
   "id": "ed9488e0-220d-4dc6-be90-46b3763c434a",
   "metadata": {},
   "outputs": [
    {
     "name": "stdout",
     "output_type": "stream",
     "text": [
      "The total heat required is 96.9 kJ\n"
     ]
    }
   ],
   "source": [
    "#find the mass of aluminum\n",
    "m_alm = m_sys - m_air #mass of aluminum in kg\n",
    "\n",
    "#find the amount of heat transferred to the air, aluminum and the system\n",
    "Q_air = m_air * C_v_air * delta_T #heat transferred to air (ideal gas law assumption is used for the Cv value)\n",
    "Q_alm = m_alm * C_p_alm * delta_T #heat transferred to aluminum \n",
    "Q_total = Q_air + Q_alm #total heat required\n",
    "\n",
    "print('The total heat required is', Q_total, 'kJ')"
   ]
  },
  {
   "cell_type": "markdown",
   "id": "ecba8e02",
   "metadata": {},
   "source": [
    "## Solution appproach to b)\n",
    "\n",
    "Now the system is allowed to expand, so there is work associated with the process \n",
    "\n",
    "looking at the first law\n",
    "\n",
    "$Q=\\Delta U+W=\\Delta H$\n",
    "\n",
    "and assuming ideal gas application for air\n",
    "\n",
    "$\\Delta H=mC_p\\Delta T$"
   ]
  },
  {
   "cell_type": "code",
   "execution_count": 4,
   "id": "72eadd75",
   "metadata": {},
   "outputs": [
    {
     "name": "stdout",
     "output_type": "stream",
     "text": [
      "The total heat required is 114.12 kJ\n"
     ]
    }
   ],
   "source": [
    "#Now solving for the case when the piston is free to move:\n",
    "\n",
    "Q_air = m_air * C_p_air * delta_T #heat transferred to air (ideal gas law assumption is used for the Cp value)\n",
    "Q_total = Q_air + Q_alm #total heat required\n",
    "\n",
    "print('The total heat required is', Q_total, 'kJ')"
   ]
  },
  {
   "cell_type": "markdown",
   "id": "2f5f2836",
   "metadata": {},
   "source": [
    "This answer is higher because the piston is being pushed up resulting in the system doing boundary work, which is the more than in the case above. \n"
   ]
  },
  {
   "cell_type": "markdown",
   "id": "028294d5",
   "metadata": {},
   "source": [
    "## Solution approach to c)\n",
    "\n",
    "looking at the first law for air\n",
    "\n",
    "$Q=\\Delta U+W$\n",
    "\n",
    "where \n",
    "\n",
    "$\\Delta U=mC_v\\Delta T$\n",
    "\n",
    "and $W$ is calculated based on the area under P-v curve since the pressure is variable\n",
    "\n",
    "the changes of pressure vs. displacement is linear since the srping is assumed a linear force vs. displacemtn, so\n",
    "\n",
    "$W=(P_2+P_1)(V_2-V_1)/2$\n",
    "\n",
    "and the heat for aluminum is calculated same way as in (a) or (b)\n",
    "\n",
    "therefore the values of Pressure ($P$) and volume ($V$) after expansion are required to calculate heat.\n",
    "\n",
    "The governing equations:\n",
    "\n",
    "(1) $P_2V_2=m_{air}RT_2=C$ (ideal gas law for the secondary condition, $C$ as a constant number) \n",
    "\n",
    "(2) $P_2=P_1+kx/A$ ($P_2$ pressure at the second state, $x$ spring displacement, $A$ piston surface area) \n",
    "\n",
    "(3) $V_2=V_1+xA$ ($V_2$ volume at the second state) \n",
    "\n",
    "substituting equation (2) and (3) into (1): \n",
    "\n",
    "$(P_1+kx/A)(V_1+xA)=C$ \n",
    "\n",
    "rearranging based on the variable $x$: \n",
    "\n",
    "$kx^2+(kV_1/A+P_1A)x+(P_1V_1-C)=0$ which is a second order equation for $x$"
   ]
  },
  {
   "cell_type": "code",
   "execution_count": 6,
   "id": "3086c7f3-4943-46e6-89fc-22748a530988",
   "metadata": {},
   "outputs": [],
   "source": [
    "#import libraries\n",
    "import numpy as np\n",
    "import math\n",
    "\n",
    "#define our variables and constants from a table:\n",
    "k = 100*1000 #spring constant in N/m\n",
    "R = 287 # air gas constant in J/kg.K\n",
    "T_1K = T_1 + 273.15 # initial air temperature in K\n",
    "P_1 = 101325 # outside pressure in Pa\n"
   ]
  },
  {
   "cell_type": "code",
   "execution_count": 9,
   "id": "506502d4-0eb4-4a30-b4c3-7cd9a4624c83",
   "metadata": {},
   "outputs": [
    {
     "name": "stdout",
     "output_type": "stream",
     "text": [
      "The total heat required is 97.16 kJ\n"
     ]
    }
   ],
   "source": [
    "#Now solve for the case where a spring acts on the piston:\n",
    "\n",
    "V_1 = m_air * R * T_1 / P_1 # initial volume of air in m3\n",
    "\n",
    "\n",
    "# Coefficients of the quadratic equation ax^2 + bx + c = 0\n",
    "T_2 = 85 + 273.15 #secondary temperature of air in K\n",
    "C = m_air * R * T_2 #the constant equal to mRT2 (notice C being capital)\n",
    "A = math.pi * 0.08 ** 2 / 4 #surface area of the piston in m2\n",
    "a = k\n",
    "b = k * V_1 / A + P_1 * A\n",
    "c = P_1 * V_1 - C\n",
    "\n",
    "# Calculate the discriminant (the value inside the square root)\n",
    "discriminant = b**2 - 4*a*c\n",
    "# Two real solutions\n",
    "x1 = (-1*b + np.sqrt(discriminant)) / (2*a)\n",
    "x2 = (-1*b - np.sqrt(discriminant)) / (2*a)\n",
    "\n",
    "# one of the answers would be negative which in x2 in our case\n",
    "if x1>0:\n",
    " x = x1\n",
    "else:\n",
    " x = x2\n",
    "\n",
    "P_2 = P_1 + k * x / A #(pressure in the second state in pa\n",
    "V_2 = V_1 + x * A #(volume of air at the second stage in m3)\n",
    "W = (P_2 + P_1) * (V_2 - V_1) / 2 #(boundary work (area under p-v diagram) in J\n",
    "Q_air = m_air * C_v_air * delta_T #changes in internal energy for air (ideal gas las assumption is used for the Cv value)\n",
    "Q_total = Q_air + Q_alm + W / 1000 #total heat required in kJ\n",
    "\n",
    "print('The total heat required is', round(Q_total,2), 'kJ')"
   ]
  }
 ],
 "metadata": {
  "kernelspec": {
   "display_name": "oer",
   "language": "python",
   "name": "oerminimal"
  },
  "language_info": {
   "codemirror_mode": {
    "name": "ipython",
    "version": 3
   },
   "file_extension": ".py",
   "mimetype": "text/x-python",
   "name": "python",
   "nbconvert_exporter": "python",
   "pygments_lexer": "ipython3",
   "version": "3.9.19"
  }
 },
 "nbformat": 4,
 "nbformat_minor": 5
}
