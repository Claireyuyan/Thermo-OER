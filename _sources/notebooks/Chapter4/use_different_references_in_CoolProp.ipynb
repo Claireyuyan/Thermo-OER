{
 "cells": [
  {
   "cell_type": "markdown",
   "id": "fb8a143b",
   "metadata": {},
   "source": [
    "# 4.9 Reference States in Thermodynamics\n",
    "\n",
    "In thermodynamics, a reference state serves as a baseline or zero point for measuring thermodynamic properties such as enthalpy (H) and entropy (S). Choosing different reference states doesn't affect the differences in properties calculated using different states of a substance.\n",
    "\n",
    "For substances such as refrigerants (e.g., R-134a), commonly used reference states include the Normal Boiling Point (NBP) and the International Institute of Refrigeration (IIR) standard:\n",
    "\n",
    "    NBP: It sets the enthalpy and entropy at the boiling point of the substance under 1 atmosphere to zero. This is a common reference for refrigerants.\n",
    "\n",
    "    IIR: This reference state, set by the International Institute of Refrigeration, defines the enthalpy and entropy at 0°C and a pressure where the liquid is saturated to be zero for refrigerants.\n",
    "    \n",
    "    For refrigerants, the ASHRAE reference state typically sets a specific point where the enthalpy and entropy are defined to be zero. This point is the saturated liquid state at a specified temperature, often associated with a standard condition such as under a temperature of -40°C or -40°F. (This is what is being followed in the textbook!)\n",
    "\n",
    "Despite the reference state chosen, the differences in enthalpy (ΔH) and entropy (ΔS) between two defined states of R-134a remain the same. These differences are intrinsic and are not influenced by the reference points, as you'll observe in the CoolProp calculations that follow.\n"
   ]
  },
  {
   "cell_type": "markdown",
   "id": "530abcf8-cc05-4585-8d1a-f08395d512bc",
   "metadata": {},
   "source": [
    "## Problem statement:\n",
    "Use threee different references and calculate absolute and relative differences of S, H for R134a refigerant fluid."
   ]
  },
  {
   "cell_type": "code",
   "execution_count": 1,
   "id": "e341ec22",
   "metadata": {},
   "outputs": [],
   "source": [
    "## add internal energy as another property\n",
    "## make it clear what the textbook uses, in this case it is ASHRAE. A note at the end would be great."
   ]
  },
  {
   "cell_type": "markdown",
   "id": "358ce489-6c65-4ad4-bf51-9bd69f2064cb",
   "metadata": {},
   "source": [
    "## Solution"
   ]
  },
  {
   "cell_type": "code",
   "execution_count": 4,
   "id": "d47a58ab",
   "metadata": {},
   "outputs": [
    {
     "name": "stdout",
     "output_type": "stream",
     "text": [
      "Properties at T = 280 K and P = 1 bar\n",
      "IIR Reference State:\n",
      "State 1 Enthalpy (kJ/kg): 409.317\n",
      "State 1 Entropy (kJ/kgK): 1.848\n",
      "State 2 Enthalpy (kJ/kg): 424.282\n",
      "State 2 Entropy (kJ/kgK): 1.846\n",
      "Enthalpy Difference (kJ/kg): 14.965\n",
      "Entropy Difference (kJ/kgK): -0.002\n",
      "\n",
      "NBP Reference State:\n",
      "State 1 Enthalpy (kJ/kg): 243.507\n",
      "State 1 Entropy (kJ/kgK): 0.979\n",
      "State 2 Enthalpy (kJ/kg): 258.472\n",
      "State 2 Entropy (kJ/kgK): 0.977\n",
      "Enthalpy Difference (kJ/kg): 14.965\n",
      "Entropy Difference (kJ/kgK): -0.002\n",
      "\n",
      "ASHRAE Reference State:\n",
      "State 1 Enthalpy (kJ/kg): 261.173\n",
      "State 1 Entropy (kJ/kgK): 1.052\n",
      "State 2 Enthalpy (kJ/kg): 276.138\n",
      "State 2 Entropy (kJ/kgK): 1.050\n",
      "Enthalpy Difference (kJ/kg): 14.965\n",
      "Entropy Difference (kJ/kgK): -0.002\n",
      "\n"
     ]
    }
   ],
   "source": [
    "import CoolProp.CoolProp as CP\n",
    "\n",
    "# Define two states for R-134a\n",
    "T1 = 280  # Temperature in K for state 1\n",
    "P1 = 101325  # Pressure in Pa for state 1 (1 atm)\n",
    "T2 = 300  # Temperature in K for state 2\n",
    "P2 = 200000  # Pressure in Pa for state 2\n",
    "\n",
    "# Set the IIR reference state\n",
    "CP.set_reference_state('R134a', 'IIR')\n",
    "\n",
    "# Calculate enthalpy and entropy for both states with the IIR reference\n",
    "h1_iir = CP.PropsSI('H', 'T', T1, 'P', P1, 'R134a') \n",
    "s1_iir = CP.PropsSI('S', 'T', T1, 'P', P1, 'R134a') \n",
    "h2_iir = CP.PropsSI('H', 'T', T2, 'P', P2, 'R134a') \n",
    "s2_iir = CP.PropsSI('S', 'T', T2, 'P', P2, 'R134a') \n",
    "\n",
    "# Calculate differences with IIR reference\n",
    "dh_iir = (h2_iir - h1_iir) / 1000\n",
    "ds_iir = (s2_iir - s1_iir) / 1000\n",
    "\n",
    "# Set the NBP reference state\n",
    "CP.set_reference_state('R134a', 'NBP')\n",
    "\n",
    "# Calculate enthalpy and entropy for both states with the NBP reference\n",
    "h1_nbp = CP.PropsSI('H', 'T', T1, 'P', P1, 'R134a') \n",
    "s1_nbp = CP.PropsSI('S', 'T', T1, 'P', P1, 'R134a') \n",
    "h2_nbp = CP.PropsSI('H', 'T', T2, 'P', P2, 'R134a') \n",
    "s2_nbp = CP.PropsSI('S', 'T', T2, 'P', P2, 'R134a') \n",
    "\n",
    "# Calculate differences with NBP reference\n",
    "dh_nbp = (h2_nbp - h1_nbp) / 1000\n",
    "ds_nbp = (s2_nbp - s1_nbp) / 1000\n",
    "\n",
    "# Set the ASHRAE reference state\n",
    "CP.set_reference_state('R134a', 'ASHRAE')\n",
    "\n",
    "# Calculate enthalpy and entropy for both states with the ASHRAE reference\n",
    "h1_ashrae = CP.PropsSI('H', 'T', T1, 'P', P1, 'R134a') \n",
    "s1_ashrae = CP.PropsSI('S', 'T', T1, 'P', P1, 'R134a') \n",
    "h2_ashrae = CP.PropsSI('H', 'T', T2, 'P', P2, 'R134a') \n",
    "s2_ashrae = CP.PropsSI('S', 'T', T2, 'P', P2, 'R134a') \n",
    "\n",
    "# Calculate differences with ASHRAE reference\n",
    "dh_ashrae = (h2_ashrae - h1_ashrae) / 1000\n",
    "ds_ashrae = (s2_ashrae - s1_ashrae) / 1000\n",
    "\n",
    "print(\"Properties at T = 280 K and P = 1 bar\")\n",
    "# Print statements for each state\n",
    "print(\"IIR Reference State:\")\n",
    "print(f\"State 1 Enthalpy (kJ/kg): {h1_iir / 1000:.3f}\")\n",
    "print(f\"State 1 Entropy (kJ/kgK): {s1_iir / 1000:.3f}\")\n",
    "print(f\"State 2 Enthalpy (kJ/kg): {h2_iir / 1000:.3f}\")\n",
    "print(f\"State 2 Entropy (kJ/kgK): {s2_iir / 1000:.3f}\")\n",
    "print(f\"Enthalpy Difference (kJ/kg): {dh_iir:.3f}\")\n",
    "print(f\"Entropy Difference (kJ/kgK): {ds_iir:.3f}\\n\")\n",
    "\n",
    "print(\"NBP Reference State:\")\n",
    "print(f\"State 1 Enthalpy (kJ/kg): {h1_nbp / 1000:.3f}\")\n",
    "print(f\"State 1 Entropy (kJ/kgK): {s1_nbp / 1000:.3f}\")\n",
    "print(f\"State 2 Enthalpy (kJ/kg): {h2_nbp / 1000:.3f}\")\n",
    "print(f\"State 2 Entropy (kJ/kgK): {s2_nbp / 1000:.3f}\")\n",
    "print(f\"Enthalpy Difference (kJ/kg): {dh_nbp:.3f}\")\n",
    "print(f\"Entropy Difference (kJ/kgK): {ds_nbp:.3f}\\n\")\n",
    "\n",
    "print(\"ASHRAE Reference State:\")\n",
    "print(f\"State 1 Enthalpy (kJ/kg): {h1_ashrae / 1000:.3f}\")\n",
    "print(f\"State 1 Entropy (kJ/kgK): {s1_ashrae / 1000:.3f}\")\n",
    "print(f\"State 2 Enthalpy (kJ/kg): {h2_ashrae / 1000:.3f}\")\n",
    "print(f\"State 2 Entropy (kJ/kgK): {s2_ashrae / 1000:.3f}\")\n",
    "print(f\"Enthalpy Difference (kJ/kg): {dh_ashrae:.3f}\")\n",
    "print(f\"Entropy Difference (kJ/kgK): {ds_ashrae:.3f}\\n\")"
   ]
  },
  {
   "cell_type": "markdown",
   "id": "4b74ef0a",
   "metadata": {},
   "source": [
    "| Reference | State | Enthalpy (kJ/kg) | Entropy (kJ/(kg·K)) | ΔH (kJ/kg) | ΔS (kJ/(kg·K)) |\n",
    "|-----------|-------|------------------|---------------------|------------|----------------|\n",
    "| IIR       | 1(280 K, 1bar)     | 409.317           | 1.848                |            |                |\n",
    "| IIR       | 2     | 424.282           | 1.846                | 14.965       | -0.002           |\n",
    "| NBP       | 1     | 243.507           | 0.979                |            |                |\n",
    "| NBP       | 2     | 258.472           | 0.977                | 14.965       | -0.002           |\n",
    "| ASHRAE    | 1     | 261.173        | 1.052             |            |                |\n",
    "| ASHRAE    | 2     | 276.138        | 1.050             | 14.965    | -0.002        |"
   ]
  },
  {
   "cell_type": "code",
   "execution_count": 3,
   "id": "4ca4acc6",
   "metadata": {},
   "outputs": [
    {
     "name": "stdout",
     "output_type": "stream",
     "text": [
      "Interpolated value at x = 6.85: y = 1.054\n"
     ]
    }
   ],
   "source": [
    "import numpy as np\n",
    "\n",
    "# Arrays of known points\n",
    "x_points = np.array([0, 10])\n",
    "y_points = np.array([1.0333, 1.0628])\n",
    "\n",
    "# Point to interpolate\n",
    "x= 280 - 273.15\n",
    "# Perform interpolation\n",
    "y = np.interp(x, x_points, y_points)\n",
    "\n",
    "print(\"Interpolated value at x = {}: y = {}\".format(round(x,3), round(y,3)))"
   ]
  },
  {
   "cell_type": "code",
   "execution_count": 1,
   "id": "95047507",
   "metadata": {},
   "outputs": [
    {
     "name": "stdout",
     "output_type": "stream",
     "text": [
      "Interpolated value at x = 26.85: y = 276.17\n"
     ]
    }
   ],
   "source": [
    "import numpy as np\n",
    "\n",
    "# Arrays of known points\n",
    "x_points = np.array([20, 30])\n",
    "y_points = np.array([270.20, 278.91])\n",
    "\n",
    "# Point to interpolate\n",
    "x= 300 - 273.15\n",
    "# Perform interpolation\n",
    "y = np.interp(x, x_points, y_points)\n",
    "\n",
    "print(\"Interpolated value at x = {}: y = {}\".format(round(x,2), round(y,2)))"
   ]
  }
 ],
 "metadata": {
  "kernelspec": {
   "display_name": "oer",
   "language": "python",
   "name": "oer"
  },
  "language_info": {
   "codemirror_mode": {
    "name": "ipython",
    "version": 3
   },
   "file_extension": ".py",
   "mimetype": "text/x-python",
   "name": "python",
   "nbconvert_exporter": "python",
   "pygments_lexer": "ipython3",
   "version": "3.9.17"
  },
  "toc": {
   "base_numbering": 1,
   "nav_menu": {},
   "number_sections": true,
   "sideBar": true,
   "skip_h1_title": false,
   "title_cell": "Table of Contents",
   "title_sidebar": "Contents",
   "toc_cell": true,
   "toc_position": {},
   "toc_section_display": true,
   "toc_window_display": false
  }
 },
 "nbformat": 4,
 "nbformat_minor": 5
}
