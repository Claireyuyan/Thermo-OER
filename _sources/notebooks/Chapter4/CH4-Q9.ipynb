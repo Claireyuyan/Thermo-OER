{
 "cells": [
  {
   "cell_type": "markdown",
   "id": "9a8fae22-9476-437c-b561-61556761519b",
   "metadata": {},
   "source": [
    "## 4.11: Polytropic Tire Deflation"
   ]
  },
  {
   "cell_type": "markdown",
   "id": "be1f8072-957f-4007-a9d3-3fd4b545fcdb",
   "metadata": {},
   "source": [
    "Have you ever let the air out of a bike tire. Does the valve feel cold?\n",
    "\n",
    "Consider a bike tire with a volume of $V=1.5\\:L$ pressurized to a recommended guage pressure of $P_g=800\\:kPa$. The tire is sitting in atmospheric pressure $P_a=101\\:kPa$ and temperature $T_a=25\\degree C$. The tire is then depressurized using a valve where air goes through a polytropic expansion with a constant $n=1.3$ from tire pressure to atmospheric pressure. Assuming ideal gas application, calculate:\n",
    "\n",
    "a) the total mass of air stored in the tire\n",
    "\n",
    "b) the specific volume of air inside the tire\n",
    "\n",
    "c) the specific volume of depressurized air after the expansion\n",
    "\n",
    "d) temperature of air after expansion"
   ]
  },
  {
   "attachments": {},
   "cell_type": "markdown",
   "id": "e04a681b-d130-4dd7-ade4-fe33127d29bb",
   "metadata": {},
   "source": [
    "![CH4-Q9.jpg](CH4-Q9.png)"
   ]
  },
  {
   "cell_type": "markdown",
   "id": "558644fd-6764-49b0-9e3b-b3f6181f4111",
   "metadata": {},
   "source": [
    "### Solution Approach for a)\n",
    "\n",
    "based on ideal gas assumption,\n",
    "\n",
    "$PV=mRT$\n",
    "\n",
    "so\n",
    "\n",
    "$m=PV/(RT)$"
   ]
  },
  {
   "cell_type": "code",
   "execution_count": 1,
   "id": "1498165c-76b8-4ee8-b69c-a17f443a80e0",
   "metadata": {},
   "outputs": [
    {
     "name": "stdout",
     "output_type": "stream",
     "text": [
      "The amount of air stored is: 0.016 kg\n"
     ]
    }
   ],
   "source": [
    "#define variables\n",
    "P_g = 800E+3   #tire guage pressure in Pa\n",
    "P_a = 101E+3   #atmospheric pressure in Pa\n",
    "V = 1.5E-3   #tire volume in m3\n",
    "T = 25 + 273.15   #temperarture in K\n",
    "R = 287   #air gas constant in J/kgK\n",
    "\n",
    "P = P_a + P_g   #absolute pressure in Pa\n",
    "\n",
    "m = P * V / (R * T)   #mass of air stored in the tire in kg\n",
    "\n",
    "print('The amount of air stored is:', f\"{m:.3f}\", 'kg')"
   ]
  },
  {
   "cell_type": "markdown",
   "id": "072e0445-d32f-430d-90f2-7f2f300ef69d",
   "metadata": {},
   "source": [
    "### Solution Approach for b)\n",
    "\n",
    "specific volume is calculated as\n",
    "\n",
    "$v=V/m$"
   ]
  },
  {
   "cell_type": "code",
   "execution_count": 2,
   "id": "1222d611-9083-4496-87ad-0a3854027e3c",
   "metadata": {},
   "outputs": [
    {
     "name": "stdout",
     "output_type": "stream",
     "text": [
      "The specific volume of the stored air is: 0.095 m3/kg\n"
     ]
    }
   ],
   "source": [
    "v = V / m   #specific volume of air in m3/kg\n",
    "\n",
    "print('The specific volume of the stored air is:', f\"{v:.3f}\", 'm3/kg')"
   ]
  },
  {
   "cell_type": "markdown",
   "id": "cdf8c228-ceb2-4791-9d8e-93344519db37",
   "metadata": {},
   "source": [
    "### Solution Approach for c)\n",
    "\n",
    "for a polytropic process\n",
    "\n",
    "$Pv^n=constant$\n",
    "\n",
    "so \n",
    "\n",
    "$P_1v_1^n=P_2v_2^n$\n",
    "\n",
    "therfore\n",
    "\n",
    "$v_2=v_1\\times (P_1/P_2)^{(1/n)}$"
   ]
  },
  {
   "cell_type": "code",
   "execution_count": 3,
   "id": "5fe4ab70-6d18-4ee4-ba1e-54f8b5ae8d90",
   "metadata": {},
   "outputs": [
    {
     "name": "stdout",
     "output_type": "stream",
     "text": [
      "The specific volume of air after expansion is: 0.511 m3/kg\n"
     ]
    }
   ],
   "source": [
    "n = 1.3   #polytropic constant\n",
    "\n",
    "v_1 = v   #specific volume of air before expansion in m3/kg\n",
    "P_1 = P   #pressure of air before expansion in Pa\n",
    "P_2 = P_a   #pressure of air after expansion in Pa\n",
    "\n",
    "v_2 = v_1 * (P_1 / P_2) ** (1 / n)   #specific volume of air after expansion\n",
    "\n",
    "print('The specific volume of air after expansion is:', f\"{v_2:.3f}\", 'm3/kg')"
   ]
  },
  {
   "cell_type": "markdown",
   "id": "c9513cae-2372-4741-a476-cae109154158",
   "metadata": {},
   "source": [
    "### Solution Approach for d)\n",
    "\n",
    "for an ideal gas,\n",
    "\n",
    "$Pv=RT$\n",
    "\n",
    "therefore\n",
    "\n",
    "$T=Pv/R$"
   ]
  },
  {
   "cell_type": "code",
   "execution_count": 4,
   "id": "9106d113-eff7-41a1-aa4a-ed91dff74ff2",
   "metadata": {},
   "outputs": [
    {
     "name": "stdout",
     "output_type": "stream",
     "text": [
      "The temperature of air after expansion is: -93.2 C\n"
     ]
    }
   ],
   "source": [
    "T = P_2 * v_2 / R   #temperature of air after expansion in K\n",
    "\n",
    "print('The temperature of air after expansion is:', f\"{T-273.15:.1f}\", 'C')"
   ]
  }
 ],
 "metadata": {
  "kernelspec": {
   "display_name": "Python 3 (ipykernel)",
   "language": "python",
   "name": "python3"
  },
  "language_info": {
   "codemirror_mode": {
    "name": "ipython",
    "version": 3
   },
   "file_extension": ".py",
   "mimetype": "text/x-python",
   "name": "python",
   "nbconvert_exporter": "python",
   "pygments_lexer": "ipython3",
   "version": "3.9.17"
  }
 },
 "nbformat": 4,
 "nbformat_minor": 5
}
