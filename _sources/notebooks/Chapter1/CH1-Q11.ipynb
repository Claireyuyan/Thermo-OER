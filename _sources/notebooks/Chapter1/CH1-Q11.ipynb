{
 "cells": [
  {
   "cell_type": "markdown",
   "id": "b9a824ce-1b56-468a-a7f9-acf991ea08fa",
   "metadata": {},
   "source": [
    "# [Chapter 1](https://pressbooks.bccampus.ca/thermo1/chapter/introduction-and-learning-objectives/)\n",
    "\n",
    "## Question 11: Propane Tank"
   ]
  },
  {
   "cell_type": "markdown",
   "id": "c09307ec-bc3d-4bd4-9b9a-3fadc5a19e48",
   "metadata": {},
   "source": [
    "Propane is pressurized to liquify in order to store in propane cans. \n",
    "\n",
    "a) what is the minimum pressure to ensure liquid propane forming at room temperature?\n",
    "\n",
    "b) a pressure guage on a $1\\:L$ propane tank reads $P_g=1\\:MPa$ guage pressure. How much propane is contained in this tank?"
   ]
  },
  {
   "cell_type": "markdown",
   "id": "8d7c7082-eb5f-4892-83ea-587ace6f8553",
   "metadata": {},
   "source": [
    "### Solution Approach for a)\n",
    "\n",
    "Propane gas starts to liquify at its saturation pressure corresponding to room temperature $T=250\\:^{\\circ}C$. "
   ]
  },
  {
   "cell_type": "code",
   "execution_count": 1,
   "id": "ba47641b-56b1-4526-be5d-14821c5f2746",
   "metadata": {},
   "outputs": [
    {
     "name": "stdout",
     "output_type": "stream",
     "text": [
      "The minimum pressure to liquify propane at room temperature is: 952.1 kPa\n"
     ]
    }
   ],
   "source": [
    "#importing the required library\n",
    "import CoolProp.CoolProp as CP\n",
    "\n",
    "#define variables\n",
    "T_r = 25 + 273.15   #room temperature in K\n",
    "fluid = 'propane'\n",
    "\n",
    "P_s = CP.PropsSI(\"P\", \"T\", T_r, \"Q\", 0 , fluid)   #saturation pressure of Propane in room temperature in Pa\n",
    "\n",
    "print('The minimum pressure to liquify propane at room temperature is:', f\"{P_s/1000:.1f}\", 'kPa')"
   ]
  },
  {
   "cell_type": "markdown",
   "id": "8250eddc-4fc4-419c-a1c6-5047c2fc8137",
   "metadata": {},
   "source": [
    "### Solution Approach for b)\n",
    "\n",
    "from density \n",
    "\n",
    "$D=m/V$\n",
    "\n",
    "so\n",
    "\n",
    "$m=D\\times V$"
   ]
  },
  {
   "cell_type": "code",
   "execution_count": 2,
   "id": "55314189-3723-4288-bda1-a7db47bc32ba",
   "metadata": {},
   "outputs": [
    {
     "name": "stdout",
     "output_type": "stream",
     "text": [
      "The amount of propane stored in the tank is: 0.49 kg\n"
     ]
    }
   ],
   "source": [
    "V = 1E-3   #tank volume in m3\n",
    "P_a = 101325   #atmospheric pressure in Pa\n",
    "P_g = 1E+6   #guage pressure in Pa\n",
    "\n",
    "P = P_g + P_a   #propane absolute pressure in Pa\n",
    "D = CP.PropsSI(\"D\", \"T\", T_r, \"P\", P , fluid)   #propane density in kg/m3\n",
    "\n",
    "m = D * V   #propane mass in kg\n",
    "\n",
    "print('The amount of propane stored in the tank is:', f\"{m:.2f}\", 'kg')"
   ]
  }
 ],
 "metadata": {
  "kernelspec": {
   "display_name": "oer",
   "language": "python",
   "name": "oerminimal"
  },
  "language_info": {
   "codemirror_mode": {
    "name": "ipython",
    "version": 3
   },
   "file_extension": ".py",
   "mimetype": "text/x-python",
   "name": "python",
   "nbconvert_exporter": "python",
   "pygments_lexer": "ipython3",
   "version": "3.9.19"
  }
 },
 "nbformat": 4,
 "nbformat_minor": 5
}
