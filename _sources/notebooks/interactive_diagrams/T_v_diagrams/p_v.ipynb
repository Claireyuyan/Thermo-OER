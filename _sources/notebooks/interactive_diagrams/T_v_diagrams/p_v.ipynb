{
 "cells": [
  {
   "cell_type": "markdown",
   "id": "d3c8a0f3-6c97-40fe-909b-5b3a72436b31",
   "metadata": {},
   "source": [
    "# P-v diagrams"
   ]
  },
  {
   "cell_type": "code",
   "execution_count": 3,
   "id": "0e09e95d-a858-4fd1-9923-202087307cc2",
   "metadata": {},
   "outputs": [
    {
     "data": {
      "text/html": [
       "\n",
       "        <iframe\n",
       "            width=\"700\"\n",
       "            height=\"500\"\n",
       "            src=\"Water_p_v_plot.html\"\n",
       "            frameborder=\"0\"\n",
       "            allowfullscreen\n",
       "            \n",
       "        ></iframe>\n",
       "        "
      ],
      "text/plain": [
       "<IPython.lib.display.IFrame at 0x7fa51fbfb340>"
      ]
     },
     "metadata": {},
     "output_type": "display_data"
    },
    {
     "data": {
      "text/html": [
       "\n",
       "        <iframe\n",
       "            width=\"700\"\n",
       "            height=\"500\"\n",
       "            src=\"Ammonia_p_v_plot.html\"\n",
       "            frameborder=\"0\"\n",
       "            allowfullscreen\n",
       "            \n",
       "        ></iframe>\n",
       "        "
      ],
      "text/plain": [
       "<IPython.lib.display.IFrame at 0x7fa538b23d90>"
      ]
     },
     "metadata": {},
     "output_type": "display_data"
    },
    {
     "data": {
      "text/html": [
       "\n",
       "        <iframe\n",
       "            width=\"700\"\n",
       "            height=\"500\"\n",
       "            src=\"R134a_p_v_plot.html\"\n",
       "            frameborder=\"0\"\n",
       "            allowfullscreen\n",
       "            \n",
       "        ></iframe>\n",
       "        "
      ],
      "text/plain": [
       "<IPython.lib.display.IFrame at 0x7fa51fbfb340>"
      ]
     },
     "metadata": {},
     "output_type": "display_data"
    }
   ],
   "source": [
    "import CoolProp.CoolProp as CP\n",
    "import pandas as pd\n",
    "import numpy as np\n",
    "\n",
    "import plotly.graph_objs as go\n",
    "from IPython.display import IFrame\n",
    "fluids = ['Water', 'Ammonia', 'R134a']\n",
    "\n",
    "for fluid in fluids:\n",
    "    T_min = CP.PropsSI('Tmin', fluid) + 10  # Adding a small offset to Tmin\n",
    "    T_max = CP.PropsSI('Tcrit', fluid)\n",
    "    T_vals = np.linspace(T_min, T_max, 400)  # Number of points\n",
    "\n",
    "    p_v_liquid = {'Pressure (Pa)': [], 'Specific Volume Liquid (m^3/kg)': []}\n",
    "    p_v_vapor = {'Pressure (Pa)': [], 'Specific Volume Vapor (m^3/kg)': []}\n",
    "\n",
    "    for T in T_vals:\n",
    "        p = CP.PropsSI('P', 'T', T, 'Q', 0, fluid)\n",
    "        v_liquid = 1 / CP.PropsSI('D', 'T', T, 'Q', 0, fluid)  # Saturated liquid\n",
    "        v_vapor = 1 / CP.PropsSI('D', 'T', T, 'Q', 1, fluid)  # Saturated vapor\n",
    "        p_v_liquid['Pressure (Pa)'].append(p)\n",
    "        p_v_liquid['Specific Volume Liquid (m^3/kg)'].append(v_liquid)\n",
    "        p_v_vapor['Pressure (Pa)'].append(p)\n",
    "        p_v_vapor['Specific Volume Vapor (m^3/kg)'].append(v_vapor)\n",
    "\n",
    "    # Save to CSV\n",
    "    pd.DataFrame(p_v_liquid).to_csv(f'{fluid}_p_v_liquid.csv', index=False)\n",
    "    pd.DataFrame(p_v_vapor).to_csv(f'{fluid}_p_v_vapor.csv', index=False)\n",
    "\n",
    "\n",
    "import plotly.graph_objs as go\n",
    "\n",
    "for fluid in fluids:\n",
    "    df_liquid = pd.read_csv(f'{fluid}_p_v_liquid.csv')\n",
    "    df_vapor = pd.read_csv(f'{fluid}_p_v_vapor.csv')\n",
    "\n",
    "    # Creating Plotly plot\n",
    "    fig = go.Figure()\n",
    "    fig.add_trace(go.Scatter(x=df_liquid['Specific Volume Liquid (m^3/kg)'], y=df_liquid['Pressure (Pa)'],\n",
    "                             mode='lines', name='Saturated Liquid'))\n",
    "    fig.add_trace(go.Scatter(x=df_vapor['Specific Volume Vapor (m^3/kg)'], y=df_vapor['Pressure (Pa)'],\n",
    "                             mode='lines', name='Saturated Vapor'))\n",
    "\n",
    "    # Set log scale for x-axis\n",
    "    fig.update_layout(xaxis_type=\"log\", title=f'{fluid} p-v Diagram', \n",
    "                      xaxis_title='Specific Volume (m^3/kg)', yaxis_title='Pressure (Pa)')\n",
    "\n",
    "    # Save as HTML\n",
    "    fig.write_html(f'{fluid}_p_v_plot.html')\n",
    "\n",
    "\n",
    "from IPython.display import IFrame\n",
    "\n",
    "# Example to display the Water p-v diagram\n",
    "display(IFrame(src='Water_p_v_plot.html', width=700, height=500))\n",
    "# Repeat for Ammonia and R134a\n",
    "display(IFrame(src='Ammonia_p_v_plot.html', width=700, height=500))\n",
    "display(IFrame(src='R134a_p_v_plot.html', width=700, height=500))\n"
   ]
  }
 ],
 "metadata": {
  "kernelspec": {
   "display_name": "OER",
   "language": "python",
   "name": "oer"
  },
  "language_info": {
   "codemirror_mode": {
    "name": "ipython",
    "version": 3
   },
   "file_extension": ".py",
   "mimetype": "text/x-python",
   "name": "python",
   "nbconvert_exporter": "python",
   "pygments_lexer": "ipython3",
   "version": "3.9.17"
  }
 },
 "nbformat": 4,
 "nbformat_minor": 5
}
