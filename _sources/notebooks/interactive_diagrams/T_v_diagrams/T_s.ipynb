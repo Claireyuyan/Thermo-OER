{
 "cells": [
  {
   "cell_type": "markdown",
   "id": "7863dc48-cda9-4039-8f9f-e41301a9eb91",
   "metadata": {},
   "source": [
    "# T-s diagrams"
   ]
  },
  {
   "cell_type": "code",
   "execution_count": 5,
   "id": "964d8042-4c0b-4463-bbba-ff93998a3434",
   "metadata": {},
   "outputs": [
    {
     "data": {
      "text/html": [
       "\n",
       "        <iframe\n",
       "            width=\"700\"\n",
       "            height=\"500\"\n",
       "            src=\"Water_T_s_plot.html\"\n",
       "            frameborder=\"0\"\n",
       "            allowfullscreen\n",
       "            \n",
       "        ></iframe>\n",
       "        "
      ],
      "text/plain": [
       "<IPython.lib.display.IFrame at 0x7efc7f76de80>"
      ]
     },
     "metadata": {},
     "output_type": "display_data"
    },
    {
     "data": {
      "text/html": [
       "\n",
       "        <iframe\n",
       "            width=\"700\"\n",
       "            height=\"500\"\n",
       "            src=\"Ammonia_T_s_plot.html\"\n",
       "            frameborder=\"0\"\n",
       "            allowfullscreen\n",
       "            \n",
       "        ></iframe>\n",
       "        "
      ],
      "text/plain": [
       "<IPython.lib.display.IFrame at 0x7efcb83ff550>"
      ]
     },
     "metadata": {},
     "output_type": "display_data"
    },
    {
     "data": {
      "text/html": [
       "\n",
       "        <iframe\n",
       "            width=\"700\"\n",
       "            height=\"500\"\n",
       "            src=\"R134a_T_s_plot.html\"\n",
       "            frameborder=\"0\"\n",
       "            allowfullscreen\n",
       "            \n",
       "        ></iframe>\n",
       "        "
      ],
      "text/plain": [
       "<IPython.lib.display.IFrame at 0x7efc7f76de80>"
      ]
     },
     "metadata": {},
     "output_type": "display_data"
    }
   ],
   "source": [
    "import CoolProp.CoolProp as CP\n",
    "import pandas as pd\n",
    "import numpy as np\n",
    "\n",
    "import plotly.graph_objs as go\n",
    "from IPython.display import IFrame\n",
    "\n",
    "\n",
    "fluids = ['Water', 'Ammonia', 'R134a']\n",
    "\n",
    "for fluid in fluids:\n",
    "    T_min = CP.PropsSI('Tmin', fluid) + 10  # Adding a small offset to Tmin\n",
    "    T_max = CP.PropsSI('Tcrit', fluid)\n",
    "    T_vals = np.linspace(T_min, T_max, 100)  # Number of points\n",
    "\n",
    "    t_s_liquid = {'Temperature (K)': [], 'Entropy Liquid (J/kg.K)': []}\n",
    "    t_s_vapor = {'Temperature (K)': [], 'Entropy Vapor (J/kg.K)': []}\n",
    "\n",
    "    for T in T_vals:\n",
    "        s_liquid = CP.PropsSI('S', 'T', T, 'Q', 0, fluid)  # Saturated liquid\n",
    "        s_vapor = CP.PropsSI('S', 'T', T, 'Q', 1, fluid)  # Saturated vapor\n",
    "        t_s_liquid['Temperature (K)'].append(T)\n",
    "        t_s_liquid['Entropy Liquid (J/kg.K)'].append(s_liquid)\n",
    "        t_s_vapor['Temperature (K)'].append(T)\n",
    "        t_s_vapor['Entropy Vapor (J/kg.K)'].append(s_vapor)\n",
    "\n",
    "    # Save to CSV\n",
    "    pd.DataFrame(t_s_liquid).to_csv(f'{fluid}_T_s_liquid.csv', index=False)\n",
    "    pd.DataFrame(t_s_vapor).to_csv(f'{fluid}_T_s_vapor.csv', index=False)\n",
    "\n",
    "\n",
    "for fluid in fluids:\n",
    "    df_liquid = pd.read_csv(f'{fluid}_T_s_liquid.csv')\n",
    "    df_vapor = pd.read_csv(f'{fluid}_T_s_vapor.csv')\n",
    "\n",
    "    # Creating Plotly plot\n",
    "    fig = go.Figure()\n",
    "    fig.add_trace(go.Scatter(x=df_liquid['Entropy Liquid (J/kg.K)'], y=df_liquid['Temperature (K)'],\n",
    "                             mode='lines', name='Saturated Liquid'))\n",
    "    fig.add_trace(go.Scatter(x=df_vapor['Entropy Vapor (J/kg.K)'], y=df_vapor['Temperature (K)'],\n",
    "                             mode='lines', name='Saturated Vapor'))\n",
    "\n",
    "    fig.update_layout(title=f'{fluid} T-s Diagram', \n",
    "                      xaxis_title='Entropy (J/kg.K)', yaxis_title='Temperature (K)')\n",
    "\n",
    "    # Save as HTML\n",
    "    fig.write_html(f'{fluid}_T_s_plot.html')\n",
    "\n",
    "\n",
    "display(IFrame(src='Water_T_s_plot.html', width=700, height=500))\n",
    "display(IFrame(src='Ammonia_T_s_plot.html', width=700, height=500))\n",
    "display(IFrame(src='R134a_T_s_plot.html', width=700, height=500))\n"
   ]
  }
 ],
 "metadata": {
  "kernelspec": {
   "display_name": "OER",
   "language": "python",
   "name": "oer"
  },
  "language_info": {
   "codemirror_mode": {
    "name": "ipython",
    "version": 3
   },
   "file_extension": ".py",
   "mimetype": "text/x-python",
   "name": "python",
   "nbconvert_exporter": "python",
   "pygments_lexer": "ipython3",
   "version": "3.9.17"
  }
 },
 "nbformat": 4,
 "nbformat_minor": 5
}
