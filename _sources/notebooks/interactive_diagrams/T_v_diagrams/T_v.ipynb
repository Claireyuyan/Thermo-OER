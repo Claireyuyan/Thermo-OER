{
 "cells": [
  {
   "cell_type": "markdown",
   "id": "70c7b018-cf73-40c0-92d9-e9f741dfe443",
   "metadata": {},
   "source": [
    "# T-v diagrams"
   ]
  },
  {
   "cell_type": "code",
   "execution_count": 41,
   "id": "ad81c438-d427-4bae-a9bd-7a280942b4cd",
   "metadata": {},
   "outputs": [
    {
     "data": {
      "text/html": [
       "\n",
       "        <iframe\n",
       "            width=\"700\"\n",
       "            height=\"500\"\n",
       "            src=\"Water_T_v_plot.html\"\n",
       "            frameborder=\"0\"\n",
       "            allowfullscreen\n",
       "            \n",
       "        ></iframe>\n",
       "        "
      ],
      "text/plain": [
       "<IPython.lib.display.IFrame at 0x7fddac2605e0>"
      ]
     },
     "metadata": {},
     "output_type": "display_data"
    },
    {
     "data": {
      "text/html": [
       "\n",
       "        <iframe\n",
       "            width=\"700\"\n",
       "            height=\"500\"\n",
       "            src=\"Ammonia_T_v_plot.html\"\n",
       "            frameborder=\"0\"\n",
       "            allowfullscreen\n",
       "            \n",
       "        ></iframe>\n",
       "        "
      ],
      "text/plain": [
       "<IPython.lib.display.IFrame at 0x7fdd741d0d60>"
      ]
     },
     "metadata": {},
     "output_type": "display_data"
    },
    {
     "data": {
      "text/html": [
       "\n",
       "        <iframe\n",
       "            width=\"700\"\n",
       "            height=\"500\"\n",
       "            src=\"R134a_T_v_plot.html\"\n",
       "            frameborder=\"0\"\n",
       "            allowfullscreen\n",
       "            \n",
       "        ></iframe>\n",
       "        "
      ],
      "text/plain": [
       "<IPython.lib.display.IFrame at 0x7fddac2605e0>"
      ]
     },
     "metadata": {},
     "output_type": "display_data"
    }
   ],
   "source": [
    "import CoolProp.CoolProp as CP\n",
    "import pandas as pd\n",
    "import numpy as np\n",
    "\n",
    "fluids = ['Water', 'Ammonia', 'R134a']\n",
    "for fluid in fluids:\n",
    "    T_min = CP.PropsSI('Tmin', fluid) + 10  # Adding a small offset to Tmin\n",
    "    T_max = CP.PropsSI('Tcrit', fluid)\n",
    "    T_vals = np.linspace(T_min, T_max, 100)  # Number of points\n",
    "\n",
    "    v_liquid = []\n",
    "    v_vapor = []\n",
    "\n",
    "    for T in T_vals:\n",
    "        density_liquid = CP.PropsSI('D', 'T', T, 'Q', 0, fluid)  # Saturated liquid\n",
    "        density_vapor = CP.PropsSI('D', 'T', T, 'Q', 1, fluid)  # Saturated vapor\n",
    "        v_liquid.append(1/density_liquid)\n",
    "        v_vapor.append(1/density_vapor)\n",
    "\n",
    "    # Save to CSV\n",
    "    df = pd.DataFrame({'Temperature (K)': T_vals, 'Specific Volume Liquid (m^3/kg)': v_liquid, \n",
    "                       'Specific Volume Vapor (m^3/kg)': v_vapor})\n",
    "    df.to_csv(f'{fluid}_T_v.csv', index=False)\n",
    "\n",
    "\n",
    "import plotly.graph_objs as go\n",
    "\n",
    "for fluid in fluids:\n",
    "    # Reading data from CSV\n",
    "    df = pd.read_csv(f'{fluid}_T_v.csv')\n",
    "\n",
    "    # Creating Plotly plot\n",
    "    fig = go.Figure()\n",
    "    fig.add_trace(go.Scatter(x=df['Specific Volume Liquid (m^3/kg)'], y=df['Temperature (K)'],\n",
    "                             mode='lines', name='Saturated Liquid'))\n",
    "    fig.add_trace(go.Scatter(x=df['Specific Volume Vapor (m^3/kg)'], y=df['Temperature (K)'],\n",
    "                             mode='lines', name='Saturated Vapor'))\n",
    "\n",
    "    # Set log scale for x-axis\n",
    "    fig.update_layout(xaxis_type=\"log\", title=f'{fluid} T-v Diagram', \n",
    "                      xaxis_title='Specific Volume (m^3/kg)', yaxis_title='Temperature (K)')\n",
    "\n",
    "    # Save as HTML\n",
    "    fig.write_html(f'{fluid}_T_v_plot.html')\n",
    "\n",
    "\n",
    "from IPython.display import IFrame\n",
    "\n",
    "# Display the Water T-v diagram\n",
    "display(IFrame(src='Water_T_v_plot.html', width=700, height=500))\n",
    "\n",
    "# Display the Ammonia T-v diagram\n",
    "display(IFrame(src='Ammonia_T_v_plot.html', width=700, height=500))\n",
    "\n",
    "# Display the R134a T-v diagram\n",
    "display(IFrame(src='R134a_T_v_plot.html', width=700, height=500))\n"
   ]
  },
  {
   "cell_type": "code",
   "execution_count": 42,
   "id": "b0d9382b-2356-40dd-b7c2-00d0a4d97111",
   "metadata": {},
   "outputs": [
    {
     "data": {
      "text/html": [
       "\n",
       "        <iframe\n",
       "            width=\"700\"\n",
       "            height=\"500\"\n",
       "            src=\"Water_p_v_plot.html\"\n",
       "            frameborder=\"0\"\n",
       "            allowfullscreen\n",
       "            \n",
       "        ></iframe>\n",
       "        "
      ],
      "text/plain": [
       "<IPython.lib.display.IFrame at 0x7fdd743023d0>"
      ]
     },
     "metadata": {},
     "output_type": "display_data"
    },
    {
     "data": {
      "text/html": [
       "\n",
       "        <iframe\n",
       "            width=\"700\"\n",
       "            height=\"500\"\n",
       "            src=\"Ammonia_p_v_plot.html\"\n",
       "            frameborder=\"0\"\n",
       "            allowfullscreen\n",
       "            \n",
       "        ></iframe>\n",
       "        "
      ],
      "text/plain": [
       "<IPython.lib.display.IFrame at 0x7fdd741d0550>"
      ]
     },
     "metadata": {},
     "output_type": "display_data"
    },
    {
     "data": {
      "text/html": [
       "\n",
       "        <iframe\n",
       "            width=\"700\"\n",
       "            height=\"500\"\n",
       "            src=\"R134a_p_v_plot.html\"\n",
       "            frameborder=\"0\"\n",
       "            allowfullscreen\n",
       "            \n",
       "        ></iframe>\n",
       "        "
      ],
      "text/plain": [
       "<IPython.lib.display.IFrame at 0x7fdd743023d0>"
      ]
     },
     "metadata": {},
     "output_type": "display_data"
    }
   ],
   "source": []
  },
  {
   "cell_type": "code",
   "execution_count": null,
   "id": "8e91ffd3-d3aa-4502-9bd6-21a6239bb215",
   "metadata": {},
   "outputs": [],
   "source": []
  }
 ],
 "metadata": {
  "kernelspec": {
   "display_name": "OER",
   "language": "python",
   "name": "oer"
  },
  "language_info": {
   "codemirror_mode": {
    "name": "ipython",
    "version": 3
   },
   "file_extension": ".py",
   "mimetype": "text/x-python",
   "name": "python",
   "nbconvert_exporter": "python",
   "pygments_lexer": "ipython3",
   "version": "3.9.17"
  }
 },
 "nbformat": 4,
 "nbformat_minor": 5
}
