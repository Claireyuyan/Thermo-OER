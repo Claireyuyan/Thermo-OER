{
 "cells": [
  {
   "cell_type": "markdown",
   "id": "48cc72d5-daf0-4dde-ae31-975075937694",
   "metadata": {},
   "source": [
    "# 6.14 Entropy Generation for a Steam Cycle\n",
    "\n",
    "## Problem Statement:"
   ]
  },
  {
   "cell_type": "markdown",
   "id": "cdb2a10f-566a-447c-a07b-63634c8c2dca",
   "metadata": {},
   "source": [
    "Consider a steam turbine cycle working between a higher pressure $P_H=1\\:MPa$ and a lower presssure of $P_L=100\\:kPa$. The boiler and the condenser are assumed to operate in a constant pressure, and the pump consumes $\\dot W_{pump}=1\\:kW$ of electrical power to fulfill the role of pressurizing water from the lower pressure to the higher one. The cycle is designed to operate with a steam flow-rate of $\\dot m=3\\:kg/s$ and to provide $\\dot W=12\\:kW$ of power from the turbine. $\\dot Q_H=15\\:kW$ of heat is provided to the cycle in the boiler section at a temperature of $T_H=600\\:^{\\circ}C$, and steam dissipaes heat to the environment in the condenser at an ambient temperature of $T_L=20\\:^{\\circ}C$. Calculate:\n",
    "\n",
    "a) the amount of heat exchanged in the condenser:\n",
    "\n",
    "b) calculate the efficiency of the cycle \n",
    "\n",
    "c) entropy generation of the cycle (is this feasible?)\n",
    "\n",
    "d) calculate the carnot efficicency associated with the higher and lower temperatures and compare with the cycle's efficiency"
   ]
  },
  {
   "attachments": {},
   "cell_type": "markdown",
   "id": "00cfdf7c-7157-4a55-950b-1b292a0d09d9",
   "metadata": {},
   "source": [
    "![CH6-Q13.jpg](CH6-Q13.jpg)"
   ]
  },
  {
   "cell_type": "markdown",
   "id": "fa75724e-234a-49df-a72d-7b0c3f355c94",
   "metadata": {},
   "source": [
    "### Solution Approach for a)\n",
    "\n",
    "Looking at the first law:\n",
    "\n",
    "$\\dot Q_H+\\dot W_{pump}=\\dot Q_L+\\dot W$\n",
    "\n",
    "therefore\n",
    "\n",
    "$\\dot Q_L=\\dot Q_H+\\dot W_{pump}-\\dot W$"
   ]
  },
  {
   "cell_type": "code",
   "execution_count": 4,
   "id": "b5a37bf5-c20f-4afc-bf54-69381d3cd258",
   "metadata": {
    "editable": true,
    "slideshow": {
     "slide_type": ""
    },
    "tags": []
   },
   "outputs": [],
   "source": [
    "%%script false --no-raise-error\n",
    "%colors linux\n",
    "#define parameters\n",
    "\n",
    "Q_H =    #heat input in bioler in W\n",
    "W   =    #turbine work output in W\n",
    "W_P =    #pump work input in W\n",
    "\n",
    "Q_L =   #condenser heat in W\n",
    "print('The amount of heat exchanged in the condenser is:', f\"{Q_L/1000:.1f}\", 'kW')"
   ]
  },
  {
   "cell_type": "code",
   "execution_count": 1,
   "id": "a4cb259e-f0a4-44e4-b2fe-51a6fde83626",
   "metadata": {
    "editable": true,
    "slideshow": {
     "slide_type": ""
    },
    "tags": [
     "hide-input"
    ]
   },
   "outputs": [
    {
     "name": "stdout",
     "output_type": "stream",
     "text": [
      "The amount of heat exchanged in the condenser is: 4.0 kW\n"
     ]
    }
   ],
   "source": [
    "#define parameters\n",
    "\n",
    "Q_H = 15E+3   #heat input in bioler in W\n",
    "W   = 12E+3   #turbine work output in W\n",
    "W_P = 1E+3    #pump work input in W\n",
    "\n",
    "Q_L = Q_H + W_P - W   #condenser heat in W\n",
    "print('The amount of heat exchanged in the condenser is:', f\"{Q_L/1000:.1f}\", 'kW')"
   ]
  },
  {
   "cell_type": "markdown",
   "id": "412b2b59-d06f-4110-af2d-afaa776a049c",
   "metadata": {},
   "source": [
    "### Solution Approach for b)\n",
    "\n",
    "the efficicency of the cycle would be based on work produced over energy consumed\n",
    "\n",
    "$\\eta=\\dot W/(\\dot W_{pump}+\\dot Q_H)$"
   ]
  },
  {
   "cell_type": "code",
   "execution_count": 3,
   "id": "6aef99e9-de29-46c1-8488-88353929b522",
   "metadata": {},
   "outputs": [
    {
     "name": "stdout",
     "output_type": "stream",
     "text": [
      "The efficiency of the cycle is: 75.0 %\n"
     ]
    }
   ],
   "source": [
    "etha = W / (W_P + Q_H)\n",
    "\n",
    "print('The efficiency of the cycle is:', f\"{etha * 100:.1f}\", '%')"
   ]
  },
  {
   "cell_type": "markdown",
   "id": "b93ad777-839c-43e6-9dda-b09d9b923750",
   "metadata": {},
   "source": [
    "### Solution Approach for c)\n",
    "\n",
    "from the second law for a closed system\n",
    "\n",
    "$S_2-S_1=\\Sigma Q/T+S_{gen}$\n",
    "\n",
    "since the cycle is steady\n",
    "\n",
    "$S_2-S_1=0$\n",
    "\n",
    "therfore\n",
    "\n",
    "$S_{gen}=-\\Sigma Q/T=-(Q_H/T_H-Q_L/T_L)$"
   ]
  },
  {
   "cell_type": "code",
   "execution_count": 2,
   "id": "df7f4e3d-72c6-4063-8d30-ad85831d91f3",
   "metadata": {},
   "outputs": [
    {
     "name": "stdout",
     "output_type": "stream",
     "text": [
      "The amount of entropy generation is: -3.5 W/K\n"
     ]
    }
   ],
   "source": [
    "#define variables\n",
    "\n",
    "T_L = 20 + 273.15   #heat sink temperature in K\n",
    "T_H = 600 + 273.15   #heat source temperature in K\n",
    "\n",
    "S_g = - (Q_H / T_H - Q_L / T_L)\n",
    "print('The amount of entropy generation is:', f\"{S_g:.1f}\", 'W/K')"
   ]
  },
  {
   "cell_type": "markdown",
   "id": "c62aacd3-0eef-4254-9501-52a448b98cdb",
   "metadata": {},
   "source": [
    "### Solution Approach for d)\n",
    "\n",
    "for the carnot efficiency\n",
    "\n",
    "$\\eta_{Carnot}=1-T_L/T_H$"
   ]
  },
  {
   "cell_type": "code",
   "execution_count": 4,
   "id": "a78151a9-ddc6-4f9d-90f0-d2b7c5c6edd0",
   "metadata": {},
   "outputs": [
    {
     "name": "stdout",
     "output_type": "stream",
     "text": [
      "The Carnot efficiency of the cycle is: 66.4 %\n"
     ]
    }
   ],
   "source": [
    "etha_c = 1 - T_L / T_H\n",
    "\n",
    "print('The Carnot efficiency of the cycle is:', f\"{etha_c * 100:.1f}\", '%')"
   ]
  }
 ],
 "metadata": {
  "kernelspec": {
   "display_name": "Python 3 (ipykernel)",
   "language": "python",
   "name": "python3"
  },
  "language_info": {
   "codemirror_mode": {
    "name": "ipython",
    "version": 3
   },
   "file_extension": ".py",
   "mimetype": "text/x-python",
   "name": "python",
   "nbconvert_exporter": "python",
   "pygments_lexer": "ipython3",
   "version": "3.9.17"
  }
 },
 "nbformat": 4,
 "nbformat_minor": 5
}
