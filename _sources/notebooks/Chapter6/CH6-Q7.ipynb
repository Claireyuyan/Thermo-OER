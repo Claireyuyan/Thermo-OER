{
 "cells": [
  {
   "cell_type": "markdown",
   "id": "cfea6c85-8531-424e-9793-22b1cdefd9cf",
   "metadata": {},
   "source": [
    "# 6.9 Entropy generation: steam in Piston-cyclinder\n",
    "\n",
    "## Problem Statement:"
   ]
  },
  {
   "cell_type": "markdown",
   "id": "e93e9e17-31d7-49f5-9208-2c6d596d2aba",
   "metadata": {},
   "source": [
    "$1\\:kg$ of water is stored in a piston-cylinder system at its saturated liquid state at $T=100^{\\circ} C$. The system is then heated resulting in the piston moving up till the piston hits the maximum-capacity point at $V=0.5\\:m^3$ and stops moving. Heating is then continued untill water temperature reaches $T=200^{\\circ} C$. Determine,\n",
    "\n",
    "a) the final pressure of water\n",
    "\n",
    "b) boundary work \n",
    "\n",
    "c) the heat required\n",
    "\n",
    "d) total entropy change \n",
    "\n",
    "e) entropy generation given the heat comes from a source at $T=250^{\\circ} C$\n",
    "\n",
    "f) plot the process on a T-s diagram"
   ]
  },
  {
   "attachments": {},
   "cell_type": "markdown",
   "id": "51500cd4-0afb-4b84-b530-844658390995",
   "metadata": {},
   "source": [
    "![CH6-Q7.png](CH6-Q7.png)"
   ]
  },
  {
   "cell_type": "markdown",
   "id": "68be17be-dd6a-40f6-b9b8-5fd95b563edc",
   "metadata": {},
   "source": [
    "### Solution Approach for a)\n",
    "\n",
    "Lets number the initial state as (1), the point where the piston hits max capacity (2) and the final state as (3).\n",
    "\n",
    "The volume (and specific volume) of water remains constant after reaching the maximum point, therefore\n",
    "\n",
    "$D_3=D_2$\n",
    "\n",
    "and\n",
    "\n",
    "$T_3=200^{\\circ} C$"
   ]
  },
  {
   "cell_type": "code",
   "execution_count": 1,
   "id": "ba7c0e72-2c1e-47fd-9f7a-c08e64e84baf",
   "metadata": {},
   "outputs": [
    {
     "name": "stdout",
     "output_type": "stream",
     "text": [
      "The pressure at state #3 is: 426.8 kPa\n"
     ]
    }
   ],
   "source": [
    "# import the libraries we'll need\n",
    "import CoolProp.CoolProp as CP\n",
    "import numpy as np\n",
    "import matplotlib.pyplot as plt\n",
    "\n",
    "m = 1   #fluid mass in kg\n",
    "V_2 = 0.5   #fluid volume at the state #2\n",
    "V_3 = V_2   #fluid volume at the state #3\n",
    "D_3 = m / V_3   #fluid density at state #3\n",
    "T_3 = 200 + 273.15   #fluid temperature at state #3\n",
    "fluid = \"water\"  # define the fluid or material of interest\n",
    "\n",
    "P_3 = CP.PropsSI(\"P\", \"T\", T_3, \"D\", D_3, fluid)   #fluid pressure at state #3\n",
    "print('The pressure at state #3 is:', f\"{P_3/1000:.1f}\", 'kPa')"
   ]
  },
  {
   "cell_type": "markdown",
   "id": "770eef5b-4ea7-4021-bb88-09c6b4ef2f29",
   "metadata": {},
   "source": [
    "### Solution Approach for b)\n",
    "\n",
    "boundary work from (2) to (3) is zero since the boundary is fixed. The process (1) to (2) is constant pressure, therefore\n",
    "\n",
    "$W=P(\\Delta V)$"
   ]
  },
  {
   "cell_type": "code",
   "execution_count": 2,
   "id": "f9112e3f-9960-4dc0-9002-54900116f22d",
   "metadata": {},
   "outputs": [
    {
     "name": "stdout",
     "output_type": "stream",
     "text": [
      "The boundary work for the process is: 50.6 kJ\n"
     ]
    }
   ],
   "source": [
    "T_1 = 100 + 273.15   #initial temperature in K\n",
    "P_1 = CP.PropsSI(\"P\", \"T\", T_1, \"Q\", 0, fluid)   #fluid pressure at state #1 in Pa\n",
    "D_1 = CP.PropsSI(\"D\", \"T\", T_1, \"Q\", 0, fluid)   #fluid density at state #1 in kg/m3\n",
    "V_1 = m / D_1   #fluid volume at state #1 in m3\n",
    "V_2 = 0.5   #fluid volume at state #2 in m3\n",
    "W = P_1 * (V_2 - V_1)   #boundary work for 1-2 in J\n",
    "\n",
    "print('The boundary work for the process is:', f\"{W/1000:.1f}\", 'kJ')"
   ]
  },
  {
   "cell_type": "markdown",
   "id": "f7dfd291-3f7c-4f62-a611-8b9cc0adbd4d",
   "metadata": {},
   "source": [
    "### Solution Approach for c)\n",
    "\n",
    "from the first law\n",
    "\n",
    "$Q=\\Delta U + W$"
   ]
  },
  {
   "cell_type": "code",
   "execution_count": 3,
   "id": "8f1f4727-72bd-467a-89ba-1586a359df8a",
   "metadata": {},
   "outputs": [
    {
     "name": "stdout",
     "output_type": "stream",
     "text": [
      "The heat required for the process is: 2277.7 kJ\n"
     ]
    }
   ],
   "source": [
    "u_1 = CP.PropsSI(\"U\", \"T\", T_1, \"Q\", 0, fluid)   #fluid internal energy at state #1 in J/kg\n",
    "u_3 = CP.PropsSI(\"U\", \"T\", T_3, \"D\", D_3, fluid)   #fluid internal energy at state #3 in J/kg\n",
    "dU = m * (u_3 - u_1)   #change in internal energy in J\n",
    "Q = dU + W   #heat required in J\n",
    "\n",
    "print('The heat required for the process is:', f\"{Q/1000:.1f}\", 'kJ')"
   ]
  },
  {
   "cell_type": "markdown",
   "id": "57a74a3d-22f7-45b0-8e94-145fc9e8fc5a",
   "metadata": {},
   "source": [
    "### Solution Approach for d)\n",
    "\n",
    "total entropy change would be\n",
    "\n",
    "$\\Delta S=m(s_3-s_1)$"
   ]
  },
  {
   "cell_type": "code",
   "execution_count": 4,
   "id": "b36b9396-6faf-40e7-8470-173967ec9961",
   "metadata": {},
   "outputs": [
    {
     "name": "stdout",
     "output_type": "stream",
     "text": [
      "The total entropy change for the process is: 5.8 kJ/kg.K\n"
     ]
    }
   ],
   "source": [
    "s_1 = CP.PropsSI(\"S\", \"T\", T_1, \"Q\", 0, fluid)   #fluid specific entropy at state #1 in J/kg.K\n",
    "s_3 = CP.PropsSI(\"S\", \"T\", T_3, \"D\", D_3, fluid)   #fluid specific entropy at state #3 in J/kg.K\n",
    "dS = m * (s_3 - s_1)\n",
    "\n",
    "print('The total entropy change for the process is:', f\"{dS/1000:.1f}\", 'kJ/kg.K')"
   ]
  },
  {
   "cell_type": "markdown",
   "id": "e5034a87-49de-4000-aeba-cd94d43022d1",
   "metadata": {},
   "source": [
    "### Solution Approach for e)\n",
    "\n",
    "$\\Delta S=Q/T+S_{gen}$\n",
    "\n",
    "so \n",
    "\n",
    "$S_{gen}=\\Delta S-Q/T_s$"
   ]
  },
  {
   "cell_type": "code",
   "execution_count": 5,
   "id": "b1c4f495-72bc-48a7-9c29-1d1d781e6e40",
   "metadata": {},
   "outputs": [
    {
     "name": "stdout",
     "output_type": "stream",
     "text": [
      "The total entropy generation for the process is: 1.5 kJ/kg.K\n"
     ]
    }
   ],
   "source": [
    "T_s = 250 + 273.15   #surrounding temperature in K\n",
    "S_gen = dS - Q/T_s   #entropy generation in J/kg.K\n",
    "print('The total entropy generation for the process is:', f\"{S_gen/1000:.1f}\", 'kJ/kg.K')"
   ]
  },
  {
   "cell_type": "markdown",
   "id": "f81b151f-24bf-4bab-8d8f-c7fd08acd2ed",
   "metadata": {},
   "source": [
    "### Solution Approach for e)\n",
    "\n",
    "The code at Q#5 of this chapter is used here"
   ]
  },
  {
   "cell_type": "code",
   "execution_count": 6,
   "id": "d3aa7b47-be67-49d3-8ba5-4573e3c23100",
   "metadata": {},
   "outputs": [
    {
     "data": {
      "text/plain": [
       "373.15"
      ]
     },
     "execution_count": 6,
     "metadata": {},
     "output_type": "execute_result"
    },
    {
     "data": {
      "image/png": "[encoded data removed]",
      "text/plain": [
       "<Figure size 640x480 with 1 Axes>"
      ]
     },
     "metadata": {},
     "output_type": "display_data"
    }
   ],
   "source": [
    "T_min = CP.PropsSI(\"Tmin\", fluid)  # triple-point temp for the fluid in K\n",
    "T_crit = CP.PropsSI(\"Tcrit\", fluid)   #critical point temperature in K\n",
    "T_vals = np.linspace(T_min, T_crit, 1000)  # define an array of values for temperature\n",
    "\n",
    "Q = 1  # define the fluid quality as 1, which is 100% vapor\n",
    "\n",
    "entropy = [CP.PropsSI(\"S\", \"T\", T, \"Q\", Q, fluid)/1000 for T in T_vals]  # call for entropy values using CoolProp\n",
    "\n",
    "plt.plot(entropy, T_vals, \"-b\", label=\"Saturation Line\")  # plot pressure vs enthalpy\n",
    "\n",
    "Q = 0  # define the fluid quality as 0, which is 100% liquid\n",
    "\n",
    "entropy = [CP.PropsSI(\"S\", \"T\", T, \"Q\", Q, fluid)/1000 for T in T_vals]  # call for entropy values using CoolProp\n",
    "\n",
    "plt.plot(entropy, T_vals, \"-b\")  # plot pressure vs enthalpy\n",
    "\n",
    "# process 1-2\n",
    "P = P_1   #constant pressure in Pa\n",
    "Q_1 = 0   #fluid quality at state #1\n",
    "\n",
    "P_2 = P_1   #constant pressure for 1-2\n",
    "T_2 = T_1   #constant temperature for 1-2 due to saturation\n",
    "D_2 = D_3   #constant volume for 2-3\n",
    "Q_2 = CP.PropsSI(\"Q\", \"P\", P_2, \"D\", D_2, fluid)   #fluid quality at state #2\n",
    "\n",
    "Q_vals = np.linspace(Q_1, Q_2, 1000)  # define an array of values for temperature\n",
    "\n",
    "entropy = [CP.PropsSI(\"S\", \"P\", P, \"Q\", Q, fluid)/1000 for Q in Q_vals]  # call for entropy values using CoolProp\n",
    "T_vals = np.linspace(T_1, T_2, 1000)   #constant temperature and pressure due to saturation 1-2\n",
    "\n",
    "plt.plot(entropy, T_vals, \"-r\", label=\"1-2\")  # plot pressure vs enthalpy\n",
    "\n",
    "#process 2-3\n",
    "D = D_3   #density kg/m3\n",
    "\n",
    "T_vals = np.linspace(T_2, T_3, 1000)    # define an array of values for temperature\n",
    "entropy = [CP.PropsSI(\"S\", \"T\", T, \"D\", D, fluid)/1000 for T in T_vals]  # call for entropy values using CoolProp\n",
    "\n",
    "plt.plot(entropy, T_vals, \"-g\", label=\"2-3\")  # plot pressure vs enthalpy\n",
    "\n",
    "plt.ylabel(\"Temperature [K]\")  # give y axis a label\n",
    "plt.xlabel(\"Entropy [kJ/kgK]\")  # give x axis a label\n",
    "plt.grid()\n",
    "plt.legend()\n",
    "T_2"
   ]
  }
 ],
 "metadata": {
  "kernelspec": {
   "display_name": "Python 3 (ipykernel)",
   "language": "python",
   "name": "python3"
  },
  "language_info": {
   "codemirror_mode": {
    "name": "ipython",
    "version": 3
   },
   "file_extension": ".py",
   "mimetype": "text/x-python",
   "name": "python",
   "nbconvert_exporter": "python",
   "pygments_lexer": "ipython3",
   "version": "3.9.17"
  }
 },
 "nbformat": 4,
 "nbformat_minor": 5
}
