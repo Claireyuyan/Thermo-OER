{
 "cells": [
  {
   "cell_type": "markdown",
   "id": "7d9eac64-b373-425a-ac7a-cc1c82eb39d0",
   "metadata": {},
   "source": [
    "# [Chapter 6.16](https://pressbooks.bccampus.ca/thermo1/chapter/6-0-chapter-introduction-and-learning-objectives/)\n",
    "\n",
    "## Question #16: Heat Pump Savings"
   ]
  },
  {
   "cell_type": "markdown",
   "id": "210ce942-73a5-4428-8a6b-849dbace9f39",
   "metadata": {},
   "source": [
    "Consider a house with an average heating load of $5\\:kW$ over the three months on winter in Vancouver. \n",
    "\n",
    "a) calculate the heating cost over the winter assuming an electric heater is used (12.21 cents per $kWh$ for electricity in Vancouver).\n",
    "\n",
    "Now consider using a heat pump with a $COP=2.5$ to supply heat.\n",
    "\n",
    "b) calculate the average electrivity consumption over the winter\n",
    "\n",
    "c) calculate the heating cost over the winter assuming a similar heat pump is used\n",
    "\n",
    "d) assuming a unit price of $250\\:CAD$ for a $5\\:kW$ electric heater and a unit price of $1300\\:CAD$ for a heat pump with the same heating load, how many years will take to justify the application of a heat pump over an electric heater?"
   ]
  },
  {
   "cell_type": "markdown",
   "id": "327847d8-8b5e-44b8-8f14-b93080ec1e0c",
   "metadata": {},
   "source": [
    "### Solution Approach for a)\n",
    "\n",
    "assuming a 90-day peried for the three months of winter and 24-hours per day"
   ]
  },
  {
   "cell_type": "code",
   "execution_count": 1,
   "id": "bc2f9045-da85-4c43-a2a7-687561c6ffab",
   "metadata": {},
   "outputs": [
    {
     "name": "stdout",
     "output_type": "stream",
     "text": [
      "The total heating price using an electric heater is: 1318.68 CAD\n"
     ]
    }
   ],
   "source": [
    "#define variables\n",
    "P = 12.21   #electricity price in cents per kWh\n",
    "Q_H_avg = 5E+3   #average heating load in W\n",
    "\n",
    "Q_H = Q_H_avg * 90 * 24 / 1000  #total heating load over the winter in kWh\n",
    "P_Q_H = Q_H * P /100   #total heating price in winter in CAD\n",
    "\n",
    "print('The total heating price using an electric heater is:', f\"{P_Q_H:.2f}\", 'CAD')"
   ]
  },
  {
   "cell_type": "markdown",
   "id": "69483335-c94c-4d87-903c-203cb94c3a07",
   "metadata": {},
   "source": [
    "### Solution Approach for b)\n",
    "\n",
    "for a heat pump\n",
    "\n",
    "$COP=Q_H/W$\n",
    "\n",
    "therefore\n",
    "\n",
    "$W=Q_H/COP$"
   ]
  },
  {
   "cell_type": "code",
   "execution_count": 2,
   "id": "803386ec-8850-4b68-a16e-a8d57f1d3b42",
   "metadata": {},
   "outputs": [
    {
     "name": "stdout",
     "output_type": "stream",
     "text": [
      "The average heating electrivity consumption over the winter using a heat pump is: 2.00 kW\n"
     ]
    }
   ],
   "source": [
    "#define variables\n",
    "COP = 2.5   #heat pump COP\n",
    "\n",
    "W_avg = Q_H_avg / COP   #average heating electrivity usage over the winter in W\n",
    "\n",
    "print('The average heating electrivity consumption over the winter using a heat pump is:', f\"{W_avg/1000:.2f}\", 'kW')"
   ]
  },
  {
   "cell_type": "markdown",
   "id": "80ee40a4-9091-4c90-9d36-6e599002310a",
   "metadata": {},
   "source": [
    "### Solution Approach for c)"
   ]
  },
  {
   "cell_type": "code",
   "execution_count": 3,
   "id": "24b2f39c-3511-44fc-aa67-abfadd5d1825",
   "metadata": {},
   "outputs": [
    {
     "name": "stdout",
     "output_type": "stream",
     "text": [
      "The total heating electrivity price using a heat pump is: 527.47 CAD\n"
     ]
    }
   ],
   "source": [
    "W = W_avg * 90 * 24 / 1000  #total electricity consumption over the winter in kWh\n",
    "P_W = W * P /100   #total heating electrivity price in winter in CAD\n",
    "\n",
    "print('The total heating electrivity price using a heat pump is:', f\"{P_W:.2f}\", 'CAD')"
   ]
  },
  {
   "cell_type": "markdown",
   "id": "42edf9ef-6b84-4d87-9829-2a15bce6a637",
   "metadata": {},
   "source": [
    "### Solution Approach for d)"
   ]
  },
  {
   "cell_type": "code",
   "execution_count": 4,
   "id": "4b1db9a5-bf36-47f3-a763-e7daf87ac326",
   "metadata": {},
   "outputs": [
    {
     "name": "stdout",
     "output_type": "stream",
     "text": [
      "It will take 1.3 years for the heat pump to save the unit price difference in electrivity consumption\n"
     ]
    }
   ],
   "source": [
    "#define prices\n",
    "U_E = 250   #unit price for a electric heater in CAD\n",
    "U_H = 1300   #unit price for a heat pump in CAD\n",
    "\n",
    "U_D = U_H - U_E   #unit price difference in CAD\n",
    "U_P = P_Q_H - P_W   #savings per winter using a heat pump in CAD\n",
    "\n",
    "Y = U_D / U_P   #number of years to make up the price difference\n",
    "\n",
    "print('It will take', f\"{Y:.1f}\", 'years for the heat pump to save the unit price difference in electrivity consumption')"
   ]
  }
 ],
 "metadata": {
  "kernelspec": {
   "display_name": "oer",
   "language": "python",
   "name": "oerminimal"
  },
  "language_info": {
   "codemirror_mode": {
    "name": "ipython",
    "version": 3
   },
   "file_extension": ".py",
   "mimetype": "text/x-python",
   "name": "python",
   "nbconvert_exporter": "python",
   "pygments_lexer": "ipython3",
   "version": "3.9.19"
  }
 },
 "nbformat": 4,
 "nbformat_minor": 5
}
