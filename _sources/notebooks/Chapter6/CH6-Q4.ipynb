{
    "cells": [
        {
            "cell_type": "markdown",
            "id": "fc4159d9-c319-4d65-bf16-424079a92137",
            "metadata": {},
            "source": [
                "# 6.5 Heat engine and refrigeration cycle\n",
                "\n",
                "## Problem Statement"
            ]
        },
        {
            "cell_type": "markdown",
            "id": "999d4ea8-3d2f-41b7-96a1-21f56daa2fdb",
            "metadata": {},
            "source": [
                "Work produced in a heat engine is used to drive the compressor of a refrigration cycle as shown in the figure below. The heat source of the heat engine gains heat at $T_{H@HE}=350^{\\circ} C$ and the refrigration cycle is meant to absorb heat from a cold room at $T_{L@Ref}=-10^{\\circ} C$. Heat dissipation of both cycles happen ideally at the temperature same as environment as $T_{L@HE}=T_{H@Ref}=25^{\\circ} C$. Given both the cycles are operating at their most idael condition, for $\\dot Q_{L@Ref}=10\\:kW$ of cooling required at the cold room, determine \n",
                "\n",
                "a) how much heat is to be supplied at the heat source $\\dot Q_{H@HE}$ and \n",
                "\n",
                "b) how much heat is dissipated to the environment ."
            ]
        },
        {
            "attachments": {},
            "cell_type": "markdown",
            "id": "d462b613-d5a5-4c37-b846-6eb1668c1ca0",
            "metadata": {},
            "source": [
                "![CH6-Q4.png](CH6-Q4.png)"
            ]
        },
        {
            "cell_type": "markdown",
            "id": "043d9266-b110-4f8e-b99e-aa1ede670c33",
            "metadata": {},
            "source": [
                "### Solution Approach for a)\n",
                "\n",
                "the most ideal case for the heat engine and the refrigration cycle happens when they operate as Carnot cycles. Therefore, fot the refrigration cycle\n",
                "\n",
                "$COP = \\dot Q_{L@Ref}/\\dot W=T_{L@Ref}/(T_{H@Ref}-T_{L@Ref})$\n",
                "\n",
                "and for the heat engine\n",
                "\n",
                "$\\eta=\\dot W/\\dot Q_{H@HE}=1-T_{L@HE}/T_{H@HE}$\n",
                "\n",
                "therfore the work exchange between the refrigration cycle and the heat engine would be\n",
                "\n",
                "$\\dot W=\\dot Q_{L@Ref}/COP$\n",
                "\n",
                "and the heat input from the heat source\n",
                "\n",
                "$\\dot Q_{H@HE}=\\dot W/\\eta$"
            ]
        },
        {
            "cell_type": "code",
            "execution_count": 1,
            "id": "a95fafc5-861c-4f79-b005-ae0acb9874f8",
            "metadata": {},
            "outputs": [
                {
                    "name": "stdout",
                    "output_type": "stream",
                    "text": [
                        "The amount of heat required is: 2.6 kW\n"
                    ]
                }
            ],
            "source": [
                "#define variables\n",
                "import numpy as np\n",
                "\n",
                "T_HHE = 350 + 273.15   #heat source temperature in K\n",
                "T_LRef = -10 + 273.15   #cold room temperature in K\n",
                "T_LHE = 25 + 273.15   #heat engine sink temperature in K\n",
                "T_HRef = 25 + 273.15   #heat sink temperature for refrigration cycle in K\n",
                "Q_LRef = 10E+3   #cooling load required in W\n",
                "\n",
                "COP = T_LRef / (T_HRef - T_LRef)   #COP of the refrigration cycle\n",
                "W = Q_LRef / COP   #work exchange in W\n",
                "\n",
                "etha = 1 - T_LHE / T_HHE   #efficiency of the heat engine\n",
                "Q_HHE = W / etha   #heat received from heat source in W\n",
                "\n",
                "Q_HHE\n",
                "print('The amount of heat required is:', f\"{Q_HHE/1000:.1f}\", 'kW')"
            ]
        },
        {
            "cell_type": "markdown",
            "id": "85bf51a9-625b-4975-b93a-8e9c23d6c649",
            "metadata": {},
            "source": [
                "### Solution Approach for b)\n",
                "\n",
                "looking at the system as a whole, based on the first law\n",
                "\n",
                "$\\dot Q_{in} = \\dot Q_{out}$\n",
                "\n",
                "$\\dot Q_{H@HE}+\\dot Q_{L@Ref}=\\dot Q_{L@HE}+\\dot Q_{H@Ref}$\n",
                "\n",
                "and the total heat dissipated to the environment is \n",
                "\n",
                "$\\dot Q_L=\\dot Q_{L@HE}+\\dot Q_{H@Ref}$\n",
                "\n",
                "therefore\n",
                "\n",
                "$\\dot Q_L=\\dot Q_{H@HE}+\\dot Q_{L@Ref}$"
            ]
        },
        {
            "cell_type": "code",
            "execution_count": 2,
            "id": "3065904d-95a3-457e-9fb1-25acbb147177",
            "metadata": {},
            "outputs": [
                {
                    "name": "stdout",
                    "output_type": "stream",
                    "text": [
                        "The total amount of heat dissipated to the environment is: 12.6 kW\n"
                    ]
                }
            ],
            "source": [
                "Q_L = Q_LRef + Q_HHE   #total heat dissipation\n",
                "\n",
                "print('The total amount of heat dissipated to the environment is:', f\"{Q_L/1000:.1f}\", 'kW')"
            ]
        }
    ],
    "metadata": {
        "kernelspec": {
            "display_name": "oer",
            "language": "python",
            "name": "oerminimal"
        },
        "language_info": {
            "codemirror_mode": {
                "name": "ipython",
                "version": 3
            },
            "file_extension": ".py",
            "mimetype": "text/x-python",
            "name": "python",
            "nbconvert_exporter": "python",
            "pygments_lexer": "ipython3",
            "version": "3.11.5"
        }
    },
    "nbformat": 4,
    "nbformat_minor": 5
}