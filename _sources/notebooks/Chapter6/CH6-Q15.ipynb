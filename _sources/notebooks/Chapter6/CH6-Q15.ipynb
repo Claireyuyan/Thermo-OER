{
 "cells": [
  {
   "cell_type": "markdown",
   "id": "fda800b5-9a8e-4714-b9b6-977de48052a0",
   "metadata": {},
   "source": [
    "# 6.16 Multilevel Carnot Heat Engine"
   ]
  },
  {
   "cell_type": "markdown",
   "id": "1085e97a-e2d1-435a-841b-f2d0c15fa2a4",
   "metadata": {},
   "source": [
    "## Problem Statement"
   ]
  },
  {
   "cell_type": "markdown",
   "id": "42c92f3a-3dfa-44c7-af5f-9e7f858703b9",
   "metadata": {},
   "source": [
    "Consider a two-level heat engine working between a heat source ($\\dot Q_H=100\\:kW$) at $T_H=400^\\circ C$ and a heat sink at $T_L=0^\\circ C$. The heat rejected from the first level ($HE_1$) is used as input to the second level ($HE_2$). The heat transfer between two levels ($\\dot Q_M$) happens at a medium temperature ($T_M$). \n",
    "\n",
    "a) Plot the efficiency of the system based on the medium temperature ($T_M$) assuming Carnot cycles for both the heat engines. How is the trend? \n",
    "\n",
    "b) Try proving mathematically "
   ]
  },
  {
   "attachments": {},
   "cell_type": "markdown",
   "id": "6d532e9a-9170-4f00-8b95-91d85ee477dc",
   "metadata": {},
   "source": [
    "![CH6-Q15.png](CH6-Q15.png)"
   ]
  },
  {
   "cell_type": "markdown",
   "id": "7c4ffee1-5eed-4cc7-907a-0752fb3aa473",
   "metadata": {},
   "source": [
    "### Solution Approach for a)\n",
    "\n",
    "for a Carnot cycle,\n",
    "\n",
    "$\\eta_{Carnot}=1-T_M/T_H=\\dot W_1/\\dot Q_H$\n",
    "\n",
    "and from the first law\n",
    "\n",
    "$\\dot Q_H=\\dot Q_M+\\dot W_1$\n",
    "\n",
    "the same principle applies for the heat engine working at lower temperatures"
   ]
  },
  {
   "cell_type": "code",
   "execution_count": 1,
   "id": "ab358185-9576-4d0c-842d-a9cad9b9232d",
   "metadata": {},
   "outputs": [
    {
     "data": {
      "text/plain": [
       "Text(0.5, 0, 'Medium Temperature(C)')"
      ]
     },
     "execution_count": 1,
     "metadata": {},
     "output_type": "execute_result"
    },
    {
     "data": {
      "image/png": "[encoded data removed]",
      "text/plain": [
       "<Figure size 640x480 with 1 Axes>"
      ]
     },
     "metadata": {},
     "output_type": "display_data"
    }
   ],
   "source": [
    "#import the libraries we'll need\n",
    "import numpy as np\n",
    "import matplotlib.pyplot as plt\n",
    "\n",
    "Q_H = 100   #heat input in kW\n",
    "T_H = 400 + 273.15   #heat source temperature in K\n",
    "T_L = 0 + 273.15   #heat sink temperature in K\n",
    "\n",
    "T_M = np.linspace(T_L, T_H, 1000)  # define an array of values for the medium temperature (T_M)\n",
    "\n",
    "etha_1 = 1 - T_M / T_H   #efficiency values for heat engine #1\n",
    "W_1 = etha_1 * Q_H   #work values for heat engine #1 in kW\n",
    "Q_M = Q_H - W_1   #heat exchange between heat engines is kW\n",
    "\n",
    "etha_2 = 1 - T_L / T_M   #efficiency values for heat engine #2\n",
    "W_2 = etha_2 * Q_M   #work values for heat engine #1 in kW\n",
    "\n",
    "etha = (W_1 + W_2) / Q_H   #overall efficiency\n",
    "\n",
    "T_M_C = T_M - 273.15   #medium temperature in C\n",
    "plt.plot(T_M_C, etha)\n",
    "\n",
    "plt.ylabel(\"Overall Efficiency\")  # give y axis a label\n",
    "plt.xlabel(\"Medium Temperature(C)\")  # give x axis a label"
   ]
  },
  {
   "cell_type": "markdown",
   "id": "2f1cc8b2-3ef1-4296-8b9e-83a61ea5998f",
   "metadata": {},
   "source": [
    "### Solution Approach for b)\n",
    "\n",
    "The overall efficiency of the system is based on heat input and total work\n",
    "\n",
    "$\\eta=\\dot W/\\dot Q_H=(\\dot W_1+\\dot W_2)/\\dot Q_H$\n",
    "\n",
    "for heat engine (1)\n",
    "\n",
    "$\\eta_1=\\dot W_1/\\dot Q_H=\\eta_{Carnot}=1-T_M/T_H$\n",
    "\n",
    "therefore\n",
    "\n",
    "$\\dot W_1=\\dot Q_H(1-T_M/T_H)$\n",
    "\n",
    "for heat engine (2)\n",
    "\n",
    "$\\eta_2=\\dot W_2/\\dot Q_M=\\eta_{Carnot}=1-T_L/T_M$\n",
    "\n",
    "therefore\n",
    "\n",
    "$\\dot W_2=\\dot Q_M(1-T_L/T_M)$\n",
    "\n",
    "from the first law for heat engine (1)\n",
    "\n",
    "$\\dot Q_H=\\dot Q_M+\\dot W_1$\n",
    "\n",
    "so \n",
    "\n",
    "$\\dot Q_M=\\dot Q_H-\\dot W_1=\\dot Q_H-\\dot Q_H(1-T_M/T_H)=\\dot Q_H(T_M/T_H)$\n",
    "\n",
    "substituting into the equation for $\\dot W_2$\n",
    "\n",
    "$\\dot W_2=\\dot Q_H(T_M/T_H)(1-T_L/T_M)=\\dot Q_H(T_M-T_L)/T_H$\n",
    "\n",
    "substituting into the equation for $\\eta$\n",
    "\n",
    "$\\eta=(1-T_M/T_H)+(T_M-T_L)/T_H=1-T_L/T_H$\n",
    "\n",
    "which is independent of the medium temperature"
   ]
  }
 ],
 "metadata": {
  "kernelspec": {
   "display_name": "oer",
   "language": "python",
   "name": "oer"
  },
  "language_info": {
   "codemirror_mode": {
    "name": "ipython",
    "version": 3
   },
   "file_extension": ".py",
   "mimetype": "text/x-python",
   "name": "python",
   "nbconvert_exporter": "python",
   "pygments_lexer": "ipython3",
   "version": "3.11.5"
  }
 },
 "nbformat": 4,
 "nbformat_minor": 5
}
