{
 "cells": [
  {
   "cell_type": "markdown",
   "id": "941f41ed-8ad6-4123-8e73-afb60fe1980f",
   "metadata": {},
   "source": [
    "# [Chapter 6](https://pressbooks.bccampus.ca/thermo1/chapter/6-0-chapter-introduction-and-learning-objectives/)\n",
    "\n",
    "## Question #18: Heat Pumps to Save Electricity"
   ]
  },
  {
   "cell_type": "markdown",
   "id": "08a41f78-38fa-4379-b1d6-8e3d1637e5ac",
   "metadata": {},
   "source": [
    "A residential building is using electric element heaters to supply $Q=20:\\kW$ of peak heating load. The building is forced to decrease its electricity consumption by 30%. To this end, a team of consultants recommended using heat pumps with a nominal heating power of $Q_H=1:\\kW$ and $COP=3.4$. Calculate how many heat pumps have to be used to meet the policy."
   ]
  },
  {
   "cell_type": "markdown",
   "id": "d8eb05cc-6689-40a0-9a8c-ac444ba24c96",
   "metadata": {},
   "source": [
    "### Solution Approach a)\n",
    "\n",
    "first the amount of electricity savings is to be calculated per heat pump. Then the number of heat pumps are calculated based on how much total electricity has to be saved to meet the criteria. For a heat pump,\n",
    "\n",
    "$COP=Q_H/W$\n",
    "\n",
    "so\n",
    "\n",
    "$W=Q_H/COP$\n",
    "\n",
    "and the amount of saved energy compared to element electric heater is\n",
    "\n",
    "$S=Q_H-W=Q_H(1-1/COP)$"
   ]
  },
  {
   "cell_type": "code",
   "execution_count": 17,
   "id": "e39bf93c-a03c-44d6-a9eb-f78e4e85e285",
   "metadata": {},
   "outputs": [
    {
     "name": "stdout",
     "output_type": "stream",
     "text": [
      "The minimum number of heat pumps required is: 8.5\n"
     ]
    }
   ],
   "source": [
    "#define variables\n",
    "Q = 20E+3   #total heating load in W\n",
    "Q_H = 1E+3   #heating capacity of each heat pump\n",
    "COP = 3.4   #COP of heat pumps\n",
    "\n",
    "S = Q_H * (1 - 1 / COP)   #electricity savings by each heat pump in W\n",
    "\n",
    "Q_S = 0.3 * Q   #total electricity savings required in W\n",
    "\n",
    "n = Q_S / S   #number of heat pumps required\n",
    "\n",
    "print('The minimum number of heat pumps required is:', f\"{n:.1f}\")"
   ]
  }
 ],
 "metadata": {
  "kernelspec": {
   "display_name": "oer",
   "language": "python",
   "name": "oerminimal"
  },
  "language_info": {
   "codemirror_mode": {
    "name": "ipython",
    "version": 3
   },
   "file_extension": ".py",
   "mimetype": "text/x-python",
   "name": "python",
   "nbconvert_exporter": "python",
   "pygments_lexer": "ipython3",
   "version": "3.9.19"
  }
 },
 "nbformat": 4,
 "nbformat_minor": 5
}
