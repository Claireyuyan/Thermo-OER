{
 "cells": [
  {
   "cell_type": "markdown",
   "id": "7d36e9be-e2c0-4633-a5bd-b903eff224fd",
   "metadata": {},
   "source": [
    "# Entropy generation: Polytropic compression of Air"
   ]
  },
  {
   "cell_type": "markdown",
   "id": "4263699c-9c7b-4338-b688-e400a151c537",
   "metadata": {},
   "source": [
    "Air is compressed in a polytropic process with $n=1.3$ from $P_1=10\\:kPa$ and room temperature $T_1=25^{\\circ} C$ to $P_2=100\\:kPa$. Assuming ideal gas application for air, calculate:\n",
    "\n",
    "a) final temperature of air\n",
    "\n",
    "b) work associated with the process\n",
    "\n",
    "c) heat associated with the process\n",
    "\n",
    "d) changes in entropy during this process\n",
    "\n",
    "e) entropy generation for the process given the heat is exchanged with ambient at a constant temperature $T_{amb}=25^{\\circ} C$"
   ]
  },
  {
   "cell_type": "markdown",
   "id": "5b97159c-97b9-4bc8-bb06-9c487ddfdef0",
   "metadata": {},
   "source": [
    "### Solution Approach for a)\n",
    "\n",
    "for a polytropic process\n",
    "\n",
    "$Pv^n=constant$\n",
    "\n",
    "combined with ideal gas correlation for temperature,\n",
    "\n",
    "$T_2/T_1=(P_2/P_1)^{(n-1)/n}$"
   ]
  },
  {
   "cell_type": "code",
   "execution_count": 1,
   "id": "bc31f9cd-1bc2-4104-a203-cb6a1abfc479",
   "metadata": {},
   "outputs": [
    {
     "name": "stdout",
     "output_type": "stream",
     "text": [
      "The final temperature of air is: 234.1 C\n"
     ]
    }
   ],
   "source": [
    "#define variables\n",
    "n = 1.3   #polytropic constant\n",
    "P_1 = 10E+3   #initial pressure in Pa\n",
    "T_1 = 25 + 273.15   #initial temperature in K\n",
    "P_2 = 100E+3   #final pressure in Pa\n",
    "\n",
    "T_2 = T_1 * (P_2/P_1) ** ((n-1)/n)\n",
    "print('The final temperature of air is:', f\"{T_2-273.15:.1f}\", 'C')"
   ]
  },
  {
   "cell_type": "markdown",
   "id": "7d1c70c9-4c3c-4787-9a82-e507f04345e0",
   "metadata": {},
   "source": [
    "### Solution Approach for b)\n",
    "\n",
    "for a polytropic process\n",
    "\n",
    "$w=(P_2v_2-P_1v_1)/(1-n)$\n",
    "\n",
    "applying ideal gas law\n",
    "\n",
    "$w=R(T_2-T_1)/(1-n)$"
   ]
  },
  {
   "cell_type": "code",
   "execution_count": 2,
   "id": "b67235bb-8556-44b1-8196-f0e56783a17a",
   "metadata": {},
   "outputs": [
    {
     "name": "stdout",
     "output_type": "stream",
     "text": [
      "The specific work associated with the process is: -200.0 kJ/kg\n"
     ]
    }
   ],
   "source": [
    "#define variables\n",
    "R = 0.287   #air gas constant in kJ/kg.K\n",
    "C_v = 0.718   #air specific heat in constant colume kJ/kg.K\n",
    "C_p = 1.005   #air specific heat in constant pressure kJ/kg.K\n",
    "\n",
    "w = R * (T_2 - T_1) / (1 - n)\n",
    "\n",
    "print('The specific work associated with the process is:', f\"{w:.1f}\", 'kJ/kg')"
   ]
  },
  {
   "cell_type": "markdown",
   "id": "52cf4c65-ec1d-475b-8ce5-60ebd2510c1e",
   "metadata": {},
   "source": [
    "### Solution Approach for c)\n",
    "\n",
    "from the first law\n",
    "\n",
    "$q=\\Delta u+w$\n",
    "\n",
    "and the change in internal energy for ideal gases\n",
    "\n",
    "$\\Delta u=C_v\\Delta T$"
   ]
  },
  {
   "cell_type": "code",
   "execution_count": 3,
   "id": "963920b0-d717-4a5d-970e-99f997799f07",
   "metadata": {},
   "outputs": [
    {
     "name": "stdout",
     "output_type": "stream",
     "text": [
      "The specific heat associated with the process is: -49.9 kJ/kg\n"
     ]
    }
   ],
   "source": [
    "\n",
    "du = C_v * (T_2 - T_1)   #change in internal energy kJ/kg\n",
    "q = du + w   #heat for the process in kJ/kg\n",
    "\n",
    "print('The specific heat associated with the process is:', f\"{q:.1f}\", 'kJ/kg')"
   ]
  },
  {
   "cell_type": "markdown",
   "id": "174962e1-6398-4bd8-8509-35560c537f69",
   "metadata": {},
   "source": [
    "### Solution Approach for d)\n",
    "\n",
    "the change in entropy for a polytropic process in an ideal gas is \n",
    "\n",
    "$s_2-s_1=C_pln(T_2/T_1)-Rln(P_2/P_1)$"
   ]
  },
  {
   "cell_type": "code",
   "execution_count": 4,
   "id": "220ba460-2dfd-4aa2-b6d8-3dcf5f19d594",
   "metadata": {},
   "outputs": [
    {
     "name": "stdout",
     "output_type": "stream",
     "text": [
      "The specific changes in entropy is: -0.127 kJ/kg.K\n"
     ]
    }
   ],
   "source": [
    "# import the libraries we'll need\n",
    "import numpy as np\n",
    "\n",
    "ds = C_p * np.log(T_2/T_1) - R * np.log(P_2/P_1)\n",
    "print('The specific changes in entropy is:', f\"{ds:.3f}\", 'kJ/kg.K')"
   ]
  },
  {
   "cell_type": "markdown",
   "id": "c22e3068-2b5b-49e2-a78a-9c13d737c883",
   "metadata": {},
   "source": [
    "### Solution Approach for e)\n",
    "\n",
    "$\\Delta s=q/T + s_{gen}$\n",
    "\n",
    "therefore\n",
    "\n",
    "$s_{gen}=\\Delta s-q/T$"
   ]
  },
  {
   "cell_type": "code",
   "execution_count": 5,
   "id": "c71ca0a1-8325-428f-9c69-930c9031ea41",
   "metadata": {},
   "outputs": [
    {
     "name": "stdout",
     "output_type": "stream",
     "text": [
      "The specific entropy generation is: 0.041 kJ/kg.K\n"
     ]
    }
   ],
   "source": [
    "#define ambient variable\n",
    "T_amb = 25 + 273.15   #ambient temperature in K\n",
    "s_gen = ds - q / T_amb   #entropy generation in kJ/kg.K\n",
    "\n",
    "print('The specific entropy generation is:', f\"{s_gen:.3f}\", 'kJ/kg.K')"
   ]
  }
 ],
 "metadata": {
  "kernelspec": {
   "display_name": "Python 3 (ipykernel)",
   "language": "python",
   "name": "python3"
  },
  "language_info": {
   "codemirror_mode": {
    "name": "ipython",
    "version": 3
   },
   "file_extension": ".py",
   "mimetype": "text/x-python",
   "name": "python",
   "nbconvert_exporter": "python",
   "pygments_lexer": "ipython3",
   "version": "3.9.17"
  }
 },
 "nbformat": 4,
 "nbformat_minor": 5
}
