{
    "cells": [
        {
            "cell_type": "markdown",
            "id": "0abe11bb",
            "metadata": {},
            "source": [
                "# Isochoric Process for a Gas - Problem 3\n",
                "\n",
                "## Problem Statement:\n",
                "Consider a container with a fixed volume of 0.3 m\u00b3 that initially contains helium gas at a temperature of 15\u00b0C \n",
                "and a pressure of 100 kPa. The gas undergoes an isochoric (constant volume) heating process until its pressure triples. \n",
                "Calculate:\n",
                "1. The final temperature of the helium gas.\n",
                "2. The change in internal energy of the gas during this process, assuming the specific heat at constant volume (Cv) is known.\n",
                "3. The total heat transfer to the helium gas.\n",
                "\n",
                "Use the ideal gas law and assume helium behaves as an ideal gas."
            ]
        },
        {
            "cell_type": "code",
            "execution_count": 3,
            "id": "7ce2f516",
            "metadata": {},
            "outputs": [
                {
                    "name": "stdout",
                    "output_type": "stream",
                    "text": [
                        "Final Temperature (T2): 864.45 K\n",
                        "Change in internal energy (\u0394u): 1795837.79561444 J\n",
                        "Total heat transfer (Q): 1795837.79561444 J\n"
                    ]
                }
            ],
            "source": [
                "## Solution:\n",
                "\n",
                "import CoolProp.CoolProp as CP\n",
                "import math\n",
                "\n",
                "# Given values\n",
                "V = 0.3  # Volume in m^3\n",
                "T1 = 15 + 273.15  # Initial temperature in Kelvin\n",
                "P1 = 100000  # Initial pressure in Pa (100 kPa)\n",
                "P2 = 3 * P1  # Final pressure (tripled)\n",
                "gas = 'Helium'\n",
                "\n",
                "# 1. Final Temperature (T2)\n",
                "# Since the process is isochoric, P1/T1 = P2/T2 (Ideal Gas Law)\n",
                "T2 = P2 * T1 / P1\n",
                "\n",
                "# 2. Change in internal energy (\u0394u)\n",
                "Cv = CP.PropsSI('Cvmass', 'T', T1, 'P', P1, gas)  # Cv for helium\n",
                "delta_u = Cv * (T2 - T1)\n",
                "\n",
                "# 3. Total heat transfer (Q)\n",
                "# For an isochoric process, Q = \u0394u (First Law of Thermodynamics)\n",
                "Q = delta_u\n",
                "\n",
                "# Output the results\n",
                "print(f\"Final Temperature (T2): {T2} K\")\n",
                "print(f\"Change in internal energy (\u0394u): {delta_u} J\")\n",
                "print(f\"Total heat transfer (Q): {Q} J\")"
            ]
        },
        {
            "cell_type": "code",
            "execution_count": null,
            "id": "428567dc",
            "metadata": {},
            "outputs": [],
            "source": []
        }
    ],
    "metadata": {
        "kernelspec": {
            "display_name": "oer",
            "language": "python",
            "name": "oerminimal"
        },
        "language_info": {
            "codemirror_mode": {
                "name": "ipython",
                "version": 3
            },
            "file_extension": ".py",
            "mimetype": "text/x-python",
            "name": "python",
            "nbconvert_exporter": "python",
            "pygments_lexer": "ipython3",
            "version": "3.7.16"
        },
        "toc": {
            "base_numbering": 1,
            "nav_menu": {},
            "number_sections": true,
            "sideBar": true,
            "skip_h1_title": false,
            "title_cell": "Table of Contents",
            "title_sidebar": "Contents",
            "toc_cell": true,
            "toc_position": {},
            "toc_section_display": true,
            "toc_window_display": false
        }
    },
    "nbformat": 4,
    "nbformat_minor": 5
}