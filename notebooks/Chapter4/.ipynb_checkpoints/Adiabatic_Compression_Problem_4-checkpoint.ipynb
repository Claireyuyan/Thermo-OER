{
 "cells": [
  {
   "cell_type": "markdown",
   "id": "097abb87",
   "metadata": {},
   "source": [
    "# Adiabatic Compression of an Ideal Gas - Problem 4\n",
    "\n",
    "## Problem Statement:\n",
    "A piston-cylinder device initially contains 2 kg of air at 25°C and 1 atm. \n",
    "The air is compressed adiabatically to one-eighth of its original volume. \n",
    "Calculate:\n",
    "1. The final temperature and pressure of the air.\n",
    "2. The work done during this adiabatic compression process.\n",
    "3. Assuming air behaves as an ideal gas with a specific heat ratio (γ), determine the change in internal energy."
   ]
  },
  {
   "cell_type": "markdown",
   "id": "b84dba48",
   "metadata": {},
   "source": [
    "## Solution:"
   ]
  },
  {
   "cell_type": "code",
   "execution_count": 1,
   "id": "0db49b69",
   "metadata": {},
   "outputs": [
    {
     "name": "stdout",
     "output_type": "stream",
     "text": [
      "Final Temperature (T2): 687.4892957933447 K\n",
      "Final Pressure (P2): 1869122.331611891 Pa\n",
      "Work done (W): -329333.96826693474 J\n",
      "Change in internal energy (Δu): 329333.96826693474 J\n"
     ]
    }
   ],
   "source": [
    "import CoolProp.CoolProp as CP\n",
    "import math\n",
    "\n",
    "# Given values\n",
    "m = 2.0  # Mass of air in kg\n",
    "T1 = 25 + 273.15  # Initial temperature in Kelvin\n",
    "P1 = 101325  # Initial pressure in Pa (1 atm)\n",
    "V1 = 1.0  # Initial volume (arbitrary value)\n",
    "V2 = V1 / 8  # Final volume (one-eighth of initial)\n",
    "gamma = CP.PropsSI('Cpmass', 'T', T1, 'P', P1, 'Air') / CP.PropsSI('Cvmass', 'T', T1, 'P', P1, 'Air')  # γ for air\n",
    "\n",
    "# 1. Final Temperature and Pressure (T2, P2)\n",
    "# For adiabatic process, T1 * V1^(gamma - 1) = T2 * V2^(gamma - 1)\n",
    "T2 = T1 * (V1 / V2) ** (gamma - 1)\n",
    "# P2 using the adiabatic relation P2 * V2^gamma = P1 * V1^gamma\n",
    "P2 = P1 * (V1 / V2) ** gamma\n",
    "\n",
    "# 2. Work done (W)\n",
    "# For adiabatic process, W = (P1 * V1 - P2 * V2) / (gamma - 1)\n",
    "W = (P1 * V1 - P2 * V2) / (gamma - 1)\n",
    "\n",
    "# 3. Change in internal energy (Δu)\n",
    "# Δu = Q - W, but for adiabatic process, Q = 0\n",
    "delta_u = -W\n",
    "\n",
    "# Output the results\n",
    "print(f\"Final Temperature (T2): {T2} K\")\n",
    "print(f\"Final Pressure (P2): {P2} Pa\")\n",
    "print(f\"Work done (W): {W} J\")\n",
    "print(f\"Change in internal energy (Δu): {delta_u} J\")"
   ]
  }
 ],
 "metadata": {
  "kernelspec": {
   "display_name": "Python 3 (ipykernel)",
   "language": "python",
   "name": "python3"
  },
  "language_info": {
   "codemirror_mode": {
    "name": "ipython",
    "version": 3
   },
   "file_extension": ".py",
   "mimetype": "text/x-python",
   "name": "python",
   "nbconvert_exporter": "python",
   "pygments_lexer": "ipython3",
   "version": "3.7.16"
  },
  "toc": {
   "base_numbering": 1,
   "nav_menu": {},
   "number_sections": true,
   "sideBar": true,
   "skip_h1_title": false,
   "title_cell": "Table of Contents",
   "title_sidebar": "Contents",
   "toc_cell": true,
   "toc_position": {},
   "toc_section_display": true,
   "toc_window_display": false
  }
 },
 "nbformat": 4,
 "nbformat_minor": 5
}
