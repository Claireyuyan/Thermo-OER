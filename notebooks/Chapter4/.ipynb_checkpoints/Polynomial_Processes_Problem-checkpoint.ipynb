{
    "cells": [
        {
            "cell_type": "markdown",
            "id": "7d639407",
            "metadata": {},
            "source": [
                "### Problem Statement:\n",
                "Consider an ideal gas undergoing a polytropic process. The initial state of the gas is characterized by a pressure \\( P_1 = 200 \\, \text{kPa} \\) and a specific volume \\( v_1 = 0.05 \\, \text{m}^3/\text{kg} \\). At the final state, the specific volume is \\( v_2 = 0.1 \\, \text{m}^3/\text{kg} \\). Analyze the process for polytropic exponents \\( n = 1.3 \\), \\( n = 1.0 \\) (isothermal process), and \\( n = 0 \\) (constant pressure process).\n",
                "\n",
                "1. **Sketching the Processes**: Plot the three processes on a Pressure-Volume (P-v) diagram.\n",
                "2. **Calculating Specific Boundary Work**: Calculate the specific boundary work for all three processes and determine which process has the larger specific boundary work.\n",
                "3. **Comparative Analysis**: Discuss the differences observed in the P-v diagram and the specific boundary work for the different values of \\( n \\).\n"
            ]
        },
        {
            "cell_type": "code",
            "execution_count": null,
            "id": "aa84c69a",
            "metadata": {},
            "outputs": [],
            "source": [
                "import matplotlib.pyplot as plt\n",
                "import numpy as np\n",
                "\n",
                "# Given values\n",
                "P1 = 200  # Initial pressure in kPa\n",
                "v1 = 0.05  # Initial specific volume in m^3/kg\n",
                "v2 = 0.1   # Final specific volume in m^3/kg\n",
                "n_values = [1.3, 1.0, 0]  # Polytropic exponents\n",
                "\n",
                "# Function to calculate final pressure based on polytropic relation\n",
                "def final_pressure(P1, v1, v2, n):\n",
                "    if n == 0:  # Constant pressure process\n",
                "        return P1\n",
                "    else:\n",
                "        return P1 * (v1 / v2) ** n\n",
                "\n",
                "# Function to calculate work done\n",
                "def work_done(P1, v1, v2, n):\n",
                "    P2 = final_pressure(P1, v1, v2, n)\n",
                "    if n == 1:  # Isothermal process\n",
                "        return P1 * v1 * np.log(v2 / v1)\n",
                "    elif n == 0:  # Constant pressure process\n",
                "        return P1 * (v2 - v1)\n",
                "    else:  # Polytropic process\n",
                "        return (P1 * v1 - P2 * v2) / (1 - n)\n",
                "\n",
                "# Plotting the P-v diagram\n",
                "v = np.linspace(v1, v2, 100)\n",
                "plt.figure(figsize=(8, 6))\n",
                "\n",
                "for n in n_values:\n",
                "    P = final_pressure(P1, v1, v, n)\n",
                "    plt.plot(v, P, label=f'n = {n}')\n",
                "\n",
                "    # Calculating and displaying the work done\n",
                "    W = work_done(P1, v1, v2, n) / 1000  # Convert to kJ\n",
                "    print(f'Work done for n = {n}: {round(W, 1)} kJ')\n",
                "\n",
                "plt.xlabel('Specific Volume (m^3/kg)')\n",
                "plt.ylabel('Pressure (kPa)')\n",
                "plt.title('P-v Diagram for Polytropic Processes')\n",
                "plt.legend()\n",
                "plt.grid(True)\n",
                "plt.show()\n"
            ]
        }
    ],
    "metadata": {
        "kernelspec": {
            "display_name": "oer",
            "language": "python",
            "name": "oerminimal"
        },
        "language_info": {
            "codemirror_mode": {
                "name": "ipython",
                "version": 3
            },
            "file_extension": ".py",
            "mimetype": "text/x-python",
            "name": "python",
            "nbconvert_exporter": "python",
            "pygments_lexer": "ipython3",
            "version": "3.7.16"
        },
        "toc": {
            "base_numbering": 1,
            "nav_menu": {},
            "number_sections": true,
            "sideBar": true,
            "skip_h1_title": false,
            "title_cell": "Table of Contents",
            "title_sidebar": "Contents",
            "toc_cell": true,
            "toc_position": {},
            "toc_section_display": true,
            "toc_window_display": false
        }
    },
    "nbformat": 4,
    "nbformat_minor": 5
}