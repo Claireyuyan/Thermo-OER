{
    "cells": [
        {
            "cell_type": "markdown",
            "id": "ffe62a4e",
            "metadata": {},
            "source": [
                "# Heat Transfer in a Rigid Container - Problem 5\n",
                "\n",
                "## Problem Statement:\n",
                "A rigid container is initially filled with 0.5 kg of carbon dioxide at 20\u00b0C and 100 kPa. \n",
                "The container is then heated until the temperature of the gas reaches 80\u00b0C. \n",
                "Calculate the amount of heat transferred to the carbon dioxide and the change in its internal energy."
            ]
        },
        {
            "cell_type": "markdown",
            "id": "adcc5496",
            "metadata": {},
            "source": [
                "## Solution:"
            ]
        },
        {
            "cell_type": "code",
            "execution_count": 2,
            "id": "29041217",
            "metadata": {},
            "outputs": [
                {
                    "name": "stdout",
                    "output_type": "stream",
                    "text": [
                        "Change in internal energy (\u0394u): 19572.30434260283 J\n",
                        "Total heat transfer (Q): 19572.30434260283 J\n"
                    ]
                }
            ],
            "source": [
                "import CoolProp.CoolProp as CP\n",
                "\n",
                "# Given values\n",
                "m = 0.5  # Mass of carbon dioxide in kg\n",
                "T1 = 20 + 273.15  # Initial temperature in Kelvin\n",
                "T2 = 80 + 273.15  # Final temperature in Kelvin\n",
                "gas = 'CarbonDioxide'\n",
                "\n",
                "# 1. Change in internal energy (\u0394u)\n",
                "Cv = CP.PropsSI('Cvmass', 'T', T1, 'P', 100000, gas)  # Cv for carbon dioxide\n",
                "delta_u = Cv * (T2 - T1) * m\n",
                "\n",
                "# 2. Total heat transfer (Q)\n",
                "# For a rigid container, Q = \u0394u (First Law of Thermodynamics)\n",
                "Q = delta_u\n",
                "\n",
                "# Output the results\n",
                "print(f\"Change in internal energy (\u0394u): {delta_u} J\")\n",
                "print(f\"Total heat transfer (Q): {Q} J\")"
            ]
        }
    ],
    "metadata": {
        "kernelspec": {
            "display_name": "oer",
            "language": "python",
            "name": "oerminimal"
        },
        "language_info": {
            "codemirror_mode": {
                "name": "ipython",
                "version": 3
            },
            "file_extension": ".py",
            "mimetype": "text/x-python",
            "name": "python",
            "nbconvert_exporter": "python",
            "pygments_lexer": "ipython3",
            "version": "3.7.16"
        },
        "toc": {
            "base_numbering": 1,
            "nav_menu": {},
            "number_sections": false,
            "sideBar": false,
            "skip_h1_title": false,
            "title_cell": "Table of Contents",
            "title_sidebar": "Contents",
            "toc_cell": false,
            "toc_position": {},
            "toc_section_display": false,
            "toc_window_display": false
        }
    },
    "nbformat": 4,
    "nbformat_minor": 5
}