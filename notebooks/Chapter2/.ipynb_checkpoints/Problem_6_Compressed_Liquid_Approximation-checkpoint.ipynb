{
 "cells": [
  {
   "cell_type": "markdown",
   "id": "6196f6ed",
   "metadata": {},
   "source": [
    "# Compressed Liquid Approximation - Problem 6\n",
    "\n",
    "## Problem Statement:\n",
    "For water at 50°C under high pressure, approximate the specific volume, internal energy, enthalpy, and entropy \n",
    "assuming it behaves as a compressed liquid."
   ]
  },
  {
   "cell_type": "code",
   "execution_count": 1,
   "id": "50b1d5d1",
   "metadata": {},
   "outputs": [
    {
     "name": "stdout",
     "output_type": "stream",
     "text": [
      "Specific volume: 987.996210611169 m^3/kg\n",
      "Specific internal energy: 209329.25930926463 J/kg\n",
      "Specific enthalpy: 209341.76132667644 J/kg\n",
      "Specific entropy: 703.8086259330406 J/kg*K\n"
     ]
    }
   ],
   "source": [
    "## Solution:\n",
    "\n",
    "import CoolProp.CoolProp as CP\n",
    "\n",
    "# Given values\n",
    "T = 50 + 273.15  # Temperature in Kelvin\n",
    "\n",
    "# Approximations for compressed liquid\n",
    "v = CP.PropsSI('D', 'T', T, 'Q', 0, 'Water')  # Specific volume\n",
    "u = CP.PropsSI('U', 'T', T, 'Q', 0, 'Water')  # Specific internal energy\n",
    "h = CP.PropsSI('H', 'T', T, 'Q', 0, 'Water')  # Specific enthalpy\n",
    "s = CP.PropsSI('S', 'T', T, 'Q', 0, 'Water')  # Specific entropy\n",
    "\n",
    "# Output the results\n",
    "print(f\"Specific volume: {v} m^3/kg\")\n",
    "print(f\"Specific internal energy: {u} J/kg\")\n",
    "print(f\"Specific enthalpy: {h} J/kg\")\n",
    "print(f\"Specific entropy: {s} J/kg*K\")"
   ]
  }
 ],
 "metadata": {
  "kernelspec": {
   "display_name": "Python 3 (ipykernel)",
   "language": "python",
   "name": "python3"
  },
  "language_info": {
   "codemirror_mode": {
    "name": "ipython",
    "version": 3
   },
   "file_extension": ".py",
   "mimetype": "text/x-python",
   "name": "python",
   "nbconvert_exporter": "python",
   "pygments_lexer": "ipython3",
   "version": "3.7.16"
  },
  "toc": {
   "base_numbering": 1,
   "nav_menu": {},
   "number_sections": true,
   "sideBar": true,
   "skip_h1_title": false,
   "title_cell": "Table of Contents",
   "title_sidebar": "Contents",
   "toc_cell": true,
   "toc_position": {},
   "toc_section_display": true,
   "toc_window_display": false
  }
 },
 "nbformat": 4,
 "nbformat_minor": 5
}
