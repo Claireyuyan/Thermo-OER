{
    "cells": [
        {
            "cell_type": "markdown",
            "id": "f934cdee-1f2a-4df8-8c66-b53468969252",
            "metadata": {},
            "source": [
                "# 6.2 Hot water in an open container\n",
                "\n",
                "## Problem Statement"
            ]
        },
        {
            "cell_type": "markdown",
            "id": "f593df71-8fc6-4106-be6a-ca5c18262e7f",
            "metadata": {},
            "source": [
                "Hot water at $70^{\\circ} C$ stored in an open container on top of a $20\\:m$-high structure at atmospheric pressure is being drained to the ground. Given water temperature at drain pipe outlet is 65C, determine heat loss through pipeline per kg of water flow-rate."
            ]
        },
        {
            "cell_type": "markdown",
            "id": "cb838537-cde1-40ad-97dd-9b18bc1dfc56",
            "metadata": {},
            "source": [
                "### Solution Approach\n",
                "\n",
                "looking at energy conservation\n",
                "\n",
                "$\\dot Q+\\dot m(h_1+1/2V_1^2+gz_1)=\\dot m(h_2+1/2V_2^2+gz_2)$\n",
                "\n",
                "rearranging the energy conservation for $\\dot Q$\n",
                "\n",
                "$\\dot Q=\\dot m(h_2+1/2V_2^2+gz_2)-\\dot m(h_1+1/2V_1^2+gz_1)=\\dot m(h_2-h_1)+\\dot m(1/2V_2^2-1/2V_1^2)++\\dot mg(z_2-z_1)$\n",
                "\n",
                "looking at mass conservation\n",
                "\n",
                "$\\rho_1A_1V_1=\\rho_2A_2V_2$\n",
                "\n",
                "assuming negligible changes in density ($\\rho$) and a constant diameter piping system,\n",
                "\n",
                "$\\rho_1=\\rho_2$\n",
                "\n",
                "and\n",
                "\n",
                "$A_1=A_2$\n",
                "\n",
                "therefore,\n",
                "\n",
                "$V_1=V_2$"
            ]
        },
        {
            "cell_type": "code",
            "execution_count": 1,
            "id": "ca5bc0d7-40dd-43f1-8ddb-2ae2f2516446",
            "metadata": {},
            "outputs": [
                {
                    "name": "stdout",
                    "output_type": "stream",
                    "text": [
                        "The heat loss of fluid through piping system is: 21139.5 W\n"
                    ]
                }
            ],
            "source": [
                "# import the libraries we'll need\n",
                "import CoolProp.CoolProp as CP\n",
                "import numpy as np\n",
                "\n",
                "fluid = \"water\"  # define the fluid or material of interest\n",
                "P = 101325   #atmospheric pressure in Pa\n",
                "m = 1   #solving for unit mass of fluid flow-rate in kg/s\n",
                "T_1 = 70 + 273.15   #water temperature at elevated storage in K\n",
                "T_2 = 65 + 273.15   #water temperature at drain outlet in K\n",
                "z_1 = 20   #storage elevation in m\n",
                "z_2 = 0   #ground elevation as referrence\n",
                "g = 9.81   #gravitational acceleration in m/s2\n",
                "\n",
                "h_1 = CP.PropsSI(\"H\", \"T\", T_1, \"P\", P, fluid)   #fluid enthalpy in J/kg\n",
                "h_2 = CP.PropsSI(\"H\", \"T\", T_2, \"P\", P, fluid)   #fluid enthalpy in J/kg\n",
                "\n",
                "\n",
                "Q = m * (h_2 - h_1) + m * g * (z_2 - z_1)\n",
                "print('The heat loss of fluid through piping system is:', f\"{np.abs(Q):.1f}\", 'W')   #taking absolute of Q to justify the negative value for dissipated heat"
            ]
        }
    ],
    "metadata": {
        "kernelspec": {
            "display_name": "oer",
            "language": "python",
            "name": "oerminimal"
        },
        "language_info": {
            "codemirror_mode": {
                "name": "ipython",
                "version": 3
            },
            "file_extension": ".py",
            "mimetype": "text/x-python",
            "name": "python",
            "nbconvert_exporter": "python",
            "pygments_lexer": "ipython3",
            "version": "3.9.19"
        }
    },
    "nbformat": 4,
    "nbformat_minor": 5
}