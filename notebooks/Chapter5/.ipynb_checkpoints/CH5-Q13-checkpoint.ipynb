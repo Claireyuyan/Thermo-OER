{
 "cells": [
  {
   "cell_type": "markdown",
   "id": "1b432d7e-038c-4af8-abbf-0a65bb997812",
   "metadata": {},
   "source": [
    "\n",
    "# 5.9: Reheat Cycle"
   ]
  },
  {
   "cell_type": "markdown",
   "id": "e6188f92-5c9f-450d-8946-a464a4c1b6db",
   "metadata": {},
   "source": [
    "## Problem statement\n",
    "a) Consider a steam cycle where water is pumped from room pressure and temperature ($T_1=25\\:^{\\circ}C$ & $P_1=101\\:kPa$) iseontropically to $P_2=1\\:MPa$. Water then is heated in a bolier in a constant pressure to a maximum temperature of $T_3=600\\:^{\\circ}C$ which is limited by the metallurgical consederations of the turbine. Steam then is expanded iseontrepically in the turbine before entering the constant-pressure condenser. Calculate the efficiency of the cycle."
   ]
  },
  {
   "attachments": {},
   "cell_type": "markdown",
   "id": "5f1ee6a8-1720-4d57-a9a0-ed2fda428533",
   "metadata": {},
   "source": [
    "![CH5-Q13_1.png](./CH5-Q13_1.png)"
   ]
  },
  {
   "cell_type": "markdown",
   "id": "05c8b5f7-1df5-4e7a-984b-9e109d562466",
   "metadata": {},
   "source": [
    "b) to increase the efficiency of the cycle, a reheat mechanism is proposed where the turbine is downsized to expand to a higher pressure at a primary step ($P_5=650\\:kPa$) before being sent back to the boiler to reheat to $T_6=600\\:^{\\circ}C$ at a constant pressure. The reheated steam is then used in a second iseontropic turbine to expand to the room pressure before entering the condenser. Calculate the efficiency of the modified cycle."
   ]
  },
  {
   "attachments": {},
   "cell_type": "markdown",
   "id": "7d05d78f-a95e-45cd-84ee-7c685db4227e",
   "metadata": {},
   "source": [
    "![CH5-Q13_2.png](CH5-Q13_2.png)"
   ]
  },
  {
   "cell_type": "markdown",
   "id": "f7d14afa-00b8-4070-83fc-a53fe128942e",
   "metadata": {},
   "source": [
    "c) optimize the medium pressure to maximize the efficiency"
   ]
  },
  {
   "cell_type": "markdown",
   "id": "8e52617e-4415-4c29-8516-4f4d142c1d83",
   "metadata": {},
   "source": [
    "## Solution Approach for a)\n",
    "\n",
    "The pump is iseotropic, therefore\n",
    "\n",
    "$s_2 = s_1$\n",
    "\n",
    "which is used to calculate ethalpy at the second state ($h_2$)\n",
    "\n",
    "and for the turbine again,\n",
    "\n",
    "$s_4=s_3$\n",
    "\n",
    "which is used to calculate the enthalpy at state #4 ($h_4$)\n",
    "\n",
    "the efficiency is calculated by\n",
    "\n",
    "$\\eta=w/q_H=(w_{turbine}-w_{pump})/q_H$\n",
    "\n",
    "where for work from the turbine\n",
    "\n",
    "$w_{turbine}=h_3-h_4$\n",
    "\n",
    "and\n",
    "\n",
    "$w_{pump}=h_2-h_1$\n",
    "\n",
    "and from the boiler\n",
    "\n",
    "$q_H=h_3-h_2$"
   ]
  },
  {
   "cell_type": "code",
   "execution_count": 1,
   "id": "65591bc1-f8bf-4bff-9b92-94d401e46e6d",
   "metadata": {},
   "outputs": [
    {
     "name": "stdout",
     "output_type": "stream",
     "text": [
      "Theefficiency of the cycle is: 20.1 %\n"
     ]
    }
   ],
   "source": [
    "#importing the required library\n",
    "import CoolProp.CoolProp as CP\n",
    "fluid = 'water'\n",
    "P_1 = 101E+3   #P1 in Pa\n",
    "T_1 = 25 + 273.15   #T1 in K\n",
    "s_1 = CP.PropsSI(\"S\", \"P\", P_1, \"T\", T_1 , fluid)   #entropy in state#1 in J/kg.K\n",
    "h_1 = CP.PropsSI(\"H\", \"P\", P_1, \"T\", T_1 , fluid)   #enthalpy in state#1 in J/kg\n",
    "\n",
    "s_2 = s_1   #iseontropic pump\n",
    "P_2 = 1E+6   #pressure in state #2 in Pa\n",
    "h_2 = CP.PropsSI(\"H\", \"P\", P_2, \"S\", s_2 , fluid)   #enthalpy in state#2 in J/kg\n",
    "\n",
    "P_3 = P_2   #constant pressure boiler\n",
    "T_3 = 600 + 273.15   #temperature at state #3 in K\n",
    "s_3 = CP.PropsSI(\"S\", \"P\", P_3, \"T\", T_3 , fluid)   #entropy in state#3 in J/kg.K\n",
    "h_3 = CP.PropsSI(\"H\", \"P\", P_3, \"T\", T_3 , fluid)   #enthalpy in state#3 in J/kg\n",
    "\n",
    "s_4 = s_3   #iseontropic turbine\n",
    "P_4 = P_1   #constant pressure condenser\n",
    "h_4 = CP.PropsSI(\"H\", \"P\", P_4, \"S\", s_4 , fluid)   #enthalpy in state#4 in J/kg\n",
    "\n",
    "w_turbine = h_3 - h_4   #work output from turbine in J/kg\n",
    "w_pump = h_2 - h_1   #work output in pump in J/kg\n",
    "w = w_turbine - w_pump   #net work output in J/kg\n",
    "\n",
    "q_H = h_3 - h_2   #heat input in boiler in J/kg\n",
    "\n",
    "etha = w / q_H   #overall efficiency of the cycle\n",
    "\n",
    "print('Theefficiency of the cycle is:', f\"{etha*100:.1f}\", '%')"
   ]
  },
  {
   "cell_type": "markdown",
   "id": "5d39eb35-ce2d-4d2a-8453-34b24a62bbe3",
   "metadata": {},
   "source": [
    "## Solution Approach for b)\n",
    "\n",
    "both turbines are iseontropic, so\n",
    "\n",
    "$s_5=s_3$\n",
    "\n",
    "and\n",
    "\n",
    "$s_4=s_6$\n",
    "\n",
    "The work output for the turbines would be\n",
    "\n",
    "$w_{turbine}=w_{turbine1}+w_{turbine2}=(h_3-h_5)+(h_6-h_4)$\n",
    "\n",
    "and the heat input\n",
    "\n",
    "$q_h=q_{h-boiler}+q_{h-reheat}=(h_3-h_2)+(h_6-h_5)$"
   ]
  },
  {
   "cell_type": "code",
   "execution_count": 2,
   "id": "180f0340-eac3-48cc-9468-fa16ecead299",
   "metadata": {},
   "outputs": [
    {
     "name": "stdout",
     "output_type": "stream",
     "text": [
      "Theefficiency of the cycle with reheat is: 20.6 %\n"
     ]
    }
   ],
   "source": [
    "s_5 = s_3   #iseontropic turbine\n",
    "P_5 = 750E+3   #constant pressure condenser\n",
    "h_5 = CP.PropsSI(\"H\", \"P\", P_5, \"S\", s_5 , fluid)   #enthalpy in state#5 in J/kg\n",
    "\n",
    "P_6 = P_5   #constant pressure reheat\n",
    "T_6 = 600 + 273.15   #temperature at state #6 in K\n",
    "s_6 = CP.PropsSI(\"S\", \"P\", P_6, \"T\", T_6 , fluid)   #entropy in state#6 in J/kg.K\n",
    "h_6 = CP.PropsSI(\"H\", \"P\", P_6, \"T\", T_6 , fluid)   #enthalpy in state#6 in J/kg\n",
    "\n",
    "s_4 = s_6   #iseontropic turbine\n",
    "P_4 = P_1   #constant pressure condenser\n",
    "h_4 = CP.PropsSI(\"H\", \"P\", P_4, \"S\", s_4 , fluid)   #enthalpy in state#4 in J/kg\n",
    "\n",
    "w_turbine = (h_3 - h_5) + (h_6 - h_4)   #turbines work output in J/kg\n",
    "w = w_turbine - w_pump   #net work output in J/kg\n",
    "q_H = (h_3 - h_2) + (h_6 - h_5)   #total heat input in J/kg\n",
    "\n",
    "etha = w / q_H #overall efficiency of the cycle\n",
    "\n",
    "print('Theefficiency of the cycle with reheat is:', f\"{etha*100:.1f}\", '%')"
   ]
  },
  {
   "cell_type": "markdown",
   "id": "50affae8-f407-458a-9da2-c64b0a5e875a",
   "metadata": {},
   "source": [
    "## Solution Approach for c)"
   ]
  },
  {
   "cell_type": "code",
   "execution_count": 3,
   "id": "36a4d851-6210-4755-b9ce-3f284ae78ff0",
   "metadata": {},
   "outputs": [
    {
     "data": {
      "text/plain": [
       "Text(0.5, 0, 'Medium Pressure [kPa]')"
      ]
     },
     "execution_count": 3,
     "metadata": {},
     "output_type": "execute_result"
    },
    {
     "data": {
      "image/png": "[encoded data removed]",
      "text/plain": [
       "<Figure size 640x480 with 1 Axes>"
      ]
     },
     "metadata": {},
     "output_type": "display_data"
    }
   ],
   "source": [
    "import numpy as np\n",
    "import matplotlib.pyplot as plt\n",
    "\n",
    "s_5 = s_3   #iseontropic turbine\n",
    "P_vals = np.linspace(P_1, P_2, 1000)   #an array of pressures between two ends in Pa\n",
    "etha = np.zeros(1000)   #empty array to store efficiency values\n",
    "\n",
    "i = 0   #counter for the for loop\n",
    "for P_5 in P_vals:\n",
    "    h_5 = CP.PropsSI(\"H\", \"P\", P_5, \"S\", s_5 , fluid)    #enthalpy in state#5 in J/kg\n",
    "    \n",
    "    P_6 = P_5   #constant pressure reheat\n",
    "    T_6 = 600 + 273.15   #temperature at state #6 in K\n",
    "    s_6 = CP.PropsSI(\"S\", \"P\", P_6, \"T\", T_6 , fluid)   #entropy in state#6 in J/kg.K\n",
    "    h_6 = CP.PropsSI(\"H\", \"P\", P_6, \"T\", T_6 , fluid)   #enthalpy in state#6 in J/kg\n",
    "\n",
    "    s_4 = s_6   #iseontropic turbine\n",
    "    P_4 = P_1   #constant pressure condenser\n",
    "    h_4 = CP.PropsSI(\"H\", \"P\", P_4, \"S\", s_4 , fluid)   #enthalpy in state#4 in J/kg\n",
    "\n",
    "    w_turbine = (h_3 - h_5) + (h_6 - h_4)   #turbines work output in J/kg\n",
    "    w = w_turbine - w_pump   #net work output in J/kg\n",
    "    q_H = (h_3 - h_2) + (h_6 - h_5)   #total heat input in J/kg\n",
    "    \n",
    "    etha[i] = w / q_H #overall efficiency of the cycle\n",
    "    i = i + 1\n",
    "\n",
    "\n",
    "plt.plot(P_vals/1000,etha*100)\n",
    "plt.ylabel(\"Efficiency [%]\")  # give y axis a label\n",
    "plt.xlabel(\"Medium Pressure [kPa]\")  # give x axis a label"
   ]
  }
 ],
 "metadata": {
  "kernelspec": {
   "display_name": "Python 3 (ipykernel)",
   "language": "python",
   "name": "python3"
  },
  "language_info": {
   "codemirror_mode": {
    "name": "ipython",
    "version": 3
   },
   "file_extension": ".py",
   "mimetype": "text/x-python",
   "name": "python",
   "nbconvert_exporter": "python",
   "pygments_lexer": "ipython3",
   "version": "3.9.17"
  }
 },
 "nbformat": 4,
 "nbformat_minor": 5
}
