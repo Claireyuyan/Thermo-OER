{
 "cells": [
  {
   "cell_type": "markdown",
   "id": "58dede7f",
   "metadata": {},
   "source": [
    "# Isothermal Expansion of Nitrogen - Problem 7\n",
    "\n",
    "## Problem Statement:\n",
    "A cylinder with a movable piston contains 1 kg of nitrogen at 100 kPa and 300 K. \n",
    "It undergoes an isothermal expansion until the volume triples. \n",
    "Calculate the boundary work done during this process and the heat transfer involved."
   ]
  },
  {
   "cell_type": "code",
   "execution_count": 1,
   "id": "c09050bd",
   "metadata": {},
   "outputs": [
    {
     "name": "stdout",
     "output_type": "stream",
     "text": [
      "Boundary work done (W): 97821.72218789547 J\n",
      "Heat transfer (Q): 97821.72218789547 J\n"
     ]
    }
   ],
   "source": [
    "## Solution:\n",
    "\n",
    "import CoolProp.CoolProp as CP\n",
    "import math\n",
    "\n",
    "# Given values\n",
    "m = 1.0  # Mass of nitrogen in kg\n",
    "T = 300  # Temperature in Kelvin (constant)\n",
    "P1 = 100000  # Initial pressure in Pa\n",
    "V1 = m * CP.PropsSI('Dmolar', 'T', T, 'P', P1, 'Nitrogen')  # Initial volume using density\n",
    "V2 = 3 * V1  # Final volume (tripled)\n",
    "\n",
    "# 1. Boundary work (W)\n",
    "# For isothermal process, W = nRT ln(V2/V1)\n",
    "R = CP.PropsSI('GAS_CONSTANT', 'Nitrogen') / CP.PropsSI('MOLAR_MASS', 'Nitrogen')\n",
    "W = m * R * T * math.log(V2 / V1)\n",
    "\n",
    "# 2. Heat transfer (Q)\n",
    "# For an isothermal process, Q = W\n",
    "Q = W\n",
    "\n",
    "# Output the results\n",
    "print(f\"Boundary work done (W): {W} J\")\n",
    "print(f\"Heat transfer (Q): {Q} J\")"
   ]
  }
 ],
 "metadata": {
  "kernelspec": {
   "display_name": "Python 3 (ipykernel)",
   "language": "python",
   "name": "python3"
  },
  "language_info": {
   "codemirror_mode": {
    "name": "ipython",
    "version": 3
   },
   "file_extension": ".py",
   "mimetype": "text/x-python",
   "name": "python",
   "nbconvert_exporter": "python",
   "pygments_lexer": "ipython3",
   "version": "3.7.16"
  },
  "toc": {
   "base_numbering": 1,
   "nav_menu": {},
   "number_sections": true,
   "sideBar": true,
   "skip_h1_title": false,
   "title_cell": "Table of Contents",
   "title_sidebar": "Contents",
   "toc_cell": true,
   "toc_position": {},
   "toc_section_display": true,
   "toc_window_display": false
  }
 },
 "nbformat": 4,
 "nbformat_minor": 5
}
