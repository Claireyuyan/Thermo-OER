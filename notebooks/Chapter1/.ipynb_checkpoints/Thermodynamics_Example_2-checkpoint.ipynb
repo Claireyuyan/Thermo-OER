{
 "cells": [
  {
   "cell_type": "markdown",
   "id": "c8a22814",
   "metadata": {},
   "source": [
    "# Thermodynamics Word Problem - Example 2\n",
    "\n",
    "## Problem Statement:\n",
    "A cylinder fitted with a frictionless piston contains 1 kg of oxygen gas at an initial temperature of 20°C \n",
    "and a volume of 0.8 m³. The gas undergoes an isothermal expansion until its volume doubles. \n",
    "During the process, the cylinder is in thermal contact with a heat reservoir at 20°C. \n",
    "\n",
    "Calculate the following:\n",
    "1. The specific boundary work done by the oxygen gas during the expansion.\n",
    "2. The amount of heat transferred to the gas during this process.\n",
    "3. Assuming the specific internal energy of oxygen changes due to the process, calculate the change in specific internal energy.\n",
    "\n",
    "For the calculations, assume that oxygen behaves as an ideal gas and use its specific properties. \n",
    "Also, consider that the process is isothermal, meaning the temperature remains constant throughout the process."
   ]
  },
  {
   "cell_type": "code",
   "execution_count": 1,
   "id": "27625624",
   "metadata": {},
   "outputs": [
    {
     "name": "stdout",
     "output_type": "stream",
     "text": [
      "Specific Boundary Work (w_boundary): 52797.02453404183 J\n",
      "Heat Transfer (Q): 52797.02453404183 J\n",
      "Change in Specific Internal Energy (Δu): 0 J\n"
     ]
    }
   ],
   "source": [
    "## Solution:\n",
    "\n",
    "import CoolProp.CoolProp as CP\n",
    "import math\n",
    "\n",
    "# Gas choice\n",
    "gas = \"Oxygen\"\n",
    "\n",
    "# Given values\n",
    "m = 1.0  # Mass of the gas in kg\n",
    "T1 = 20 + 273.15  # Initial temperature in Kelvin (converted from 20°C)\n",
    "V1 = 0.8  # Initial volume in m^3\n",
    "V2 = 2 * V1  # Final volume (double the initial volume)\n",
    "R = CP.PropsSI('GAS_CONSTANT', gas) / CP.PropsSI('MOLAR_MASS', gas)  # Specific gas constant for Oxygen\n",
    "\n",
    "# 1. Specific Boundary Work (w_boundary)\n",
    "# For an isothermal process, P1 * V1 = P2 * V2 (Ideal Gas Law), and P1 can be found from P1 = m * R * T1 / V1\n",
    "P1 = m * R * T1 / V1\n",
    "# Calculating the boundary work\n",
    "w_boundary = P1 * V1 * math.log(V2 / V1)\n",
    "\n",
    "# 2. Heat Transfer (Q)\n",
    "# For an isothermal process, the heat transfer is equal to the boundary work done\n",
    "Q = w_boundary\n",
    "\n",
    "# 3. Change in Specific Internal Energy (Δu)\n",
    "# For an isothermal process of an ideal gas, Δu = 0\n",
    "delta_u = 0\n",
    "\n",
    "# Output the results\n",
    "print(f\"Specific Boundary Work (w_boundary): {w_boundary} J\")\n",
    "print(f\"Heat Transfer (Q): {Q} J\")\n",
    "print(f\"Change in Specific Internal Energy (Δu): {delta_u} J\")"
   ]
  }
 ],
 "metadata": {
  "kernelspec": {
   "display_name": "Python 3 (ipykernel)",
   "language": "python",
   "name": "python3"
  },
  "language_info": {
   "codemirror_mode": {
    "name": "ipython",
    "version": 3
   },
   "file_extension": ".py",
   "mimetype": "text/x-python",
   "name": "python",
   "nbconvert_exporter": "python",
   "pygments_lexer": "ipython3",
   "version": "3.7.16"
  },
  "toc": {
   "base_numbering": 1,
   "nav_menu": {},
   "number_sections": true,
   "sideBar": true,
   "skip_h1_title": false,
   "title_cell": "Table of Contents",
   "title_sidebar": "Contents",
   "toc_cell": true,
   "toc_position": {},
   "toc_section_display": true,
   "toc_window_display": false
  }
 },
 "nbformat": 4,
 "nbformat_minor": 5
}
