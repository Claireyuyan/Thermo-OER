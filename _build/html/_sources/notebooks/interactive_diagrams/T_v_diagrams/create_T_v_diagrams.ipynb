{
    "cells": [
        {
            "cell_type": "code",
            "execution_count": 7,
            "id": "56e2041d-a14a-4ca1-bee7-4b908ca2a69a",
            "metadata": {},
            "outputs": [],
            "source": [
                "import CoolProp.CoolProp as CP\n",
                "import pandas as pd\n",
                "import numpy as np\n",
                "\n",
                "fluids = ['Water', 'Ammonia', 'R134a']\n",
                "for fluid in fluids:\n",
                "    T_min = CP.PropsSI('Tmin', fluid) + 10  # Adding a small offset to Tmin\n",
                "    T_max = CP.PropsSI('Tcrit', fluid)\n",
                "    T_vals = np.linspace(T_min, T_max, 100)  # Number of points\n",
                "\n",
                "    v_liquid = []\n",
                "    v_vapor = []\n",
                "\n",
                "    for T in T_vals:\n",
                "        density_liquid = CP.PropsSI('D', 'T', T, 'Q', 0, fluid)  # Saturated liquid\n",
                "        density_vapor = CP.PropsSI('D', 'T', T, 'Q', 1, fluid)  # Saturated vapor\n",
                "        v_liquid.append(1/density_liquid)\n",
                "        v_vapor.append(1/density_vapor)\n",
                "\n",
                "    # Save to CSV\n",
                "    df = pd.DataFrame({'Temperature (K)': T_vals, 'Specific Volume Liquid (m^3/kg)': v_liquid, \n",
                "                       'Specific Volume Vapor (m^3/kg)': v_vapor})\n",
                "    df.to_csv(f'{fluid}_T_v.csv', index=False)\n",
                "\n",
                "\n",
                "import plotly.graph_objs as go\n",
                "\n",
                "for fluid in fluids:\n",
                "    # Reading data from CSV\n",
                "    df = pd.read_csv(f'{fluid}_T_v.csv')\n",
                "\n",
                "    # Creating Plotly plot\n",
                "    fig = go.Figure()\n",
                "    fig.add_trace(go.Scatter(x=df['Specific Volume Liquid (m^3/kg)'], y=df['Temperature (K)'],\n",
                "                             mode='lines', name='Saturated Liquid'))\n",
                "    fig.add_trace(go.Scatter(x=df['Specific Volume Vapor (m^3/kg)'], y=df['Temperature (K)'],\n",
                "                             mode='lines', name='Saturated Vapor'))\n",
                "\n",
                "    # Set log scale for x-axis\n",
                "    fig.update_layout(xaxis_type=\"log\", title=f'{fluid} T-v Diagram', \n",
                "                      xaxis_title='Specific Volume (m^3/kg)', yaxis_title='Temperature (K)')\n",
                "\n",
                "    # Save as HTML\n",
                "    fig.write_html(f'{fluid}_T_v_plot.html')\n"
            ]
        }
    ],
    "metadata": {
        "kernelspec": {
            "display_name": "oer",
            "language": "python",
            "name": "oerminimal"
        },
        "language_info": {
            "codemirror_mode": {
                "name": "ipython",
                "version": 3
            },
            "file_extension": ".py",
            "mimetype": "text/x-python",
            "name": "python",
            "nbconvert_exporter": "python",
            "pygments_lexer": "ipython3",
            "version": "3.9.17"
        }
    },
    "nbformat": 4,
    "nbformat_minor": 5
}