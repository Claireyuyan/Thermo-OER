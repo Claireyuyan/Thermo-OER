{
    "cells": [
        {
            "cell_type": "markdown",
            "id": "d1abbd7e-18ec-4222-907b-ce6902c08699",
            "metadata": {},
            "source": [
                "# 3.3 Piston-cylinder system for Air"
            ]
        },
        {
            "cell_type": "markdown",
            "id": "891a0c21-e5de-4adf-86ee-9af6869a245f",
            "metadata": {},
            "source": [
                "## Problem Statement"
            ]
        },
        {
            "cell_type": "markdown",
            "id": "b9a22018-93ef-4c46-887c-6a6ce2458296",
            "metadata": {},
            "source": [
                "Consider $2\\:kg$ air at $200\\:kPa$ and $25 ^{\\circ}  C$ stored in a cylinder-piston system which is in thermal equilibrium with its surrounding. Assuming air at this state as ideal gas,\n",
                "\n",
                "a) calculate how much space does air occupy in this state.\n",
                "\n",
                "b) if the piston is moved to compress air to half its initial volume at constant temperature, calculate the final air pressure.\n",
                "\n",
                "c) plot the process on P-V, P-T and T-V diagrams."
            ]
        },
        {
            "cell_type": "markdown",
            "id": "bcd16dc3-b736-448d-86fd-e49240a783ad",
            "metadata": {},
            "source": [
                "## Solution Approach for a)\n",
                "\n",
                "Ideal gas equation can be used as EOS since the assumption is valid as per the statement, so \n",
                "\n",
                "$PV=mRT$ <br>\n",
                "$V=mRT/P$"
            ]
        },
        {
            "cell_type": "code",
            "execution_count": 1,
            "id": "6e79249d-7c46-4cf0-b10d-0dce34fbfe2f",
            "metadata": {},
            "outputs": [
                {
                    "name": "stdout",
                    "output_type": "stream",
                    "text": [
                        "The air volume is: 0.856 m3\n"
                    ]
                }
            ],
            "source": [
                "#defining variables and looking up tables\n",
                "R = 0.287 #air gas constant in kJ/kg.K\n",
                "m = 2 #mass of air in kg\n",
                "T = 25 + 273.15 #temperature of air in K\n",
                "P = 200 #pressure of airc in kPa\n",
                "\n",
                "#using ideal gas law equation of state\n",
                "V_1 = m * R * T / P #volume of air in m3\n",
                "\n",
                "print('The air volume is:', round(V_1,3), 'm3')"
            ]
        },
        {
            "cell_type": "markdown",
            "id": "ba1637d6-0695-480a-8027-3fdd33e3fe63",
            "metadata": {},
            "source": [
                "## Solution Approach for b)\n",
                "\n",
                "The box is compressed to half its initial volume therefore $V_2=V_1/2$ and temperature remains constant as per the question's statement. \n",
                "\n",
                "Ideal gas equation solved for pressure (P) is to be used to calculate pressure.\n",
                "\n",
                "$P=mRT/V$"
            ]
        },
        {
            "cell_type": "code",
            "execution_count": 2,
            "id": "32193a7e-5032-4985-a6cd-ff07b316528c",
            "metadata": {},
            "outputs": [
                {
                    "name": "stdout",
                    "output_type": "stream",
                    "text": [
                        "Secondary air pressure is: 400.0 kPa\n"
                    ]
                }
            ],
            "source": [
                "V_2 = V_1 / 2 #volume of air after compression\n",
                "\n",
                "#using ideal gas law equation of state\n",
                "P_2 = m * R * T / V_2 #final pressure of the mixture in kPa\n",
                "print('Secondary air pressure is:', P_2, 'kPa')"
            ]
        },
        {
            "cell_type": "markdown",
            "id": "9bee4340-a6c5-4f36-97a9-747c7062e63c",
            "metadata": {},
            "source": [
                "## Solution Approach for c)\n",
                "\n",
                "for a P-v diagram, the ideal gas equation is to be used in a form in which pressure($P$) and volume($v$) are the variables calculated one based on the other one.\n",
                "\n",
                "$P=mRT(1/V)$\n",
                "\n",
                "where mRT would be a constant value"
            ]
        },
        {
            "cell_type": "code",
            "execution_count": null,
            "id": "e554edfb-96af-4419-86f1-a6d068bc856c",
            "metadata": {},
            "outputs": [],
            "source": [
                "#import the libraries we'll need\n",
                "import numpy as np\n",
                "import matplotlib.pyplot as plt\n",
                "\n",
                "#building a range for volume (v) so that pressure (P) is calculated based upon \n",
                "V_max = V_1 #maximum amount for volume in the process\n",
                "V_min = V_2 #minimum amount for volume in the process\n",
                "V_vals = np.linspace(V_min, V_max, 1000)  # define an array of values for volume (v)\n",
                "\n",
                "#calculating pressure (P) for the array of volume values (V_vals)\n",
                "P_vals = m * R * T / V_vals\n",
                "\n",
                "plt.plot(V_vals, P_vals)  # plot pressure vs. volume\n",
                "plt.ylabel(\"Pressure [kPa]\")  # give y axis a label\n",
                "plt.xlabel(\"Volume [m3]\")  # give x axis a label\n",
                "\n",
                "\n",
                "#add-ons to illustrate process path\n",
                "plt.xlim(0.4, 0.9)\n",
                "plt.ylim(190, 425)\n",
                "plt.text(0.87, 198, '1', fontsize = 15)\n",
                "plt.text(0.42, 410, '2', fontsize = 15)\n",
                "plt.plot(V_vals[0], P_vals[0], 'ro')\n",
                "plt.plot(V_vals[-1], P_vals[-1], 'ro')"
            ]
        },
        {
            "cell_type": "code",
            "execution_count": null,
            "id": "53e0601a-1109-41c5-b62b-93414dc1e985",
            "metadata": {},
            "outputs": [],
            "source": [
                "#building temperature range to plot P-T and V_T diagrams\n",
                "T_C = T - 273.15 #process temperature in Celsius\n",
                "T_vals = np.linspace(T_C, T_C, 1000)  # define an array of values for temperature (T)\n",
                "plt.plot(T_vals, P_vals)  # plot pressure vs. temperature\n",
                "plt.ylabel(\"Pressure [kPa]\")  # give y axis a label\n",
                "plt.xlabel(\"Temperature [C]\")  # give x axis a label\n",
                "\n",
                "#add-ons to illustrate process path\n",
                "plt.xlim(24.5, 25.5)\n",
                "plt.ylim(180, 420)\n",
                "plt.text(25.02, 190, '1', fontsize = 15)\n",
                "plt.text(25.02, 407, '2', fontsize = 15)\n",
                "plt.plot(T_vals[0], P_vals[0], 'ro')\n",
                "plt.plot(T_vals[-1], P_vals[-1], 'ro')"
            ]
        },
        {
            "cell_type": "code",
            "execution_count": null,
            "id": "4829cd25-eb68-4c42-88b7-78e5656ff526",
            "metadata": {},
            "outputs": [],
            "source": [
                "plt.plot(V_vals,T_vals)  # plot volume vs. temperature\n",
                "plt.ylabel(\"Temperature [$^{\\circ}$ C]\")  # give y axis a label\n",
                "plt.xlabel(\"Volume [m3]\")  # give x axis a label\n",
                "\n",
                "#add-ons to illustrate process path\n",
                "plt.xlim(0.4, 0.9)\n",
                "plt.ylim(24, 26)\n",
                "plt.text(0.86, 25.05, '1', fontsize = 15)\n",
                "plt.text(0.41, 25.05, '2', fontsize = 15)\n",
                "plt.plot(V_vals[0], T_vals[0], 'ro')\n",
                "plt.plot(V_vals[-1], T_vals[-1], 'ro')"
            ]
        }
    ],
    "metadata": {
        "kernelspec": {
            "display_name": "oer",
            "language": "python",
            "name": "oerminimal"
        },
        "language_info": {
            "codemirror_mode": {
                "name": "ipython",
                "version": 3
            },
            "file_extension": ".py",
            "mimetype": "text/x-python",
            "name": "python",
            "nbconvert_exporter": "python",
            "pygments_lexer": "ipython3",
            "version": "3.11.5"
        }
    },
    "nbformat": 4,
    "nbformat_minor": 5
}