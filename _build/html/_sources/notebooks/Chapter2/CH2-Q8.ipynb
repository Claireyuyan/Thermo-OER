{
 "cells": [
  {
   "cell_type": "markdown",
   "id": "477ef659-16e2-4176-85b6-cc40c778ac7c",
   "metadata": {},
   "source": [
    "# 2.8: Internal Energy in a Rigid Container"
   ]
  },
  {
   "cell_type": "markdown",
   "id": "ad7d1d65-4fce-40f3-9ba5-d9afe4ce2739",
   "metadata": {},
   "source": [
    "A rigid tank of volume $V=1\\:m^3$ contains $m=1\\:kg$ of a materials at room temperature $T=25\\:^{\\circ}C$. Determine the state, the pressure, and internal energy of the materials inside the tank if it is:\n",
    "\n",
    "a) water\n",
    "\n",
    "b) ammonia"
   ]
  },
  {
   "attachments": {},
   "cell_type": "markdown",
   "id": "43f417f1-ca8c-4f26-b385-e68118891328",
   "metadata": {},
   "source": [
    "![CH2-Q8.png](CH2-Q8.png)"
   ]
  },
  {
   "cell_type": "markdown",
   "id": "eca0f1e0-9b2d-4077-8f6e-77698b546374",
   "metadata": {},
   "source": [
    "### Solution Approach for a)\n",
    "\n",
    "the specific volume of the container is calculated using\n",
    "\n",
    "$v=V/m$\n",
    "\n",
    "then the properties are used to determine the state, pressure ($P$), and internal energy ($U$).\n",
    "\n",
    "for the internal energy\n",
    "\n",
    "$U=mu$\n",
    "\n",
    "where $m$ is the mass and $u$ is the specific internal energy"
   ]
  },
  {
   "cell_type": "code",
   "execution_count": 1,
   "id": "924bfdf8-90bd-46bc-9103-a1647223ec30",
   "metadata": {},
   "outputs": [
    {
     "name": "stdout",
     "output_type": "stream",
     "text": [
      "water is in a saturated state\n",
      "The pressure of water is 3.17 kPa\n",
      "The internal energy of water is 157.95 kJ\n"
     ]
    }
   ],
   "source": [
    "#import librarier\n",
    "import CoolProp.CoolProp as CP\n",
    "\n",
    "#define variables\n",
    "V = 1   #tank volume in m3\n",
    "m = 1   #materials mass in kg\n",
    "T = 25 + 273.15   #temperature in K\n",
    "\n",
    "v = V / m   #specific volume in m3/kg\n",
    "D = m / V   #density in kg/m3 used in CoolProp\n",
    "\n",
    "fluid = \"water\"  # define the fluid or material of interest\n",
    "\n",
    "v_f = 1 / CP.PropsSI(\"D\", \"T\", T, \"Q\", 0 , fluid)   #sat fluid specific volume in m3/kg \n",
    "v_g = 1 / CP.PropsSI(\"D\", \"T\", T, \"Q\", 1 , fluid)   #sat fluid specific volume in m3/kg \n",
    "\n",
    "if v > v_g:\n",
    "    print(fluid, 'is in a superheated state')\n",
    "elif v < v_f:\n",
    "    print(fluid, 'is in a subcooled state')\n",
    "else:\n",
    "    print(fluid, 'is in a saturated state')\n",
    "\n",
    "P = CP.PropsSI(\"P\", \"T\", T, \"D\", D , fluid)   #pressure in Pa\n",
    "\n",
    "print('The pressure of', fluid, 'is', f\"{P/1000:.2f}\", 'kPa')\n",
    "\n",
    "u = CP.PropsSI(\"U\", \"T\", T, \"D\", D , fluid)   #specific internal energy in J/kg\n",
    "U = m * u   #internal energy in J\n",
    "\n",
    "print('The internal energy of', fluid, 'is', f\"{U/1000:.2f}\", 'kJ')"
   ]
  },
  {
   "cell_type": "markdown",
   "id": "8720706c-fc30-4bef-aa56-8cd1746897c0",
   "metadata": {},
   "source": [
    "### Solution Approach for a)\n",
    "\n",
    "the same approach with a different fluid is applied"
   ]
  },
  {
   "cell_type": "code",
   "execution_count": 2,
   "id": "23358cf8-e808-4212-8c5e-03f306f8eb95",
   "metadata": {},
   "outputs": [
    {
     "name": "stdout",
     "output_type": "stream",
     "text": [
      "ammonia is in a superheated state\n",
      "The pressure of ammonia is 143.38 kPa\n",
      "The internal energy of ammonia is 1546.33 kJ\n"
     ]
    }
   ],
   "source": [
    "fluid = \"ammonia\"  # define the fluid or material of interest\n",
    "\n",
    "v_f = 1 / CP.PropsSI(\"D\", \"T\", T, \"Q\", 0 , fluid)   #sat fluid specific volume in m3/kg \n",
    "v_g = 1 / CP.PropsSI(\"D\", \"T\", T, \"Q\", 1 , fluid)   #sat fluid specific volume in m3/kg \n",
    "\n",
    "if v > v_g:\n",
    "    print(fluid, 'is in a superheated state')\n",
    "elif v < v_f:\n",
    "    print(fluid, 'is in a subcooled state')\n",
    "else:\n",
    "    print(fluid, 'is in a saturated state')\n",
    "\n",
    "P = CP.PropsSI(\"P\", \"T\", T, \"D\", D , fluid)   #pressure in Pa\n",
    "\n",
    "print('The pressure of', fluid, 'is', f\"{P/1000:.2f}\", 'kPa')\n",
    "\n",
    "u = CP.PropsSI(\"U\", \"T\", T, \"D\", D , fluid)   #specific internal energy in J/kg\n",
    "U = m * u   #internal energy in J\n",
    "\n",
    "print('The internal energy of', fluid, 'is', f\"{U/1000:.2f}\", 'kJ')"
   ]
  }
 ],
 "metadata": {
  "kernelspec": {
   "display_name": "Python 3 (ipykernel)",
   "language": "python",
   "name": "python3"
  },
  "language_info": {
   "codemirror_mode": {
    "name": "ipython",
    "version": 3
   },
   "file_extension": ".py",
   "mimetype": "text/x-python",
   "name": "python",
   "nbconvert_exporter": "python",
   "pygments_lexer": "ipython3",
   "version": "3.9.18"
  }
 },
 "nbformat": 4,
 "nbformat_minor": 5
}
