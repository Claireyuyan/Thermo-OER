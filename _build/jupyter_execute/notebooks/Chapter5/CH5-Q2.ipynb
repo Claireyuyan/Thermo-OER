{
 "cells": [
  {
   "cell_type": "markdown",
   "id": "27a3573e-f264-4d2a-a799-0ce8b0dfc67d",
   "metadata": {},
   "source": [
    "# 5.2 Piston-cylinder: Carbon dioxide"
   ]
  },
  {
   "cell_type": "markdown",
   "id": "0a4f825e-36a2-4ee9-9fa9-f735ccef3207",
   "metadata": {},
   "source": [
    "## Problem statement:"
   ]
  },
  {
   "cell_type": "markdown",
   "id": "2074d2a6-81f1-4149-b5e1-c687f627274a",
   "metadata": {},
   "source": [
    "Consider carbon-dioxide stored in a cylinder-and-piston system at $1\\:MPa$ and $0 ^{\\circ}  C$ with a volume of $1\\:m^3$. The piston is free to move keeping the pressure of carbon-dioxide constant. The system is then heated to $25 ^{\\circ} C$. Using CoolProp as a tool, determine:\n",
    "\n",
    "a)the mass of carbon-dioxide\n",
    "\n",
    "b)heat required to do so\n",
    "\n",
    "c)the required heat if the weight of the 500g aluminum piston and cylinder are to be considered\n",
    "\n",
    "d)the required heat in (b) if $C_p$ is to be used to calculate $\\Delta h$ instead of CoolProp? what assumptions are made in this case?"
   ]
  },
  {
   "cell_type": "markdown",
   "id": "df3643ef-e1c3-4c74-8840-92dfbd83f1e5",
   "metadata": {},
   "source": [
    "## Solution Approach for a)\n",
    "\n",
    "the two knowns to extract thermodynamic properties are\n",
    "\n",
    "$P_1=1\\:MPa$ \n",
    "\n",
    "$T_1=0 ^{\\circ}  C$\n",
    "\n",
    "to calculate mass, density is to be extracted \n",
    "\n",
    "$m=D_1V_1$"
   ]
  },
  {
   "cell_type": "code",
   "execution_count": 1,
   "id": "9460ca18-5c93-43e6-8706-ac2ac56b17a5",
   "metadata": {},
   "outputs": [
    {
     "name": "stdout",
     "output_type": "stream",
     "text": [
      "The mass of carbon-dioxide is 20.8 kg\n"
     ]
    }
   ],
   "source": [
    "#importing the required library\n",
    "import CoolProp.CoolProp as CP\n",
    "\n",
    "#define state variables\n",
    "V_1 = 1 #ninitial volume in m3\n",
    "P_1 = 1e+6 #initial pressure in Pa\n",
    "T_1 = 0 + 273.15 #initial temperature in K\n",
    "D_1 = CP.PropsSI('D', 'P', P_1, 'T', T_1, 'CO2') #calculating density using coolprop kg/m3\n",
    "m_co2 = D_1 * V_1 #mass of carbon-dioxide in kg\n",
    "print('The mass of carbon-dioxide is',f\"{m_co2:.1f}\",'kg')"
   ]
  },
  {
   "cell_type": "markdown",
   "id": "ecc3671d-792f-4f02-97ab-25960c3ca08d",
   "metadata": {},
   "source": [
    "## Solution Approach for b)\n",
    "\n",
    "based on the first law,\n",
    "\n",
    "$Q=\\Delta U + W=\\Delta H=m(h_2-h_1)$"
   ]
  },
  {
   "cell_type": "code",
   "execution_count": 2,
   "id": "c2e30f0d-33ed-4be6-9933-3bbf43c80076",
   "metadata": {},
   "outputs": [
    {
     "name": "stdout",
     "output_type": "stream",
     "text": [
      "The required heat for this process is 481.1 kJ\n"
     ]
    }
   ],
   "source": [
    "#define state variable\n",
    "T_2 = 25 + 273.15 #secondary temperature in K\n",
    "P_2 = P_1 #constant pressure process\n",
    "#extracting enthalpy\n",
    "h_1 = CP.PropsSI('H', 'P', P_1, 'T', T_1, 'CO2') #initial enthalpy in J/kg\n",
    "h_2 = CP.PropsSI('H', 'P', P_2, 'T', T_2, 'CO2') #secondary enthalpy in J/kg\n",
    "Q = m_co2 * (h_2-h_1) / 1000 #heat required in KJ\n",
    "print('The required heat for this process is',f\"{Q:.1f}\",'kJ')"
   ]
  },
  {
   "cell_type": "markdown",
   "id": "76fef7da-19e2-447b-b205-54b15f14165f",
   "metadata": {},
   "source": [
    "## Solution Approach for c)\n",
    "\n",
    "for solids and liquids \n",
    "\n",
    "$\\Delta u=\\Delta h=C_p\\Delta T$"
   ]
  },
  {
   "cell_type": "code",
   "execution_count": 3,
   "id": "b0880ba2-fd53-4c98-8dbd-553605feab8d",
   "metadata": {},
   "outputs": [
    {
     "name": "stdout",
     "output_type": "stream",
     "text": [
      "The required total heat for this process is 492.4 kJ\n"
     ]
    }
   ],
   "source": [
    "#define constants\n",
    "m_alm = 0.5 #mass of aluminum in kg\n",
    "C_p_alm = 0.897 #C_p of aluminum in kJ/kg.K\n",
    "Q_alm = m_alm * C_p_alm * (T_2-T_1)\n",
    "Q_total = Q_alm + Q #total heat required for the process\n",
    "print('The required total heat for this process is',f\"{Q_total:.1f}\",'kJ')"
   ]
  },
  {
   "cell_type": "markdown",
   "id": "e935f25e-44bb-4019-82ae-69b00de4d5cc",
   "metadata": {},
   "source": [
    "## Solution Approach for d)\n",
    "\n",
    "in order to use $C_p$ to calculate $\\Delta h$, carbon-dioxide is assumed to be ideal gas; then from the first law,\n",
    "\n",
    "$Q=\\Delta U + W=\\Delta H=mC_p\\Delta T$"
   ]
  },
  {
   "cell_type": "code",
   "execution_count": 4,
   "id": "873d3605-1575-4798-998e-d0bdc6477a0d",
   "metadata": {},
   "outputs": [
    {
     "name": "stdout",
     "output_type": "stream",
     "text": [
      "The required heat for this process using Cp assumption is 440.7 kJ\n"
     ]
    }
   ],
   "source": [
    "#define constants\n",
    "C_p_co2 = 0.846 #Cp of CO2 in kJ/kg.K\n",
    "Q = m_co2 * C_p_co2 * (T_2-T_1)\n",
    "print('The required heat for this process using Cp assumption is',f\"{Q:.1f}\",'kJ')"
   ]
  }
 ],
 "metadata": {
  "kernelspec": {
   "display_name": "Python 3 (ipykernel)",
   "language": "python",
   "name": "python3"
  },
  "language_info": {
   "codemirror_mode": {
    "name": "ipython",
    "version": 3
   },
   "file_extension": ".py",
   "mimetype": "text/x-python",
   "name": "python",
   "nbconvert_exporter": "python",
   "pygments_lexer": "ipython3",
   "version": "3.9.17"
  }
 },
 "nbformat": 4,
 "nbformat_minor": 5
}