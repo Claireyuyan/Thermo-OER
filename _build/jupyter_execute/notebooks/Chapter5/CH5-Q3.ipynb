{
 "cells": [
  {
   "cell_type": "markdown",
   "id": "3b0e8991-f09b-44a1-b47c-54a3d9f932e3",
   "metadata": {},
   "source": [
    "# Air Compressor and Turbine"
   ]
  },
  {
   "cell_type": "markdown",
   "id": "1875b9cd-5529-4ab5-895c-729887f8411f",
   "metadata": {},
   "source": [
    "Imagine a turbine whose work output is used to drive a compressor to compress air from atmospheric pressure and temperature to $1\\:MPa$. The turbine operates with steam enerting the turbine at $1.2\\:MPa$ and $600 ^{\\circ}  C$ and exits as satirated vapor at atmospheric pressure. Assuming air to follow ideal-gas law going through a polytropic process with $n=1.3$, determine the flow-rate of steam per $1\\:kg/s$ of air flow-rate."
   ]
  },
  {
   "attachments": {},
   "cell_type": "markdown",
   "id": "47e9abb3-ea07-453b-bede-77445fff234a",
   "metadata": {},
   "source": [
    "![CH5-Q3.jpg](CH5-Q3.png)"
   ]
  },
  {
   "cell_type": "markdown",
   "id": "0e683377-a4a3-47e2-8105-b1c93c8c1007",
   "metadata": {},
   "source": [
    "# Solution Approach \n",
    "\n",
    "Since the turbine and the compressor are couples, the work output from the turbine is considered the work input for the compressor. Therefore, calculating the work output for unit mass of turbine flow-rate as well as the work input for compressing $1\\:kg$ of air build the bridge to connect the turbune and the compressor and to calculate the required flow-rate.\n",
    "\n",
    "From the first law of thermodynamics for the trubine assuming no changes in velocity and elevation:\n",
    "\n",
    "$w=\\Delta h=h_{in}-h_{out}$"
   ]
  },
  {
   "cell_type": "code",
   "execution_count": 1,
   "id": "086b7416-bf65-4250-abfb-34cc3880bf89",
   "metadata": {},
   "outputs": [],
   "source": [
    "#importing the required library\n",
    "import CoolProp.CoolProp as CP\n",
    "\n",
    "#define thermodynamic variables\n",
    "P_atm = 101325 #atmospheric pressure in Pa\n",
    "P_it = 1.2E+6 #turbine inlet pressure in Pa \n",
    "T_it = 600 + 273.15 #turbine inlet temperatue in K\n",
    "P_ot = P_atm #turbine outlet pressure in Pa\n",
    "x_ot = 1#turbine outlet quality\n",
    "\n",
    "h_it = CP.PropsSI('H', 'P', P_it, 'T', T_it, 'Water') #turbine inlet enthapy J/kg\n",
    "h_ot = CP.PropsSI('H', 'P', P_ot, 'Q', x_ot, 'Water') #turbine inlet enthapy J/kg\n",
    "\n",
    "w_t = h_it - h_ot #turbine work output per unit mass of steam in J"
   ]
  },
  {
   "cell_type": "markdown",
   "id": "35c0b276-8f25-48eb-9f6f-c4ccc6c8ea05",
   "metadata": {},
   "source": [
    "For a polytropic process of an ideal gas with a polytropic constant of $n$:\n",
    "\n",
    "$T_2=T_1(P_2/P_1)^{(n-1)/n}$\n",
    "\n",
    "for reference look at [Example 1](https://pressbooks.bccampus.ca/thermo1/chapter/5-5-application-of-the-mass-and-energy-conservation-equations-in-steady-flow-devices/) from Chapter 5 in the textbook"
   ]
  },
  {
   "cell_type": "code",
   "execution_count": 2,
   "id": "5396db40-38c2-452e-998a-2efdd4fe3194",
   "metadata": {},
   "outputs": [],
   "source": [
    "n = 1.3 #polytropic constant of the process\n",
    "T_ic = 25 + 273.15 #inlet temperature of compressor in K\n",
    "P_ic = P_atm #inlet pressure of compressor in Pa\n",
    "P_oc = 1E+6 #outlet pressure of compressor in Pa\n",
    "T_oc = T_ic * (P_oc/P_ic)**((n-1)/n) #outlet temperature of compressor air in K"
   ]
  },
  {
   "cell_type": "markdown",
   "id": "66b44205-e3c0-41d7-99f5-3d461f70d5a8",
   "metadata": {},
   "source": [
    "Now assuming air as an ideal gas, its $C_p$ value can be used to calculate changes in enthalpy\n",
    "\n",
    "$w=\\Delta h=h_{out}-h_{in}=C_p(T_{out}-T_{in})$"
   ]
  },
  {
   "cell_type": "code",
   "execution_count": 3,
   "id": "4ef55cb0-5372-433a-9c54-cd4e9664f66d",
   "metadata": {},
   "outputs": [],
   "source": [
    "#define constants\n",
    "C_p = 100.5 #Cp of air in J/kg.K\n",
    "w_c = C_p * (T_oc - T_ic) #specific work input to compress air in J "
   ]
  },
  {
   "cell_type": "markdown",
   "id": "b8901137-487c-4299-95de-8464780b41f0",
   "metadata": {},
   "source": [
    "Now, to correlate mass flow-rates, the rate of work output in the turbine equals to the rate of work input into the compressor\n",
    "\n",
    "$\\dot W_{turbine}=\\dot W_{compressor}$\n",
    "\n",
    "$\\dot m_{turbine}w_{turbine}=\\dot m_{compressor}w_{compressor}$\n",
    "\n",
    "$\\dot m_{turbine}=\\dot m_{compressor}w_{compressor}/w_{turbine}$"
   ]
  },
  {
   "cell_type": "code",
   "execution_count": 4,
   "id": "3003774f-2193-493b-b88f-2258eede00c9",
   "metadata": {},
   "outputs": [
    {
     "name": "stdout",
     "output_type": "stream",
     "text": [
      "The steam mass flow-rate required to compress 1 kg/s of air is 0.020 kg/s\n"
     ]
    }
   ],
   "source": [
    "m_c = 1 #flow-rate of compressor required in kg/s\n",
    "m_t = m_c * w_c / w_t\n",
    "print('The steam mass flow-rate required to compress 1 kg/s of air is',f\"{m_t:.3f}\",'kg/s')"
   ]
  }
 ],
 "metadata": {
  "kernelspec": {
   "display_name": "Python 3 (ipykernel)",
   "language": "python",
   "name": "python3"
  },
  "language_info": {
   "codemirror_mode": {
    "name": "ipython",
    "version": 3
   },
   "file_extension": ".py",
   "mimetype": "text/x-python",
   "name": "python",
   "nbconvert_exporter": "python",
   "pygments_lexer": "ipython3",
   "version": "3.9.17"
  }
 },
 "nbformat": 4,
 "nbformat_minor": 5
}