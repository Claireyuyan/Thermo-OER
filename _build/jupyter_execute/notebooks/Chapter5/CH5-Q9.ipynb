{
 "cells": [
  {
   "cell_type": "markdown",
   "id": "30b0e239-fbd7-41fd-aea1-ee3ac900e4aa",
   "metadata": {},
   "source": [
    "# 5.8 Nozzle: Hydrogen gas\n",
    "\n",
    "## Problem Statement"
   ]
  },
  {
   "cell_type": "markdown",
   "id": "9e61e065-4c93-4589-93f5-617fd0e31ea0",
   "metadata": {},
   "source": [
    "$5\\:g/s$ of hydrogen at $-20^{\\circ} C$ and $5\\:bar$ enters a nozzle with inlet and outlet diameters of $40\\:mm$ and $15\\:mm$. Given the outlet pressure of nozzle to be $2\\:bar$, calculate:\n",
    "\n",
    "a) inlet velocity of hydrogen\n",
    "\n",
    "b) outlet temperature and velocity of hydrogen assuming ideal gas application \n",
    "\n",
    "c) outlet temperature and velocity of hydrogen using `CoolProp`module using the answers from (b) as the first guess"
   ]
  },
  {
   "attachments": {},
   "cell_type": "markdown",
   "id": "36e9d737-1c42-4679-ad66-6f85adb0ad4a",
   "metadata": {},
   "source": [
    "![CH5-Q9.jpg](CH5-Q9.png)"
   ]
  },
  {
   "cell_type": "markdown",
   "id": "2528cd66-2e62-4afb-bc2a-11b150f71848",
   "metadata": {},
   "source": [
    "### Solution Approach for a)\n",
    "\n",
    "from mass flow-rate correlation\n",
    "\n",
    "$\\dot m=\\rho_1 A_1V_1$\n",
    "\n",
    "so\n",
    "\n",
    "$V_1=\\dot m/(\\rho_1A_1)$"
   ]
  },
  {
   "cell_type": "code",
   "execution_count": 1,
   "id": "f484cf12-4053-48f3-a4a2-ccedd61c13e2",
   "metadata": {},
   "outputs": [
    {
     "name": "stdout",
     "output_type": "stream",
     "text": [
      "The velocity of the fluid at inlet is: 8.3 m/s\n"
     ]
    }
   ],
   "source": [
    "# import the libraries we'll need\n",
    "import CoolProp.CoolProp as CP\n",
    "import numpy as np\n",
    "\n",
    "# define variables\n",
    "fluid = \"hydrogen\"  # define the fluid or material of interest\n",
    "R = 4124   #fluid gas constant in J/kg.K\n",
    "C_p = 14307   #fluid Cp in J/kg.K\n",
    "T_1 = -20 + 273.15   #inlet temperature in K\n",
    "P_1 = 5e+5   #inlet pressure in Pa\n",
    "P_2 = 2e+5   #outlet pressure in Pa\n",
    "m = 0.005   #fluid mass flow rate in kg/s\n",
    "D_1 = 0.04   #inlet diameter in m\n",
    "A_1 = np.pi * D_1 **2 /4   #inlet area in m2\n",
    "rho_1 = CP.PropsSI(\"D\", \"T\", T_1, \"P\", P_1, fluid)   #density of fluid at inlet in kg/m3\n",
    "\n",
    "V_1 = m / (rho_1 * A_1)   #velocity of fluid at inlet\n",
    "\n",
    "print('The velocity of the fluid at inlet is:', f\"{V_1:.1f}\", 'm/s')"
   ]
  },
  {
   "cell_type": "markdown",
   "id": "cf14403f-b4f2-478e-8858-bb8442cd04a9",
   "metadata": {},
   "source": [
    "### Solution Approach for b)\n",
    "\n",
    "from mass conservation\n",
    "\n",
    "$\\dot m=\\rho_2 A_2V_2$\n",
    "\n",
    "so\n",
    "\n",
    "$V_2=\\dot m/(\\rho_2A_2)$\n",
    "\n",
    "while from ideal gas assumption\n",
    "\n",
    "$P=\\rho RT$\n",
    "\n",
    "therefore\n",
    "\n",
    "$\\rho_2=P_2/(RT_2)$\n",
    "\n",
    "so\n",
    "\n",
    "$V_2=\\dot m RT_2/(P_2A_2)=\\alpha T_2$\n",
    "\n",
    "while\n",
    "\n",
    "$\\alpha=\\dot m R/(P_2A_2)$\n",
    "\n",
    "from energy conservation\n",
    "\n",
    "$h_1+1/2V_1^2=h_2+1/2V_2^2$\n",
    "\n",
    "and from ideal gas assumption\n",
    "\n",
    "$\\Delta h=C_p(T_2-T_1)$\n",
    "\n",
    "therefore\n",
    "\n",
    "$C_pT_1+1/2V_1^2=C_pT_2+1/2V_2^2$\n",
    "\n",
    "substituting $V_2$\n",
    "\n",
    "$C_pT_1+1/2V_1^2=C_pT_2+1/2\\alpha^2T_2^2$\n",
    "\n",
    "organizing for $T_2$\n",
    "\n",
    "$(1/2\\alpha^2)T_2^2+C_pT_2-(C_pT_1+1/2V_1^2)=0$"
   ]
  },
  {
   "cell_type": "code",
   "execution_count": 2,
   "id": "9752b0c0-5b40-4ff4-8b82-72504b1c6d1c",
   "metadata": {},
   "outputs": [
    {
     "name": "stdout",
     "output_type": "stream",
     "text": [
      "The velocity of the fluid at outlet is: 147.25 m/s\n",
      "The temperature of the fluid at outlet is: -20.76 C\n"
     ]
    }
   ],
   "source": [
    "# define variables\n",
    "D_2 = 0.015   #outlet diameter in m\n",
    "A_2 = np.pi * D_2 ** 2 /4   #outlet area in m2\n",
    "alpha = m * R / (P_2 * A_2)\n",
    "\n",
    "# Coefficients of the quadratic equation ax^2 + bx + c = 0\n",
    "a = 0.5 * alpha **2\n",
    "b = C_p\n",
    "c = -1 * (C_p * T_1 + 0.5 * V_1 ** 2)\n",
    "\n",
    "# Calculate the discriminant (the value inside the square root)\n",
    "discriminant = b**2 - 4*a*c\n",
    "# Two real solutions\n",
    "x1 = (-1*b + np.sqrt(discriminant)) / (2*a)\n",
    "x2 = (-1*b - np.sqrt(discriminant)) / (2*a)\n",
    "\n",
    "# to pick the correct positive value for temperature at outlet\n",
    "if x1 > 0:\n",
    "   T_2 = x1\n",
    "else:\n",
    "   T_2 = x2\n",
    "\n",
    "V_2 = alpha * T_2   # velocity at outlet\n",
    "T_2C = T_2 - 273.15   #temperature at outlet in celcius\n",
    "print('The velocity of the fluid at outlet is:', f\"{V_2:.2f}\", 'm/s')\n",
    "print('The temperature of the fluid at outlet is:', f\"{T_2C:.2f}\", 'C')"
   ]
  },
  {
   "cell_type": "markdown",
   "id": "d3ddc0e4-ad02-4b8e-95c1-1c94a14c4b07",
   "metadata": {},
   "source": [
    "### Solution Approach for b)\n",
    "\n",
    "again from energy conservarion\n",
    "\n",
    "$h_1+1/2V_1^2=h_2+1/2V_2^2$\n",
    "\n",
    "while $h_2$ is obtained from coolprop based on pressure and temperature and\n",
    "\n",
    "$V_2=\\dot m/(\\rho_2A_2)$\n",
    "\n",
    "while $\\rho_2$ is obtained from coolprop likewise, therefore\n",
    "\n",
    "$h_2+(\\dot m^2/(2A_2^2))(1/\\rho_2^2)=h_1+1/2V_1^2$\n",
    "\n",
    "setting $\\beta$ as\n",
    "\n",
    "$\\beta=h_1+1/2V_1^2$\n",
    "\n",
    "the difference between $\\beta$ and the left hand side of the previous equation calculated by CoolProp would be the error of calculations used along with a tunning parameter $(z)$ in a trial-and-error method.\n",
    "\n",
    "now, a trial and error method is to be used to obtain temperature (and velocity) using coolprop and the previous equation"
   ]
  },
  {
   "cell_type": "code",
   "execution_count": 3,
   "id": "46b2f0df-cf3b-44a6-828a-85e434c28809",
   "metadata": {},
   "outputs": [
    {
     "name": "stdout",
     "output_type": "stream",
     "text": [
      "The velocity of the fluid at outlet based on CoolProp is: 147.49 m/s\n",
      "The temperature of the fluid at outlet based on CoolProp is: -20.71 C\n"
     ]
    }
   ],
   "source": [
    "h_1 = CP.PropsSI(\"H\", \"T\", T_1, \"P\", P_1, fluid)   #enthalpy of fluid at inlet in J/kg\n",
    "betha = h_1 + 0.5 * V_1 **2\n",
    "\n",
    "#obtaining enthalpy and density based on the guess value\n",
    "h_2 = CP.PropsSI(\"H\", \"T\", T_2, \"P\", P_2, fluid)   #guess enthalpy of fluid at outlet in J/kg\n",
    "rho_2 = CP.PropsSI(\"D\", \"T\", T_2, \"P\", P_2, fluid)   #guess density of fluid at outlet in kg/m3\n",
    "e = betha - h_2 - 0.5 * (m / (rho_2 * A_2)) ** 2   #error based on the guess\n",
    "\n",
    "#now starting a loop to implement the trila and error method\n",
    "i = 1\n",
    "z = 0.0001    #tunning parameter to tune calculation error and apply to the new temperature guess\n",
    "\n",
    "while np.absolute(e) > 1 :\n",
    "    T_2 = T_2 + e * z    #new temperature guess based on the error (e) and the tunning parameter (z) \n",
    "    h_2 = CP.PropsSI(\"H\", \"T\", T_2, \"P\", P_2, fluid)   #new guess enthalpy of fluid at outlet in J/kg\n",
    "    rho_2 = CP.PropsSI(\"D\", \"T\", T_2, \"P\", P_2, fluid)   #new guess density of fluid at outlet in kg/m3\n",
    "    e = betha - h_2 - 0.5 * (m / (rho_2 * A_2)) ** 2   #new error based on the new guess\n",
    "    i += 1\n",
    "    if i == 1000:\n",
    "        break\n",
    "\n",
    "# note the difference between two consecutive temperature guesses is e * z therefore an e < 1 means a diffrence lower than 0.0001 K\n",
    "\n",
    "V_2 = m / (rho_2 * A_2)   #velocity calculated based on temperature \n",
    "T_2C = T_2 - 273.15   #temperature at outlet in celcius\n",
    "\n",
    "print('The velocity of the fluid at outlet based on CoolProp is:', f\"{V_2:.2f}\", 'm/s')\n",
    "print('The temperature of the fluid at outlet based on CoolProp is:', f\"{T_2C:.2f}\", 'C')"
   ]
  }
 ],
 "metadata": {
  "kernelspec": {
   "display_name": "Python 3 (ipykernel)",
   "language": "python",
   "name": "python3"
  },
  "language_info": {
   "codemirror_mode": {
    "name": "ipython",
    "version": 3
   },
   "file_extension": ".py",
   "mimetype": "text/x-python",
   "name": "python",
   "nbconvert_exporter": "python",
   "pygments_lexer": "ipython3",
   "version": "3.9.17"
  }
 },
 "nbformat": 4,
 "nbformat_minor": 5
}