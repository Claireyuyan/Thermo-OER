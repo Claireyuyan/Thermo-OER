{
 "cells": [
  {
   "cell_type": "markdown",
   "id": "3f1399a9-0681-418d-a5af-b4209c5c4e96",
   "metadata": {},
   "source": [
    "# 5.5 Refrigeration cycle: R134a"
   ]
  },
  {
   "cell_type": "markdown",
   "id": "3ff9c8f8-f27d-4dc9-a278-1058022f28af",
   "metadata": {},
   "source": [
    "consider a refrigration cycle working with R134-a as coolant. The refrigerant absorbs heat at $-20^{\\circ}  C$ during evaporation and enters the compressor as saturated vapor. The compressor then pressurizes R134-a while the its temperature increases to $120^{\\circ}  C$. The refrigerant is then cooled down to saturated liquid at $40^{\\circ}  C$ in a condensor in constant pressure before entering a throttling valve. The refrigerant is then throttled to $-20^{\\circ}  C$ to provide refrigerating fluid for the evaporator. Calculate, \n",
    "\n",
    "a) specific enthalpy of the refrigerant entering the throttling valve\n",
    "\n",
    "b) specific enthalpy, quality and pressure of the refrigerant exiting the throttling valve\n",
    "\n",
    "c) specific enthalpy and pressure at compressor inlet\n",
    "\n",
    "d) specific enthalpy at compressor outlet\n",
    "\n",
    "e) how much heat is absorbed in the evaporator per unit mass of the refrigerant\n",
    "\n",
    "f) how much heat is rejected in the condenser per unit mass of the refrigerant\n",
    "\n",
    "g) how much work is required by the compresor to elevate $1\\:kg$ of the refrigerant's pressure; what would be the coefficient of performance (COP)?\n",
    "\n",
    "h) the polytropic constant assuming a polytropic process in the compressor\n",
    "\n",
    "i) verify the first law of thermodynamics for the system as a whoole\n",
    "\n",
    "j) draw the process on a P-h diagram developed previously for Q4 at this chapter"
   ]
  },
  {
   "attachments": {},
   "cell_type": "markdown",
   "id": "3258fae4-6d28-43a9-a176-8cd3315fd5a4",
   "metadata": {},
   "source": [
    "![Q5.png](CH5-Q5.png)"
   ]
  },
  {
   "cell_type": "markdown",
   "id": "f81501ab-8b40-44f4-99fb-aebfb2fd53b7",
   "metadata": {},
   "source": [
    "# Solution Approach for a)\n",
    "\n",
    "The refrigerant entering the throttling valve comes from the condenser; therefore the state 3 enthalpy is desired. The temperature at this state is guven as $T_3=0^{\\circ}  C$ and the refrigerant is at its satuarated liquid state with quality equal to $x=0$.\n"
   ]
  },
  {
   "cell_type": "code",
   "execution_count": 1,
   "id": "b382cf75-46f0-4ea0-be65-b5eddd69c7e4",
   "metadata": {},
   "outputs": [
    {
     "name": "stdout",
     "output_type": "stream",
     "text": [
      "Th specific of the refrigerant at state #3 is: 256.4 kJ/kg\n"
     ]
    }
   ],
   "source": [
    "# import the libraries we'll need\n",
    "import CoolProp.CoolProp as CP\n",
    "\n",
    "# define variables\n",
    "fluid = \"R134A\"  # define the fluid or material of interest\n",
    "T_3 = 40 + 273.15 #stete #3 temperature in K\n",
    "h_3 = CP.PropsSI(\"H\", \"T\", T_3, \"Q\", 0, fluid)/1000  # enthalpy of the refrigerant at state #3 in kJ/kg\n",
    "print('Th specific of the refrigerant at state #3 is:', f\"{h_3:.1f}\", 'kJ/kg')"
   ]
  },
  {
   "cell_type": "markdown",
   "id": "25734c00-4a43-4b90-9a1f-665ffbeeae24",
   "metadata": {},
   "source": [
    "# Solution Approach for b)\n",
    "A throttling valve is ideally assumed to conserve enthalpy considering the first law of thermodynamics. Therefore,\n",
    "\n",
    "$h_3 = h_4$\n",
    "\n",
    "The refrigerant enters the evaporator as saturated liquid at $-20^{\\circ}  C$, therefore\n",
    "\n",
    "$h_4 = h_{f@-20^{\\circ}  C}+xh_{fg@-20^{\\circ}  C}$\n",
    "\n",
    "$x = (h_4 - h_{f@-20^{\\circ}  C}) / h_{fg@-20^{\\circ}  C}$\n",
    "\n",
    "The pressure at the throttling valve exit, which is same as evaporator inlet, would be satuartion pressure at the evaporator's working temperature since the refrigerant enters the evaporator as saturated fluid.\n",
    "\n",
    "$P_4 = P_{sat@-20^{\\circ}  C}$"
   ]
  },
  {
   "cell_type": "code",
   "execution_count": 2,
   "id": "dcc827d4-4d81-4159-bade-1799f58e42eb",
   "metadata": {},
   "outputs": [
    {
     "name": "stdout",
     "output_type": "stream",
     "text": [
      "The specific of the refrigerant at state #4 is: 256.4 kJ/kg\n",
      "The quality of the refrigerant at state #4 is: 0.389\n",
      "The pressure of the refrigerant at state #4 is: 132735.0 Pa\n"
     ]
    }
   ],
   "source": [
    "h_4 = h_3   #constant enthalpy through a throttling valve\n",
    "\n",
    "T_4 = -20 + 273.15   #temperature of refrigerant at state #4 in K\n",
    "h_gN20 = CP.PropsSI(\"H\", \"T\", T_4, \"Q\", 1, fluid)/1000   #enthalpy of sat vap at -20C in kJ/kg\n",
    "h_fN20 = CP.PropsSI(\"H\", \"T\", T_4, \"Q\", 0, fluid)/1000   #enthalpy of sat lig at -20C in kJ/kg\n",
    "h_fgN20 = h_gN20 - h_fN20   #h_fg at -20C in kJ/kg\n",
    "x = (h_4 - h_fN20)/h_fgN20  #qaulity of refrigerant entering the evaporator\n",
    "\n",
    "P_4 = CP.PropsSI(\"P\", \"T\", T_4, \"Q\", x, fluid)  # pressure of the refrigerant at state #1 in Pa\n",
    "\n",
    "print('The specific of the refrigerant at state #4 is:', f\"{h_4:.1f}\", 'kJ/kg')\n",
    "print('The quality of the refrigerant at state #4 is:', f\"{x:.3f}\")\n",
    "print('The pressure of the refrigerant at state #4 is:', f\"{P_4:.1f}\", 'Pa')"
   ]
  },
  {
   "cell_type": "markdown",
   "id": "732d17f7-d37c-42a5-ba9b-6b2813e48e9f",
   "metadata": {},
   "source": [
    "# Solution Approach for c)\n",
    "\n",
    "The refrigerant enters the compressor as saturated vapor, therefore it has gone through constant pressure(and temperature) heating in the evaporator whose temperature is $-20^{\\circ}  C$. So,\n",
    "\n",
    "$h_1 = h_v@-20^{\\circ}  C$\n",
    "\n",
    "$P_1=P_{sat@-20^{\\circ}  C}$"
   ]
  },
  {
   "cell_type": "code",
   "execution_count": 3,
   "id": "34b8cbd9-1788-47d0-8d4d-df57e83680fd",
   "metadata": {},
   "outputs": [
    {
     "name": "stdout",
     "output_type": "stream",
     "text": [
      "Th specific enthalpy of the refrigerant at state #1 is: 386.6 kJ/kg\n",
      "Th pressure of the refrigerant at state #1 is: 132735.0 Pa\n"
     ]
    }
   ],
   "source": [
    "T_1 = T_4 #temperature at state #1 in K\n",
    "h_1 = CP.PropsSI(\"H\", \"T\", T_1, \"Q\", 1, fluid)/1000  # enthalpy of the refrigerant at state #1 in kJ/kg\n",
    "P_1 = CP.PropsSI(\"P\", \"T\", T_1, \"Q\", 1, fluid)  # pressure of the refrigerant at state #1 in Pa\n",
    "print('Th specific enthalpy of the refrigerant at state #1 is:', f\"{h_1:.1f}\", 'kJ/kg')\n",
    "print('Th pressure of the refrigerant at state #1 is:', f\"{P_1:.1f}\", 'Pa')"
   ]
  },
  {
   "cell_type": "markdown",
   "id": "91f26a40-b8b6-4ece-a44b-80a988b10d34",
   "metadata": {},
   "source": [
    "# Solution Approach for d)\n",
    "\n",
    "The refrigerant is heated to $T_2=120^{\\circ}  C$. The pressure to which the refrigerant is pressurized to, however, is unknown. The condensor is assumed to be operating with constant pressure; therefore, the pressure keeps constant and the pressure at condensor outlet would be same as pressure at its inlet which is same as compressor outlet. The pressure at condensor outlet is calculated based on the refrigerant being at saturation state at $0^{\\circ}  C$.\n",
    "\n",
    "$P_2=P_3$\n",
    "\n",
    "$P_3=P_{satR134a@-20^{\\circ}  C}$\n",
    "\n",
    "The pressure and temperature at the compressor outlet are then used to calculate enthalpy at this state."
   ]
  },
  {
   "cell_type": "code",
   "execution_count": 4,
   "id": "086d3eb7-9955-4f2b-b639-406aa71f7847",
   "metadata": {},
   "outputs": [
    {
     "name": "stdout",
     "output_type": "stream",
     "text": [
      "The specific of the refrigerant at state #2 is: 504.1 kJ/kg\n"
     ]
    }
   ],
   "source": [
    "T_2 = 120 + 273.15 #temperature at state #2 in K\n",
    "P_3 = CP.PropsSI(\"P\", \"T\", T_3, \"Q\", 0, fluid)  # pressure of the refrigerant at state #3 in Pa\n",
    "P_2 = P_3 # pressure of the refrigerant at state #2 in Pa\n",
    "h_2 = CP.PropsSI(\"H\", \"T\", T_2, \"P\", P_2, fluid)/1000  # enthalpy of the refrigerant at state #2 in kJ/kg\n",
    "print('The specific of the refrigerant at state #2 is:', f\"{h_2:.1f}\", 'kJ/kg')"
   ]
  },
  {
   "cell_type": "markdown",
   "id": "ae692ccb-9f81-4253-8bd2-3a16f88df4b8",
   "metadata": {},
   "source": [
    "# Solution Approach for e)\n",
    "\n",
    "Considerin the first law of thermodynamics for the evaporator,\n",
    "\n",
    "$q_c=h_1-h_4$"
   ]
  },
  {
   "cell_type": "code",
   "execution_count": 5,
   "id": "f21d08f3-8642-4062-b9e4-e9eea24abaf3",
   "metadata": {},
   "outputs": [
    {
     "name": "stdout",
     "output_type": "stream",
     "text": [
      "130.1 kJ of heat is absorbed by the refrigerant in the evaporator per kg of refrigerant\n"
     ]
    }
   ],
   "source": [
    "q_c = h_1 - h_4\n",
    "print(f\"{q_c:.1f}\", 'kJ of heat is absorbed by the refrigerant in the evaporator per kg of refrigerant')"
   ]
  },
  {
   "cell_type": "markdown",
   "id": "15c45edd-58a6-494b-b3aa-c565e336de50",
   "metadata": {},
   "source": [
    "# Solution Approach for f)\n",
    "\n",
    "Considerin the first law of thermodynamics for the condenser,\n",
    "\n",
    "$q_h=h_2-h_3$"
   ]
  },
  {
   "cell_type": "code",
   "execution_count": 6,
   "id": "d0b3d3ea-1174-4c30-b3a2-6b54369b4269",
   "metadata": {},
   "outputs": [
    {
     "name": "stdout",
     "output_type": "stream",
     "text": [
      "247.6 kJ of heat is rejected to the environment in the condenser per kg of refrigerant\n"
     ]
    }
   ],
   "source": [
    "q_h = h_2 - h_3\n",
    "print(f\"{q_h:.1f}\", 'kJ of heat is rejected to the environment in the condenser per kg of refrigerant')"
   ]
  },
  {
   "cell_type": "markdown",
   "id": "4354b9b8-5226-449c-8b5f-94d8c46e02e8",
   "metadata": {},
   "source": [
    "# Solution Approach for g)\n",
    "\n",
    "Considerin the first law of thermodynamics for the compressor,\n",
    "\n",
    "$w=h_2-h_1$\n",
    "\n",
    "$COP=q_c/w$"
   ]
  },
  {
   "cell_type": "code",
   "execution_count": 7,
   "id": "c07e6b28-dcf0-416c-86b0-483cb63c9b62",
   "metadata": {},
   "outputs": [
    {
     "name": "stdout",
     "output_type": "stream",
     "text": [
      "117.5 kJ of energy is required to compress 1kg of R134-a to the desired pressure\n",
      "The COP of the cycle is: 1.1\n"
     ]
    }
   ],
   "source": [
    "w = h_2 - h_1\n",
    "cop = q_c / w\n",
    "print(f\"{w:.1f}\", 'kJ of energy is required to compress 1kg of R134-a to the desired pressure')\n",
    "print('The COP of the cycle is:', f\"{cop:.1f}\")"
   ]
  },
  {
   "cell_type": "markdown",
   "id": "de819244-f7ad-4c90-914b-7409e37fa4b0",
   "metadata": {},
   "source": [
    "# Solution Approach for h)\n",
    "\n",
    "for a polytropic process,\n",
    "\n",
    "$Pv^k=constant$\n",
    "\n",
    "$P_1v_1^k=P_2v_2^k$\n",
    "\n",
    "$P_1/P_2=(v_2/v_1)^k$\n",
    "\n",
    "$d (density)=1/v$\n",
    "\n",
    "$P_1/P_2=(d_1/d_2)^k$\n",
    "\n",
    "$log(P_1/P_2)=k\\:log(d_1/d_2)$\n",
    "\n",
    "$k=log(P_1/P_2)/log(d_1/d_2)$"
   ]
  },
  {
   "cell_type": "code",
   "execution_count": 8,
   "id": "0bae9760-a053-4425-beb4-78c073cd33bb",
   "metadata": {},
   "outputs": [
    {
     "name": "stdout",
     "output_type": "stream",
     "text": [
      "Th polytropic constant for the compression process is: 1.254\n"
     ]
    }
   ],
   "source": [
    "#importing required libraries\n",
    "import numpy as np\n",
    "\n",
    "#evaluating density \n",
    "d_1 = CP.PropsSI(\"D\", \"T\", T_1, \"Q\", 1, fluid)  # density of the refrigerant at state #1 in kg/m3 based on sat vepor\n",
    "d_2 = CP.PropsSI(\"D\", \"T\", T_2, \"P\", P_2, fluid)  # density of the refrigerant at state #2 in kg/m3 based on sat vepor\n",
    "k = np.log(P_1/P_2)/np.log(d_1/d_2)\n",
    "print('Th polytropic constant for the compression process is:', f\"{k:.3f}\")"
   ]
  },
  {
   "cell_type": "markdown",
   "id": "332e1cd2-e6c1-4c00-8524-a14f0be2e823",
   "metadata": {},
   "source": [
    "# Solution Approach for i)\n",
    "\n",
    "Considerin the first law of thermodynamics for the whole system,\n",
    "\n",
    "$w=q_h-q_c$"
   ]
  },
  {
   "cell_type": "code",
   "execution_count": 9,
   "id": "aa663952-dfc6-42b9-a12f-bc9d365628e2",
   "metadata": {},
   "outputs": [
    {
     "data": {
      "text/plain": [
       "True"
      ]
     },
     "execution_count": 9,
     "metadata": {},
     "output_type": "execute_result"
    }
   ],
   "source": [
    "w_test =  q_h - q_c\n",
    "w_test == w #w_test is the value calculated from the first law and w is the value calculated using enthalpies"
   ]
  },
  {
   "cell_type": "markdown",
   "id": "3175a87c-cb24-4bdd-b908-730ff2b1d6e1",
   "metadata": {},
   "source": [
    "# Solution Approach for j)\n",
    "\n",
    "Except the compression process, other are straight lines of constant pressure or constant enthalpy processes. Therefore, the curve for the compression is to be built based on polytropic process and thermodynamic properties obtained from CoolProp.\n",
    "\n",
    "from h)\n",
    "\n",
    "$P/P_1=(d/d_1)^k$\n",
    "\n",
    "$P=P1\\:(d/d_1)^k$\n",
    "\n",
    "values of $P$ and $d$ are generic pressure and density values for a polytropic process.\n",
    "\n",
    "then an array of densities ranging from $d_1$ to $d_2$ is used to calculate pressure and enthalpy accordingly."
   ]
  },
  {
   "cell_type": "code",
   "execution_count": 10,
   "id": "166f761c-bbe7-4ab7-bdcc-10d13d7da93b",
   "metadata": {},
   "outputs": [
    {
     "data": {
      "text/plain": [
<<<<<<< HEAD
       "<matplotlib.legend.Legend at 0x7faad4649be0>"
=======
       "<matplotlib.legend.Legend at 0x7fd908240670>"
>>>>>>> 74c779087013c2f3bb42754e9d257c5a448bad13
      ]
     },
     "execution_count": 10,
     "metadata": {},
     "output_type": "execute_result"
    },
    {
     "data": {
      "image/png": "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",
      "text/plain": [
       "<Figure size 640x480 with 1 Axes>"
      ]
     },
     "metadata": {},
     "output_type": "display_data"
    }
   ],
   "source": [
    "# import the libraries we'll need\n",
    "import CoolProp.CoolProp as CP\n",
    "import numpy as np\n",
    "import matplotlib.pyplot as plt\n",
    "\n",
    "#for the compression process 1-2\n",
    "#building an array of densities\n",
    "e = 1000   #number of data points for the polytropic process\n",
    "d_12 = np.linspace(d_1, d_2, e)  # define an array of values from d_1 to d_2\n",
    "P_12 = P_1 * (d_12/d_1) ** k   #array of pressure based on density for the polytropic compression\n",
    "h_12 = np.zeros(e)   #an empty array to store enthalpy values\n",
    "\n",
    "for i in range(e):\n",
    "   h_12[i] = CP.PropsSI(\"H\", \"P\", P_12[i], \"D\", d_12[i], fluid)/1000  # enthalpy values for the polytropic process in kJ/kg\n",
    "\n",
    "#for the cooling process in the condensor in constant pressure\n",
    "P_23 = np.linspace(P_2, P_3, 1000)  # define an array of pressure values from 2 to 3\n",
    "h_23 = np.linspace(h_2, h_3, 1000)  # define a linear array of enthalpy values from 2 to 3\n",
    "\n",
    "#for the process through the throttling valve at constant enthalpy\n",
    "P_34 = np.linspace(P_3, P_4, 1000)  # define an array of pressure values from 3 to 4\n",
    "h_34 = np.linspace(h_3, h_4, 1000)  # define a linear array of enthalpy values from 3 to 4\n",
    "\n",
    "#for the process through the evaporatot at constant pressure\n",
    "P_41 = np.linspace(P_4, P_1, 1000)  # define an array of pressure values from 4 to 1\n",
    "h_41 = np.linspace(h_4, h_1, 1000)  # define a linear array of enthalpy values from 4 to 1\n",
    "\n",
    "#plotting the process on the P-h diagram\n",
    "plt.plot(h_23, P_23, \"-\", label=\"condensor\")\n",
    "plt.plot(h_34, P_34, \"-\", label=\"throttling valve\")\n",
    "plt.plot(h_41, P_41, \"-\", label=\"evaporator\")\n",
    "plt.plot(h_12, P_12, \"-\", label=\"compressor\")\n",
    "plt.legend()\n",
    "\n",
    "\n",
    "#building the P-h diagram\n",
    "\n",
    "\n",
    "# define variables\n",
    "fluid = \"R134A\"  # define the fluid or material of interest, for full list see CP.Fluidslist()\n",
    "T_min = CP.PropsSI(\"Tmin\", fluid)  # triple-point temp for the fluid\n",
    "P_min = CP.PropsSI(\"P\", \"T\", T_min, \"Q\", 0, fluid)  # triple-point pressure for the fluid\n",
    "P_max = 4.03E+6 #approximate critical pressure\n",
    "\n",
    "P_vals = np.linspace(P_min, P_max, 1000)  # define an array of values from P_min to P_max\n",
    "Q = 1  # define the fluid quality as 1, which is 100% vapor\n",
    "\n",
    "enthalpy = [CP.PropsSI(\"H\", \"P\", P, \"Q\", Q, fluid)/1000 for P in P_vals]  # call for enthalpy values using CoolProp\n",
    "\n",
    "plt.plot(enthalpy, P_vals, \"-b\", label=\"Saturation Line\")  # plot pressure vs enthalpy\n",
    "\n",
    "Q = 0  # define the fluid quality as 0, which is 100% liquid\n",
    "\n",
    "enthalpy = [CP.PropsSI(\"H\", \"P\", P, \"Q\", Q, fluid)/1000 for P in P_vals] # call for enthalpy values using CoolProp\n",
    "\n",
    "plt.plot(enthalpy, P_vals, \"-b\")  # plot pressure vs enthalpy\n",
    "\n",
    "\n",
    "plt.yscale(\"log\")  # use log scale on y axis\n",
    "plt.ylabel(\"Pressure [Pa]\")  # give y axis a label\n",
    "plt.xlabel(\"Enthalpy [kJ/kg]\")  # give x axis a label\n",
    "plt.grid()\n",
    "\n",
    "\n",
    "# Building constant temperature curves\n",
    "\n",
    "T_up = T_2\n",
    "T_mid = T_3\n",
    "T_down = T_4\n",
    "\n",
    "P_max = 20E+6  # max pressure in the plot set to 20MPa\n",
    "P_vals = np.linspace(P_min, P_max, 10000)  # define an array of values from P_min to P_max\n",
    "enthalpy_up = [CP.PropsSI(\"H\", \"P\", P, \"T\", T_up, fluid)/1000 for P in P_vals] # call for enthalpy values using CoolProp\n",
    "enthalpy_mid = [CP.PropsSI(\"H\", \"P\", P, \"T\", T_mid, fluid)/1000 for P in P_vals] # call for enthalpy values using CoolProp\n",
    "enthalpy_down = [CP.PropsSI(\"H\", \"P\", P, \"T\", T_down, fluid)/1000 for P in P_vals] # call for enthalpy values using CoolProp\n",
    "\n",
    "plt.plot(enthalpy_up, P_vals, \"-.y\", label=T_up-273.15)  # plot pressure vs enthalpy\n",
    "plt.plot(enthalpy_mid, P_vals, \":r\", label=T_mid-273.15)  # plot pressure vs enthalpy\n",
    "plt.plot(enthalpy_down, P_vals, \"--m\", label=T_down-273.15)  # plot pressure vs enthalpy\n",
    "plt.legend()\n"
   ]
  }
 ],
 "metadata": {
  "kernelspec": {
   "display_name": "Python 3 (ipykernel)",
   "language": "python",
   "name": "python3"
  },
  "language_info": {
   "codemirror_mode": {
    "name": "ipython",
    "version": 3
   },
   "file_extension": ".py",
   "mimetype": "text/x-python",
   "name": "python",
   "nbconvert_exporter": "python",
   "pygments_lexer": "ipython3",
   "version": "3.9.18"
  }
 },
 "nbformat": 4,
 "nbformat_minor": 5
}