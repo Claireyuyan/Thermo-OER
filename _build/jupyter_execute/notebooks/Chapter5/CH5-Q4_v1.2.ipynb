{
 "cells": [
  {
   "cell_type": "markdown",
   "id": "e92fb513-eec9-433c-a8a8-455cb0ded2b0",
   "metadata": {},
   "source": [
    "# 5.4 P-h diagram for R-134a refrigerant"
   ]
  },
  {
   "cell_type": "markdown",
   "id": "0e9fc5be-960e-438a-a381-d5f27dbe5f26",
   "metadata": {},
   "source": [
    "## Problem Statement:"
   ]
  },
  {
   "cell_type": "markdown",
   "id": "47521772-abda-4b1f-a432-b5548898d556",
   "metadata": {},
   "source": [
    "Consider R134-a as a refrigerant fluid. Build the P-h (Pressure vs. Specific Enthalpy) for R134-a knowing the critical pressure is around $4.03\\:MPa$. Build three constant temperature curves for $T=120 ^{\\circ}  C$, $0\\ ^{\\circ}  C$ and $-20 ^{\\circ}  C$."
   ]
  },
  {
   "cell_type": "markdown",
   "id": "863b7bd0-884e-46f8-ac27-41133386d238",
   "metadata": {},
   "source": [
    "# Solution approach:"
   ]
  },
  {
   "cell_type": "code",
   "execution_count": 1,
   "id": "80560969-d29c-4b6c-b7a5-3021a8f2e1b1",
   "metadata": {},
   "outputs": [
    {
     "ename": "ModuleNotFoundError",
     "evalue": "No module named 'CoolProp'",
     "output_type": "error",
     "traceback": [
      "\u001b[1;31m---------------------------------------------------------------------------\u001b[0m",
      "\u001b[1;31mModuleNotFoundError\u001b[0m                       Traceback (most recent call last)",
      "Cell \u001b[1;32mIn[1], line 5\u001b[0m\n\u001b[0;32m      1\u001b[0m \u001b[38;5;66;03m# Plot a P-h diagram for a fluid of choice\u001b[39;00m\n\u001b[0;32m      2\u001b[0m \n\u001b[0;32m      3\u001b[0m \n\u001b[0;32m      4\u001b[0m \u001b[38;5;66;03m# import the libraries we'll need\u001b[39;00m\n\u001b[1;32m----> 5\u001b[0m \u001b[38;5;28;01mimport\u001b[39;00m \u001b[38;5;21;01mCoolProp\u001b[39;00m\u001b[38;5;21;01m.\u001b[39;00m\u001b[38;5;21;01mCoolProp\u001b[39;00m \u001b[38;5;28;01mas\u001b[39;00m \u001b[38;5;21;01mCP\u001b[39;00m\n\u001b[0;32m      6\u001b[0m \u001b[38;5;28;01mimport\u001b[39;00m \u001b[38;5;21;01mnumpy\u001b[39;00m \u001b[38;5;28;01mas\u001b[39;00m \u001b[38;5;21;01mnp\u001b[39;00m\n\u001b[0;32m      7\u001b[0m \u001b[38;5;28;01mimport\u001b[39;00m \u001b[38;5;21;01mmatplotlib\u001b[39;00m\u001b[38;5;21;01m.\u001b[39;00m\u001b[38;5;21;01mpyplot\u001b[39;00m \u001b[38;5;28;01mas\u001b[39;00m \u001b[38;5;21;01mplt\u001b[39;00m\n",
      "\u001b[1;31mModuleNotFoundError\u001b[0m: No module named 'CoolProp'"
     ]
    }
   ],
   "source": [
    "# Plot a P-h diagram for a fluid of choice\n",
    "\n",
    "\n",
    "# import the libraries we'll need\n",
    "import CoolProp.CoolProp as CP\n",
    "import numpy as np\n",
    "import matplotlib.pyplot as plt\n",
    "\n",
    "\n",
    "# define variables\n",
    "fluid = \"R134A\"  # define the fluid or material of interest, for full list see CP.Fluidslist()\n",
    "T_min = CP.PropsSI(\"Tmin\", fluid)  # triple-point temp for the fluid\n",
    "P_min = CP.PropsSI(\"P\", \"T\", T_min, \"Q\", 0, fluid)  # triple-point pressure for the fluid\n",
    "P_max = 4.03E+6 #approximate critical pressure\n",
    "\n",
    "P_vals = np.linspace(P_min, P_max, 1000)  # define an array of values from P_min to P_max\n",
    "Q = 1  # define the fluid quality as 1, which is 100% vapor\n",
    "\n",
    "enthalpy = [CP.PropsSI(\"H\", \"P\", P, \"Q\", Q, fluid)/1000 for P in P_vals]  # call for enthalpy values using CoolProp\n",
    "\n",
    "plt.plot(enthalpy, P_vals, \"-b\", label=\"Saturation Line\")  # plot pressure vs enthalpy\n",
    "\n",
    "Q = 0  # define the fluid quality as 0, which is 100% liquid\n",
    "\n",
    "enthalpy = [CP.PropsSI(\"H\", \"P\", P, \"Q\", Q, fluid)/1000 for P in P_vals] # call for enthalpy values using CoolProp\n",
    "\n",
    "plt.plot(enthalpy, P_vals, \"-b\")  # plot pressure vs enthalpy\n",
    "\n",
    "\n",
    "plt.yscale(\"log\")  # use log scale on y axis\n",
    "plt.ylabel(\"Pressure [Pa]\")  # give y axis a label\n",
    "plt.xlabel(\"Enthalpy [kJ/kg]\")  # give x axis a label\n",
    "plt.grid()\n",
    "plt.legend()\n",
    "\n",
    "# Building constant temperature curves\n",
    "\n",
    "T_up = 120 + 273.15\n",
    "T_mid = 40 + 273.15\n",
    "T_down = -20 + 273.15\n",
    "\n",
    "P_max = 20E+6  # max pressure in the plot set to 20MPa\n",
    "P_vals = np.linspace(P_min, P_max, 10000)  # define an array of values from P_min to P_max\n",
    "enthalpy_up = [CP.PropsSI(\"H\", \"P\", P, \"T\", T_up, fluid)/1000 for P in P_vals] # call for enthalpy values using CoolProp\n",
    "enthalpy_mid = [CP.PropsSI(\"H\", \"P\", P, \"T\", T_mid, fluid)/1000 for P in P_vals] # call for enthalpy values using CoolProp\n",
    "enthalpy_down = [CP.PropsSI(\"H\", \"P\", P, \"T\", T_down, fluid)/1000 for P in P_vals] # call for enthalpy values using CoolProp\n",
    "\n",
    "plt.plot(enthalpy_up, P_vals, \"-.y\", label=\"{} °C\".format(T_up-273.15))  # plot pressure vs enthalpy\n",
    "plt.plot(enthalpy_mid, P_vals, \":r\", label=\"{} °C\".format(T_mid-273.15))  # plot pressure vs enthalpy\n",
    "plt.plot(enthalpy_down, P_vals, \"--m\", label=\"{} °C\".format(T_down-273.15))  # plot pressure vs enthalpy\n",
    "plt.legend()"
   ]
  }
 ],
 "metadata": {
  "kernelspec": {
   "display_name": "Python 3 (ipykernel)",
   "language": "python",
   "name": "python3"
  },
  "language_info": {
   "codemirror_mode": {
    "name": "ipython",
    "version": 3
   },
   "file_extension": ".py",
   "mimetype": "text/x-python",
   "name": "python",
   "nbconvert_exporter": "python",
   "pygments_lexer": "ipython3",
   "version": "3.11.5"
  }
 },
 "nbformat": 4,
 "nbformat_minor": 5
}