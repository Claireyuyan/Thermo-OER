{
 "cells": [
  {
   "cell_type": "markdown",
   "id": "2410e505-1287-40e5-9e79-d4a380efb6b9",
   "metadata": {},
   "source": [
    "# 3.9: Can Crush"
   ]
  },
  {
   "cell_type": "markdown",
   "id": "c0bd14c6-0621-45e2-8115-f4839461f387",
   "metadata": {},
   "source": [
    "Consider a Can Crush experiment where an empty can is crushed using the pressure drop caused by instant cooling of the hot air trapped inside the can. An empty $355\\:ml$ can at atmospheric pressure is heated up to $T=120^{\\circ} C$ on a stove. Then can is then suddenly dipped upside-down into a bowl of water at $T_w=25^{\\circ} C$. Assumming the air inside the can is ideal gas in thermal equilibrium with the can, calculate:\n",
    "\n",
    "a) mass of heated air inside the can\n",
    "\n",
    "b) the crushing temperature for air inside the can assuming a pressure difference on $P_c=20\\:kPa$ is required to commence crushing"
   ]
  },
  {
   "attachments": {},
   "cell_type": "markdown",
   "id": "1dad5a6c-de14-4138-b990-11633a4e0c84",
   "metadata": {},
   "source": [
    "![CH3-Q9.jpg](CH3-Q9.png)"
   ]
  },
  {
   "cell_type": "markdown",
   "id": "79624e47-8d32-4fff-8ef1-51b71ecb08d5",
   "metadata": {},
   "source": [
    "### Solution Approach for a)\n",
    "\n",
    "based on ideal gas assumption,\n",
    "\n",
    "$PV=mRT$\n",
    "\n",
    "so\n",
    "\n",
    "$m=PV/(RT)$"
   ]
  },
  {
   "cell_type": "code",
   "execution_count": 1,
   "id": "c8576312-ec4d-44a8-9332-5e0f072a1fd8",
   "metadata": {},
   "outputs": [
    {
     "name": "stdout",
     "output_type": "stream",
     "text": [
      "The amount of hot air stored in the can is: 0.319 mg\n"
     ]
    }
   ],
   "source": [
    "#define variables\n",
    "P_a = 101325   #atmospheric pressure in Pa\n",
    "R = 287   #gas constant in J/kg.K\n",
    "\n",
    "T = 120 + 273.15   #temperature in K\n",
    "P = P_a   #initial hot air pressure in Pa\n",
    "V = 355E-6   #gas container volume in m3\n",
    "\n",
    "m = P * V / (R * T)   #mass in kg\n",
    "\n",
    "print('The amount of hot air stored in the can is:', f\"{m*1000:.3f}\", 'mg')"
   ]
  },
  {
   "cell_type": "markdown",
   "id": "e226b44f-03a0-47e0-bb02-801c27ded62b",
   "metadata": {},
   "source": [
    "### Solution Approach for b)\n",
    "\n",
    "The pressure difference ($P_c$) is the differece between the atmospheric pressure outside the can ($P_a$) and the pressure inside the can ($P$)\n",
    "\n",
    "$P_c=P_a-P$\n",
    "\n",
    "so\n",
    "\n",
    "$P=P_a-P_c$\n",
    "\n",
    "then assuming idael gas for the air inside the can at this pressure\n",
    "\n",
    "$T=PV/(mR)$\n",
    "\n",
    "note the volume of the can is constant before the crush happens"
   ]
  },
  {
   "cell_type": "code",
   "execution_count": 2,
   "id": "0c51f157-67f5-42ca-a6e5-d00f2da89d58",
   "metadata": {},
   "outputs": [
    {
     "name": "stdout",
     "output_type": "stream",
     "text": [
      "The crushing temperature based on the pressure difference is: 42.4 C\n"
     ]
    }
   ],
   "source": [
    "P_c = 20E+3   #pressure difference in Pa\n",
    "\n",
    "P = P_a - P_c\n",
    "T = P * V / (m * R)   #crushing temperature in K\n",
    "\n",
    "print('The crushing temperature based on the pressure difference is:', f\"{T-273.15:.1f}\", 'C')"
   ]
  }
 ],
 "metadata": {
  "kernelspec": {
   "display_name": "Python 3 (ipykernel)",
   "language": "python",
   "name": "python3"
  },
  "language_info": {
   "codemirror_mode": {
    "name": "ipython",
    "version": 3
   },
   "file_extension": ".py",
   "mimetype": "text/x-python",
   "name": "python",
   "nbconvert_exporter": "python",
   "pygments_lexer": "ipython3",
   "version": "3.11.5"
  }
 },
 "nbformat": 4,
 "nbformat_minor": 5
}