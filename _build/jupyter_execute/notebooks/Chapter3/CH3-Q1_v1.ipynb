{
 "cells": [
  {
   "cell_type": "markdown",
   "id": "d1abbd7e-18ec-4222-907b-ce6902c08699",
   "metadata": {},
   "source": [
    "# Ideal gas law: Air"
   ]
  },
  {
   "cell_type": "markdown",
   "id": "51dddf1e-8ce5-4bf5-8ba5-620258044463",
   "metadata": {},
   "source": [
    "## Problem Statement:"
   ]
  },
  {
   "cell_type": "markdown",
   "id": "b9a22018-93ef-4c46-887c-6a6ce2458296",
   "metadata": {},
   "source": [
    "Imagine $1\\:kg$ of air confined in a space of $1\\:m^3$ volume. If the air is kept at room temperature, assuming ideal gas law applies to air in this case,\n",
    "\n",
    "a) calculate air pressure in $kPa$?\n",
    "\n",
    "b) what if the temperature increases to $100 ^{\\circ} C$?\n",
    "\n",
    "c) what if $1\\:kg$ air is added to the same compartment?\n",
    "\n",
    "d) what if the space within which the air in kept is compressed to decrease the volume to $0.8\\:m^3$"
   ]
  },
  {
   "cell_type": "markdown",
   "id": "bcd16dc3-b736-448d-86fd-e49240a783ad",
   "metadata": {},
   "source": [
    "## Solution Approach for a)\n",
    "\n",
    "The ideal gas law is an equation of state (EOS) which helps with predicting the state of a material based on its properties Pressure $(P)$, specific volume $(v)$, and temperature $(T)$ as following: \n",
    "\n",
    "$Pv=RT$ ,which can also be written as <br>\n",
    "$PV=mRT$ where $m$ is the mass of the material\n",
    "\n",
    "to calculate pressure: <br>\n",
    "$P=mRT/V$"
   ]
  },
  {
   "cell_type": "code",
   "execution_count": 1,
   "id": "6e79249d-7c46-4cf0-b10d-0dce34fbfe2f",
   "metadata": {},
   "outputs": [
    {
     "name": "stdout",
     "output_type": "stream",
     "text": [
      "The air pressure is: 85.6 kPa\n"
     ]
    }
   ],
   "source": [
    "#defining variables\n",
    "m = 1 #mass of air in kg\n",
    "R = 0.287 #air gas constant in kJ/kg.K\n",
    "V = 1 #volume of air in m3\n",
    "T = 25 + 273.15 #room temperature in K\n",
    "\n",
    "# using ideal gas equation of state to calculate pressure\n",
    "P = m * R * T / V #air pressure in kPa\n",
    "\n",
    "print('The air pressure is:', f\"{P:.1f}\", 'kPa')"
   ]
  },
  {
   "cell_type": "markdown",
   "id": "ba1637d6-0695-480a-8027-3fdd33e3fe63",
   "metadata": {},
   "source": [
    "## Solution Approach for b)\n",
    "\n",
    "for part b, the temperature increases to $100 ^{\\circ} C$. As a result, an increase in pressure is expected."
   ]
  },
  {
   "cell_type": "code",
   "execution_count": 2,
   "id": "32193a7e-5032-4985-a6cd-ff07b316528c",
   "metadata": {},
   "outputs": [
    {
     "name": "stdout",
     "output_type": "stream",
     "text": [
      "The air pressure is: 107.1 kPa\n"
     ]
    }
   ],
   "source": [
    "T = 100 + 273.15 #increased room temperature in K\n",
    "P = m * R * T / V #air pressure in kPa\n",
    "print('The air pressure is:', f\"{P:.1f}\", 'kPa')"
   ]
  },
  {
   "cell_type": "markdown",
   "id": "6d2c3b26-7a68-4037-bacc-7b9e943b7337",
   "metadata": {},
   "source": [
    "## Solution Approach for c)\n",
    "\n",
    "for part c, the number of air molecules increases. As a result, an increase in pressure is expected."
   ]
  },
  {
   "cell_type": "code",
   "execution_count": 3,
   "id": "a14fa3f7-8b04-4cbb-95a8-9ba411cb856b",
   "metadata": {},
   "outputs": [
    {
     "name": "stdout",
     "output_type": "stream",
     "text": [
      "The air pressure is: 214.2 kPa\n"
     ]
    }
   ],
   "source": [
    "m = 2 #increased mass of air in kg\n",
    "P = m * R * T / V #air pressure in kPa\n",
    "print('The air pressure is:', f\"{P:.1f}\", 'kPa')"
   ]
  },
  {
   "cell_type": "markdown",
   "id": "d4fb663e-42f3-4f35-b7d0-602f2c81a27a",
   "metadata": {},
   "source": [
    "## Solution Approach for d)\n",
    "\n",
    "for part c, the volume of air decreases resulting in more air molecules per unit volume. As a result, an increase in pressure is expected."
   ]
  },
  {
   "cell_type": "code",
   "execution_count": 4,
   "id": "69ccb054-ef4e-4b3a-8227-562ca5773a26",
   "metadata": {},
   "outputs": [
    {
     "name": "stdout",
     "output_type": "stream",
     "text": [
      "The air pressure is: 267.7 kPa\n"
     ]
    }
   ],
   "source": [
    "V = 0.8 #compressed volume of air in m3\n",
    "P = m * R * T / V #air pressure in kPa\n",
    "print('The air pressure is:', f\"{P:.1f}\", 'kPa')"
   ]
  }
 ],
 "metadata": {
  "kernelspec": {
   "display_name": "Python 3 (ipykernel)",
   "language": "python",
   "name": "python3"
  },
  "language_info": {
   "codemirror_mode": {
    "name": "ipython",
    "version": 3
   },
   "file_extension": ".py",
   "mimetype": "text/x-python",
   "name": "python",
   "nbconvert_exporter": "python",
   "pygments_lexer": "ipython3",
   "version": "3.9.17"
  }
 },
 "nbformat": 4,
 "nbformat_minor": 5
}