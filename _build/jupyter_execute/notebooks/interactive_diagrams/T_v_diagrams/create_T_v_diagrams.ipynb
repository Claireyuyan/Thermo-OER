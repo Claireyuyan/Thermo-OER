{
 "cells": [
  {
   "cell_type": "code",
   "execution_count": 1,
   "id": "56e2041d-a14a-4ca1-bee7-4b908ca2a69a",
   "metadata": {},
   "outputs": [
    {
     "ename": "ModuleNotFoundError",
     "evalue": "No module named 'pandas'",
     "output_type": "error",
     "traceback": [
      "\u001b[0;31m---------------------------------------------------------------------------\u001b[0m",
      "\u001b[0;31mModuleNotFoundError\u001b[0m                       Traceback (most recent call last)",
      "Cell \u001b[0;32mIn[1], line 2\u001b[0m\n\u001b[1;32m      1\u001b[0m \u001b[38;5;28;01mimport\u001b[39;00m \u001b[38;5;21;01mCoolProp\u001b[39;00m\u001b[38;5;21;01m.\u001b[39;00m\u001b[38;5;21;01mCoolProp\u001b[39;00m \u001b[38;5;28;01mas\u001b[39;00m \u001b[38;5;21;01mCP\u001b[39;00m\n\u001b[0;32m----> 2\u001b[0m \u001b[38;5;28;01mimport\u001b[39;00m \u001b[38;5;21;01mpandas\u001b[39;00m \u001b[38;5;28;01mas\u001b[39;00m \u001b[38;5;21;01mpd\u001b[39;00m\n\u001b[1;32m      3\u001b[0m \u001b[38;5;28;01mimport\u001b[39;00m \u001b[38;5;21;01mnumpy\u001b[39;00m \u001b[38;5;28;01mas\u001b[39;00m \u001b[38;5;21;01mnp\u001b[39;00m\n\u001b[1;32m      5\u001b[0m fluids \u001b[38;5;241m=\u001b[39m [\u001b[38;5;124m'\u001b[39m\u001b[38;5;124mWater\u001b[39m\u001b[38;5;124m'\u001b[39m, \u001b[38;5;124m'\u001b[39m\u001b[38;5;124mAmmonia\u001b[39m\u001b[38;5;124m'\u001b[39m, \u001b[38;5;124m'\u001b[39m\u001b[38;5;124mR134a\u001b[39m\u001b[38;5;124m'\u001b[39m]\n",
      "\u001b[0;31mModuleNotFoundError\u001b[0m: No module named 'pandas'"
     ]
    }
   ],
   "source": [
    "import CoolProp.CoolProp as CP\n",
    "import pandas as pd\n",
    "import numpy as np\n",
    "\n",
    "fluids = ['Water', 'Ammonia', 'R134a']\n",
    "for fluid in fluids:\n",
    "    T_min = CP.PropsSI('Tmin', fluid) + 10  # Adding a small offset to Tmin\n",
    "    T_max = CP.PropsSI('Tcrit', fluid)\n",
    "    T_vals = np.linspace(T_min, T_max, 100)  # Number of points\n",
    "\n",
    "    v_liquid = []\n",
    "    v_vapor = []\n",
    "\n",
    "    for T in T_vals:\n",
    "        density_liquid = CP.PropsSI('D', 'T', T, 'Q', 0, fluid)  # Saturated liquid\n",
    "        density_vapor = CP.PropsSI('D', 'T', T, 'Q', 1, fluid)  # Saturated vapor\n",
    "        v_liquid.append(1/density_liquid)\n",
    "        v_vapor.append(1/density_vapor)\n",
    "\n",
    "    # Save to CSV\n",
    "    df = pd.DataFrame({'Temperature (K)': T_vals, 'Specific Volume Liquid (m^3/kg)': v_liquid, \n",
    "                       'Specific Volume Vapor (m^3/kg)': v_vapor})\n",
    "    df.to_csv(f'{fluid}_T_v.csv', index=False)\n",
    "\n",
    "\n",
    "import plotly.graph_objs as go\n",
    "\n",
    "for fluid in fluids:\n",
    "    # Reading data from CSV\n",
    "    df = pd.read_csv(f'{fluid}_T_v.csv')\n",
    "\n",
    "    # Creating Plotly plot\n",
    "    fig = go.Figure()\n",
    "    fig.add_trace(go.Scatter(x=df['Specific Volume Liquid (m^3/kg)'], y=df['Temperature (K)'],\n",
    "                             mode='lines', name='Saturated Liquid'))\n",
    "    fig.add_trace(go.Scatter(x=df['Specific Volume Vapor (m^3/kg)'], y=df['Temperature (K)'],\n",
    "                             mode='lines', name='Saturated Vapor'))\n",
    "\n",
    "    # Set log scale for x-axis\n",
    "    fig.update_layout(xaxis_type=\"log\", title=f'{fluid} T-v Diagram', \n",
    "                      xaxis_title='Specific Volume (m^3/kg)', yaxis_title='Temperature (K)')\n",
    "\n",
    "    # Save as HTML\n",
    "    fig.write_html(f'{fluid}_T_v_plot.html')\n"
   ]
  }
 ],
 "metadata": {
  "kernelspec": {
   "display_name": "Python 3 (ipykernel)",
   "language": "python",
   "name": "python3"
  },
  "language_info": {
   "codemirror_mode": {
    "name": "ipython",
    "version": 3
   },
   "file_extension": ".py",
   "mimetype": "text/x-python",
   "name": "python",
   "nbconvert_exporter": "python",
   "pygments_lexer": "ipython3",
   "version": "3.9.18"
  }
 },
 "nbformat": 4,
 "nbformat_minor": 5
}