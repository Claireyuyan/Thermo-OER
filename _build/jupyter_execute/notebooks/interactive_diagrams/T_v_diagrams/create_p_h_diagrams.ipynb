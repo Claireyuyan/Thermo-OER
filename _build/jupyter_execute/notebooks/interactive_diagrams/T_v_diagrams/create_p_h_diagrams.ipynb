{
 "cells": [
  {
   "cell_type": "code",
   "execution_count": 1,
   "id": "a7908391-664f-4c4a-a883-472edcb7ef41",
   "metadata": {},
   "outputs": [
    {
     "ename": "ModuleNotFoundError",
     "evalue": "No module named 'CoolProp'",
     "output_type": "error",
     "traceback": [
      "\u001b[1;31m---------------------------------------------------------------------------\u001b[0m",
      "\u001b[1;31mModuleNotFoundError\u001b[0m                       Traceback (most recent call last)",
      "Cell \u001b[1;32mIn[1], line 1\u001b[0m\n\u001b[1;32m----> 1\u001b[0m \u001b[38;5;28;01mimport\u001b[39;00m \u001b[38;5;21;01mCoolProp\u001b[39;00m\u001b[38;5;21;01m.\u001b[39;00m\u001b[38;5;21;01mCoolProp\u001b[39;00m \u001b[38;5;28;01mas\u001b[39;00m \u001b[38;5;21;01mCP\u001b[39;00m\n\u001b[0;32m      2\u001b[0m \u001b[38;5;28;01mimport\u001b[39;00m \u001b[38;5;21;01mpandas\u001b[39;00m \u001b[38;5;28;01mas\u001b[39;00m \u001b[38;5;21;01mpd\u001b[39;00m\n\u001b[0;32m      3\u001b[0m \u001b[38;5;28;01mimport\u001b[39;00m \u001b[38;5;21;01mnumpy\u001b[39;00m \u001b[38;5;28;01mas\u001b[39;00m \u001b[38;5;21;01mnp\u001b[39;00m\n",
      "\u001b[1;31mModuleNotFoundError\u001b[0m: No module named 'CoolProp'"
     ]
    }
   ],
   "source": [
    "import CoolProp.CoolProp as CP\n",
    "import pandas as pd\n",
    "import numpy as np\n",
    "\n",
    "fluids = ['Water', 'Ammonia', 'R134a']\n",
    "for fluid in fluids:\n",
    "    T_min = CP.PropsSI('Tmin', fluid) + 1  # Adding a small offset to Tmin\n",
    "    T_max = CP.PropsSI('Tcrit', fluid)\n",
    "    T_vals = np.linspace(T_min, T_max, 400)  # Number of points\n",
    "\n",
    "    p_h_liquid = {'Pressure (Pa)': [], 'Enthalpy Liquid (J/kg)': []}\n",
    "    p_h_vapor = {'Pressure (Pa)': [], 'Enthalpy Vapor (J/kg)': []}\n",
    "\n",
    "    for T in T_vals:\n",
    "        p = CP.PropsSI('P', 'T', T, 'Q', 0, fluid)\n",
    "        h_liquid = CP.PropsSI('H', 'T', T, 'Q', 0, fluid)  # Saturated liquid\n",
    "        h_vapor = CP.PropsSI('H', 'T', T, 'Q', 1, fluid)  # Saturated vapor\n",
    "        p_h_liquid['Pressure (Pa)'].append(p)\n",
    "        p_h_liquid['Enthalpy Liquid (J/kg)'].append(h_liquid)\n",
    "        p_h_vapor['Pressure (Pa)'].append(p)\n",
    "        p_h_vapor['Enthalpy Vapor (J/kg)'].append(h_vapor)\n",
    "\n",
    "    # Save to CSV\n",
    "    pd.DataFrame(p_h_liquid).to_csv(f'{fluid}_p_h_liquid.csv', index=False)\n",
    "    pd.DataFrame(p_h_vapor).to_csv(f'{fluid}_p_h_vapor.csv', index=False)\n",
    "\n",
    "\n",
    "import plotly.graph_objs as go\n",
    "\n",
    "for fluid in fluids:\n",
    "    df_liquid = pd.read_csv(f'{fluid}_p_h_liquid.csv')\n",
    "    df_vapor = pd.read_csv(f'{fluid}_p_h_vapor.csv')\n",
    "\n",
    "    # Creating Plotly plot\n",
    "    fig = go.Figure()\n",
    "    fig.add_trace(go.Scatter(x=df_liquid['Enthalpy Liquid (J/kg)'], y=df_liquid['Pressure (Pa)'],\n",
    "                             mode='lines', name='Saturated Liquid'))\n",
    "    fig.add_trace(go.Scatter(x=df_vapor['Enthalpy Vapor (J/kg)'], y=df_vapor['Pressure (Pa)'],\n",
    "                             mode='lines', name='Saturated Vapor'))\n",
    "\n",
    "    fig.update_layout(title=f'{fluid} p-h Diagram', \n",
    "                      xaxis_title='Enthalpy (J/kg)', yaxis_title='Pressure (Pa)')\n",
    "\n",
    "    # Save as HTML\n",
    "    fig.write_html(f'{fluid}_p_h_plot.html')\n",
    "\n"
   ]
  }
 ],
 "metadata": {
  "kernelspec": {
   "display_name": "OER",
   "language": "python",
   "name": "oer"
  },
  "language_info": {
   "codemirror_mode": {
    "name": "ipython",
    "version": 3
   },
   "file_extension": ".py",
   "mimetype": "text/x-python",
   "name": "python",
   "nbconvert_exporter": "python",
   "pygments_lexer": "ipython3",
   "version": "3.11.5"
  }
 },
 "nbformat": 4,
 "nbformat_minor": 5
}