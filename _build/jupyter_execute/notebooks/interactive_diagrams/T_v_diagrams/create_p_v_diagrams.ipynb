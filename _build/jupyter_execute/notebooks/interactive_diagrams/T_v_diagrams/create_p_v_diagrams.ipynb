{
 "cells": [
  {
   "cell_type": "code",
   "execution_count": 1,
   "id": "62ac66e9-286a-4f1e-805a-0ce2c791b6e5",
   "metadata": {},
<<<<<<< HEAD
   "outputs": [],
=======
   "outputs": [
    {
     "ename": "ModuleNotFoundError",
     "evalue": "No module named 'pandas'",
     "output_type": "error",
     "traceback": [
      "\u001b[0;31m---------------------------------------------------------------------------\u001b[0m",
      "\u001b[0;31mModuleNotFoundError\u001b[0m                       Traceback (most recent call last)",
      "Cell \u001b[0;32mIn[1], line 2\u001b[0m\n\u001b[1;32m      1\u001b[0m \u001b[38;5;28;01mimport\u001b[39;00m \u001b[38;5;21;01mCoolProp\u001b[39;00m\u001b[38;5;21;01m.\u001b[39;00m\u001b[38;5;21;01mCoolProp\u001b[39;00m \u001b[38;5;28;01mas\u001b[39;00m \u001b[38;5;21;01mCP\u001b[39;00m\n\u001b[0;32m----> 2\u001b[0m \u001b[38;5;28;01mimport\u001b[39;00m \u001b[38;5;21;01mpandas\u001b[39;00m \u001b[38;5;28;01mas\u001b[39;00m \u001b[38;5;21;01mpd\u001b[39;00m\n\u001b[1;32m      3\u001b[0m \u001b[38;5;28;01mimport\u001b[39;00m \u001b[38;5;21;01mnumpy\u001b[39;00m \u001b[38;5;28;01mas\u001b[39;00m \u001b[38;5;21;01mnp\u001b[39;00m\n\u001b[1;32m      5\u001b[0m \u001b[38;5;28;01mimport\u001b[39;00m \u001b[38;5;21;01mplotly\u001b[39;00m\u001b[38;5;21;01m.\u001b[39;00m\u001b[38;5;21;01mgraph_objs\u001b[39;00m \u001b[38;5;28;01mas\u001b[39;00m \u001b[38;5;21;01mgo\u001b[39;00m\n",
      "\u001b[0;31mModuleNotFoundError\u001b[0m: No module named 'pandas'"
     ]
    }
   ],
>>>>>>> 74c779087013c2f3bb42754e9d257c5a448bad13
   "source": [
    "import CoolProp.CoolProp as CP\n",
    "import pandas as pd\n",
    "import numpy as np\n",
    "\n",
    "import plotly.graph_objs as go\n",
    "from IPython.display import IFrame\n",
    "fluids = ['Water', 'Ammonia', 'R134a']\n",
    "\n",
    "for fluid in fluids:\n",
    "    T_min = CP.PropsSI('Tmin', fluid) + 10  # Adding a small offset to Tmin\n",
    "    T_max = CP.PropsSI('Tcrit', fluid)\n",
    "    T_vals = np.linspace(T_min, T_max, 400)  # Number of points\n",
    "\n",
    "    p_v_liquid = {'Pressure (Pa)': [], 'Specific Volume Liquid (m^3/kg)': []}\n",
    "    p_v_vapor = {'Pressure (Pa)': [], 'Specific Volume Vapor (m^3/kg)': []}\n",
    "\n",
    "    for T in T_vals:\n",
    "        p = CP.PropsSI('P', 'T', T, 'Q', 0, fluid)\n",
    "        v_liquid = 1 / CP.PropsSI('D', 'T', T, 'Q', 0, fluid)  # Saturated liquid\n",
    "        v_vapor = 1 / CP.PropsSI('D', 'T', T, 'Q', 1, fluid)  # Saturated vapor\n",
    "        p_v_liquid['Pressure (Pa)'].append(p)\n",
    "        p_v_liquid['Specific Volume Liquid (m^3/kg)'].append(v_liquid)\n",
    "        p_v_vapor['Pressure (Pa)'].append(p)\n",
    "        p_v_vapor['Specific Volume Vapor (m^3/kg)'].append(v_vapor)\n",
    "\n",
    "    # Save to CSV\n",
    "    pd.DataFrame(p_v_liquid).to_csv(f'{fluid}_p_v_liquid.csv', index=False)\n",
    "    pd.DataFrame(p_v_vapor).to_csv(f'{fluid}_p_v_vapor.csv', index=False)\n",
    "\n",
    "\n",
    "import plotly.graph_objs as go\n",
    "\n",
    "for fluid in fluids:\n",
    "    df_liquid = pd.read_csv(f'{fluid}_p_v_liquid.csv')\n",
    "    df_vapor = pd.read_csv(f'{fluid}_p_v_vapor.csv')\n",
    "\n",
    "    # Creating Plotly plot\n",
    "    fig = go.Figure()\n",
    "    fig.add_trace(go.Scatter(x=df_liquid['Specific Volume Liquid (m^3/kg)'], y=df_liquid['Pressure (Pa)'],\n",
    "                             mode='lines', name='Saturated Liquid'))\n",
    "    fig.add_trace(go.Scatter(x=df_vapor['Specific Volume Vapor (m^3/kg)'], y=df_vapor['Pressure (Pa)'],\n",
    "                             mode='lines', name='Saturated Vapor'))\n",
    "\n",
    "    # Set log scale for x-axis\n",
    "    fig.update_layout(xaxis_type=\"log\", title=f'{fluid} p-v Diagram', \n",
    "                      xaxis_title='Specific Volume (m^3/kg)', yaxis_title='Pressure (Pa)')\n",
    "\n",
    "    # Save as HTML\n",
    "    fig.write_html(f'{fluid}_p_v_plot.html')\n",
    "\n"
   ]
  }
 ],
 "metadata": {
  "kernelspec": {
   "display_name": "Python 3 (ipykernel)",
   "language": "python",
   "name": "python3"
  },
  "language_info": {
   "codemirror_mode": {
    "name": "ipython",
    "version": 3
   },
   "file_extension": ".py",
   "mimetype": "text/x-python",
   "name": "python",
   "nbconvert_exporter": "python",
   "pygments_lexer": "ipython3",
   "version": "3.9.18"
  }
 },
 "nbformat": 4,
 "nbformat_minor": 5
}