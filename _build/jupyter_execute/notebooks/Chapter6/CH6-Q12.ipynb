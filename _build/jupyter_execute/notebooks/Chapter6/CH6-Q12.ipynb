{
 "cells": [
  {
   "cell_type": "markdown",
   "id": "c91c9bb5-bf78-409e-b470-745fb07e049c",
   "metadata": {},
   "source": [
    "# 6.13 Entropy in a heated rigid tank\n",
    "\n",
    "## Problem Statement:"
   ]
  },
  {
   "cell_type": "markdown",
   "id": "3c620741-8454-4871-8935-23fe5dcfc546",
   "metadata": {},
   "source": [
    "Water is heated up in a rigid tank from $P=101\\:kPa$ and $T=110^{\\circ} C$ till its temperature increases to $T=120^{\\circ} C$. Determine the changes in specific entropy,\n",
    "\n",
    "a) assuming ideal gas\n",
    "\n",
    "b) using CoolProp\n",
    "\n",
    "c) calculate the error \n",
    "\n",
    "d) discuss the error percentage compared to 6.13 in this chapter"
   ]
  },
  {
   "cell_type": "markdown",
   "id": "4bbfbff2-a552-424c-a679-fedce6d64228",
   "metadata": {},
   "source": [
    "### Solution Approach for a)\n",
    "\n",
    "the tank is rigid therefore the density of hydrogen remains constant\n",
    "\n",
    "$D_1 = D_2$\n",
    "\n",
    "to calculate changes in specific entropy assuming ideal gas\n",
    "\n",
    "$s_2-s_1=C_pln(T_2/T_1)-Rln(P_2/P_1)$"
   ]
  },
  {
   "cell_type": "code",
   "execution_count": 1,
   "id": "24cfd58d-ac2d-4ec3-80db-ebd03c21ff4a",
   "metadata": {},
   "outputs": [],
   "source": [
    "%%script false --no-raise-error\n",
    "# import the libraries we'll need\n",
    "import CoolProp.CoolProp as CP\n",
    "import numpy as np\n",
    "\n",
    "#define variables\n",
    "fluid = ''\n",
    "R =    #hydrogen gas constant kJ/kg.K\n",
    "C_p =    #hydrogen Cp kJ/kg.K\n",
    "\n",
    "P_1 =    #initial pressure in Pa\n",
    "T_1 =  + 273.15   #initial temperature in K\n",
    "T_2 =  + 273.15   #final temperature in K\n",
    "\n",
    "D_1 = CP.PropsSI(\"\", \"T\",, \"P\", , fluid)   #initial density in kg/m3\n",
    "D_2 = D_1   #constant density\n",
    "\n",
    "P_2 = CP.PropsSI(\"P\", \"T\", , \"D\", D_2, fluid)   #final pressure based on temperature and density in Pa\n",
    "\n",
    "ds_a = C_p * np.log(/) - R * np.log(/)   #changes in entropy in kJ/kg.k\n",
    "\n",
    "print('The entropy change using ideal gas assumption is:', f\"{ds_a:.3f}\", 'kJ/kg.K')"
   ]
  },
  {
   "cell_type": "code",
   "execution_count": 2,
   "id": "93147214-eb36-47cc-8d35-3ec9567d04d6",
   "metadata": {
    "editable": true,
    "slideshow": {
     "slide_type": ""
    },
    "tags": [
     "hide-input"
    ]
   },
   "outputs": [
    {
     "name": "stdout",
     "output_type": "stream",
     "text": [
      "The entropy change using ideal gas assumption is: 0.036 kJ/kg.K\n"
     ]
    }
   ],
   "source": [
    "# import the libraries we'll need\n",
    "import CoolProp.CoolProp as CP\n",
    "import numpy as np\n",
    "\n",
    "#define variables\n",
    "fluid = 'water'\n",
    "R = 0.4615   #hydrogen gas constant kJ/kg.K\n",
    "C_p = 1.8723   #hydrogen Cp kJ/kg.K\n",
    "\n",
    "P_1 = 101e+3   #initial pressure in Pa\n",
    "T_1 = 110 + 273.15   #initial temperature in K\n",
    "T_2 = 120 + 273.15   #final temperature in K\n",
    "\n",
    "D_1 = CP.PropsSI(\"D\", \"T\", T_1, \"P\", P_1, fluid)   #initial density in kg/m3\n",
    "D_2 = D_1   #constant density\n",
    "\n",
    "P_2 = CP.PropsSI(\"P\", \"T\", T_2, \"D\", D_2, fluid)   #final pressure based on temperature and density in Pa\n",
    "\n",
    "ds_a = C_p * np.log(T_2/T_1) - R * np.log(P_2/P_1)   #changes in entropy in kJ/kg.k\n",
    "\n",
    "print('The entropy change using ideal gas assumption is:', f\"{ds_a:.3f}\", 'kJ/kg.K')"
   ]
  },
  {
   "cell_type": "markdown",
   "id": "d19b50eb-3012-4a7b-929d-178f4af1cd6c",
   "metadata": {},
   "source": [
    "### Solution Approach for b)\n",
    "\n",
    "specific entropy values are to be extracted from coolprop"
   ]
  },
  {
   "cell_type": "code",
   "execution_count": 3,
   "id": "2b7b5a62-cb81-4eb7-b248-916aa1b85510",
   "metadata": {},
   "outputs": [
    {
     "name": "stdout",
     "output_type": "stream",
     "text": [
      "The entropy change using CoolProp is: 0.039 kJ/kg.K\n"
     ]
    }
   ],
   "source": [
    "s_1 = CP.PropsSI(\"S\", \"T\", T_1, \"P\", P_1, fluid)/1000   #initial entropy in kJ/kg.K\n",
    "s_2 = CP.PropsSI(\"S\", \"T\", T_2, \"P\", P_2, fluid)/1000   #final entropy in kJ/kg.K\n",
    "\n",
    "ds_b = s_2 - s_1   #changes in entropy in kJ/kg.K\n",
    "\n",
    "print('The entropy change using CoolProp is:', f\"{ds_b:.3f}\", 'kJ/kg.K')"
   ]
  },
  {
   "cell_type": "markdown",
   "id": "898637a2-61de-4dd8-8141-ef9b1a0c86e7",
   "metadata": {},
   "source": [
    "### Solution Approach for c)"
   ]
  },
  {
   "cell_type": "code",
   "execution_count": 4,
   "id": "189808dd-83cc-498b-955b-1ee365b6faee",
   "metadata": {},
   "outputs": [
    {
     "name": "stdout",
     "output_type": "stream",
     "text": [
      "The error based on ideal gas assumption is: 8.9 %\n"
     ]
    }
   ],
   "source": [
    "E = np.absolute(ds_b - ds_a) / ds_b * 100\n",
    "\n",
    "print('The error based on ideal gas assumption is:', f\"{E:.1f}\", '%')"
   ]
  }
 ],
 "metadata": {
  "kernelspec": {
   "display_name": "oer",
   "language": "python",
   "name": "oerminimal"
  },
  "language_info": {
   "codemirror_mode": {
    "name": "ipython",
    "version": 3
   },
   "file_extension": ".py",
   "mimetype": "text/x-python",
   "name": "python",
   "nbconvert_exporter": "python",
   "pygments_lexer": "ipython3",
   "version": "3.9.19"
  },
  "toc": {
   "base_numbering": 1,
   "nav_menu": {},
   "number_sections": true,
   "sideBar": true,
   "skip_h1_title": false,
   "title_cell": "Table of Contents",
   "title_sidebar": "Contents",
   "toc_cell": true,
   "toc_position": {},
   "toc_section_display": true,
   "toc_window_display": false
  }
 },
 "nbformat": 4,
 "nbformat_minor": 5
}