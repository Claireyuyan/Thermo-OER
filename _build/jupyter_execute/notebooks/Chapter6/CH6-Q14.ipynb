{
 "cells": [
  {
   "cell_type": "markdown",
   "id": "48cc72d5-daf0-4dde-ae31-975075937694",
   "metadata": {},
   "source": [
    "# 6.15 Detailed Entropy Generation for a Steam Cycle\n",
    "\n",
    "## Problem Statement:"
   ]
  },
  {
   "cell_type": "markdown",
   "id": "cdb2a10f-566a-447c-a07b-63634c8c2dca",
   "metadata": {},
   "source": [
    "Consider a steam turbine cycle as shown in the figure below. $\\dot m=1\\:kg/s$ of water enters the pump as saturated liquid at $P_1=101\\:kPa$ and is pressurized to $P_2=1\\:MPa$ before entering the boiler. Water is then heated in the bioler in constant pressure till its temperature reached $T_3=600\\:^{\\circ}C$. The steam is then used in a turbine to produce work until it reaches to temperature of $T_4=260\\:^{\\circ}C$. The steam is then cooled in a constant-pressure condenser to reach its saturated liquid state before entering the pump. Assuming the boiler to be a heat source at $T_H=650\\:^{\\circ}C$ and the condenser to be a heat sink at $T_L=20\\:^{\\circ}C$, calculate:\n",
    "\n",
    "a) the pump work assuming the dinsity of water remain constant through pumping\n",
    "\n",
    "b) amount of heat supplied in the boiler\n",
    "\n",
    "c) amount of work output in turbine\n",
    "\n",
    "d) amount of heat dissipated in the condenser based on inlet and outlet enthalpies\n",
    "\n",
    "e) amount of heat dissipated in the condenser looking to the system as a whole \n",
    "\n",
    "f) entropy generation in the pump\n",
    "\n",
    "g) entropy generation in the boiler\n",
    "\n",
    "h) entropy generation in the turbine\n",
    "\n",
    "i) entropy generation in the condenser\n",
    "\n",
    "j) total entropy generation based on entropy generation for each element\n",
    "\n",
    "k) total entropy generation considering the cycle as a heat engine"
   ]
  },
  {
   "cell_type": "markdown",
   "id": "00cfdf7c-7157-4a55-950b-1b292a0d09d9",
   "metadata": {},
   "source": [
    "![CH6-Q13.jpg](CH6-Q13.jpg)"
   ]
  },
  {
   "cell_type": "markdown",
   "id": "b6a312d6-14a2-4ce2-b149-de6393ca44e2",
   "metadata": {},
   "source": [
    "### Solution Approach for a)\n",
    "\n",
    "state (1) is a satuated liquid at $P_1=101\\:kPa$ and state (2) is pressurized water with the same density as in state (1)\n",
    "\n",
    "from the first law for the pump\n",
    "\n",
    "$\\dot W_P=\\dot m(h_2-h_1)$"
   ]
  },
  {
   "cell_type": "code",
   "execution_count": 1,
   "id": "85d9a62c-3c98-4e6b-831c-dc10e49ac856",
   "metadata": {},
   "outputs": [
    {
     "name": "stdout",
     "output_type": "stream",
     "text": [
      "The pump work for the cycle is: 3.1 kW\n"
     ]
    }
   ],
   "source": [
    "import CoolProp.CoolProp as CP\n",
    "fluid = \"water\"  # define the fluid or material of interest\n",
    "\n",
    "P_1 = 101E+3   #pressure in state (1) in Pa\n",
    "P_2 = 1E+6   #pressure in state (2) in Pa\n",
    "m = 1   #water flow-rate in kg/s\n",
    "\n",
    "h_1 = CP.PropsSI(\"H\", \"P\", P_1, \"Q\", 0 , fluid)   #enthalpy in state (1) in J/kg\n",
    "d_1 = CP.PropsSI(\"D\", \"P\", P_1, \"Q\", 0 , fluid)   #density in state (1) in kg/m3\n",
    "d_2 = d_1   #density in state (2) in kg/m3\n",
    "h_2 = CP.PropsSI(\"H\", \"P\", P_2, \"D\", d_2 , fluid)   #enthalpy in state (2) in J/kg   \n",
    "\n",
    "W_P = m * (h_2 - h_1)\n",
    "\n",
    "print('The pump work for the cycle is:', f\"{W_P/1000:.1f}\", 'kW')"
   ]
  },
  {
   "cell_type": "markdown",
   "id": "c41956d0-9887-49ea-b121-2062e9818d13",
   "metadata": {},
   "source": [
    "### Solution Approach for b)\n",
    "\n",
    "The boiler is assumed in a constant pressure, so\n",
    "\n",
    "$P_3 = P_2$\n",
    "\n",
    "and from the first law for the boiler\n",
    "\n",
    "$\\dot Q_H=\\dot m(h_3-h_2)$"
   ]
  },
  {
   "cell_type": "code",
   "execution_count": 2,
   "id": "1ff74fd5-9eea-41a4-b531-bab335312fcb",
   "metadata": {},
   "outputs": [
    {
     "name": "stdout",
     "output_type": "stream",
     "text": [
      "The amount of heat supplied in boiler is: 3276.8 kW\n"
     ]
    }
   ],
   "source": [
    "#define variables\n",
    "P_3 = P_2   #pressure of state (3) in Pa\n",
    "T_3 = 600 + 273.15   #temperature of state (3) in K\n",
    "\n",
    "h_3 = CP.PropsSI(\"H\", \"P\", P_3, \"T\", T_3 , fluid)   #enthalpy in state (3) in J/kg\n",
    "Q_H = m * (h_3 - h_2)\n",
    "\n",
    "print('The amount of heat supplied in boiler is:', f\"{Q_H/1000:.1f}\", 'kW')"
   ]
  },
  {
   "cell_type": "markdown",
   "id": "21c30045-36e1-41f4-aa10-dceb54eb5500",
   "metadata": {},
   "source": [
    "### Solution Approach for c)\n",
    "\n",
    "The condenser is assumed to operate in a constant pressure \n",
    "\n",
    "$P_4=P_1$\n",
    "\n",
    "and from the first law\n",
    "\n",
    "$\\dot W=\\dot m(h_3-h_4)$"
   ]
  },
  {
   "cell_type": "code",
   "execution_count": 3,
   "id": "cb203661-a2b9-4d15-ade3-5d2a8ad2d763",
   "metadata": {},
   "outputs": [
    {
     "name": "stdout",
     "output_type": "stream",
     "text": [
      "The amount of work output from the turbine is: 704.2 kW\n"
     ]
    }
   ],
   "source": [
    "P_4 = P_1   #pressure in state (4) in Pa\n",
    "T_4 = 260 + 273.15   #temperatue in state (4) in K\n",
    "\n",
    "h_4 = CP.PropsSI(\"H\", \"P\", P_4, \"T\", T_4 , fluid)   #enthalpy in state (4) in J/kg\n",
    "\n",
    "W = m * (h_3 - h_4)   \n",
    "\n",
    "print('The amount of work output from the turbine is:', f\"{W/1000:.1f}\", 'kW')"
   ]
  },
  {
   "cell_type": "markdown",
   "id": "868bd9b2-96a7-4397-b42c-561ca48ca62b",
   "metadata": {},
   "source": [
    "### Solution Approach for d)\n",
    "\n",
    "first law for the condenser\n",
    "\n",
    "$\\dot Q_L=\\dot m(h_4-h_1)$"
   ]
  },
  {
   "cell_type": "code",
   "execution_count": 4,
   "id": "395a2f69-0c1f-4c5f-b153-d4ce40749899",
   "metadata": {},
   "outputs": [
    {
     "name": "stdout",
     "output_type": "stream",
     "text": [
      "The amount of heat dissipated in the condenser based on inlet/outlet enthalpies is: 2575.7 kW\n"
     ]
    }
   ],
   "source": [
    "Q_L = m * (h_4 - h_1)\n",
    "\n",
    "print('The amount of heat dissipated in the condenser based on inlet/outlet enthalpies is:', f\"{Q_L/1000:.1f}\", 'kW')"
   ]
  },
  {
   "cell_type": "markdown",
   "id": "1d91fdd1-2e79-4697-8143-7141c3f1b71b",
   "metadata": {},
   "source": [
    "### Solution Approach for e)\n",
    "\n",
    "The firts law for the whole system\n",
    "\n",
    "$E_in=E_out$\n",
    "\n",
    "$\\dot Q_H+\\dot W_{pump}=\\dot Q_L+\\dot W$\n",
    "\n",
    "therefore\n",
    "\n",
    "$\\dot Q_L=\\dot Q_H+\\dot W_{pump}-\\dot W$"
   ]
  },
  {
   "cell_type": "code",
   "execution_count": 5,
   "id": "562b918c-2477-4dae-981d-96ce652abbd5",
   "metadata": {},
   "outputs": [
    {
     "name": "stdout",
     "output_type": "stream",
     "text": [
      "The amount of heat dissipated in the condenser based the first law for the whole system is: 2575.7 kW\n"
     ]
    }
   ],
   "source": [
    "Q_L = Q_H + W_P - W\n",
    "\n",
    "print('The amount of heat dissipated in the condenser based the first law for the whole system is:', f\"{Q_L/1000:.1f}\", 'kW')"
   ]
  },
  {
   "cell_type": "markdown",
   "id": "282a1c98-c346-4624-888a-3e98d5dd0379",
   "metadata": {},
   "source": [
    "### Solution Approach for f)\n",
    "\n",
    "for an open steady-state system\n",
    "\n",
    "$\\Sigma \\dot m_es_e-\\Sigma \\dot m_is_i=\\Sigma \\dot Q/T+\\dot S_{gen}$\n",
    "\n",
    "for the pump\n",
    "\n",
    "$\\dot Q=0$ \n",
    "\n",
    "therefore\n",
    "\n",
    "$S_{gen}=\\dot m(s_2-s_1)$"
   ]
  },
  {
   "cell_type": "code",
   "execution_count": 6,
   "id": "b80e0745-7ed8-4343-afd0-e59fc06acb32",
   "metadata": {},
   "outputs": [
    {
     "name": "stdout",
     "output_type": "stream",
     "text": [
      "The amount of entropy generation in the pump is: 5.9 W/K\n"
     ]
    }
   ],
   "source": [
    "s_1 = CP.PropsSI(\"S\", \"P\", P_1, \"Q\", 0 , fluid)   #entropy in state (1) in J/kgK\n",
    "s_2 = CP.PropsSI(\"S\", \"P\", P_2, \"D\", d_2 , fluid)   #entropy in state (2) in J/kgK \n",
    "\n",
    "S_gen_P = m * (s_2 - s_1)\n",
    "\n",
    "print('The amount of entropy generation in the pump is:', f\"{S_gen_P:.1f}\", 'W/K')"
   ]
  },
  {
   "cell_type": "markdown",
   "id": "44bb24a6-a575-457d-ae72-1752e14b5ade",
   "metadata": {},
   "source": [
    "### Solution Approach for g)\n",
    "\n",
    "for the boiler\n",
    "\n",
    "$\\dot Q=\\dot Q_H$\n",
    "\n",
    "therefore\n",
    "\n",
    "$S_{gen}=\\dot m(s_3-s_2)-\\dot Q_H/T_H$"
   ]
  },
  {
   "cell_type": "code",
   "execution_count": 7,
   "id": "3450119b-dc63-422e-a9d1-185314c6bafd",
   "metadata": {},
   "outputs": [
    {
     "name": "stdout",
     "output_type": "stream",
     "text": [
      "The amount of entropy generation in the boiler is: 3169.7 W/K\n"
     ]
    }
   ],
   "source": [
    "#define variables\n",
    "T_H = 650 + 273.15   #heat source in boiler temperature in K\n",
    "\n",
    "s_3 = CP.PropsSI(\"S\", \"P\", P_3, \"T\", T_3 , fluid)   #entropy in state (3) in J/kgK\n",
    "S_gen_B = m * (s_3 - s_2) - Q_H / T_H\n",
    "\n",
    "print('The amount of entropy generation in the boiler is:', f\"{S_gen_B:.1f}\", 'W/K')"
   ]
  },
  {
   "cell_type": "markdown",
   "id": "4647f176-e526-4fc3-b147-cdd047256c83",
   "metadata": {},
   "source": [
    "### Solution Approach for h)\n",
    "\n",
    "for the turbine\n",
    "\n",
    "$\\dot Q=0$ \n",
    "\n",
    "therefore\n",
    "\n",
    "$S_{gen}=\\dot m(s_4-s_3)$"
   ]
  },
  {
   "cell_type": "code",
   "execution_count": 8,
   "id": "78a6f34d-c12f-4b29-a810-22a76854d4ef",
   "metadata": {},
   "outputs": [
    {
     "name": "stdout",
     "output_type": "stream",
     "text": [
      "The amount of entropy generation in the turbine is: 36.6 W/K\n"
     ]
    }
   ],
   "source": [
    "s_4 = CP.PropsSI(\"S\", \"P\", P_4, \"T\", T_4 , fluid)   #entropy in state (4) in J/kgK\n",
    "\n",
    "S_gen_T = m * (s_4 - s_3)\n",
    "\n",
    "print('The amount of entropy generation in the turbine is:', f\"{S_gen_T:.1f}\", 'W/K')"
   ]
  },
  {
   "cell_type": "markdown",
   "id": "c2fa3602-faa6-405f-9d83-569acc7d27aa",
   "metadata": {},
   "source": [
    "### Solution Approach for i)\n",
    "\n",
    "for the condenser\n",
    "\n",
    "$\\dot Q=\\dot Q_L$\n",
    "\n",
    "therefore\n",
    "\n",
    "$S_{gen}=\\dot m(s_1-s_4)+\\dot Q_L/T_L$"
   ]
  },
  {
   "cell_type": "code",
   "execution_count": 9,
   "id": "d21c653d-80df-4952-9414-a6819c381f8d",
   "metadata": {},
   "outputs": [
    {
     "name": "stdout",
     "output_type": "stream",
     "text": [
      "The amount of entropy generation in the condenser is: 2024.6 W/K\n"
     ]
    }
   ],
   "source": [
    "#define variables\n",
    "T_L = 20 + 273.15   #heat sink temperature in K\n",
    "S_gen_C = m * (s_1 - s_4) + Q_L / T_L\n",
    "\n",
    "print('The amount of entropy generation in the condenser is:', f\"{S_gen_C:.1f}\", 'W/K')"
   ]
  },
  {
   "cell_type": "markdown",
   "id": "a4872705-4c31-4208-90cd-97162bc6c84a",
   "metadata": {},
   "source": [
    "### Solution Approach for j)\n",
    "\n",
    "$S_{gen}=S_{gen,pump}+S_{gen,boiler}+S_{gen,turbine}+S_{gen,condenser}$"
   ]
  },
  {
   "cell_type": "code",
   "execution_count": 10,
   "id": "5478f714-7c1a-41ec-b1d3-e9036ef7bce3",
   "metadata": {},
   "outputs": [
    {
     "name": "stdout",
     "output_type": "stream",
     "text": [
      "The total entropy generation based on each element is: 5236.8 W/K\n"
     ]
    }
   ],
   "source": [
    "S_gen = S_gen_P + S_gen_B + S_gen_T + S_gen_C\n",
    "\n",
    "print('The total entropy generation based on each element is:', f\"{S_gen:.1f}\", 'W/K')"
   ]
  },
  {
   "cell_type": "markdown",
   "id": "92be6eeb-f7b8-4058-9c6a-b45dd9974b0e",
   "metadata": {},
   "source": [
    "### Solution Approach for k)\n",
    "\n",
    "from the second law for a closed system\n",
    "\n",
    "$S_{gen}=-\\Sigma Q/T=-(Q_H/T_H-Q_L/T_L)$"
   ]
  },
  {
   "cell_type": "code",
   "execution_count": 11,
   "id": "0f1b5d5b-ba64-4f03-ab44-c014d9414b57",
   "metadata": {},
   "outputs": [
    {
     "name": "stdout",
     "output_type": "stream",
     "text": [
      "The total entropy generation looking at the system as a heat engine is: 5236.8 W/K\n"
     ]
    }
   ],
   "source": [
    "S_gen = - (Q_H / T_H - Q_L / T_L)\n",
    "\n",
    "print('The total entropy generation looking at the system as a heat engine is:', f\"{S_gen:.1f}\", 'W/K')"
   ]
  }
 ],
 "metadata": {
  "kernelspec": {
   "display_name": "oer",
   "language": "python",
   "name": "oer"
  },
  "language_info": {
   "codemirror_mode": {
    "name": "ipython",
    "version": 3
   },
   "file_extension": ".py",
   "mimetype": "text/x-python",
   "name": "python",
   "nbconvert_exporter": "python",
   "pygments_lexer": "ipython3",
   "version": "3.9.19"
  },
  "toc": {
   "base_numbering": 1,
   "nav_menu": {},
   "number_sections": true,
   "sideBar": true,
   "skip_h1_title": false,
   "title_cell": "Table of Contents",
   "title_sidebar": "Contents",
   "toc_cell": true,
   "toc_position": {},
   "toc_section_display": true,
   "toc_window_display": false
  }
 },
 "nbformat": 4,
 "nbformat_minor": 5
}