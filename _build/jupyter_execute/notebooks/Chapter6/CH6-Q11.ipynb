{
 "cells": [
  {
   "cell_type": "markdown",
   "id": "4c178732-91df-4edd-94c1-c3cc265a1823",
   "metadata": {},
   "source": [
    "# 6.12: Second Law for a Refrigration Cycle\n",
    "\n",
    "## Problem Statement"
   ]
  },
  {
   "cell_type": "markdown",
   "id": "97719747-4ad5-49d3-b503-6081fb3d300c",
   "metadata": {},
   "source": [
    "A refrigration cycle works between a cold space at temperature $T_L$ and a heat sink at a high temperature $T_H$. Given the cooling load of the cycle is $\\dot Q_L=50\\:kW$ and the compressor consumes $\\dot W=10\\:kW$ of electric power, calculate:\n",
    "\n",
    "a) heat dissipated into heat sink\n",
    "\n",
    "b) COP of the cycle\n",
    "\n",
    "Assuming the heat absorbtion from the cold environment happens at $T_L=-20\\:^{\\circ}C$ and the heat dissipation to the heat sink is at $T_H=60\\:^{\\circ}C$, calculate\n",
    "\n",
    "c) entropy generation (is this feasible?)\n",
    "\n",
    "d) COP of the Carnot cycle (how does this compare?)\n",
    "\n",
    "Assuming the cycle operates with a Carnot COP,\n",
    "\n",
    "e) how much work is required for the same cooling load\n",
    "\n",
    "f) how much heat is dissipated into the heat sink\n",
    "\n",
    "g) entropy generation"
   ]
  },
  {
   "cell_type": "markdown",
   "id": "fc119eb0-2f8c-4bf2-aec3-3f7b53648949",
   "metadata": {},
   "source": [
    "![CH6-Q11.jpg](CH6-Q11.jpg)"
   ]
  },
  {
   "cell_type": "markdown",
   "id": "613b553d-b2d1-4e6c-bb09-76c2d28ec7c3",
   "metadata": {},
   "source": [
    "### Solution Approach for a)\n",
    "\n",
    "from the first law\n",
    "\n",
    "$\\dot Q_H=\\dot Q_L+\\dot W$"
   ]
  },
  {
   "cell_type": "code",
   "execution_count": 1,
   "id": "344504a0-64d1-496c-866f-34d240f01625",
   "metadata": {},
   "outputs": [
    {
     "name": "stdout",
     "output_type": "stream",
     "text": [
      "The amount of heat dissipated into heat sink is: 60.0 kW\n"
     ]
    }
   ],
   "source": [
    "#define inputs\n",
    "Q_L = 50e+3   #heat absorbed from cool space in W\n",
    "W = 10e+3   #cycle work input in W\n",
    "Q_H = Q_L + W   #heat dissipated into heat sink in W\n",
    "\n",
    "print('The amount of heat dissipated into heat sink is:', f\"{Q_H/1000:.1f}\", 'kW')"
   ]
  },
  {
   "cell_type": "markdown",
   "id": "eeeea55e-ad1a-49c6-a86c-0b72d1580a8d",
   "metadata": {},
   "source": [
    "### Solution Approach for b)\n",
    "\n",
    "for a refrigration cycle\n",
    "\n",
    "$COP=\\dot Q_L/\\dot W$"
   ]
  },
  {
   "cell_type": "code",
   "execution_count": 2,
   "id": "c1bc1f7a-c17f-4671-8305-b343c6b73acf",
   "metadata": {},
   "outputs": [
    {
     "name": "stdout",
     "output_type": "stream",
     "text": [
      "The COP of the cycle is: 5.0\n"
     ]
    }
   ],
   "source": [
    "COP = Q_L / W   #COP of the cycle\n",
    "\n",
    "print('The COP of the cycle is:', f\"{COP:.1f}\")"
   ]
  },
  {
   "cell_type": "markdown",
   "id": "e6e19ba7-dc24-4568-84de-1e94b81061a6",
   "metadata": {},
   "source": [
    "### Solution Approach for c)\n",
    "\n",
    "from the second law for a closed system\n",
    "\n",
    "$S_2-S_1=\\Sigma Q/T+S_{gen}$\n",
    "\n",
    "since the cycle is steady\n",
    "\n",
    "$S_2-S_1=0$\n",
    "\n",
    "therfore\n",
    "\n",
    "$S_{gen}=-\\Sigma Q/T=-(Q_L/T_L-Q_H/T_H)$"
   ]
  },
  {
   "cell_type": "code",
   "execution_count": 3,
   "id": "2f77fb29-ddcc-4c27-9619-0ab98a66090d",
   "metadata": {},
   "outputs": [
    {
     "name": "stdout",
     "output_type": "stream",
     "text": [
      "The entropy generation of the system is: -17.4 W/K\n"
     ]
    }
   ],
   "source": [
    "#define variables\n",
    "T_L = -20 + 273.15   #low temperature in K\n",
    "T_H = 60 + 273.15   #high temperature in K\n",
    "\n",
    "S_gen = -1 * (Q_L / T_L - Q_H / T_H)   #negative sign for Q_H due to heat leaving the system\n",
    "print('The entropy generation of the system is:', f\"{S_gen:.1f}\", 'W/K')"
   ]
  },
  {
   "cell_type": "markdown",
   "id": "90caedb2-fe7c-4aed-961b-f65f44031476",
   "metadata": {},
   "source": [
    "### Solution Approach for d)\n",
    "\n",
    "$COP_{Carnot,Refrigration}=1/(T_H/T_L-1)$"
   ]
  },
  {
   "cell_type": "code",
   "execution_count": 4,
   "id": "df533c5d-1f2c-4d91-b526-1999b1be249a",
   "metadata": {},
   "outputs": [
    {
     "name": "stdout",
     "output_type": "stream",
     "text": [
      "The Carnot COP for the cycle is: 3.2\n"
     ]
    }
   ],
   "source": [
    "COP_C = 1 / (T_H / T_L - 1)\n",
    "\n",
    "print('The Carnot COP for the cycle is:', f\"{COP_C:.1f}\")"
   ]
  },
  {
   "cell_type": "markdown",
   "id": "0053c72d-7614-46a7-8465-25675025a820",
   "metadata": {},
   "source": [
    "### Solution Approach for e)\n",
    "\n",
    "$\\dot W=\\dot Q_L/COP$"
   ]
  },
  {
   "cell_type": "code",
   "execution_count": 5,
   "id": "2c24c325-cdf6-40c8-b623-e991af11556b",
   "metadata": {},
   "outputs": [
    {
     "name": "stdout",
     "output_type": "stream",
     "text": [
      "The work input for the refrigration cycle based on Carnot operation is: 15.8 kW\n"
     ]
    }
   ],
   "source": [
    "W = Q_L / COP_C\n",
    "\n",
    "print('The work input for the refrigration cycle based on Carnot operation is:', f\"{W/1000:.1f}\", 'kW')"
   ]
  },
  {
   "cell_type": "markdown",
   "id": "cac081c7-b9bd-4619-97da-df27c9683662",
   "metadata": {},
   "source": [
    "### Solution Approach for f)\n",
    "\n",
    "from the first law \n",
    "\n",
    "$\\dot Q_H=\\dot Q_L+\\dot W$"
   ]
  },
  {
   "cell_type": "code",
   "execution_count": 6,
   "id": "7488e4af-eb22-4d71-8dea-47583c3c1401",
   "metadata": {},
   "outputs": [
    {
     "name": "stdout",
     "output_type": "stream",
     "text": [
      "The heat dissipation based on Carnot operation is: 65.8 kW\n"
     ]
    }
   ],
   "source": [
    "Q_H = Q_L + W\n",
    "\n",
    "print('The heat dissipation based on Carnot operation is:', f\"{Q_H/1000:.1f}\", 'kW')"
   ]
  },
  {
   "cell_type": "markdown",
   "id": "2f2aa71a-f2f7-4e4a-8479-e82719226522",
   "metadata": {},
   "source": [
    "### Solution Approach for g)\n",
    "\n",
    "$S_{gen}=-\\Sigma Q/T=-(Q_L/T_L-Q_H/T_H)$"
   ]
  },
  {
   "cell_type": "code",
   "execution_count": 7,
   "id": "9f76c6a6-5f23-4d30-81a3-82f2d618eb96",
   "metadata": {},
   "outputs": [
    {
     "name": "stdout",
     "output_type": "stream",
     "text": [
      "The entropy generation of the system based on Carnot COP is: -0.0 W/K\n"
     ]
    }
   ],
   "source": [
    "S_gen = -1 * (Q_L / T_L - Q_H / T_H)   #negative sign for Q_H due to heat leaving the system\n",
    "\n",
    "print('The entropy generation of the system based on Carnot COP is:', f\"{S_gen:.1f}\", 'W/K')"
   ]
  }
 ],
 "metadata": {
  "kernelspec": {
   "display_name": "Python 3 (ipykernel)",
   "language": "python",
   "name": "python3"
  },
  "language_info": {
   "codemirror_mode": {
    "name": "ipython",
    "version": 3
   },
   "file_extension": ".py",
   "mimetype": "text/x-python",
   "name": "python",
   "nbconvert_exporter": "python",
   "pygments_lexer": "ipython3",
   "version": "3.11.5"
  },
  "toc": {
   "base_numbering": 1,
   "nav_menu": {},
   "number_sections": true,
   "sideBar": true,
   "skip_h1_title": false,
   "title_cell": "Table of Contents",
   "title_sidebar": "Contents",
   "toc_cell": true,
   "toc_position": {},
   "toc_section_display": true,
   "toc_window_display": false
  }
 },
 "nbformat": 4,
 "nbformat_minor": 5
}