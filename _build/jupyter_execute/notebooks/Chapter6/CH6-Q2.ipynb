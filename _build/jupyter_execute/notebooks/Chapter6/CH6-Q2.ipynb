{
 "cells": [
  {
   "cell_type": "markdown",
   "id": "4640d033-5957-47f0-81dd-1d85d945acc4",
   "metadata": {},
   "source": [
    "# 6.3 Rankine Cycle\n",
    "\n",
    "## Problem Statement"
   ]
  },
  {
   "cell_type": "markdown",
   "id": "128257df-7c91-49e1-a7fc-db0022fe71ee",
   "metadata": {},
   "source": [
    "Consider a heat engine in the form of a rankine cycle shown in the figure below. The cycle's heat input is $\\dot Q_H=50\\:MW$ through a bolier at $T_H=500^{\\circ} C$, and the cycle dissipates $\\dot Q_L=30\\:MW$ of heat to the environment through a condenser at $T_L=30^{\\circ} C$.\n",
    "\n",
    "a) calculate the efficiency of the engine\n",
    "\n",
    "b) how ideal the system is compared to its Carnot efficiency\n",
    "\n",
    "c) an idea is proposed to increase the boiler temperature by $50^{\\circ} C$ up to $T_H=550^{\\circ} C$. How would this potentially impact the efficiency.\n",
    "\n",
    "d) the piping system in the condenser gets rusty over-time causing restricted coolant flow and consequently increased heat sink temperature to $T_L=35^{\\circ} C$. How would the affected flow potentially impact the efficiency.\n",
    "\n",
    "e) seasonal changes in temperature causes the operating temperatures of both the heat sink and the heat source to drop by $50^{\\circ} C$ to $T_H=450^{\\circ} C$ and $T_L=-20^{\\circ} C$. How would seasonal changes potentially impact the efficiency."
   ]
  },
  {
   "attachments": {},
   "cell_type": "markdown",
   "id": "5def7bb7-7f11-4dc9-ade0-8e40c96074dc",
   "metadata": {},
   "source": [
    "![CH6-Q2.png](CH6-Q2.png)"
   ]
  },
  {
   "cell_type": "markdown",
   "id": "e48276a7-9e44-48d5-a332-7bb4d7ce12e4",
   "metadata": {},
   "source": [
    "### Solution Approach for a)\n",
    "\n",
    "$\\eta=\\dot W/\\dot Q_H=1-\\dot Q_L/\\dot Q_H$"
   ]
  },
  {
   "cell_type": "code",
   "execution_count": 1,
   "id": "3ebc5c70-165e-4f84-b7c3-90dbb89f31cc",
   "metadata": {},
   "outputs": [
    {
     "name": "stdout",
     "output_type": "stream",
     "text": [
      "The efficiency of the cycle is: 40.0 %\n"
     ]
    }
   ],
   "source": [
    "# define variables\n",
    "\n",
    "Q_H = 50E+6   #cycle heat input in W\n",
    "Q_L = 30E+6   #cycle heat dissipation in W\n",
    "T_H = 500 + 273.15   #heat source temperature in K\n",
    "T_L = 30 + 273.15   #heat sink temperature in K\n",
    "\n",
    "etha = 1 - Q_L / Q_H   #the efficiency\n",
    "print('The efficiency of the cycle is:', f\"{etha * 100:.1f}\", '%')"
   ]
  },
  {
   "cell_type": "markdown",
   "id": "84c2e4ef-8562-4283-855d-67e4521db6c8",
   "metadata": {},
   "source": [
    "### Solution Approach for b)\n",
    "\n",
    "to evaluate the carnot efficiency\n",
    "\n",
    "$\\eta_{Carnot}=1-T_L/T_H$"
   ]
  },
  {
   "cell_type": "code",
   "execution_count": 2,
   "id": "33d3ce1c-59ed-4469-b2bf-2f5a3623bf8b",
   "metadata": {},
   "outputs": [
    {
     "name": "stdout",
     "output_type": "stream",
     "text": [
      "The Carnot efficiency of the cycle is: 60.8 %\n"
     ]
    }
   ],
   "source": [
    "etha_c = 1 - T_L / T_H\n",
    "\n",
    "print('The Carnot efficiency of the cycle is:', f\"{etha_c * 100:.1f}\", '%')"
   ]
  },
  {
   "cell_type": "markdown",
   "id": "70fd1593-b447-4bae-90ed-ec54d26ff662",
   "metadata": {},
   "source": [
    "### Solution Approach for c)\n",
    "\n",
    "Carnot efficiency is a tool to have a ballpark estimation if how changes in heat source/sink temperatures will likely impact efficiency."
   ]
  },
  {
   "cell_type": "code",
   "execution_count": 3,
   "id": "003d6413-f153-4937-a370-5d0a38e91905",
   "metadata": {},
   "outputs": [
    {
     "name": "stdout",
     "output_type": "stream",
     "text": [
      "The Carnot efficiency after increasing boiler temperature is: 63.2 %\n"
     ]
    }
   ],
   "source": [
    "T_H_m = 550 + 273.15   #modified heat source temperature in K\n",
    "\n",
    "etha_c = 1 - T_L / T_H_m\n",
    "print('The Carnot efficiency after increasing boiler temperature is:', f\"{etha_c * 100:.1f}\", '%')"
   ]
  },
  {
   "cell_type": "markdown",
   "id": "032cd46a-f86a-40f3-9dd2-98d4018a7b07",
   "metadata": {},
   "source": [
    "### Solution Approach for d)"
   ]
  },
  {
   "cell_type": "code",
   "execution_count": 4,
   "id": "0f308d86-8817-47c9-9440-64fbedbc62d2",
   "metadata": {},
   "outputs": [
    {
     "name": "stdout",
     "output_type": "stream",
     "text": [
      "The Carnot efficiency under restricted condenser flow is: 60.1 %\n"
     ]
    }
   ],
   "source": [
    "T_L_m = 35 + 273.15   #modified heat sink temperature in K\n",
    "\n",
    "etha_c = 1 - T_L_m / T_H\n",
    "print('The Carnot efficiency under restricted condenser flow is:', f\"{etha_c * 100:.1f}\", '%')"
   ]
  },
  {
   "cell_type": "markdown",
   "id": "3a88942a-5033-4a18-8ed5-2a9bb33bb843",
   "metadata": {},
   "source": [
    "### Solution Approach for e)"
   ]
  },
  {
   "cell_type": "code",
   "execution_count": 5,
   "id": "46bb4247-82a1-49d8-a9e1-bd07669b5bf7",
   "metadata": {},
   "outputs": [
    {
     "name": "stdout",
     "output_type": "stream",
     "text": [
      "The Carnot efficiency under seasonal temperature drop is: 65.0 %\n"
     ]
    }
   ],
   "source": [
    "T_H_m = 450 + 273.15   #modified heat source temperature in K\n",
    "T_L_m = -20 + 273.15   #modified heat sink temperature in K\n",
    "\n",
    "etha_c = 1 - T_L_m / T_H_m\n",
    "print('The Carnot efficiency under seasonal temperature drop is:', f\"{etha_c * 100:.1f}\", '%')"
   ]
  }
 ],
 "metadata": {
  "kernelspec": {
   "display_name": "oer",
   "language": "python",
   "name": "oerminimal"
  },
  "language_info": {
   "codemirror_mode": {
    "name": "ipython",
    "version": 3
   },
   "file_extension": ".py",
   "mimetype": "text/x-python",
   "name": "python",
   "nbconvert_exporter": "python",
   "pygments_lexer": "ipython3",
   "version": "3.9.19"
  }
 },
 "nbformat": 4,
 "nbformat_minor": 5
}