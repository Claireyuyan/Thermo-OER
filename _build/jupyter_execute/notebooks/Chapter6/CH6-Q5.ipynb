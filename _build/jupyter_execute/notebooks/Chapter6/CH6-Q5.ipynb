{
 "cells": [
  {
   "cell_type": "markdown",
   "id": "3e3e7aa4-6409-40e9-96e4-017f7b9c9dff",
   "metadata": {},
   "source": [
    "# 6.6 T-s diagram for Water\n",
    "\n",
    "## Problem statement"
   ]
  },
  {
   "cell_type": "markdown",
   "id": "453a34a4-c01a-48d2-8eb1-c8ff89a7b39c",
   "metadata": {},
   "source": [
    "Build a T-s diagram for water. Plot a constant pressure curve equal to $P=5\\:MPa$ and a constant specific volume cure equal to $v=1\\:m^3/kg$ on the diagram."
   ]
  },
  {
   "cell_type": "markdown",
   "id": "7419bb1f-889d-41ef-8e42-2d27451a148f",
   "metadata": {},
   "source": [
    "## Solution approach:"
   ]
  },
  {
   "cell_type": "code",
   "execution_count": 1,
   "id": "ce118254-6a32-4c5e-9bb7-766ca357e365",
   "metadata": {},
   "outputs": [
    {
     "ename": "ModuleNotFoundError",
     "evalue": "No module named 'CoolProp'",
     "output_type": "error",
     "traceback": [
      "\u001b[1;31m---------------------------------------------------------------------------\u001b[0m",
      "\u001b[1;31mModuleNotFoundError\u001b[0m                       Traceback (most recent call last)",
      "Cell \u001b[1;32mIn[1], line 2\u001b[0m\n\u001b[0;32m      1\u001b[0m \u001b[38;5;66;03m# import the libraries we'll need\u001b[39;00m\n\u001b[1;32m----> 2\u001b[0m \u001b[38;5;28;01mimport\u001b[39;00m \u001b[38;5;21;01mCoolProp\u001b[39;00m\u001b[38;5;21;01m.\u001b[39;00m\u001b[38;5;21;01mCoolProp\u001b[39;00m \u001b[38;5;28;01mas\u001b[39;00m \u001b[38;5;21;01mCP\u001b[39;00m\n\u001b[0;32m      3\u001b[0m \u001b[38;5;28;01mimport\u001b[39;00m \u001b[38;5;21;01mnumpy\u001b[39;00m \u001b[38;5;28;01mas\u001b[39;00m \u001b[38;5;21;01mnp\u001b[39;00m\n\u001b[0;32m      4\u001b[0m \u001b[38;5;28;01mimport\u001b[39;00m \u001b[38;5;21;01mmatplotlib\u001b[39;00m\u001b[38;5;21;01m.\u001b[39;00m\u001b[38;5;21;01mpyplot\u001b[39;00m \u001b[38;5;28;01mas\u001b[39;00m \u001b[38;5;21;01mplt\u001b[39;00m\n",
      "\u001b[1;31mModuleNotFoundError\u001b[0m: No module named 'CoolProp'"
     ]
    }
   ],
   "source": [
    "# import the libraries we'll need\n",
    "import CoolProp.CoolProp as CP\n",
    "import numpy as np\n",
    "import matplotlib.pyplot as plt\n",
    "\n",
    "# define variables\n",
    "fluid = \"water\"  # define the fluid or material of interest, for full list see CP.Fluidslist()\n",
    "T_min = CP.PropsSI(\"Tmin\", fluid)  # triple-point temp for the fluid in K\n",
    "T_crit = CP.PropsSI(\"Tcrit\", fluid)   #critical point temperature in K\n",
    "T_vals = np.linspace(T_min, T_crit, 1000)  # define an array of values for temperature\n",
    "\n",
    "Q = 1  # define the fluid quality as 1, which is 100% vapor\n",
    "\n",
    "entropy = [CP.PropsSI(\"S\", \"T\", T, \"Q\", Q, fluid)/1000 for T in T_vals]  # call for entropy values using CoolProp\n",
    "\n",
    "plt.plot(entropy, T_vals, \"-b\", label=\"Saturation Line\")  # plot pressure vs enthalpy\n",
    "\n",
    "Q = 0  # define the fluid quality as 0, which is 100% liquid\n",
    "\n",
    "entropy = [CP.PropsSI(\"S\", \"T\", T, \"Q\", Q, fluid)/1000 for T in T_vals]  # call for entropy values using CoolProp\n",
    "\n",
    "plt.plot(entropy, T_vals, \"-b\")  # plot pressure vs enthalpy\n",
    "\n",
    "# constant pressure\n",
    "P = 5e+6   #constant pressure in Pa\n",
    "T_max = 650 + 273.15   #max temperature for plotting\n",
    "\n",
    "T_vals = np.linspace(T_min, T_max, 1000)  # define an array of values for temperature\n",
    "\n",
    "entropy = [CP.PropsSI(\"S\", \"T\", T, \"P\", P, fluid)/1000 for T in T_vals]  # call for entropy values using CoolProp\n",
    "\n",
    "plt.plot(entropy, T_vals, \"--r\", label=\"P=5 MPa\")  # plot pressure vs enthalpy\n",
    "\n",
    "#constant volume\n",
    "v = 1  #constant volume m3/kg\n",
    "D = 1 / v   #density kg/m3\n",
    "\n",
    "entropy = [CP.PropsSI(\"S\", \"T\", T, \"D\", D, fluid)/1000 for T in T_vals]  # call for entropy values using CoolProp\n",
    "\n",
    "plt.plot(entropy, T_vals, \"--g\", label=\"v=1 m3/kg\")  # plot pressure vs enthalpy\n",
    "\n",
    "plt.ylabel(\"Temperature [K]\")  # give y axis a label\n",
    "plt.xlabel(\"Entropy [kJ/kgK]\")  # give x axis a label\n",
    "plt.grid()\n",
    "plt.legend()\n"
   ]
  }
 ],
 "metadata": {
  "kernelspec": {
   "display_name": "Python 3 (ipykernel)",
   "language": "python",
   "name": "python3"
  },
  "language_info": {
   "codemirror_mode": {
    "name": "ipython",
    "version": 3
   },
   "file_extension": ".py",
   "mimetype": "text/x-python",
   "name": "python",
   "nbconvert_exporter": "python",
   "pygments_lexer": "ipython3",
   "version": "3.11.5"
  }
 },
 "nbformat": 4,
 "nbformat_minor": 5
}