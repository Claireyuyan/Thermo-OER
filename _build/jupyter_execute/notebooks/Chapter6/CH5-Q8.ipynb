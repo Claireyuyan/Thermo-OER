{
 "cells": [
  {
   "cell_type": "markdown",
   "id": "d4aa9b23-dfde-495e-926b-151320381723",
   "metadata": {},
   "source": [
    "# 6.1 Multi-evaporator refrigeration system"
   ]
  },
  {
   "cell_type": "markdown",
   "id": "2a51bfce-90ab-4a89-9566-5804812dfd0a",
   "metadata": {},
   "source": [
    "Consider a multi-evaporator refrigeration system operating with two evaporators to support cooling powers for two seperate compartments set at different temperatures. The low-temperature evaporator1 operates at a constant $-20^{\\circ} C$ and the high-temperature evaporator2 operates at $0^{\\circ} C$. To optimize the size of the condensor and the evaporators, the refrigerant R134-a is cooled down to saturated liquid at $40^{\\circ} C$ in the condensor and is heated up to saturated vapor in the evaporators. The evaporator outputs are then mixed after regulating the pressure for the high-temperature evaporator using a valve and then pressurized in the compressor while increasing to $120^{\\circ} C$ in temperature. Given the cooling loads are $150\\:kW$ for both cooling compartments seperately, calculate,\n",
    "\n",
    "a) the specific enthalpy of the refrigerant exiting the condenser\n",
    "\n",
    "b) the specific enthalpy of the refrigerant exiting each of the evaporators\n",
    "\n",
    "c) the flow-rate of the refrigerant through each evaporator\n",
    "\n",
    "d) the specific enthalpy of the refrigerant entering the compressor\n",
    "\n",
    "e) the pressure ratio of the compressor\n",
    "\n",
    "f) the specific enthalpy of the refrigerant exiting the compressor\n",
    "\n",
    "g) the work required in the compressor\n",
    "\n",
    "h) the coefficient of performance (COP)"
   ]
  },
  {
   "attachments": {},
   "cell_type": "markdown",
   "id": "2b5be1c0-f3bd-492d-ad57-d0b2e3ef1d5e",
   "metadata": {},
   "source": [
    "![CH5-Q8.jpg](CH5-Q8.png)"
   ]
  },
  {
   "cell_type": "markdown",
   "id": "304803d0-78e1-4619-856c-8ee5aebc044b",
   "metadata": {},
   "source": [
    "### Solution Approach for a)\n",
    "\n",
    "the refrigerant exiting the condenser would be a sat liquid at $40^{\\circ} C$, therefore\n",
    "\n",
    "$h_3=h_{f@40^{\\circ} C}$"
   ]
  },
  {
   "cell_type": "code",
   "execution_count": 1,
   "id": "2ede0481-9658-4851-8e61-f8bcd491abed",
   "metadata": {},
   "outputs": [
    {
     "name": "stdout",
     "output_type": "stream",
     "text": [
      "The specific enthalpy of the refrigerant exiting the condenser is: 256.4 kJ/kg\n"
     ]
    }
   ],
   "source": [
    "# import the libraries we'll need\n",
    "import CoolProp.CoolProp as CP\n",
    "\n",
    "# define variables\n",
    "fluid = \"R134A\"  # define the fluid or material of interest\n",
    "T_3 = 40 + 273.15 #stete #3 temperature in K\n",
    "h_3 = CP.PropsSI(\"H\", \"T\", T_3, \"Q\", 0, fluid)/1000  # enthalpy of the refrigerant at state #3 in kJ/kg\n",
    "print('The specific enthalpy of the refrigerant exiting the condenser is:', f\"{h_3:.1f}\", 'kJ/kg')"
   ]
  },
  {
   "cell_type": "markdown",
   "id": "fef114e3-9b22-479f-82b4-93ecbf16dffe",
   "metadata": {},
   "source": [
    "### Solution Approach for b)\n",
    "\n",
    "the low-temperature evaporator operates at $-20^{\\circ} C$ and the high-temperature one operates at $0^{\\circ} C$ and the refrigerant exiting those are at their saturated liquid state to optimize evaporators' performance, therefore\n",
    "\n",
    "$h_6=h_{g@-20^{\\circ} C}$\n",
    "\n",
    "$h_9=h_{g@0^{\\circ} C}$"
   ]
  },
  {
   "cell_type": "code",
   "execution_count": 2,
   "id": "41eaeedd-8656-4659-9e3c-9cbb33d83ac7",
   "metadata": {},
   "outputs": [
    {
     "name": "stdout",
     "output_type": "stream",
     "text": [
      "The specific enthalpy of the refrigerant exiting the evaporator 1 is: 386.6 kJ/kg\n",
      "The specific enthalpy of the refrigerant exiting the evaporator 2 is: 398.6 kJ/kg\n"
     ]
    }
   ],
   "source": [
    "T_6 = -20 + 273.15 #stete #6 temperature in K\n",
    "T_9 = 0 + 273.15 #stete #9 temperature in K\n",
    "\n",
    "h_6 = CP.PropsSI(\"H\", \"T\", T_6, \"Q\", 1, fluid)/1000  # enthalpy of the refrigerant at state #6 in kJ/kg\n",
    "h_9 = CP.PropsSI(\"H\", \"T\", T_9, \"Q\", 1, fluid)/1000  # enthalpy of the refrigerant at state #9 in kJ/kg\n",
    "\n",
    "print('The specific enthalpy of the refrigerant exiting the evaporator 1 is:', f\"{h_6:.1f}\", 'kJ/kg')\n",
    "print('The specific enthalpy of the refrigerant exiting the evaporator 2 is:', f\"{h_9:.1f}\", 'kJ/kg')"
   ]
  },
  {
   "cell_type": "markdown",
   "id": "bfe5ddd1-c58a-459d-ab1f-ba9dbb78e3e4",
   "metadata": {},
   "source": [
    "### Solution Approach for c)\n",
    "\n",
    "to calculate the flow-rate based on cooling load, the cooling capacities for the evaporators are to be calculated first. For Evaporator 1,\n",
    "\n",
    "$h_5=h_4$ assuming a constant enthalpy expansion valve\n",
    "\n",
    "and \n",
    "\n",
    "$h_4=h_3$\n",
    "\n",
    "therefore,\n",
    "\n",
    "$q_{c1}=h_6-h_5$ the cooling capacity for evaporator 1\n",
    "\n",
    "and\n",
    "\n",
    "$\\dot m_{e1}=\\dot Q_{c1}/q_{c1}$ the flow-rate for evaporator 1\n",
    "\n",
    "similarly for evaporator 2,\n",
    "\n",
    "$h_8=h_7$ assuming a constant enthalpy expansion valve\n",
    "\n",
    "and \n",
    "\n",
    "$h_7=h_3$\n",
    "\n",
    "therefore,\n",
    "\n",
    "$q_{c2}=h_9-h_8$ the cooling capacity for evaporator 1\n",
    "\n",
    "and\n",
    "\n",
    "$\\dot m_{e2}=\\dot Q_{c2}/q_{c2}$ the flow-rate for evaporator 1"
   ]
  },
  {
   "cell_type": "code",
   "execution_count": 3,
   "id": "210cfd5b-4ecd-4ff2-a072-ff0c6fc1b0c5",
   "metadata": {},
   "outputs": [
    {
     "name": "stdout",
     "output_type": "stream",
     "text": [
      "The refrigerant flow-rate in evaporator 1 is: 0.8 kg/s\n",
      "The refrigerant flow-rate in evaporator 2 is: 0.7 kg/s\n"
     ]
    }
   ],
   "source": [
    "#cooling loads \n",
    "Q_c1 = 100   #cooling load for evaporator 1 in kW\n",
    "Q_c2 = 100   #cooling load for evaporator 1 in kW\n",
    "\n",
    "#for evaporator 1\n",
    "h_4 = h_3\n",
    "h_5 = h_4\n",
    "q_c1 = h_6 - h_5   #cooling capacity for evaporator 1\n",
    "m_e1 = Q_c1 / q_c1   #refrigerant flow-rate in evaporator 1 in kg/s\n",
    "\n",
    "#for evaporator 2\n",
    "h_7 = h_3\n",
    "h_8 = h_7\n",
    "q_c2 = h_9 - h_8   #cooling capacity for evaporator 2\n",
    "m_e2 = Q_c2 / q_c2   #refrigerant flow-rate in evaporator 2 in kg/s\n",
    "\n",
    "print('The refrigerant flow-rate in evaporator 1 is:', f\"{m_e1:.1f}\", 'kg/s')\n",
    "print('The refrigerant flow-rate in evaporator 2 is:', f\"{m_e2:.1f}\", 'kg/s')"
   ]
  },
  {
   "cell_type": "markdown",
   "id": "d180b302-2bdd-4dee-a785-f3253e479712",
   "metadata": {},
   "source": [
    "### Solution Approach for d)\n",
    "\n",
    "applying the first law and conservation of mass to the mixing point where two outlets from evaporators come together,\n",
    "\n",
    "$\\dot m_{10}+\\dot m_6=\\dot m_1$\n",
    "\n",
    "$\\dot m_{10}h_{10}+\\dot m_6h_6=\\dot m_1h_1$\n",
    "\n",
    "so\n",
    "\n",
    "$(\\dot m_{10}h_{10}+\\dot m_6h_6)/\\dot m_1=h_1$\n",
    "\n",
    "while \n",
    "\n",
    "$h_{10}=h_9$ assuming a constant enthalpy expansion\n",
    "\n",
    "and \n",
    "\n",
    "$\\dot m_{10}=\\dot m_{e2}$\n",
    "\n",
    "$\\dot m_6=\\dot m_{e1}$"
   ]
  },
  {
   "cell_type": "code",
   "execution_count": 4,
   "id": "82279fda-003b-4e4f-9e0a-a509d57f560d",
   "metadata": {},
   "outputs": [
    {
     "name": "stdout",
     "output_type": "stream",
     "text": [
      "The specific enthalpy of the refrigerant entering the compressor is: 392.3 kJ/kg\n"
     ]
    }
   ],
   "source": [
    "#mass flow-rate\n",
    "m_10 = m_e2\n",
    "m_6 = m_e1\n",
    "m_1 = m_10 + m_6\n",
    "\n",
    "h_10=h_9\n",
    "\n",
    "h_1 = (m_10 * h_10 + m_6 * h_6)/m_1\n",
    "print('The specific enthalpy of the refrigerant entering the compressor is:', f\"{h_1:.1f}\", 'kJ/kg')"
   ]
  },
  {
   "cell_type": "markdown",
   "id": "ae07068e-d243-4921-873a-ed0f550131ed",
   "metadata": {},
   "source": [
    "### Solution Approach for e)\n",
    "\n",
    "For compressor inlet, the pressure would be same pressure as is in evaporator 1 which is the saturation pressure at the low temperature($-20^{\\circ} C$)\n",
    "\n",
    "$P_1 = P_6 = P_{sat@-20^{\\circ} C}$\n",
    "\n",
    "For compressor outlet, the pressure would be same as working pressure for the condenser which is the saturation pressure at $40^{\\circ} C$\n",
    "\n",
    "$P_2 = P_3 = P_{sat@40^{\\circ} C}$\n",
    "\n",
    "$R(pressure\\:ratio)=P_2/P_1$"
   ]
  },
  {
   "cell_type": "code",
   "execution_count": 5,
   "id": "2b974869-9676-4983-bf25-0647b959d4ab",
   "metadata": {},
   "outputs": [
    {
     "name": "stdout",
     "output_type": "stream",
     "text": [
      "The pressure ratio of the compressor is: 7.7\n"
     ]
    }
   ],
   "source": [
    "P_6 = CP.PropsSI(\"P\", \"T\", T_6, \"Q\", 1, fluid)  # sat pressure at state #6 in Pa\n",
    "P_1 = P_6\n",
    "\n",
    "P_3 = CP.PropsSI(\"P\", \"T\", T_3, \"Q\", 1, fluid)  # sat pressure at state #3 in Pa\n",
    "P_2 = P_3\n",
    "\n",
    "R = P_2 / P_1   #the compressor pressure ratio\n",
    "print('The pressure ratio of the compressor is:', f\"{R:.1f}\")"
   ]
  },
  {
   "cell_type": "markdown",
   "id": "e804b5c8-9cec-4bb2-ada5-de4d2107356f",
   "metadata": {},
   "source": [
    "### Solution Approach for f)\n",
    "\n",
    "The specific enthalpy of he refrigerant at the compressor outlet is evaluated based on temperature and pressure"
   ]
  },
  {
   "cell_type": "code",
   "execution_count": 6,
   "id": "b039cd63-4ff0-4722-b7ca-746552557050",
   "metadata": {},
   "outputs": [
    {
     "name": "stdout",
     "output_type": "stream",
     "text": [
      "The specific enthalpy of the refrigerant exiting the compressor is: 504.1 kJ/kg\n"
     ]
    }
   ],
   "source": [
    "#define variables\n",
    "T_2 = 120 + 273.15 #temperature of R134a at compressor outlet\n",
    "h_2 = CP.PropsSI(\"H\", \"T\", T_2, \"P\", P_2, fluid)/1000  # refrigerant enthalpy at compressor outlet in kJ/kg\n",
    "print('The specific enthalpy of the refrigerant exiting the compressor is:', f\"{h_2:.1f}\", 'kJ/kg')"
   ]
  },
  {
   "cell_type": "markdown",
   "id": "d973fcf9-09c5-4f2a-90cd-c759d0192fd3",
   "metadata": {},
   "source": [
    "### Solution Approach for g)\n",
    "\r",
    "Based on the first law,\n",
    "\n",
    "$\\dot W= \\dot m\\:(h_2-h_1)$e"
   ]
  },
  {
   "cell_type": "code",
   "execution_count": 7,
   "id": "bf4ac55d-ccf0-4854-aae2-f6fcd880ffd4",
   "metadata": {},
   "outputs": [
    {
     "name": "stdout",
     "output_type": "stream",
     "text": [
      "The compressor work input is: 164.4 kW\n"
     ]
    }
   ],
   "source": [
    "W = m_1 * (h_2 - h_1)   #work input for compressor in kW\n",
    "print('The compressor work input is:', f\"{W:.1f}\",'kW')"
   ]
  },
  {
   "cell_type": "markdown",
   "id": "c6ea363e-59a8-4243-8dcb-eda89cac7e70",
   "metadata": {},
   "source": [
    "### Solution Approach for h)\n",
    "\n",
    "$COP = Q_c(cooling\\:load) / W(compressor\\:work\\:input)$"
   ]
  },
  {
   "cell_type": "code",
   "execution_count": 8,
   "id": "28af8c2c-ec56-486e-b45a-4afd1753ee69",
   "metadata": {},
   "outputs": [
    {
     "name": "stdout",
     "output_type": "stream",
     "text": [
      "The COP of the cycle is: 1.2\n"
     ]
    }
   ],
   "source": [
    "cop = (Q_c1 + Q_c2) / W\n",
    "print('The COP of the cycle is:', f\"{cop:.1f}\")"
   ]
  }
 ],
 "metadata": {
  "kernelspec": {
   "display_name": "oer",
   "language": "python",
   "name": "oer"
  },
  "language_info": {
   "codemirror_mode": {
    "name": "ipython",
    "version": 3
   },
   "file_extension": ".py",
   "mimetype": "text/x-python",
   "name": "python",
   "nbconvert_exporter": "python",
   "pygments_lexer": "ipython3",
   "version": "3.9.19"
  }
 },
 "nbformat": 4,
 "nbformat_minor": 5
}