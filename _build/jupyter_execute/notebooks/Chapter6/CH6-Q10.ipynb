{
 "cells": [
  {
   "cell_type": "markdown",
   "id": "f73599a5-75f4-4ba9-87f1-9c4103ff6118",
   "metadata": {},
   "source": [
    "# 6.11 Second Law for an Open Turbine\n",
    "\n",
    "## Problem Statement: "
   ]
  },
  {
   "cell_type": "markdown",
   "id": "ecac2cf8-3914-4580-8db2-289c5cf4f217",
   "metadata": {},
   "source": [
    "$1\\:kg/s$ of steam enters a turbine at a pressure $P=5\\:MPa$ and temperature $T=600\\:^{\\circ}C$ and leaves the turbine at a pressure $P=1\\:MPa$ and temperature $T=500\\:^{\\circ}C$.\n",
    "\n",
    "assuming an insulated turbine calculate:\n",
    "\n",
    "a) work output\n",
    "\n",
    "b) entropy generation\n",
    "\n",
    "assuming the outlet temperature to change to $T=300\\:^{\\circ}C$ at the same pressure, calculate:\n",
    "\n",
    "c) work output\n",
    "\n",
    "d) entropy generation (is this feasible?)\n",
    "\n",
    "assuming a less ideal turbine losing $\\dot Q=250\\:kW$ of heat at an interface temperature of $T_{surr}=100^{\\circ}C$ to the environemnt while the outlet temperature assumption $T=300\\:^{\\circ}C$ persists, calculate: \n",
    "\n",
    "e) work output\n",
    "\n",
    "f) entropy generation (is this feasible?)"
   ]
  },
  {
   "cell_type": "markdown",
   "id": "5ba0b170-3cb5-41d0-ab7e-59f19b5e7872",
   "metadata": {},
   "source": [
    "![CH6-Q10.jpg](CH6-Q10.jpg)"
   ]
  },
  {
   "cell_type": "markdown",
   "id": "0fbb5a68-4a27-4523-a6a3-533d0f590930",
   "metadata": {},
   "source": [
    "### Solution Approach for a)\n",
    "\n",
    "from the firt law\n",
    "\n",
    "$\\dot Q+\\dot m_ih_i=\\dot W+\\dot m_eh_e$\n",
    "\n",
    "since the turbine is insulated \n",
    "\n",
    "$\\dot Q=0$\n",
    "\n",
    "and\n",
    "\n",
    "$\\dot W=\\dot m_ih_i-\\dot m_eh_e$"
   ]
  },
  {
   "cell_type": "code",
   "execution_count": 1,
   "id": "e938cc29-c55d-4b44-8689-7c74f537126d",
   "metadata": {},
   "outputs": [
    {
     "name": "stdout",
     "output_type": "stream",
     "text": [
      "The amount of work output is: 198.6 kW\n"
     ]
    }
   ],
   "source": [
    "# import the libraries we'll need\n",
    "import CoolProp.CoolProp as CP\n",
    "\n",
    "#define variables\n",
    "fluid = \"water\"  # define the fluid or material of interest\n",
    "\n",
    "m_i = 1   #inlet mass flow-rate in kg/s\n",
    "m_e = 1   #outlet mass flow-rate in kg/s\n",
    "\n",
    "p_i = 5e+6   #inlet pressure in Pa\n",
    "p_e = 2e+6   #outlet pressure in Pa\n",
    "T_i = 600 + 273.15   #inlet temperature in K\n",
    "T_e = 500 + 273.15   #outlet temperature in K\n",
    "\n",
    "h_i = CP.PropsSI(\"H\", \"T\", T_i, \"P\", p_i , fluid)   #inlet enthalpy in J/kg\n",
    "h_e = CP.PropsSI(\"H\", \"T\", T_e, \"P\", p_e , fluid)   #inlet enthalpy in J/kg\n",
    "\n",
    "w = m_i * h_i - m_e * h_e   #specific work in W\n",
    "\n",
    "print('The amount of work output is:', f\"{w/1000:.1f}\", 'kW')"
   ]
  },
  {
   "cell_type": "markdown",
   "id": "c920ae51-de9c-42bd-a009-ffce4d85cad8",
   "metadata": {},
   "source": [
    "### Solution Approach for b)\n",
    "\n",
    "for an open system\n",
    "\n",
    "$\\dot m_es_e-\\dot m_is_i=\\dot Q/T_{surr}+\\dot S_{gen}$\n",
    "\n",
    "and since the turbine is insulated \n",
    "\n",
    "$\\dot S_{gen}=\\dot m_es_e-\\dot m_is_i$"
   ]
  },
  {
   "cell_type": "code",
   "execution_count": 2,
   "id": "b744237d-2ba4-4543-89f5-95c00de0260f",
   "metadata": {},
   "outputs": [
    {
     "name": "stdout",
     "output_type": "stream",
     "text": [
      "The amount of entropy generation is: 0.173 KW/K\n"
     ]
    }
   ],
   "source": [
    "s_i = CP.PropsSI(\"S\", \"T\", T_i, \"P\", p_i , fluid)   #inlet entropy in J/kgK\n",
    "s_e = CP.PropsSI(\"S\", \"T\", T_e, \"P\", p_e , fluid)   #inlet entropy in J/kgK\n",
    "\n",
    "s_gen = m_e * s_e - m_i * s_i   #entropy generation in W/K \n",
    "\n",
    "print('The amount of entropy generation is:', f\"{s_gen/1000:.3f}\", 'KW/K')"
   ]
  },
  {
   "cell_type": "markdown",
   "id": "6d60a638-f8b9-48a4-875f-455ca1ddab7f",
   "metadata": {},
   "source": [
    "### Solution Approach for c)\n"
   ]
  },
  {
   "cell_type": "code",
   "execution_count": 3,
   "id": "a2fc0271-36bf-4024-88cf-122dc92baaf6",
   "metadata": {},
   "outputs": [
    {
     "name": "stdout",
     "output_type": "stream",
     "text": [
      "The amount of work output for 300C outlet temperature is: 642.7 kW\n"
     ]
    }
   ],
   "source": [
    "T_e = 300 + 273.15   #outlet temperature in K\n",
    "\n",
    "h_e = CP.PropsSI(\"H\", \"T\", T_e, \"P\", p_e , fluid)   #inlet enthalpy in J/kg\n",
    "\n",
    "w = m_i * h_i - m_e * h_e   #specific work in W\n",
    "\n",
    "print('The amount of work output for 300C outlet temperature is:', f\"{w/1000:.1f}\", 'kW')"
   ]
  },
  {
   "cell_type": "markdown",
   "id": "a57862de-b4b6-496b-b1fa-d2f249078ba5",
   "metadata": {},
   "source": [
    "### Solution Approach for d)\n"
   ]
  },
  {
   "cell_type": "code",
   "execution_count": 4,
   "id": "e2a7dc7e-e460-4015-aa47-40288f6112a2",
   "metadata": {},
   "outputs": [
    {
     "name": "stdout",
     "output_type": "stream",
     "text": [
      "The amount of entropy generation for 300C outlet temperature is: -0.492 KW/K\n"
     ]
    }
   ],
   "source": [
    "s_e = CP.PropsSI(\"S\", \"T\", T_e, \"P\", p_e , fluid)   #inlet entropy in J/kgK\n",
    "\n",
    "s_gen = m_e * s_e - m_i * s_i   #entropy generation in W/K \n",
    "\n",
    "print('The amount of entropy generation for 300C outlet temperature is:', f\"{s_gen/1000:.3f}\", 'KW/K')"
   ]
  },
  {
   "cell_type": "markdown",
   "id": "f19f4814-ac48-4926-b288-d836692dd25c",
   "metadata": {},
   "source": [
    "### Solution Approach for e)\n",
    "\n",
    "from the firt law\n",
    "\n",
    "$\\dot Q+\\dot m_ih_i=\\dot W+\\dot m_eh_e$\n",
    "\n",
    "therefore\n",
    "\n",
    "$\\dot W=\\dot m_ih_i-\\dot m_eh_e+\\dot Q$"
   ]
  },
  {
   "cell_type": "code",
   "execution_count": 5,
   "id": "b2724db5-6843-4876-95e8-57688aabd7eb",
   "metadata": {},
   "outputs": [
    {
     "name": "stdout",
     "output_type": "stream",
     "text": [
      "The amount of work output for 300C outlet temperature and 250kW heat loss is: 392.7 kW\n"
     ]
    }
   ],
   "source": [
    "q = -250e+3   #heat loss in W\n",
    "w = m_i * h_i - m_e * h_e + q   #specific work in W\n",
    "\n",
    "print('The amount of work output for 300C outlet temperature and 250kW heat loss is:', f\"{w/1000:.1f}\", 'kW')"
   ]
  },
  {
   "cell_type": "markdown",
   "id": "2a7e5099-ae37-4b3a-b2ba-30a701fbcfdc",
   "metadata": {},
   "source": [
    "### Solution Approach for f)\n",
    "\n",
    "for an open system\n",
    "\n",
    "$\\dot m_es_e-\\dot m_is_i=\\dot Q/T_{surr}+\\dot S_{gen}$\n",
    "\n",
    "so\n",
    "\n",
    "$\\dot S_{gen}=\\dot m_es_e-\\dot m_is_i-\\dot Q/T_{surr}$"
   ]
  },
  {
   "cell_type": "code",
   "execution_count": 6,
   "id": "d33c2359-7389-40ba-9d62-7d6b0440da14",
   "metadata": {},
   "outputs": [
    {
     "name": "stdout",
     "output_type": "stream",
     "text": [
      "The amount of entropy generation for 300C outlet temperature and 250kW heat loss is: 0.178 KW/K\n"
     ]
    }
   ],
   "source": [
    "T_s = 100 + 273.15   #surrounding temperature in K\n",
    "\n",
    "s_gen = m_e * s_e - m_i * s_i - q/T_s   #entropy generation in W/K \n",
    "\n",
    "print('The amount of entropy generation for 300C outlet temperature and 250kW heat loss is:', f\"{s_gen/1000:.3f}\", 'KW/K')"
   ]
  }
 ],
 "metadata": {
  "kernelspec": {
   "display_name": "Python 3 (ipykernel)",
   "language": "python",
   "name": "python3"
  },
  "language_info": {
   "codemirror_mode": {
    "name": "ipython",
    "version": 3
   },
   "file_extension": ".py",
   "mimetype": "text/x-python",
   "name": "python",
   "nbconvert_exporter": "python",
   "pygments_lexer": "ipython3",
   "version": "3.9.17"
  },
  "toc": {
   "base_numbering": 1,
   "nav_menu": {},
   "number_sections": true,
   "sideBar": true,
   "skip_h1_title": false,
   "title_cell": "Table of Contents",
   "title_sidebar": "Contents",
   "toc_cell": true,
   "toc_position": {},
   "toc_section_display": true,
   "toc_window_display": false
  }
 },
 "nbformat": 4,
 "nbformat_minor": 5
}