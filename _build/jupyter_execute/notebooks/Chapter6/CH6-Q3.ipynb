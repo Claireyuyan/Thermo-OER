{
 "cells": [
  {
   "cell_type": "markdown",
   "id": "689dbd71-55c9-4281-b393-93ea9a6e0d03",
   "metadata": {},
   "source": [
    "# 6.4 Refrigeration/ heat pump system\n",
    "\n",
    "## Problem Statement:"
   ]
  },
  {
   "cell_type": "markdown",
   "id": "011dd9d7-c222-4fb0-baf0-6cc76b9977d1",
   "metadata": {},
   "source": [
    "Consider a refrigration/heat pump system with a work input of $\\dot W_{in}=2\\:kW$ delivering $\\dot Q_L=5\\:kW$ of heat from a cold environment at $T_L=-10^{\\circ} C$ and releasing heat to a hot environment at $T_H=50^{\\circ} C$.\n",
    "\n",
    "a) calculate the heat released into the hot environment based on the first law\n",
    "\n",
    "b) calculate the COP of the cycle based on 1) refrigration and 2) heat pump\n",
    "\n",
    "c) evaluate how well the cycle works compared to its Carnot equivalent\n",
    "\n",
    "d) assuming the cycle as a heat pump, the hot environment temperature is required to increase by $5^{\\circ} C$ to provide more heating power to the room during peak days of winter. How would this potentially impact COP. \n",
    "\n",
    "e) assuming the cycle as a refrigration system, the temperature in the cold environment is required to increase by $5^{\\circ} C$ to prevent frosting in the evaporator. How would this potentially impact COP.\n",
    "\n",
    "f) due to seasonal temperature variations, the operating temperature of both the hot and cold environments drop by $5^{\\circ} C$ in the cold season. How would this impact the COP given the cycle is a 1) refrigration system 2) heat pump"
   ]
  },
  {
   "attachments": {},
   "cell_type": "markdown",
   "id": "85b923bf-a276-40a6-a35e-d3de1e7b84de",
   "metadata": {},
   "source": [
    "![CH6-Q3.png](CH6-Q3.png)"
   ]
  },
  {
   "cell_type": "markdown",
   "id": "17c4aeee-8660-4cb0-92d2-73b07f024b2c",
   "metadata": {},
   "source": [
    "### Solution Approach for a)\n",
    "\n",
    "based on the first law,\n",
    "\n",
    "$\\dot Q_H=\\dot Q_L+\\dot W_{in}$"
   ]
  },
  {
   "cell_type": "code",
   "execution_count": 1,
   "id": "f16ba3bf-832e-4f2f-972e-394c70a25592",
   "metadata": {},
   "outputs": [
    {
     "name": "stdout",
     "output_type": "stream",
     "text": [
      "The amount of heat released into the hot environment is: 7.0 kW\n"
     ]
    }
   ],
   "source": [
    "W_in = 2e+3   #work input in W\n",
    "Q_L = 5e+3   #heat absorbed from the cold environment in W\n",
    "T_L = -10 + 273.15   #cold environment temperature in K\n",
    "T_H = 50 + 273.15   #hot environment temperature in K\n",
    "\n",
    "Q_H = Q_L + W_in   #heat released into the hot environment in W\n",
    "\n",
    "print('The amount of heat released into the hot environment is:', f\"{Q_H/1000:.1f}\", 'kW')"
   ]
  },
  {
   "cell_type": "markdown",
   "id": "e5c6978e-886d-4d99-bf45-e0e2928aa3db",
   "metadata": {},
   "source": [
    "### Solution Approach for b)\n",
    "\n",
    "for a refrigration cycle,\n",
    "\n",
    "$COP_R=\\dot Q_L/\\dot W_{in}$\n",
    "\n",
    "and for a heat pump\n",
    "\n",
    "$COP_H=\\dot Q_H/\\dot W_{in}$"
   ]
  },
  {
   "cell_type": "code",
   "execution_count": 2,
   "id": "4c04e740-030c-4174-a29d-4f4218d0dc3d",
   "metadata": {},
   "outputs": [
    {
     "name": "stdout",
     "output_type": "stream",
     "text": [
      "The COP for the refrigration cycle is: 2.5\n",
      "The COP for the heat pump cycle is: 3.5\n"
     ]
    }
   ],
   "source": [
    "COP_R = Q_L / W_in   # COP of refrigration\n",
    "COP_H = Q_H / W_in   # COP of heat pump\n",
    "\n",
    "print('The COP for the refrigration cycle is:', f\"{COP_R:.1f}\")\n",
    "print('The COP for the heat pump cycle is:', f\"{COP_H:.1f}\")"
   ]
  },
  {
   "cell_type": "markdown",
   "id": "06ea72d8-5b91-411d-bb96-84672514b0f1",
   "metadata": {},
   "source": [
    "### Solution Approach for c)\n",
    "\n",
    "based on [6.4.3](https://pressbooks.bccampus.ca/thermo1/chapter/6-4-carnot-cycles/),\n",
    "\n",
    "$COP_{RC} = T_L/(T_H-T_L)$ \n",
    "\n",
    "$COP_{HC} = T_H/(T_H-T_L)$ "
   ]
  },
  {
   "cell_type": "code",
   "execution_count": 3,
   "id": "9f25b0aa-2a39-4520-8594-cd91a6d4d06c",
   "metadata": {},
   "outputs": [
    {
     "name": "stdout",
     "output_type": "stream",
     "text": [
      "The Carnot COP for the refrigration cycle is: 4.4\n",
      "The Carnot COP for the heat pump cycle is: 5.4\n"
     ]
    }
   ],
   "source": [
    "COP_RC = T_L / (T_H - T_L)   #Carnot COP of refrigration\n",
    "COP_HC = T_H / (T_H - T_L)   #Carnot COP of heat pump\n",
    "\n",
    "print('The Carnot COP for the refrigration cycle is:', f\"{COP_RC:.1f}\")\n",
    "print('The Carnot COP for the heat pump cycle is:', f\"{COP_HC:.1f}\")"
   ]
  },
  {
   "cell_type": "markdown",
   "id": "12092852-ddf2-401e-8123-f765f24bc53b",
   "metadata": {},
   "source": [
    "### Solution Approach for d)\n",
    "\n",
    "the Carnot COP is a reasonable estimation to get an idea of how changes in temperature would potentially impact COP"
   ]
  },
  {
   "cell_type": "code",
   "execution_count": 4,
   "id": "505745ad-639e-47dc-bed1-f2d2c7b17b7f",
   "metadata": {},
   "outputs": [
    {
     "name": "stdout",
     "output_type": "stream",
     "text": [
      "The Carnot COP for the heat pump cycle with adjusted temperature is: 5.0\n"
     ]
    }
   ],
   "source": [
    "T_H_m = T_H + 5   #adjasted hot environment temperature in K\n",
    "\n",
    "COP_HCm = T_H_m / (T_H_m - T_L)   #Carnot COP of heat pump for the adjusted temperature\n",
    "\n",
    "print('The Carnot COP for the heat pump cycle with adjusted temperature is:', f\"{COP_HCm:.1f}\")"
   ]
  },
  {
   "cell_type": "markdown",
   "id": "6510a1d7-7965-4ed4-9de5-572004a92705",
   "metadata": {},
   "source": [
    "### Solution Approach for e)"
   ]
  },
  {
   "cell_type": "code",
   "execution_count": 5,
   "id": "8f5f0409-9bd4-4506-8b09-e4f297e4d457",
   "metadata": {},
   "outputs": [
    {
     "name": "stdout",
     "output_type": "stream",
     "text": [
      "The Carnot COP for the refrigration cycle with adjusted temperature is: 4.9\n"
     ]
    }
   ],
   "source": [
    "T_L_m = T_L + 5 #adjasted cold environment temperature in K\n",
    "\n",
    "COP_RCm = T_L_m / (T_H - T_L_m)   #Carnot COP of refrigration system for the adjusted temperature\n",
    "\n",
    "print('The Carnot COP for the refrigration cycle with adjusted temperature is:', f\"{COP_RCm:.1f}\")"
   ]
  },
  {
   "cell_type": "markdown",
   "id": "acfa55fc-960b-4e30-be4e-8f39fa4a8c6e",
   "metadata": {},
   "source": [
    "### Solution Approach for f)"
   ]
  },
  {
   "cell_type": "code",
   "execution_count": 6,
   "id": "b3e4395a-e378-4b68-9f77-dcca29f2077f",
   "metadata": {},
   "outputs": [
    {
     "name": "stdout",
     "output_type": "stream",
     "text": [
      "The Carnot COP for the refrigration cycle with dropped seasonal temperature is: 4.3\n",
      "The Carnot COP for the heat pump cycle with dropped seasonal temperature is: 5.3\n"
     ]
    }
   ],
   "source": [
    "T_H_m = T_H - 5   #dropped hot environment temperature in K\n",
    "T_L_m = T_L - 5   #dropped cold environment temperature in K\n",
    "\n",
    "COP_HCm = T_H_m / (T_H_m - T_L_m)   #Carnot COP of heat pump for the dropped temperature\n",
    "COP_RCm = T_L_m / (T_H_m - T_L_m)   #Carnot COP of refrigration system for the dropped temperature\n",
    "\n",
    "print('The Carnot COP for the refrigration cycle with dropped seasonal temperature is:', f\"{COP_RCm:.1f}\")\n",
    "print('The Carnot COP for the heat pump cycle with dropped seasonal temperature is:', f\"{COP_HCm:.1f}\")"
   ]
  }
 ],
 "metadata": {
  "kernelspec": {
   "display_name": "oer",
   "language": "python",
   "name": "oerminimal"
  },
  "language_info": {
   "codemirror_mode": {
    "name": "ipython",
    "version": 3
   },
   "file_extension": ".py",
   "mimetype": "text/x-python",
   "name": "python",
   "nbconvert_exporter": "python",
   "pygments_lexer": "ipython3",
   "version": "3.9.19"
  }
 },
 "nbformat": 4,
 "nbformat_minor": 5
}