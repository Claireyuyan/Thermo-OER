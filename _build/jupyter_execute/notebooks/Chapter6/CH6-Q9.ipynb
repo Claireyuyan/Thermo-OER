{
 "cells": [
  {
   "cell_type": "markdown",
   "id": "c23d41ba-5b3c-4fbe-99e7-47220e6f7a42",
   "metadata": {},
   "source": [
    "# 6.10: Air in rigid tank: two compartments"
   ]
  },
  {
   "cell_type": "markdown",
   "id": "d5257bf6-96a0-4a06-b06c-2ea3b8c86690",
   "metadata": {},
   "source": [
    "A rigid tank contains air in two compartments. Compartment A containg $1\\:kg$ of air at $P_A=200\\:kPa$ and compartment B contains $3\\:kg$ of air at $P_B=50\\:kPa$. The tank is in thermal equilibrium with the surrounding at $T=25^{\\circ} C$. The middle divider is then removed redulting in air in two compartments being mixed and filling the whole tank. Assuming the temperature remains constant calculate:\n",
    "\n",
    "a) final pressure assuming ideal gas\n",
    "\n",
    "b) entropy generation assuming ideal gas\n",
    "\n",
    "c) final pressure using CoolProp module\n",
    "\n",
    "d) entropy generation using CoolProp module\n",
    "\n",
    "e) error of entropy generation for ideal gas assumption"
   ]
  },
  {
   "attachments": {},
   "cell_type": "markdown",
   "id": "4c178698-40d3-4488-bac1-887d6512415a",
   "metadata": {},
   "source": [
    "![CH6-Q9.jpg](CH6-Q9.png)"
   ]
  },
  {
   "cell_type": "markdown",
   "id": "480c40bb-c40e-4424-a766-0f38d6d5afb4",
   "metadata": {},
   "source": [
    "### Solution Approach for a)\n",
    "\n",
    "from ideal gas law\n",
    "\n",
    "$V_{A,B}=m_{A,B}RT/P_{A,B}$\n",
    "\n",
    "for the tank\n",
    "\n",
    "$V=V_A+V_B$\n",
    "\n",
    "$m=m_A+m_B$\n",
    "\n",
    "$T=25^{\\circ} C$\n",
    "\n",
    "to calculate final pressre from ideal gas assumption\n",
    "\n",
    "$P=mRT/V$"
   ]
  },
  {
   "cell_type": "code",
   "execution_count": 1,
   "id": "5b1a01c3-bb28-4334-851e-05ed9214bace",
   "metadata": {},
   "outputs": [
    {
     "name": "stdout",
     "output_type": "stream",
     "text": [
      "The final pressure of the mixture assuming ideal gas is: 61.5 kPa\n"
     ]
    }
   ],
   "source": [
    "#define variables\n",
    "R = 0.287   #air gas constant in kJ/kg.K\n",
    "C_v = 0.718   #air specific heat in constant colume kJ/kg.K\n",
    "C_p = 1.005   #air specific heat in constant pressure kJ/kg.K\n",
    "\n",
    "m_A = 1   #air mass at compartment A in kg\n",
    "m_B = 3   #air mass at compartment B in kg\n",
    "\n",
    "P_A = 200   #air pressure in compartment A in kPa\n",
    "P_B = 50   #air pressure in compartment A in kPa\n",
    "\n",
    "T = 25 + 273.15   #ambient and system temperature in K\n",
    "\n",
    "V_A = m_A * R  * T / P_A   #volume of compartment A in m3\n",
    "V_B = m_B * R  * T / P_B   #volume of compartment B in m3\n",
    "\n",
    "V = V_A + V_B              #total volume in m3\n",
    "m = m_A + m_B              #total mass in kg\n",
    "\n",
    "P = m * R * T / V   #final pressure of mixture in kPa\n",
    "\n",
    "print('The final pressure of the mixture assuming ideal gas is:', f\"{P:.1f}\", 'kPa')"
   ]
  },
  {
   "cell_type": "markdown",
   "id": "775d8582-d4ad-4f4e-95aa-78edaca8b322",
   "metadata": {},
   "source": [
    "### Solution Approach for b)\n",
    "\n",
    "$\\Delta s=q/T+s_{gen}$\n",
    "\n",
    "from first law\n",
    "\n",
    "$q=\\Delta u+w$\n",
    "\n",
    "since the boundaries of the system are fixed ($w$) and also the temperature remains constant ($\\Delta u$), heat transfer for the process is negligible\n",
    "\n",
    "$q=0$\n",
    "\n",
    "and\n",
    "\n",
    "$s_{gen}=\\Delta s$\n",
    "\n",
    "for an ideal gas\n",
    "\n",
    "$s_2-s_1=C_pln(T_2/T_1)-Rln(P_2/P_1)$\n",
    "\n",
    "since $T_2=T_1$\n",
    "\n",
    "$s_2-s_1=-Rln(P_2/P_1)$"
   ]
  },
  {
   "cell_type": "code",
   "execution_count": 2,
   "id": "0c717762-5fb0-4d2f-8b18-205b7833e525",
   "metadata": {},
   "outputs": [
    {
     "name": "stdout",
     "output_type": "stream",
     "text": [
      "The entropy generation based on ideal gas assumption is: 0.159 kJ/K\n"
     ]
    }
   ],
   "source": [
    "# import the libraries we'll need\n",
    "import numpy as np\n",
    "\n",
    "ds_A = -1 * R * np.log(P/P_A)\n",
    "ds_B = -1 * R * np.log(P/P_B)\n",
    "ds_total = m_A * ds_A + m_B * ds_B   #changes in entropy calculated and summed up seperately for A and B\n",
    "S_gen_ideal = ds_total\n",
    "\n",
    "print('The entropy generation based on ideal gas assumption is:', f\"{S_gen_ideal:.3f}\", 'kJ/K')"
   ]
  },
  {
   "cell_type": "markdown",
   "id": "6a3840e4-1559-4aae-a5ba-1a3f30530c0f",
   "metadata": {},
   "source": [
    "### Solution Approach for c)\n",
    "\n",
    "same rules for the tank applies except ideal gas equation. Therefore, air properties obtained from CoolProp are used to obtain final pressure"
   ]
  },
  {
   "cell_type": "code",
   "execution_count": 3,
   "id": "0c656744-1f49-41c9-bbc6-4f4993aac1e4",
   "metadata": {},
   "outputs": [
    {
     "name": "stdout",
     "output_type": "stream",
     "text": [
      "The final pressure of the mixture using CoolProp is: 61.5 kPa\n"
     ]
    }
   ],
   "source": [
    "import CoolProp.CoolProp as CP\n",
    "fluid = \"air\"  # define the fluid or material of interest\n",
    "\n",
    "D_A = CP.PropsSI(\"D\", \"T\", T, \"P\", P_A * 1000 , fluid)   #fluid density at compartment A in kg/m3\n",
    "D_B = CP.PropsSI(\"D\", \"T\", T, \"P\", P_B * 1000 , fluid)   #fluid density at compartment B in kg/m3\n",
    "\n",
    "V_A = m_A / D_A   #fluid volume at compartment A in m3\n",
    "V_B = m_B / D_B   #fluid volume at compartment A in m3\n",
    "\n",
    "V = V_A + V_B              #total volume in m3\n",
    "m = m_A + m_B              #total mass in kg\n",
    "D = m / V                  #final density in kg/m3\n",
    "\n",
    "P_clp = CP.PropsSI(\"P\", \"T\", T, \"D\", D, fluid)   #fluid pressure after mixture in Pa\n",
    "print('The final pressure of the mixture using CoolProp is:', f\"{P_clp/1000:.1f}\", 'kPa')"
   ]
  },
  {
   "cell_type": "markdown",
   "id": "f5200519-070d-4ad3-833c-ae73a5505874",
   "metadata": {},
   "source": [
    "### Solution Approach for d)\n",
    "\n",
    "Fluid properties obtained from CoolProp are to be used instead of equations based on ideal gas assumption to calculate changes in entropy"
   ]
  },
  {
   "cell_type": "code",
   "execution_count": 4,
   "id": "f4d47bb3-aeed-4d90-9ac4-ea1606e0308a",
   "metadata": {},
   "outputs": [
    {
     "name": "stdout",
     "output_type": "stream",
     "text": [
      "The entropy generation using CoolProp is: 0.160 kJ/K\n"
     ]
    }
   ],
   "source": [
    "s_A = CP.PropsSI(\"S\", \"T\", T, \"P\", P_A * 1000 , fluid)   #fluid entropy at compartment A in J/kg.K\n",
    "s_B = CP.PropsSI(\"S\", \"T\", T, \"P\", P_B * 1000 , fluid)   #fluid entropy at compartment B in J/kg.K\n",
    "s_mix = CP.PropsSI(\"S\", \"T\", T, \"P\", P_clp, fluid)   #fluid entropy after mixture in J/kg.K\n",
    "\n",
    "ds_total = m_A * (s_mix - s_A) + m_B * (s_mix - s_B)   #changes in entropy calculated and summed up seperately for A and B in J/K\n",
    "S_gen_clp = ds_total   #entropy generation in J/K\n",
    "\n",
    "print('The entropy generation using CoolProp is:', f\"{S_gen_clp/1000:.3f}\", 'kJ/K')"
   ]
  },
  {
   "cell_type": "markdown",
   "id": "b487a6c4-adc8-46a5-9010-42deef0ff7b0",
   "metadata": {},
   "source": [
    "### Solution Approach for e)"
   ]
  },
  {
   "cell_type": "code",
   "execution_count": 5,
   "id": "8da95d38-3c85-4906-9a4f-f464dc8fd9ea",
   "metadata": {},
   "outputs": [
    {
     "name": "stdout",
     "output_type": "stream",
     "text": [
      "The error percentage for ideal gas assumption in calculating entropy generation is: 0.46 %\n"
     ]
    }
   ],
   "source": [
    "E = np.absolute((S_gen_clp/1000 - S_gen_ideal)/(S_gen_clp/1000)) * 100\n",
    "\n",
    "print('The error percentage for ideal gas assumption in calculating entropy generation is:', f\"{E:.2f}\", '%')"
   ]
  }
 ],
 "metadata": {
  "kernelspec": {
   "display_name": "Python 3 (ipykernel)",
   "language": "python",
   "name": "python3"
  },
  "language_info": {
   "codemirror_mode": {
    "name": "ipython",
    "version": 3
   },
   "file_extension": ".py",
   "mimetype": "text/x-python",
   "name": "python",
   "nbconvert_exporter": "python",
   "pygments_lexer": "ipython3",
   "version": "3.9.18"
  }
 },
 "nbformat": 4,
 "nbformat_minor": 5
}