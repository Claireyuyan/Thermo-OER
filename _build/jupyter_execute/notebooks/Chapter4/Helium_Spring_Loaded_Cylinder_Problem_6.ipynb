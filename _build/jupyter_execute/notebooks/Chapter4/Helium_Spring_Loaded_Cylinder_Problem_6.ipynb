{
 "cells": [
  {
   "cell_type": "markdown",
   "id": "df69f5e4",
   "metadata": {},
   "source": [
    "# 4.5 Helium in a Spring-Loaded Cylinder\n",
    "\n",
    "## Problem Statement:\n",
    "A spring-loaded piston-cylinder device contains 0.3 kg of helium. \n",
    "Initially, the helium is at 25°C and 150 kPa, and the spring is uncompressed. \n",
    "The system is heated until the pressure doubles and the volume increases by 20%. \n",
    "Calculate the work done by the helium on the spring and the total heat added to the system.\n",
    "## Solution:"
   ]
  },
  {
   "cell_type": "code",
   "execution_count": 1,
   "id": "6bb752d6",
   "metadata": {},
   "outputs": [
    {
     "ename": "ModuleNotFoundError",
     "evalue": "No module named 'CoolProp'",
     "output_type": "error",
     "traceback": [
      "\u001b[1;31m---------------------------------------------------------------------------\u001b[0m",
      "\u001b[1;31mModuleNotFoundError\u001b[0m                       Traceback (most recent call last)",
      "Cell \u001b[1;32mIn[1], line 1\u001b[0m\n\u001b[1;32m----> 1\u001b[0m \u001b[38;5;28;01mimport\u001b[39;00m \u001b[38;5;21;01mCoolProp\u001b[39;00m\u001b[38;5;21;01m.\u001b[39;00m\u001b[38;5;21;01mCoolProp\u001b[39;00m \u001b[38;5;28;01mas\u001b[39;00m \u001b[38;5;21;01mCP\u001b[39;00m\n\u001b[0;32m      2\u001b[0m \u001b[38;5;28;01mimport\u001b[39;00m \u001b[38;5;21;01mmath\u001b[39;00m\n\u001b[0;32m      4\u001b[0m \u001b[38;5;66;03m# Given values\u001b[39;00m\n",
      "\u001b[1;31mModuleNotFoundError\u001b[0m: No module named 'CoolProp'"
     ]
    }
   ],
   "source": [
    "import CoolProp.CoolProp as CP\n",
    "import math\n",
    "\n",
    "# Given values\n",
    "m = 0.3  # Mass of helium in kg\n",
    "T1 = 25 + 273.15  # Initial temperature in Kelvin\n",
    "P1 = 150000  # Initial pressure in Pa\n",
    "\n",
    "# Calculate the initial volume using the density\n",
    "V1 = m / CP.PropsSI('D', 'T', T1, 'P', P1, 'Helium')  \n",
    "V2 = V1 * 1.2  # Final volume (20% increase)\n",
    "P2 = 2 * P1  # Final pressure (doubled)\n",
    "\n",
    "# Polytropic exponent for helium\n",
    "n = CP.PropsSI('Cpmass', 'T', T1, 'P', P1, 'Helium') / CP.PropsSI('Cvmass', 'T', T1, 'P', P1, 'Helium')\n",
    "\n",
    "# Calculate final temperature T2 using the polytropic process relation\n",
    "T2 = T1 * (P2 / P1) * (V1 / V2)**n\n",
    "\n",
    "# Calculate work done by the helium (W)\n",
    "if n != 1:\n",
    "    W = (P2 * V2 - P1 * V1) / (1 - n)\n",
    "else:\n",
    "    W = P1 * V1 * math.log(V2 / V1)\n",
    "\n",
    "# Convert W to kJ and round to 1 decimal place\n",
    "W_kJ = round(W / 1000, 1)\n",
    "\n",
    "# Calculate the total heat added (Q)\n",
    "Cv = CP.PropsSI('Cvmass', 'T', T1, 'P', P1, 'Helium')\n",
    "delta_U = Cv * (T2 - T1) * m\n",
    "\n",
    "# Convert delta_U to kJ and round to 1 decimal place\n",
    "delta_U_kJ = round(delta_U / 1000, 1)\n",
    "\n",
    "# Q is the sum of delta_U and W, converted to kJ and rounded\n",
    "Q_kJ = round((delta_U + W) / 1000, 1)\n",
    "\n",
    "# Output the results\n",
    "print(f\"Final Temperature (T2): {round(T2, 1)} K\")\n",
    "print(f\"Work done by the helium (W): {W_kJ} kJ\")\n",
    "print(f\"Total heat added (Q): {Q_kJ} kJ\")\n",
    "print(f\"Change in Internal Energy (ΔU): {delta_U_kJ} kJ\")"
   ]
  }
 ],
 "metadata": {
  "jupytext": {
   "text_representation": {
    "extension": ".md",
    "format_name": "myst",
    "format_version": 0.13,
    "jupytext_version": "1.15.2"
   }
  },
  "kernelspec": {
   "display_name": "oer",
   "language": "python",
   "name": "python3"
  },
  "language_info": {
   "codemirror_mode": {
    "name": "ipython",
    "version": 3
   },
   "file_extension": ".py",
   "mimetype": "text/x-python",
   "name": "python",
   "nbconvert_exporter": "python",
   "pygments_lexer": "ipython3",
   "version": "3.11.5"
  },
  "source_map": [
   12,
   22
  ]
 },
 "nbformat": 4,
 "nbformat_minor": 5
}