{
 "cells": [
  {
   "cell_type": "markdown",
   "id": "7dfa1d98",
   "metadata": {},
   "source": [
    "# 4.7 Adiabatic Compression in a Rigid Container\n",
    "\n",
    "## Problem Statement:\n",
    "A rigid container with 2 kg of oxygen is initially at 1 atm and 25°C. \n",
    "The oxygen is compressed adiabatically until the pressure increases to 5 atm. \n",
    "Calculate the final temperature, the work done on the gas, and the change in internal energy."
   ]
  },
  {
   "cell_type": "code",
   "execution_count": 1,
   "id": "f75d23a2",
   "metadata": {},
   "outputs": [
    {
     "ename": "ModuleNotFoundError",
     "evalue": "No module named 'CoolProp'",
     "output_type": "error",
     "traceback": [
      "\u001b[1;31m---------------------------------------------------------------------------\u001b[0m",
      "\u001b[1;31mModuleNotFoundError\u001b[0m                       Traceback (most recent call last)",
      "Cell \u001b[1;32mIn[1], line 1\u001b[0m\n\u001b[1;32m----> 1\u001b[0m \u001b[38;5;28;01mimport\u001b[39;00m \u001b[38;5;21;01mCoolProp\u001b[39;00m\u001b[38;5;21;01m.\u001b[39;00m\u001b[38;5;21;01mCoolProp\u001b[39;00m \u001b[38;5;28;01mas\u001b[39;00m \u001b[38;5;21;01mCP\u001b[39;00m\n\u001b[0;32m      2\u001b[0m \u001b[38;5;28;01mimport\u001b[39;00m \u001b[38;5;21;01mmath\u001b[39;00m\n\u001b[0;32m      4\u001b[0m \u001b[38;5;66;03m# Given values\u001b[39;00m\n",
      "\u001b[1;31mModuleNotFoundError\u001b[0m: No module named 'CoolProp'"
     ]
    }
   ],
   "source": [
    "import CoolProp.CoolProp as CP\n",
    "import math\n",
    "\n",
    "# Given values\n",
    "m = 2.0  # Mass of oxygen in kg\n",
    "T1 = 25 + 273.15  # Initial temperature in Kelvin\n",
    "P1 = 101325  # Initial pressure in Pa (1 atm)\n",
    "P2 = 5 * P1  # Final pressure (5 atm)\n",
    "gamma = CP.PropsSI('Cpmass', 'T', T1, 'P', P1, 'Oxygen') / CP.PropsSI('Cvmass', 'T', T1, 'P', P1, 'Oxygen')  # γ for oxygen\n",
    "\n",
    "# Final Temperature (T2) for adiabatic process\n",
    "T2 = T1 * (P2 / P1) ** ((gamma - 1) / gamma)\n",
    "\n",
    "# Calculate specific volumes V1 and V2 using ideal gas law\n",
    "R = CP.PropsSI('GAS_CONSTANT', 'Oxygen') / CP.PropsSI('MOLAR_MASS', 'Oxygen')  # Specific gas constant for Oxygen\n",
    "V1 = m * R * T1 / P1\n",
    "V2 = m * R * T2 / P2\n",
    "\n",
    "# Calculate work done (W) during adiabatic process\n",
    "W = (P1 * V1 - P2 * V2) / (gamma - 1)\n",
    "\n",
    "# Change in internal energy (ΔU) for adiabatic process\n",
    "delta_U = -W\n",
    "\n",
    "# Output the results (W and ΔU in kJ)\n",
    "print(f\"Final Temperature (T2): {round(T2)} K\")\n",
    "print(f\"Work done (W): {round(W/1000,1)} kJ\")\n",
    "print(f\"Change in internal energy (ΔU): {round(delta_U/1e3,1)} kJ\")"
   ]
  },
  {
   "cell_type": "code",
   "execution_count": null,
   "id": "5e2152e4",
   "metadata": {},
   "outputs": [],
   "source": []
  },
  {
   "cell_type": "code",
   "execution_count": null,
   "id": "055ec9bb",
   "metadata": {},
   "outputs": [],
   "source": [
    "fluid = 'Oxygen'\n",
    "import matplotlib.pyplot as plt\n",
    "# Calculate entropy at initial and final states\n",
    "S1 = CP.PropsSI('S', 'T', T1, 'P', P1, fluid)\n",
    "S2 = CP.PropsSI('S', 'T', T2, 'P', P2, fluid)\n",
    "plt.plot([S1 / 1000, S2 / 1000], [T1, T2], 'ro-')  # Adiabatic process\n",
    "plt.xlabel('Entropy (kJ/kg.K)')\n",
    "plt.ylabel('Temperature (K)')\n",
    "plt.title('T-s Diagram for Adiabatic Compression of Oxygen')\n",
    "plt.grid(True)\n",
    "plt.show()"
   ]
  }
 ],
 "metadata": {
  "jupytext": {
   "text_representation": {
    "extension": ".md",
    "format_name": "myst",
    "format_version": 0.13,
    "jupytext_version": "1.15.2"
   }
  },
  "kernelspec": {
   "display_name": "Python 3 (ipykernel)",
   "language": "python",
   "name": "python3"
  },
  "language_info": {
   "codemirror_mode": {
    "name": "ipython",
    "version": 3
   },
   "file_extension": ".py",
   "mimetype": "text/x-python",
   "name": "python",
   "nbconvert_exporter": "python",
   "pygments_lexer": "ipython3",
   "version": "3.11.5"
  },
  "source_map": [
   12,
   21,
   52,
   56
  ]
 },
 "nbformat": 4,
 "nbformat_minor": 5
}