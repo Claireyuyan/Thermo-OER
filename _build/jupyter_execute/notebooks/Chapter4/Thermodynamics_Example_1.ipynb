{
 "cells": [
  {
   "cell_type": "markdown",
   "id": "72013cf5",
   "metadata": {},
   "source": [
    "# Rigid container: Polytropic process\n",
    "\n",
    "## Problem Statement:\n",
    "A rigid container with a volume of 0.5 m³ is filled with air at an initial temperature of 27°C and a pressure of 1 atm. \n",
    "The air inside the container is then heated until its temperature rises to 127°C. \n",
    "Assume that air behaves as an ideal gas with a constant specific heat at constant volume (Cv) \n",
    "and that the process is polytropic with an exponent n = 1.4. \n",
    "\n",
    "Calculate the following:\n",
    "1. The change in specific internal energy of the air in the container.\n",
    "2. The specific heat transfer to the air, assuming the mass of the air in the container is 0.6 kg.\n",
    "3. The specific boundary work done by the air, considering its polytropic nature.\n",
    "\n",
    "Use the ideal gas properties for air, and assume the heating process occurs in a closed system \n",
    "with no significant changes in kinetic and potential energy.\n",
    "## Solution:"
   ]
  },
  {
   "cell_type": "code",
   "execution_count": 1,
   "id": "e9c1fb38",
   "metadata": {},
   "outputs": [
    {
     "ename": "ModuleNotFoundError",
     "evalue": "No module named 'CoolProp'",
     "output_type": "error",
     "traceback": [
      "\u001b[1;31m---------------------------------------------------------------------------\u001b[0m",
      "\u001b[1;31mModuleNotFoundError\u001b[0m                       Traceback (most recent call last)",
      "Cell \u001b[1;32mIn[1], line 1\u001b[0m\n\u001b[1;32m----> 1\u001b[0m \u001b[38;5;28;01mimport\u001b[39;00m \u001b[38;5;21;01mCoolProp\u001b[39;00m\u001b[38;5;21;01m.\u001b[39;00m\u001b[38;5;21;01mCoolProp\u001b[39;00m \u001b[38;5;28;01mas\u001b[39;00m \u001b[38;5;21;01mCP\u001b[39;00m\n\u001b[0;32m      2\u001b[0m \u001b[38;5;28;01mimport\u001b[39;00m \u001b[38;5;21;01mmath\u001b[39;00m\n\u001b[0;32m      4\u001b[0m \u001b[38;5;66;03m# Given values\u001b[39;00m\n",
      "\u001b[1;31mModuleNotFoundError\u001b[0m: No module named 'CoolProp'"
     ]
    }
   ],
   "source": [
    "import CoolProp.CoolProp as CP\n",
    "import math\n",
    "\n",
    "# Given values\n",
    "V = 0.5  # Volume in m^3\n",
    "T1 = 27 + 273.15  # Initial temperature in Kelvin\n",
    "T2 = 127 + 273.15  # Final temperature in Kelvin\n",
    "m = 0.6  # Mass of air in kg\n",
    "n = 1.4  # Polytropic exponent\n",
    "R = CP.PropsSI('GAS_CONSTANT', 'Air') / CP.PropsSI('MOLAR_MASS', 'Air')  # Specific gas constant for Air\n",
    "\n",
    "# Initial pressure (P1) using ideal gas law\n",
    "P1 = m * R * T1 / V\n",
    "\n",
    "# 1. Change in specific internal energy (Δu)\n",
    "Cv = CP.PropsSI('Cvmass', 'T', T1, 'P', P1, 'Air')\n",
    "delta_u = Cv * (T2 - T1)\n",
    "\n",
    "# Convert Δu to kJ and round to 1 decimal place\n",
    "delta_u_kJ = round(delta_u / 1000, 1)\n",
    "\n",
    "# 3. Specific boundary work (w_boundary)\n",
    "P2 = m * R * T2 / V  # Final pressure\n",
    "if n != 1:\n",
    "    w_boundary = ((P2 * V - P1 * V) / (1 - n)) / m\n",
    "else:\n",
    "    w_boundary = P1 * V * math.log(V / V)  # or equivalent with pressures\n",
    "\n",
    "# Convert w_boundary to kJ and round to 1 decimal place\n",
    "w_boundary_kJ = round(w_boundary / 1000, 1)\n",
    "# Convert q to kJ/kg (since delta_u and w_boundary are already in kJ/kg)\n",
    "q_kJ_kg = delta_u_kJ + w_boundary_kJ\n",
    "\n",
    "# Output the specific heat transfer (q)\n",
    "print(f\"Specific heat transfer (q): {q_kJ_kg} kJ/kg\")\n",
    "\n",
    "# Output the results\n",
    "print(f\"Change in specific internal energy (Δu): {delta_u_kJ} kJ\")\n",
    "print(f\"Specific heat transfer (q): {q_kJ_kg} kJ/kg\")\n",
    "print(f\"Specific boundary work (w_boundary): {w_boundary_kJ} kJ\")"
   ]
  }
 ],
 "metadata": {
  "jupytext": {
   "text_representation": {
    "extension": ".md",
    "format_name": "myst",
    "format_version": 0.13,
    "jupytext_version": "1.15.2"
   }
  },
  "kernelspec": {
   "display_name": "oer",
   "language": "python",
   "name": "python3"
  },
  "language_info": {
   "codemirror_mode": {
    "name": "ipython",
    "version": 3
   },
   "file_extension": ".py",
   "mimetype": "text/x-python",
   "name": "python",
   "nbconvert_exporter": "python",
   "pygments_lexer": "ipython3",
   "version": "3.11.5"
  },
  "source_map": [
   12,
   29
  ]
 },
 "nbformat": 4,
 "nbformat_minor": 5
}