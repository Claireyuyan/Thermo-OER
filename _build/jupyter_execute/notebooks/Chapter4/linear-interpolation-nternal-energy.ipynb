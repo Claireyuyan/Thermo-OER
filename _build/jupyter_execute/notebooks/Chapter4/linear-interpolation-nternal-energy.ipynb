{
 "cells": [
  {
   "cell_type": "markdown",
   "id": "47e12cca",
   "metadata": {},
   "source": [
    "# 4.8 Linear interpolation for Internal energy of Superheated water"
   ]
  },
  {
   "cell_type": "markdown",
   "id": "591a75e8-2311-4ff9-acc9-0e40ddcc4545",
   "metadata": {},
   "source": [
    "## Problem Statement:\n",
    "\n",
    "More often, there are thermodynamic data missing for temperature and pressure values of interest. Linear interpolation is a more common tool to fill these missing gaps in the data. Following is a function that will be used to interpolate:"
   ]
  },
  {
   "cell_type": "markdown",
   "id": "6d287884-2275-4a46-ad74-0827a8a25c6b",
   "metadata": {},
   "source": [
    "A function named \"linear_interpolation\" is defined, arguments of the same are T1, T2 (the two ends of the temperatures), T (the temperature at which a property needs to be interpolated) and Prop1, Prop2 are the proeprty values at T1 and T2."
   ]
  },
  {
   "cell_type": "code",
   "execution_count": 1,
   "id": "41bb83d7-ae63-4342-b388-d747b2fb2cb1",
   "metadata": {},
   "outputs": [],
   "source": [
    "def linear_interpolation(x, x1, x2, y1, y2):\n",
    "    # Function to interpolate between two known points\n",
    "    return y1 + (x - x1) / (x2 - x1) * (y2 - y1)"
   ]
  },
  {
   "cell_type": "markdown",
   "id": "88046f44-961f-4c35-92e6-4ee71aedf810",
   "metadata": {},
   "source": [
    "A function named \"calculate_relative_error\" is defined, arguments of the same are x1, x2 (the two ends of the input variable), x (the x-value at which a property needs to be interpolated) and y1, y2 are the property values at x1 and x2."
   ]
  },
  {
   "cell_type": "code",
   "execution_count": 2,
   "id": "266522a5-b6bc-4269-b3c6-2d85a1759193",
   "metadata": {},
   "outputs": [],
   "source": [
    "def calculate_relative_error(x, x1, x2, y1, y2, fluid):\n",
    "    # Calculate the interpolated value\n",
    "    y_interpolated = linear_interpolation(x, x1, x2, y1, y2)\n",
    "    \n",
    "    # Get the value from CoolProp\n",
    "    y_coolprop = CP.PropsSI(\"U\", \"P\", P, \"T\", x, fluid) / 1e3  # Convert from J/kg to kJ/kg\n",
    "    \n",
    "    # Calculate absolute and relative errors\n",
    "    absolute_error = abs(y_coolprop - y_interpolated)\n",
    "    relative_error = (absolute_error / y_coolprop) * 100\n",
    "    \n",
    "    return relative_error"
   ]
  },
  {
   "cell_type": "code",
   "execution_count": 3,
   "id": "202b4bdd",
   "metadata": {},
   "outputs": [
    {
     "ename": "ModuleNotFoundError",
     "evalue": "No module named 'CoolProp'",
     "output_type": "error",
     "traceback": [
      "\u001b[1;31m---------------------------------------------------------------------------\u001b[0m",
      "\u001b[1;31mModuleNotFoundError\u001b[0m                       Traceback (most recent call last)",
      "Cell \u001b[1;32mIn[3], line 1\u001b[0m\n\u001b[1;32m----> 1\u001b[0m \u001b[38;5;28;01mimport\u001b[39;00m \u001b[38;5;21;01mCoolProp\u001b[39;00m\u001b[38;5;21;01m.\u001b[39;00m\u001b[38;5;21;01mCoolProp\u001b[39;00m \u001b[38;5;28;01mas\u001b[39;00m \u001b[38;5;21;01mCP\u001b[39;00m\n\u001b[0;32m      2\u001b[0m \u001b[38;5;66;03m# Example usage from Superheated water:\u001b[39;00m\n\u001b[0;32m      3\u001b[0m \u001b[38;5;66;03m# https://pressbooks.bccampus.ca/thermo1/back-matter/thermodynamic-properties-of-water/#TA2\u001b[39;00m\n\u001b[0;32m      4\u001b[0m T1, T2 \u001b[38;5;241m=\u001b[39m \u001b[38;5;241m273.15\u001b[39m \u001b[38;5;241m+\u001b[39m \u001b[38;5;241m100\u001b[39m, \u001b[38;5;241m273.15\u001b[39m \u001b[38;5;241m+\u001b[39m \u001b[38;5;241m150\u001b[39m  \u001b[38;5;66;03m# Temperatures in K\u001b[39;00m\n",
      "\u001b[1;31mModuleNotFoundError\u001b[0m: No module named 'CoolProp'"
     ]
    }
   ],
   "source": [
    "import CoolProp.CoolProp as CP\n",
    "# Example usage from Superheated water:\n",
    "# https://pressbooks.bccampus.ca/thermo1/back-matter/thermodynamic-properties-of-water/#TA2\n",
    "T1, T2 = 273.15 + 100, 273.15 + 150  # Temperatures in K\n",
    "P = 10e3  # in Pa\n",
    "U1, U2 = 2515.49, 2587.91  # Properties in SI units\n",
    "fluid = \"water\"\n",
    "T = 273.15 + 133  # Temperature at which we want the interpolated property\n",
    "Prop_interpolated = linear_interpolation(T, T1, T2, U1, U2)\n",
    "print(\"Interpolated property at {} K: {} kJ/kg\".format(T, round(Prop_interpolated, 2)))\n",
    "\n",
    "\n",
    "cool_prop = CP.PropsSI(\"U\", \"P\", P, \"T\", T, fluid) / 1e3  ## in kJ/kg\n",
    "print(\"Property from CoolProp at {} K: {} kJ/kg\".format(T, round(cool_prop, 2)))\n",
    "\n",
    "absolute_difference = abs(cool_prop - Prop_interpolated)\n",
    "percentage_difference = (absolute_difference / Prop_interpolated) * 100\n",
    "print(\"Relative difference :{} %\".format(round(percentage_difference, 4)))"
   ]
  },
  {
   "cell_type": "markdown",
   "id": "884c0311",
   "metadata": {},
   "source": [
    "# Linear interpolation for Internal energy of R-134a refrigerant"
   ]
  },
  {
   "cell_type": "code",
   "execution_count": 27,
   "id": "ff7f59b6",
   "metadata": {},
   "outputs": [
    {
     "name": "stdout",
     "output_type": "stream",
     "text": [
      "Interpolated property at 316.15 K: 414.79 kJ/kg\n",
      "Property from CoolProp at 316.15 K: 414.77 kJ/kg\n",
      "Relative difference :0.0046 %\n"
     ]
    }
   ],
   "source": [
    "import CoolProp.CoolProp as CP\n",
    "\n",
    "\n",
    "# Example usage from Superheated R134a:\n",
    "# https://pressbooks.bccampus.ca/thermo1/back-matter/thermodynamic-properties-of-r134a/#TC2\n",
    "T1, T2 = 273.15 + 40, 273.15 + 50  # Temperatures in K\n",
    "P = 100e3  # in Pa\n",
    "U1, U2 = 412.4, 420.37  # Properties in SI units\n",
    "fluid = \"R134a\"\n",
    "T = 273.15 + 43  # Temperature at which we want the interpolated property\n",
    "Prop_interpolated = linear_interpolation(T, T1, T2, U1, U2)\n",
    "print(\"Interpolated property at {} K: {} kJ/kg\".format(T, round(Prop_interpolated,2)))\n",
    "\n",
    "\n",
    "cool_prop = CP.PropsSI(\"U\", \"P\", P, \"T\", T, fluid) / 1e3  ## in kJ/kg\n",
    "print(\"Property from CoolProp at {} K: {} kJ/kg\".format(T, round(cool_prop,2)))\n",
    "\n",
    "absolute_difference = abs(cool_prop - Prop_interpolated)\n",
    "percentage_difference = (absolute_difference / Prop_interpolated) * 100\n",
    "print(\"Relative difference :{} %\".format(round(percentage_difference,4)))"
   ]
  },
  {
   "cell_type": "code",
   "execution_count": null,
   "id": "0a1fb8c1-d2ed-4637-ab72-a4d77b995cf3",
   "metadata": {},
   "outputs": [],
   "source": [
    "import CoolProp.CoolProp as CP\n",
    "import numpy as np\n",
    "import matplotlib.pyplot as plt\n",
    "\n",
    "# Constants\n",
    "P = 10e3  # Pressure in Pa\n",
    "fluid = \"R134a\"\n",
    "T_target = 273.15 + 135  # Target temperature for property evaluation\n",
    "\n",
    "# Range of interval sizes\n",
    "interval_sizes = np.linspace(10,200,20)\n",
    "relative_errors = []\n",
    "\n",
    "# Loop over interval sizes and calculate relative errors\n",
    "for interval in interval_sizes:\n",
    "    T1 = T_target - interval / 2\n",
    "    T2 = T_target + interval / 2\n",
    "    \n",
    "    # Get properties from CoolProp for the interval boundaries\n",
    "    U1 = CP.PropsSI(\"U\", \"P\", P, \"T\", T1, fluid) / 1e3\n",
    "    U2 = CP.PropsSI(\"U\", \"P\", P, \"T\", T2, fluid) / 1e3\n",
    "    \n",
    "    # Calculate relative error\n",
    "    error = calculate_relative_error(T_target, T1, T2, U1, U2, fluid)\n",
    "    relative_errors.append(error)"
   ]
  },
  {
   "cell_type": "markdown",
   "id": "8c505df7-c6e7-419d-bb3c-5b1a27cd569c",
   "metadata": {},
   "source": [
    "# A plot to illustrate the relative error as a function of size of interval of input"
   ]
  },
  {
   "cell_type": "code",
   "execution_count": null,
   "id": "43ed2b68-31e9-4b78-9bb7-853120b9d0b1",
   "metadata": {},
   "outputs": [],
   "source": [
    "# Plotting\n",
    "# Plotting with logarithmic scale and improved aesthetics\n",
    "plt.figure(figsize=(10, 6))  # Sets the figure size\n",
    "plt.plot(interval_sizes, relative_errors, marker='o', linestyle='-', color='blue', label='Relative Error')  # Adds color, line style, and markers\n",
    "\n",
    "plt.xlabel('Size of Temperature Interval (K)', fontsize=14, labelpad=12)\n",
    "plt.ylabel('Relative Error (%)', fontsize=14, labelpad=12)\n",
    "plt.title('Relative Error vs. Temperature Interval Size', fontsize=16, pad=20)\n",
    "\n",
    "#plt.xscale('log')  # Logarithmic scale for the x-axis\n",
    "#plt.yscale('log')  # Logarithmic scale for the y-axis\n",
    "\n",
    "plt.legend(fontsize=12)\n",
    "plt.grid(True, which=\"both\", linestyle='--', linewidth=0.5)  # Adds gridlines for both major and minor ticks and customizes their style\n",
    "plt.tick_params(labelsize=12)  # Adjust the size of the axis ticks labels\n",
    "\n",
    "plt.tight_layout()  # Adjusts subplot params so that the subplot(s) fits in to the figure area\n",
    "\n",
    "plt.show()"
   ]
  }
 ],
 "metadata": {
  "kernelspec": {
   "display_name": "OER",
   "language": "python",
   "name": "oer"
  },
  "language_info": {
   "codemirror_mode": {
    "name": "ipython",
    "version": 3
   },
   "file_extension": ".py",
   "mimetype": "text/x-python",
   "name": "python",
   "nbconvert_exporter": "python",
   "pygments_lexer": "ipython3",
   "version": "3.11.5"
  },
  "toc": {
   "base_numbering": 1,
   "nav_menu": {},
   "number_sections": true,
   "sideBar": true,
   "skip_h1_title": false,
   "title_cell": "Table of Contents",
   "title_sidebar": "Contents",
   "toc_cell": true,
   "toc_position": {},
   "toc_section_display": true,
   "toc_window_display": false
  }
 },
 "nbformat": 4,
 "nbformat_minor": 5
}