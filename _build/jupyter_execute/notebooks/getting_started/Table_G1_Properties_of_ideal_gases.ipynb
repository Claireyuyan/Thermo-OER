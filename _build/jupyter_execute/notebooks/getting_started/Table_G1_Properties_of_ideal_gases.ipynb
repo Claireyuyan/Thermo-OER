{
 "cells": [
  {
   "cell_type": "markdown",
   "id": "4467ef24",
   "metadata": {},
   "source": [
    "# Defining variables: Properties of Ideal Gases as use case\n",
    "\n",
    "From: https://pressbooks.bccampus.ca/thermo1/back-matter/properties-of-various-substances/#TG1\n",
    "\n",
    "Use the above table to look-up the following properties of Air:\n",
    "\n",
    "Gas constant (R)\n",
    "\n",
    "C_p (heat capacity at const. pressure)\n",
    "\n",
    "C_v (heat capacity at const. volume)\n",
    "\n",
    "k (ratio of Cp and Cv)\n"
   ]
  },
  {
   "cell_type": "code",
   "execution_count": 1,
   "id": "aefd056b",
   "metadata": {},
   "outputs": [],
   "source": [
    "#Air\n",
    "R_air = 0.287 # kJ/kgK\n",
    "Cp_air = 1.005 #kJ/kgK\n",
    "Cv_air = 0.718 #kJ/kgK\n",
    "k_air = 1.4"
   ]
  },
  {
   "cell_type": "code",
   "execution_count": 2,
   "id": "3d89bde3-7934-4997-bd8d-378949812a7c",
   "metadata": {},
   "outputs": [],
   "source": [
    "#Argon\n",
    "\n",
    "### Please fill in here from looking into the above URL ###"
   ]
  },
  {
   "cell_type": "markdown",
   "id": "c2712a89-2fd1-4752-bf8a-d66002b03c0d",
   "metadata": {},
   "source": [
    "R_argon = # kJ/kgK\n",
    "\n",
    "Cp_argon = #kJ/kgK\n",
    "\n",
    "Cv_argon =  #kJ/kgK\n",
    "\n",
    "k_argon =   # unitless"
   ]
  }
 ],
 "metadata": {
  "kernelspec": {
   "display_name": "Python 3 (ipykernel)",
   "language": "python",
   "name": "python3"
  },
  "language_info": {
   "codemirror_mode": {
    "name": "ipython",
    "version": 3
   },
   "file_extension": ".py",
   "mimetype": "text/x-python",
   "name": "python",
   "nbconvert_exporter": "python",
   "pygments_lexer": "ipython3",
   "version": "3.9.18"
  }
 },
 "nbformat": 4,
 "nbformat_minor": 5
}