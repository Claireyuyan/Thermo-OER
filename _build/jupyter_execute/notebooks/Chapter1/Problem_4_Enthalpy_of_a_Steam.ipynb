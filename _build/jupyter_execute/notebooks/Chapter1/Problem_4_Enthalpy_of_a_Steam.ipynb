{
 "cells": [
  {
   "cell_type": "markdown",
   "id": "d1a826c0",
   "metadata": {},
   "source": [
    "# Enthalpy of a Steam\n",
    "\n",
    "## Problem Statement:\n",
    "Calculate the specific enthalpy of steam at a pressure of 200 kPa and a specific volume of 0.15 m³/kg."
   ]
  },
  {
   "cell_type": "code",
   "execution_count": 1,
   "id": "2fd40ac2",
   "metadata": {},
   "outputs": [
    {
     "name": "stdout",
     "output_type": "stream",
     "text": [
      "Specific enthalpy of steam: 875.4 kJ/kg\n"
     ]
    }
   ],
   "source": [
    "## Solution:\n",
    "\n",
    "import CoolProp.CoolProp as CP\n",
    "\n",
    "# Given values\n",
    "P = 200000  # Pressure in Pascals\n",
    "v = 0.15  # Specific volume in m^3/kg\n",
    "\n",
    "# Specific enthalpy calculation\n",
    "h = CP.PropsSI('H', 'P', P, 'D', 1/v, 'Water')\n",
    "\n",
    "# Output the result\n",
    "print(f\"Specific enthalpy of steam: {round(h/1e3,1)} kJ/kg\")"
   ]
  }
 ],
 "metadata": {
  "jupytext": {
   "text_representation": {
    "extension": ".md",
    "format_name": "myst",
    "format_version": 0.13,
    "jupytext_version": "1.15.2"
   }
  },
  "kernelspec": {
   "display_name": "Python 3 (ipykernel)",
   "language": "python",
   "name": "python3"
  },
  "language_info": {
   "codemirror_mode": {
    "name": "ipython",
    "version": 3
   },
   "file_extension": ".py",
   "mimetype": "text/x-python",
   "name": "python",
   "nbconvert_exporter": "python",
   "pygments_lexer": "ipython3",
   "version": "3.7.16"
  },
  "source_map": [
   12,
   19
  ]
 },
 "nbformat": 4,
 "nbformat_minor": 5
}