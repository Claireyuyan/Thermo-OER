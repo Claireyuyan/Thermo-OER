{
 "cells": [
  {
   "cell_type": "markdown",
   "id": "5e40597f",
   "metadata": {},
   "source": [
    "# 1.4 Enthalpy of a Steam\n",
    "\n",
    "## Problem Statement:\n",
    "Calculate the specific enthalpy of steam at a pressure of 200 kPa and a specific volume of 0.15 m³/kg."
   ]
  },
  {
   "cell_type": "code",
   "execution_count": 1,
   "id": "dab066a0",
   "metadata": {},
   "outputs": [
    {
     "ename": "ModuleNotFoundError",
     "evalue": "No module named 'CoolProp'",
     "output_type": "error",
     "traceback": [
      "\u001b[1;31m---------------------------------------------------------------------------\u001b[0m",
      "\u001b[1;31mModuleNotFoundError\u001b[0m                       Traceback (most recent call last)",
      "Cell \u001b[1;32mIn[1], line 3\u001b[0m\n\u001b[0;32m      1\u001b[0m \u001b[38;5;66;03m## Solution:\u001b[39;00m\n\u001b[1;32m----> 3\u001b[0m \u001b[38;5;28;01mimport\u001b[39;00m \u001b[38;5;21;01mCoolProp\u001b[39;00m\u001b[38;5;21;01m.\u001b[39;00m\u001b[38;5;21;01mCoolProp\u001b[39;00m \u001b[38;5;28;01mas\u001b[39;00m \u001b[38;5;21;01mCP\u001b[39;00m\n\u001b[0;32m      5\u001b[0m \u001b[38;5;66;03m# Given values\u001b[39;00m\n\u001b[0;32m      6\u001b[0m P \u001b[38;5;241m=\u001b[39m \u001b[38;5;241m200000\u001b[39m  \u001b[38;5;66;03m# Pressure in Pascals\u001b[39;00m\n",
      "\u001b[1;31mModuleNotFoundError\u001b[0m: No module named 'CoolProp'"
     ]
    }
   ],
   "source": [
    "## Solution:\n",
    "\n",
    "import CoolProp.CoolProp as CP\n",
    "\n",
    "# Given values\n",
    "P = 200000  # Pressure in Pascals\n",
    "v = 0.15  # Specific volume in m^3/kg\n",
    "\n",
    "# Specific enthalpy calculation\n",
    "h = CP.PropsSI('H', 'P', P, 'D', 1/v, 'Water')\n",
    "\n",
    "# Output the result\n",
    "print(f\"Specific enthalpy of steam: {round(h/1e3,1)} kJ/kg\")"
   ]
  }
 ],
 "metadata": {
  "jupytext": {
   "text_representation": {
    "extension": ".md",
    "format_name": "myst",
    "format_version": 0.13,
    "jupytext_version": "1.15.2"
   }
  },
  "kernelspec": {
   "display_name": "oer",
   "language": "python",
   "name": "python3"
  },
  "language_info": {
   "codemirror_mode": {
    "name": "ipython",
    "version": 3
   },
   "file_extension": ".py",
   "mimetype": "text/x-python",
   "name": "python",
   "nbconvert_exporter": "python",
   "pygments_lexer": "ipython3",
   "version": "3.11.5"
  },
  "source_map": [
   12,
   19
  ]
 },
 "nbformat": 4,
 "nbformat_minor": 5
}