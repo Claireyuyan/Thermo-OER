{
 "cells": [
  {
   "cell_type": "markdown",
   "id": "1a27d1ec",
   "metadata": {},
   "source": [
    "# Pressure in a Tank\n",
    "\n",
    "## Problem Statement:\n",
    "A cylindrical tank contains air at a gauge pressure of 3 atm and an ambient atmospheric pressure of 1 atm. \n",
    "Calculate the absolute pressure inside the tank."
   ]
  },
  {
   "cell_type": "code",
   "execution_count": 1,
   "id": "67413f2b",
   "metadata": {},
   "outputs": [
    {
     "name": "stdout",
     "output_type": "stream",
     "text": [
      "Absolute pressure inside the tank: 405.3 kPa\n"
     ]
    }
   ],
   "source": [
    "## Solution:\n",
    "\n",
    "# Given values\n",
    "P_gauge = 3 * 101325  # Gauge pressure in Pascals (1 atm = 101325 Pa)\n",
    "P_atm = 1 * 101325  # Atmospheric pressure in Pascals\n",
    "\n",
    "# Absolute pressure\n",
    "P_abs = P_gauge + P_atm\n",
    "\n",
    "# Output the result\n",
    "print(f\"Absolute pressure inside the tank: {round(P_abs/1e3,1)} kPa\")"
   ]
  }
 ],
 "metadata": {
  "jupytext": {
   "text_representation": {
    "extension": ".md",
    "format_name": "myst",
    "format_version": 0.13,
    "jupytext_version": "1.15.2"
   }
  },
  "kernelspec": {
   "display_name": "Python 3 (ipykernel)",
   "language": "python",
   "name": "python3"
  },
  "language_info": {
   "codemirror_mode": {
    "name": "ipython",
    "version": 3
   },
   "file_extension": ".py",
   "mimetype": "text/x-python",
   "name": "python",
   "nbconvert_exporter": "python",
   "pygments_lexer": "ipython3",
   "version": "3.7.16"
  },
  "source_map": [
   12,
   20
  ]
 },
 "nbformat": 4,
 "nbformat_minor": 5
}