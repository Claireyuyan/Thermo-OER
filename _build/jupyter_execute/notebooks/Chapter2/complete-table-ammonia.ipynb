{
 "cells": [
  {
   "cell_type": "markdown",
   "id": "d754be01",
   "metadata": {},
   "source": [
    "# 2.2 Thermodynamic properties of Ammonia"
   ]
  },
  {
   "cell_type": "markdown",
   "id": "8a7101af",
   "metadata": {},
   "source": [
    "| T, degC     | P, kPa      |u, kJ/kg  | Phase description|\n",
    "| ----------- | ----------- |----------|------------------|\n",
    "|     | 500         | 160      | |\n",
    "| -100        | 882.5       |     | |\n",
    "| 20          |         |     | Saturated liquid-vapor mixture|\n",
    "|  |  | 230      | Superheated vapor|\n"
   ]
  },
  {
   "cell_type": "code",
   "execution_count": 1,
   "id": "c9f50f3c",
   "metadata": {},
   "outputs": [],
   "source": [
    "import CoolProp.CoolProp as CP"
   ]
  },
  {
   "cell_type": "code",
   "execution_count": 2,
   "id": "92e775fb",
   "metadata": {},
   "outputs": [
    {
     "name": "stdout",
     "output_type": "stream",
     "text": [
      "Uf at given pressure: -87.49127651927314\n",
      "Ug at given pressure: 62.30524130789919\n",
      "Phase description: Saturated mixture\n",
      "Temperature: -55.01 deg C\n"
     ]
    }
   ],
   "source": [
    "###========== (a)================###\n",
    "P = 500e3 # in Pa\n",
    "u = 160e3 # in J/kg\n",
    "fluid = \"Nitrogen\"\n",
    "uf = CP.PropsSI(\"U\", \"Q\", 0, \"P\", P,fluid)/1e3\n",
    "ug = CP.PropsSI(\"U\", \"Q\", 1, \"P\", P, fluid)/1e3\n",
    "print(\"Uf at given pressure: {}\".format(uf))\n",
    "print(\"Ug at given pressure: {}\".format(ug))\n",
    "## we are in saturated mixture region; since u_given > uf and u_given < ug!\n",
    "T = CP.PropsSI(\"T\",\"P\",P,\"U\",u,fluid)\n",
    "print(\"Phase description: Saturated mixture\")\n",
    "print(\"Temperature: {}\".format(round(T - 273.15,2)),\"deg C\")"
   ]
  },
  {
   "cell_type": "markdown",
   "id": "909416f0",
   "metadata": {},
   "source": [
    "| T, degC     | P, kPa      |u, kJ/kg  | Phase description|\n",
    "| ----------- | ----------- |----------|------------------|\n",
    "| **-184.6**      | 500         | 160      | **Subcooled liquid** |\n",
    "| -100        | 882.5       | **206.7**    | **Saturated vapor**  |\n",
    "| 20          | **1100**        | **217.5**    | Saturated liquid-vapor mixture|\n",
    "| **29.7**        | **1800**        | 230      | Superheated vapor|\n"
   ]
  }
 ],
 "metadata": {
  "kernelspec": {
   "display_name": "OER",
   "language": "python",
   "name": "oer"
  },
  "language_info": {
   "codemirror_mode": {
    "name": "ipython",
    "version": 3
   },
   "file_extension": ".py",
   "mimetype": "text/x-python",
   "name": "python",
   "nbconvert_exporter": "python",
   "pygments_lexer": "ipython3",
   "version": "3.9.18"
  },
  "toc": {
   "base_numbering": 1,
   "nav_menu": {},
   "number_sections": true,
   "sideBar": true,
   "skip_h1_title": false,
   "title_cell": "Table of Contents",
   "title_sidebar": "Contents",
   "toc_cell": true,
   "toc_position": {},
   "toc_section_display": true,
   "toc_window_display": false
  }
 },
 "nbformat": 4,
 "nbformat_minor": 5
}