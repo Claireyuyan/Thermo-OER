{
 "cells": [
  {
   "cell_type": "markdown",
   "id": "957f1b48-6974-45f1-97eb-91b5d3877f79",
   "metadata": {},
   "source": [
    "## 2.10: Water in Two Tanks"
   ]
  },
  {
   "cell_type": "markdown",
   "id": "0c5d8c56-334d-4963-ad70-02fa03bae88f",
   "metadata": {},
   "source": [
    "A rigid tank containig water in two seperate rigid compartments (A & B) is shown below. The compartment A contains $m_a=500\\:kg$ of water and occupies $V=2\\:m^3$ of space. The compartment B contains $m_b=250\\:g$ of water and occupies $V=3\\:m^3$ of space. The tank including its compartments is in a thermal equilibrim with its surrounding at $T=40\\:^{\\circ}C$. The dicider is then suddenly removed allowing water in two compartments being mixed together. Determine,\n",
    "\n",
    "a) the liquid mass and pressure of each compartment before mixing\n",
    "\n",
    "b) the quality and pressure of mixed water"
   ]
  },
  {
   "attachments": {},
   "cell_type": "markdown",
   "id": "c55d51b2-9fb6-4b2f-8fea-728f78adc501",
   "metadata": {},
   "source": [
    "![CH2-Q10.jpg](CH2-Q10.png)"
   ]
  },
  {
   "cell_type": "markdown",
   "id": "54156ce1-9c14-425f-a246-ed1dac41750d",
   "metadata": {},
   "source": [
    "### Solution Approach for a)\n",
    "\n",
    "the quality of a saturated mixture is defined as\n",
    "\n",
    "$x=m_g/m_{mix}$\n",
    "\n",
    "therfore the mass of liquid would be\n",
    "\n",
    "$m_l=(1-x)m_{mix}$"
   ]
  },
  {
   "cell_type": "code",
   "execution_count": 1,
   "id": "09c0de25-99a5-436a-8f3a-b035f6b42d73",
   "metadata": {},
   "outputs": [
    {
     "name": "stdout",
     "output_type": "stream",
     "text": [
      "liquid mass in A is 499.97 kg\n",
      "liquid mass in B is 0.18 kg\n",
      "pressure in A is 3169.93 Pa\n",
      "pressure in B is 3169.93 Pa\n"
     ]
    }
   ],
   "source": [
    "#import librarier\n",
    "import CoolProp.CoolProp as CP\n",
    "\n",
    "#define variables\n",
    "V_A = 2   #tank A volume in m3\n",
    "V_B = 3   #tank B volume in m3\n",
    "m_A = 500   #fluid in tank A mass in kg\n",
    "m_B = 0.25   #fluid in tank B mass in kg\n",
    "\n",
    "T = 25 + 273.15   #temperature in K\n",
    "\n",
    "D_A = m_A / V_A   #density of tank A in kg/m3 used in CoolProp\n",
    "D_B = m_B / V_B   #density of tank B in kg/m3 used in CoolProp\n",
    "\n",
    "fluid = \"water\"  # define the fluid or material of interest\n",
    "\n",
    "x_A = CP.PropsSI(\"Q\", \"T\", T, \"D\", D_A , fluid)   #mixture quality in A\n",
    "x_B = CP.PropsSI(\"Q\", \"T\", T, \"D\", D_B , fluid)   #mixture quality in B\n",
    "\n",
    "m_l_A = (1 - x_A) * m_A   #liquid mass in A in kg\n",
    "m_l_B = (1 - x_B) * m_B   #liquid mass in B in kg\n",
    "\n",
    "print('liquid mass in A is', f\"{m_l_A:.2f}\", 'kg')\n",
    "print('liquid mass in B is', f\"{m_l_B:.2f}\", 'kg')\n",
    "\n",
    "P_A = CP.PropsSI(\"P\", \"T\", T, \"D\", D_A , fluid)   #pressure in A in Pa\n",
    "P_B = CP.PropsSI(\"P\", \"T\", T, \"D\", D_B , fluid)   #pressure in B in Pa\n",
    "\n",
    "print('pressure in A is', f\"{P_A:.2f}\", 'Pa')\n",
    "print('pressure in B is', f\"{P_B:.2f}\", 'Pa')"
   ]
  },
  {
   "cell_type": "markdown",
   "id": "d600b96a-d14c-489c-985e-579969affa12",
   "metadata": {},
   "source": [
    "### Solution Approach for b)\n",
    "\n",
    "after mixing the total volume and mass would be\n",
    "\n",
    "$V=V_A+V_B$\n",
    "\n",
    "$m=m_A+m_B$\n",
    "\n",
    "and the temperature remains constant since the tank is in equilibrium with its surrounding"
   ]
  },
  {
   "cell_type": "code",
   "execution_count": 2,
   "id": "4533087e-5cd0-48df-80b5-97ad5533469d",
   "metadata": {},
   "outputs": [
    {
     "name": "stdout",
     "output_type": "stream",
     "text": [
      "liquid mass after mixing is 500.15 kg\n",
      "pressure after mixing is 3169.93 Pa\n"
     ]
    }
   ],
   "source": [
    "V = V_A + V_B  #total volume in m3\n",
    "m = m_A + m_B  #total mass in kg\n",
    "\n",
    "D = m / V   #density of the mixture\n",
    "\n",
    "x = CP.PropsSI(\"Q\", \"T\", T, \"D\", D, fluid)   #mixture quality\n",
    "m_l = (1 - x) * m   #liquid mass in kg\n",
    "print('liquid mass after mixing is', f\"{m_l:.2f}\", 'kg')\n",
    "\n",
    "P = CP.PropsSI(\"P\", \"T\", T, \"D\", D, fluid)   #pressure after mixing\n",
    "print('pressure after mixing is', f\"{P:.2f}\", 'Pa')"
   ]
  }
 ],
 "metadata": {
  "kernelspec": {
   "display_name": "oer",
   "language": "python",
   "name": "oer"
  },
  "language_info": {
   "codemirror_mode": {
    "name": "ipython",
    "version": 3
   },
   "file_extension": ".py",
   "mimetype": "text/x-python",
   "name": "python",
   "nbconvert_exporter": "python",
   "pygments_lexer": "ipython3",
   "version": "3.9.19"
  }
 },
 "nbformat": 4,
 "nbformat_minor": 5
}