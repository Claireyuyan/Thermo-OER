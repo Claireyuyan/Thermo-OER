{
 "cells": [
  {
   "cell_type": "markdown",
   "id": "99e06448",
   "metadata": {},
   "source": [
    "# 2.3 Thermodynamic properties of R-134a\n",
    "\n",
    "| T, degC     | P, kPa      |u, kJ/kg  | Phase description|\n",
    "| ----------- | ----------- |----------|------------------|\n",
    "|   | 800         | 275      ||\n",
    "| -10         |        |     | Saturated vapor  |\n",
    "| 30          | 1200        |     | |\n",
    "|     | 2000        | 250      | |\n"
   ]
  },
  {
   "cell_type": "code",
   "execution_count": 1,
   "id": "4409cee4",
   "metadata": {},
   "outputs": [
    {
     "name": "stdout",
     "output_type": "stream",
     "text": [
      "Uf at given pressure: 243.0 kJ/kg\n",
      "Ug at given pressure: 395.0 kJ/kg\n",
      "Phase description: Saturated mixture\n",
      "Temperature: 31.33 deg C\n"
     ]
    }
   ],
   "source": [
    "from CoolProp import CoolProp as CP\n",
    "###========== (a)================###\n",
    "P = 0.8e6 # in Pa\n",
    "u = 275 # in kJ/kg\n",
    "fluid = \"R134a\"\n",
    "uf = CP.PropsSI(\"U\", \"Q\", 0, \"P\", P,fluid)/1e3\n",
    "ug = CP.PropsSI(\"U\", \"Q\", 1, \"P\", P, fluid)/1e3\n",
    "print(\"Uf at given pressure: {} kJ/kg\".format(round(uf,1)))\n",
    "print(\"Ug at given pressure: {} kJ/kg\".format(round(ug,1)))\n",
    "## we are in saturated mixture region; since u_given > uf and u_given < ug!\n",
    "T = CP.PropsSI(\"T\",\"P\",P,\"Q\",0,fluid)\n",
    "print(\"Phase description: Saturated mixture\")\n",
    "print(\"Temperature: {}\".format(round(T - 273.15,2)),\"deg C\")"
   ]
  },
  {
   "cell_type": "code",
   "execution_count": 2,
   "id": "10a7d85f",
   "metadata": {},
   "outputs": [
    {
     "name": "stdout",
     "output_type": "stream",
     "text": [
      "U = Ug at given temperature: 372.69 kJ/kg\n",
      "Pressure = 200.6 kPa\n"
     ]
    }
   ],
   "source": [
    "###========== (b)================###\n",
    "T = -10 + 273.15 ## K\n",
    "fluid = \"R134a\"\n",
    "press1 = CP.PropsSI(\"P\",\"T\",T,\"Q\",1,fluid)/1e3\n",
    "ug = CP.PropsSI(\"U\", \"Q\", 1, \"T\", T, fluid)/1e3\n",
    "print(\"U = Ug at given temperature: {} kJ/kg\".format(round(ug,2)))\n",
    "print(\"Pressure = {} kPa\".format(round(press1,1)))"
   ]
  },
  {
   "cell_type": "code",
   "execution_count": 3,
   "id": "92a78cb1",
   "metadata": {},
   "outputs": [
    {
     "name": "stdout",
     "output_type": "stream",
     "text": [
      "Pressure = 770.2 kPa\n",
      "U = 240.7 kJ/kg\n",
      "Uf = 241.07 kJ/kg\n"
     ]
    }
   ],
   "source": [
    "###========== (c)================###\n",
    "T = 30 + 273.15 ## K\n",
    "P = 1200e3 # Pa\n",
    "fluid = \"R134a\"\n",
    "press_at_given_temp = CP.PropsSI(\"P\",\"T\",T,\"Q\",0,fluid) /1e3\n",
    "print(\"Pressure = {} kPa\".format(round(press_at_given_temp,1)))\n",
    "u= CP.PropsSI(\"U\", \"P\", P, \"T\", T, fluid)/1e3\n",
    "print(\"U = {} kJ/kg\".format(round(u,2)))\n",
    "uf= CP.PropsSI(\"U\", \"Q\",0, \"T\", T, fluid)/1e3\n",
    "print(\"Uf = {} kJ/kg\".format(round(uf,2)))"
   ]
  },
  {
   "cell_type": "code",
   "execution_count": 4,
   "id": "bba76244",
   "metadata": {},
   "outputs": [
    {
     "name": "stdout",
     "output_type": "stream",
     "text": [
      "Temperature = 67.5 C\n",
      "Uf = 297.98 kJ/kg\n",
      "Ug = 409.7 kJ/kg\n",
      "Temperature = 36.92 C\n"
     ]
    }
   ],
   "source": [
    "###========== (d)================###\n",
    "P = 2000e3 # Pa\n",
    "fluid = \"R134a\"\n",
    "T_sat = CP.PropsSI(\"T\", \"P\", P,\"Q\",0,fluid)\n",
    "print(\"Temperature = {} C\".format(round(T_sat-273.15,1)))\n",
    "uf= CP.PropsSI(\"U\", \"P\", P, \"Q\",0, fluid)/1e3\n",
    "ug= CP.PropsSI(\"U\", \"P\", P, \"Q\",1, fluid)/1e3\n",
    "\n",
    "print(\"Uf = {} kJ/kg\".format(round(uf,2)))\n",
    "print(\"Ug = {} kJ/kg\".format(round(ug,2)))\n",
    "## given U is below u_f; hence compressed liquid\n",
    "T = CP.PropsSI(\"T\",\"U\",250e3,\"P\",P,fluid) - 273.15\n",
    "print(\"Temperature = {} C\".format(round(T,2)))"
   ]
  },
  {
   "cell_type": "markdown",
   "id": "6a69e673",
   "metadata": {},
   "source": [
    "## completed table:\n",
    "| T, degC     | P, kPa      |u, kJ/kg  | Phase description|\n",
    "| ----------- | ----------- |----------|------------------|\n",
    "|     **31.33**   | 800         | 275      |**Saturated liq-vapour mixture** |\n",
    "| -10         |    **200.6**    | **372.687**    | Saturated vapor  |\n",
    "| 30          | 1200        |  **240.7**   | **Compressed liquid**|\n",
    "|   **36.92**  | 2000        | 250      |**Compressed Liquid** |\n"
   ]
  }
 ],
 "metadata": {
  "kernelspec": {
   "display_name": "oer",
   "language": "python",
   "name": "oerminimal"
  },
  "language_info": {
   "codemirror_mode": {
    "name": "ipython",
    "version": 3
   },
   "file_extension": ".py",
   "mimetype": "text/x-python",
   "name": "python",
   "nbconvert_exporter": "python",
   "pygments_lexer": "ipython3",
   "version": "3.9.19"
  },
  "toc": {
   "base_numbering": 1,
   "nav_menu": {},
   "number_sections": true,
   "sideBar": true,
   "skip_h1_title": false,
   "title_cell": "Table of Contents",
   "title_sidebar": "Contents",
   "toc_cell": true,
   "toc_position": {},
   "toc_section_display": true,
   "toc_window_display": false
  }
 },
 "nbformat": 4,
 "nbformat_minor": 5
}