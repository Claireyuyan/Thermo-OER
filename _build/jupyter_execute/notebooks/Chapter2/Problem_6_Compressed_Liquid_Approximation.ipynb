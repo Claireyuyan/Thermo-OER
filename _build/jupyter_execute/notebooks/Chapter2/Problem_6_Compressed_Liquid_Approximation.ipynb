{
 "cells": [
  {
   "cell_type": "markdown",
   "id": "a3bd42c2",
   "metadata": {},
   "source": [
    "# Compressed Liquid Approximation\n",
    "\n",
    "## Problem Statement:\n",
    "For water at 50°C under high pressure, approximate the specific volume, internal energy, enthalpy, and entropy \n",
    "assuming it behaves as a compressed liquid."
   ]
  },
  {
   "cell_type": "code",
   "execution_count": 1,
   "id": "7168b5af",
   "metadata": {},
   "outputs": [
    {
     "ename": "ModuleNotFoundError",
     "evalue": "No module named 'CoolProp'",
     "output_type": "error",
     "traceback": [
      "\u001b[1;31m---------------------------------------------------------------------------\u001b[0m",
      "\u001b[1;31mModuleNotFoundError\u001b[0m                       Traceback (most recent call last)",
      "Cell \u001b[1;32mIn[1], line 3\u001b[0m\n\u001b[0;32m      1\u001b[0m \u001b[38;5;66;03m## Solution:\u001b[39;00m\n\u001b[1;32m----> 3\u001b[0m \u001b[38;5;28;01mimport\u001b[39;00m \u001b[38;5;21;01mCoolProp\u001b[39;00m\u001b[38;5;21;01m.\u001b[39;00m\u001b[38;5;21;01mCoolProp\u001b[39;00m \u001b[38;5;28;01mas\u001b[39;00m \u001b[38;5;21;01mCP\u001b[39;00m\n\u001b[0;32m      5\u001b[0m \u001b[38;5;66;03m# Given values\u001b[39;00m\n\u001b[0;32m      6\u001b[0m T \u001b[38;5;241m=\u001b[39m \u001b[38;5;241m50\u001b[39m \u001b[38;5;241m+\u001b[39m \u001b[38;5;241m273.15\u001b[39m  \u001b[38;5;66;03m# Temperature in Kelvin\u001b[39;00m\n",
      "\u001b[1;31mModuleNotFoundError\u001b[0m: No module named 'CoolProp'"
     ]
    }
   ],
   "source": [
    "## Solution:\n",
    "\n",
    "import CoolProp.CoolProp as CP\n",
    "\n",
    "# Given values\n",
    "T = 50 + 273.15  # Temperature in Kelvin\n",
    "\n",
    "# Approximations for compressed liquid\n",
    "v = CP.PropsSI('D', 'T', T, 'Q', 0, 'Water')  # Specific volume\n",
    "u = CP.PropsSI('U', 'T', T, 'Q', 0, 'Water')/1e3  # Specific internal energy\n",
    "h = CP.PropsSI('H', 'T', T, 'Q', 0, 'Water')/1e3  # Specific enthalpy\n",
    "s = CP.PropsSI('S', 'T', T, 'Q', 0, 'Water')/1e3  # Specific entropy\n",
    "\n",
    "# Output the results\n",
    "print(f\"Specific volume: {round(v,2)} m^3/kg\")\n",
    "print(f\"Specific internal energy: {round(u,2)} kJ/kg\")\n",
    "print(f\"Specific enthalpy: {round(h,2)} kJ/kg\")\n",
    "print(f\"Specific entropy: {round(s,2)} kJ/kg*K\")"
   ]
  }
 ],
 "metadata": {
  "jupytext": {
   "text_representation": {
    "extension": ".md",
    "format_name": "myst",
    "format_version": 0.13,
    "jupytext_version": "1.15.2"
   }
  },
  "kernelspec": {
   "display_name": "Python 3 (ipykernel)",
   "language": "python",
   "name": "python3"
  },
  "language_info": {
   "codemirror_mode": {
    "name": "ipython",
    "version": 3
   },
   "file_extension": ".py",
   "mimetype": "text/x-python",
   "name": "python",
   "nbconvert_exporter": "python",
   "pygments_lexer": "ipython3",
   "version": "3.11.5"
  },
  "source_map": [
   12,
   20
  ]
 },
 "nbformat": 4,
 "nbformat_minor": 5
}