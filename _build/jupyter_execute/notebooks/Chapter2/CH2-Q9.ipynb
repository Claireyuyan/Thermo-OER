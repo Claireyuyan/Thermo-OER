{
 "cells": [
  {
   "cell_type": "markdown",
   "id": "20729dc6-8fb5-427d-a57a-15e0ba58ceb9",
   "metadata": {},
   "source": [
    "# 2.9: Saturated Water in a Rigid Tank"
   ]
  },
  {
   "cell_type": "markdown",
   "id": "7a7e9da5-f0d9-41ef-a713-4c4ba6ba2a90",
   "metadata": {},
   "source": [
    "A rigid tank containing $m=10\\:kg$ of saturated water is sitiing at room temperature $T=25\\:^{\\circ}C$. If the volume of the tank is $V=1\\:m^3$, determine the mass of liquid water stored in the tank. "
   ]
  },
  {
   "attachments": {},
   "cell_type": "markdown",
   "id": "7ec9dfc0-2973-4cad-b849-4eb36b572fd6",
   "metadata": {},
   "source": [
    "![CH2-Q9.jpg](CH2-Q9.png)"
   ]
  },
  {
   "cell_type": "markdown",
   "id": "f527348d-749d-4d8f-ad52-76e8dac1401e",
   "metadata": {},
   "source": [
    "### Solution Approach)\n",
    "\n",
    "the quality of a saturated mixture is defined as\n",
    "\n",
    "$x=m_g/m_{mix}$\n",
    "\n",
    "therfore the mass of liquid would be\n",
    "\n",
    "$m_l=(1-x)m_{mix}$"
   ]
  },
  {
   "cell_type": "code",
   "execution_count": 1,
   "id": "cbc52860-fcc6-4e43-b5d5-4a87763fde07",
   "metadata": {},
   "outputs": [
    {
     "ename": "NameError",
     "evalue": "name 'm' is not defined",
     "output_type": "error",
     "traceback": [
      "\u001b[0;31m---------------------------------------------------------------------------\u001b[0m",
      "\u001b[0;31mNameError\u001b[0m                                 Traceback (most recent call last)",
      "Cell \u001b[0;32mIn[1], line 9\u001b[0m\n\u001b[1;32m      6\u001b[0m m_mix \u001b[38;5;241m=\u001b[39m \u001b[38;5;241m10\u001b[39m   \u001b[38;5;66;03m#mixture mass in kg\u001b[39;00m\n\u001b[1;32m      7\u001b[0m T \u001b[38;5;241m=\u001b[39m \u001b[38;5;241m25\u001b[39m \u001b[38;5;241m+\u001b[39m \u001b[38;5;241m273.15\u001b[39m   \u001b[38;5;66;03m#temperature in K\u001b[39;00m\n\u001b[0;32m----> 9\u001b[0m D \u001b[38;5;241m=\u001b[39m \u001b[43mm\u001b[49m \u001b[38;5;241m/\u001b[39m V   \u001b[38;5;66;03m#density in kg/m3 used in CoolProp\u001b[39;00m\n\u001b[1;32m     10\u001b[0m fluid \u001b[38;5;241m=\u001b[39m \u001b[38;5;124m\"\u001b[39m\u001b[38;5;124mwater\u001b[39m\u001b[38;5;124m\"\u001b[39m  \u001b[38;5;66;03m# define the fluid or material of interest\u001b[39;00m\n\u001b[1;32m     12\u001b[0m x \u001b[38;5;241m=\u001b[39m CP\u001b[38;5;241m.\u001b[39mPropsSI(\u001b[38;5;124m\"\u001b[39m\u001b[38;5;124mQ\u001b[39m\u001b[38;5;124m\"\u001b[39m, \u001b[38;5;124m\"\u001b[39m\u001b[38;5;124mT\u001b[39m\u001b[38;5;124m\"\u001b[39m, T, \u001b[38;5;124m\"\u001b[39m\u001b[38;5;124mD\u001b[39m\u001b[38;5;124m\"\u001b[39m, D , fluid)   \u001b[38;5;66;03m#the quality of the mixture\u001b[39;00m\n",
      "\u001b[0;31mNameError\u001b[0m: name 'm' is not defined"
     ]
    }
   ],
   "source": [
    "#import librarier\n",
    "import CoolProp.CoolProp as CP\n",
    "\n",
    "#define variables\n",
    "V = 1   #tank volume in m3\n",
    "m_mix = 10   #mixture mass in kg\n",
    "T = 25 + 273.15   #temperature in K\n",
    "\n",
    "D = m / V   #density in kg/m3 used in CoolProp\n",
    "fluid = \"water\"  # define the fluid or material of interest\n",
    "\n",
    "x = CP.PropsSI(\"Q\", \"T\", T, \"D\", D , fluid)   #the quality of the mixture\n",
    "\n",
    "m_l = (1 - x) * m_mix   #mass of liquid water in kg\n",
    "print('The mass of liquid fluid is', f\"{m_l:.3f}\", 'kg')"
   ]
  }
 ],
 "metadata": {
  "kernelspec": {
   "display_name": "oer",
   "language": "python",
   "name": "oerminimal"
  },
  "language_info": {
   "codemirror_mode": {
    "name": "ipython",
    "version": 3
   },
   "file_extension": ".py",
   "mimetype": "text/x-python",
   "name": "python",
   "nbconvert_exporter": "python",
   "pygments_lexer": "ipython3",
   "version": "3.9.19"
  }
 },
 "nbformat": 4,
 "nbformat_minor": 5
}