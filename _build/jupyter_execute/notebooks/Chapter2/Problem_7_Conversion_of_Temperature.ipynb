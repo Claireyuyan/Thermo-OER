{
 "cells": [
  {
   "cell_type": "markdown",
   "id": "065b6c9e",
   "metadata": {},
   "source": [
    "# Conversion of Temperature\n",
    "\n",
    "## Problem Statement:\n",
    "Convert a temperature of 20°C to Kelvin."
   ]
  },
  {
   "cell_type": "code",
   "execution_count": 1,
   "id": "d4362eb1",
   "metadata": {},
   "outputs": [
    {
     "name": "stdout",
     "output_type": "stream",
     "text": [
      "Temperature in Kelvin: 293.15 K\n"
     ]
    }
   ],
   "source": [
    "## Solution:\n",
    "\n",
    "# Given value\n",
    "T_Celsius = 20  # Temperature in Celsius\n",
    "\n",
    "# Conversion to Kelvin\n",
    "T_Kelvin = T_Celsius + 273.15\n",
    "\n",
    "# Output the result\n",
    "print(f\"Temperature in Kelvin: {T_Kelvin} K\")"
   ]
  }
 ],
 "metadata": {
  "jupytext": {
   "text_representation": {
    "extension": ".md",
    "format_name": "myst",
    "format_version": 0.13,
    "jupytext_version": "1.15.2"
   }
  },
  "kernelspec": {
   "display_name": "Python 3 (ipykernel)",
   "language": "python",
   "name": "python3"
  },
  "language_info": {
   "codemirror_mode": {
    "name": "ipython",
    "version": 3
   },
   "file_extension": ".py",
   "mimetype": "text/x-python",
   "name": "python",
   "nbconvert_exporter": "python",
   "pygments_lexer": "ipython3",
   "version": "3.7.16"
  },
  "source_map": [
   12,
   19
  ]
 },
 "nbformat": 4,
 "nbformat_minor": 5
}