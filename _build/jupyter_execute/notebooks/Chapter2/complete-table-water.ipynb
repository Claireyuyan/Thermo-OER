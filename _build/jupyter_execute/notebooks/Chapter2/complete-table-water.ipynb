{
 "cells": [
  {
   "cell_type": "markdown",
   "id": "c49a2f18",
   "metadata": {},
   "source": [
    "# 1.Complete the following table for Water:\n",
    "| T, degC     | P, kPa      |u, kJ/kg  | Phase description|\n",
    "| ----------- | ----------- |----------|------------------|\n",
    "|             | 560         | 1470     |                  |\n",
    "| 240   |         |          |       Saturated vapor           |\n",
    "| 150   |      2600   |          |                   |\n",
    "|    |   4200      |     3100     |                  |\n",
    "\n"
   ]
  },
  {
   "cell_type": "markdown",
   "id": "a15e2788",
   "metadata": {},
   "source": [
    "Lookup tables from the e-textbook: https://pressbooks.bccampus.ca/thermo1/chapter/thermodynamic-tables/"
   ]
  },
  {
   "cell_type": "code",
   "execution_count": 1,
   "id": "ad8795b9",
   "metadata": {},
   "outputs": [],
   "source": [
    "import CoolProp.CoolProp as CP"
   ]
  },
  {
   "cell_type": "code",
   "execution_count": 2,
   "id": "232b47e1",
   "metadata": {},
   "outputs": [
    {
     "name": "stdout",
     "output_type": "stream",
     "text": [
      "Uf at given pressure: 658.15 kJ/kg\n",
      "Ug at given pressure: 2564.51 kJ/kg\n",
      "Phase description: Saturated mixture\n",
      "Temperature: 156.15 deg C\n"
     ]
    }
   ],
   "source": [
    "###========== (a)================###\n",
    "P = 0.56e6 # in Pa\n",
    "u = 1470 # in kJ/kg\n",
    "fluid = \"water\"\n",
    "uf = CP.PropsSI(\"U\", \"Q\", 0, \"P\", P,fluid)/1e3\n",
    "ug = CP.PropsSI(\"U\", \"Q\", 1, \"P\", P, fluid)/1e3\n",
    "print(\"Uf at given pressure: {} kJ/kg\".format(round(uf,2)))\n",
    "print(\"Ug at given pressure: {} kJ/kg\".format(round(ug,2)))\n",
    "## we are in saturated mixture region; since u_given > uf and u_given < ug!\n",
    "T = CP.PropsSI(\"T\",\"P\",P,\"Q\",0,fluid)\n",
    "print(\"Phase description: Saturated mixture\")\n",
    "print(\"Temperature: {}\".format(round(T - 273.15,2)),\"deg C\")"
   ]
  },
  {
   "cell_type": "code",
   "execution_count": 3,
   "id": "30caed85",
   "metadata": {},
   "outputs": [
    {
     "name": "stdout",
     "output_type": "stream",
     "text": [
      "U at given temperature : 2603.1 kJ/kg\n",
      "Pressure: 3346.9 kPa\n"
     ]
    }
   ],
   "source": [
    "###========== (b)================###\n",
    "fluid = \"water\"\n",
    "T = 240 + 273.15 # Kelvin\n",
    "uf = CP.PropsSI(\"U\", \"Q\", 0, \"T\", T,fluid)/1e3\n",
    "ug = CP.PropsSI(\"U\", \"Q\", 1, \"T\", T, fluid)/1e3\n",
    "print(\"U at given temperature : {} kJ/kg\".format(round(ug,1)))\n",
    "pressure = CP.PropsSI(\"P\", \"T\", T, \"Q\", 1, fluid)\n",
    "print(\"Pressure: {} kPa\".format(round(pressure /1e3,1)))"
   ]
  },
  {
   "cell_type": "code",
   "execution_count": 4,
   "id": "fd34a1f5",
   "metadata": {},
   "outputs": [
    {
     "name": "stdout",
     "output_type": "stream",
     "text": [
      "Phase description: Compressed liquid\n",
      "u = 630.66 kJ/kg\n",
      "uf  = 631.66 kJ/kg\n"
     ]
    }
   ],
   "source": [
    "###========== (c) ================###\n",
    "fluid = \"water\"\n",
    "T = 150 + 273.15 # Kelvin\n",
    "P = 2600e3 # Pa\n",
    "Psat = CP.PropsSI(\"P\", \"T\", T, \"Q\",0,fluid)/1e3\n",
    "## P > Psat; hence compressed fluid\n",
    "print(\"Phase description: Compressed liquid\")\n",
    "u_state = CP.PropsSI(\"U\", \"T\", T, \"P\", P, fluid)\n",
    "uf = CP.PropsSI(\"U\", \"T\", T, \"Q\", 0, fluid)\n",
    "print(\"u = {} kJ/kg\".format(round(u_state/1e3,2)))\n",
    "print(\"uf  = {} kJ/kg\".format(round(uf/1e3,2)))"
   ]
  },
  {
   "cell_type": "code",
   "execution_count": 5,
   "id": "1a995458",
   "metadata": {},
   "outputs": [
    {
     "name": "stdout",
     "output_type": "stream",
     "text": [
      "Uf at given pressure: 1096.4 kJ/kg\n",
      "Ug at given pressure: 2601.0 kJ/kg\n",
      "Temperature at the final state in deg C: 500.8\n"
     ]
    }
   ],
   "source": [
    "###========== (d)================###\n",
    "fluid = \"water\"\n",
    "pressure = 4200e3 # Pa\n",
    "u_given_state = 3100e3 # in J/kg\n",
    "# calculating u at q = 0 (sat. liquid)\n",
    "## add comments to help the audience to help them to understand the arguments that you supply\n",
    "uf = CP.PropsSI(\"U\", \"Q\", 0, \"P\", pressure,fluid)/1e3\n",
    "ug = CP.PropsSI(\"U\", \"Q\", 1, \"P\", pressure, fluid)/1e3\n",
    "print(\"Uf at given pressure: {} kJ/kg\".format(round(uf,1)))\n",
    "print(\"Ug at given pressure: {} kJ/kg\".format(round(ug,1)))\n",
    "## we are in ssuperheated vapor region; u > ug!\n",
    "T = CP.PropsSI(\"T\", \"P\", pressure, \"U\", u_given_state,fluid)\n",
    "print(\"Temperature at the final state in deg C: {}\".format(round(T-273.15,2)))"
   ]
  },
  {
   "cell_type": "markdown",
   "id": "6a594e24",
   "metadata": {},
   "source": [
    "## Completed table:\n",
    "| T, degC     | P, kPa      |u, kJ/kg  | Phase description|\n",
    "| ----------- | ----------- |----------|------------------|\n",
    "|      **156.15**       | 560         | 1470     |      **Saturated liq-vapour mixture**            |\n",
    "| 240   |   **3346.92**      |     **2603.12**     |       Saturated vapor           |\n",
    "| 150   |      2600   | **630.66**         |  **Compressed Liquid**                 |\n",
    "| **500.8**   |   4200      |     3100     |         **Superheated vapor**         |\n",
    "\n"
   ]
  }
 ],
 "metadata": {
  "kernelspec": {
   "display_name": "OER",
   "language": "python",
   "name": "oer"
  },
  "language_info": {
   "codemirror_mode": {
    "name": "ipython",
    "version": 3
   },
   "file_extension": ".py",
   "mimetype": "text/x-python",
   "name": "python",
   "nbconvert_exporter": "python",
   "pygments_lexer": "ipython3",
   "version": "3.9.17"
  },
  "toc": {
   "base_numbering": 1,
   "nav_menu": {},
   "number_sections": true,
   "sideBar": true,
   "skip_h1_title": false,
   "title_cell": "Table of Contents",
   "title_sidebar": "Contents",
   "toc_cell": true,
   "toc_position": {},
   "toc_section_display": true,
   "toc_window_display": false
  }
 },
 "nbformat": 4,
 "nbformat_minor": 5
}