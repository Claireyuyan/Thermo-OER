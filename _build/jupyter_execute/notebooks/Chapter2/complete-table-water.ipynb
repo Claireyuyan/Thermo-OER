{
 "cells": [
  {
   "cell_type": "markdown",
   "id": "cd8ef19a-75d0-456d-850f-9dd4e39fd08d",
   "metadata": {},
   "source": [
    "# 2.1 Thermodynamic properties of Water\n",
    "\n",
    "\n",
    "## Problem Statement:\n",
    "\n",
    "Complete the following table: \n",
    "\n",
    "| T, degC     | P, kPa      |u, kJ/kg  | Phase description|\n",
    "| ----------- | ----------- |----------|------------------|\n",
    "|             | 560         | 1470     |                  |\n",
    "| 240   |         |          |       Saturated vapor           |\n",
    "| 150   |      2600   |          |                   |\n",
    "|    |   4200      |     3100     |                  |\n"
   ]
  },
  {
   "cell_type": "markdown",
   "id": "03f4f4b9-34a2-4bd8-a679-e57497e4726c",
   "metadata": {},
   "source": [
    "Use the following resource from the e-textbook:\n",
    "[Lookup tables and charts for finding thermodynamic properties](https://pressbooks.bccampus.ca/thermo1/chapter/thermodynamic-tables/)"
   ]
  },
  {
   "cell_type": "code",
   "execution_count": 1,
   "id": "d0a0d5f1-7365-4d05-9e65-3f683526b870",
   "metadata": {},
   "outputs": [],
   "source": [
    "import CoolProp.CoolProp as CP"
   ]
  },
  {
   "cell_type": "markdown",
   "id": "ac5d24ab-80ef-452a-85c8-d56d66e5fde3",
   "metadata": {},
   "source": [
    "## Solution approach for (a):"
   ]
  },
  {
   "cell_type": "code",
   "execution_count": 2,
   "id": "f19c28a1-72c7-4ea4-b31c-2f65608add9d",
   "metadata": {},
   "outputs": [
    {
     "name": "stdout",
     "output_type": "stream",
     "text": [
      "Uf at given pressure: 658.15 kJ/kg\n",
      "Ug at given pressure: 2564.51 kJ/kg\n",
      "Phase description: Saturated mixture\n",
      "Temperature: 156.15 deg C\n"
     ]
    }
   ],
   "source": [
    "###========== (a)================###\n",
    "P = 0.56e6 # in Pa\n",
    "u = 1470 # in kJ/kg\n",
    "fluid = \"water\"\n",
    "uf = CP.PropsSI(\"U\", \"Q\", 0, \"P\", P,fluid)/1e3\n",
    "ug = CP.PropsSI(\"U\", \"Q\", 1, \"P\", P, fluid)/1e3\n",
    "print(\"Uf at given pressure: {} kJ/kg\".format(round(uf,2)))\n",
    "print(\"Ug at given pressure: {} kJ/kg\".format(round(ug,2)))\n",
    "## we are in saturated mixture region; since u_given > uf and u_given < ug!\n",
    "T = CP.PropsSI(\"T\",\"P\",P,\"Q\",0,fluid)\n",
    "print(\"Phase description: Saturated mixture\")\n",
    "print(\"Temperature: {}\".format(round(T - 273.15,2)),\"deg C\")"
   ]
  },
  {
   "cell_type": "markdown",
   "id": "8254a8fe-d61a-4e94-bdf5-39c2c473946b",
   "metadata": {},
   "source": [
    "## Solution approach for (b):"
   ]
  },
  {
   "cell_type": "code",
   "execution_count": 3,
   "id": "48334622-4107-4fad-96d8-09ba30ab799b",
   "metadata": {},
   "outputs": [
    {
     "name": "stdout",
     "output_type": "stream",
     "text": [
      "U at given temperature : 2603.1 kJ/kg\n",
      "Pressure: 3346.9 kPa\n"
     ]
    }
   ],
   "source": [
    "###========== (b)================###\n",
    "fluid = \"water\"\n",
    "T = 240 + 273.15 # Kelvin\n",
    "uf = CP.PropsSI(\"U\", \"Q\", 0, \"T\", T,fluid)/1e3\n",
    "ug = CP.PropsSI(\"U\", \"Q\", 1, \"T\", T, fluid)/1e3\n",
    "print(\"U at given temperature : {} kJ/kg\".format(round(ug,1)))\n",
    "pressure = CP.PropsSI(\"P\", \"T\", T, \"Q\", 1, fluid)\n",
    "print(\"Pressure: {} kPa\".format(round(pressure /1e3,1)))"
   ]
  },
  {
   "cell_type": "markdown",
   "id": "89831181-674e-4a10-a67c-442181d7f98c",
   "metadata": {},
   "source": [
    "## Solution approach for (c):"
   ]
  },
  {
   "cell_type": "code",
   "execution_count": 4,
   "id": "bb241b8f-04c5-4a5e-adf6-5f9d9d0ca0ae",
   "metadata": {},
   "outputs": [
    {
     "name": "stdout",
     "output_type": "stream",
     "text": [
      "Phase description: Compressed liquid\n",
      "u = 630.66 kJ/kg\n",
      "uf  = 631.66 kJ/kg\n"
     ]
    }
   ],
   "source": [
    "###========== (c) ================###\n",
    "fluid = \"water\"\n",
    "T = 150 + 273.15 # Kelvin\n",
    "P = 2600e3 # Pa\n",
    "Psat = CP.PropsSI(\"P\", \"T\", T, \"Q\",0,fluid)/1e3\n",
    "## P > Psat; hence compressed fluid\n",
    "print(\"Phase description: Compressed liquid\")\n",
    "u_state = CP.PropsSI(\"U\", \"T\", T, \"P\", P, fluid)\n",
    "uf = CP.PropsSI(\"U\", \"T\", T, \"Q\", 0, fluid)\n",
    "print(\"u = {} kJ/kg\".format(round(u_state/1e3,2)))\n",
    "print(\"uf  = {} kJ/kg\".format(round(uf/1e3,2)))"
   ]
  },
  {
   "cell_type": "markdown",
   "id": "b468e43f-b6cb-4b0e-ab90-84e81c802794",
   "metadata": {},
   "source": [
    "## Solution approach for (d):"
   ]
  },
  {
   "cell_type": "code",
   "execution_count": 5,
   "id": "efcf5f15-615c-4427-9d09-ed37dd7eb0da",
   "metadata": {},
   "outputs": [
    {
     "name": "stdout",
     "output_type": "stream",
     "text": [
      "Uf at given pressure: 1096.4 kJ/kg\n",
      "Ug at given pressure: 2601.0 kJ/kg\n",
      "Temperature at the final state in deg C: 500.8\n"
     ]
    }
   ],
   "source": [
    "###========== (d)================###\n",
    "fluid = \"water\"\n",
    "pressure = 4200e3 # Pa\n",
    "u_given_state = 3100e3 # in J/kg\n",
    "# calculating u at q = 0 (sat. liquid)\n",
    "## add comments to help the audience to help them to understand the arguments that you supply\n",
    "uf = CP.PropsSI(\"U\", \"Q\", 0, \"P\", pressure,fluid)/1e3\n",
    "ug = CP.PropsSI(\"U\", \"Q\", 1, \"P\", pressure, fluid)/1e3\n",
    "print(\"Uf at given pressure: {} kJ/kg\".format(round(uf,1)))\n",
    "print(\"Ug at given pressure: {} kJ/kg\".format(round(ug,1)))\n",
    "## we are in ssuperheated vapor region; u > ug!\n",
    "T = CP.PropsSI(\"T\", \"P\", pressure, \"U\", u_given_state,fluid)\n",
    "print(\"Temperature at the final state in deg C: {}\".format(round(T-273.15,2)))"
   ]
  },
  {
   "cell_type": "markdown",
   "id": "a410b613-d744-47cb-bc53-63b647eb859b",
   "metadata": {},
   "source": [
    "## Completed table:"
   ]
  },
  {
   "cell_type": "markdown",
   "id": "f93c5ba8-200d-4ccf-8401-d020a0711935",
   "metadata": {},
   "source": [
    "| T, degC     | P, kPa      |u, kJ/kg  | Phase description|\n",
    "| ----------- | ----------- |----------|------------------|\n",
    "|      **156.15**       | 560         | 1470     |      **Saturated liq-vapour mixture**  |\n",
    "| 240   |   **3346.92**      |     **2603.12**     |       Saturated vapor           |\n",
    "| 150   |      2600   | **630.66**         |  **Compressed Liquid**                 |\n",
    "| **500.8**   |   4200      |     3100     |         **Superheated vapor**         |"
   ]
  }
 ],
 "metadata": {
  "kernelspec": {
   "display_name": "OER",
   "language": "python",
   "name": "oer"
  },
  "language_info": {
   "codemirror_mode": {
    "name": "ipython",
    "version": 3
   },
   "file_extension": ".py",
   "mimetype": "text/x-python",
   "name": "python",
   "nbconvert_exporter": "python",
   "pygments_lexer": "ipython3",
   "version": "3.9.18"
  }
 },
 "nbformat": 4,
 "nbformat_minor": 5
}